{
 "cells": [
  {
   "cell_type": "code",
   "execution_count": 13,
   "metadata": {},
   "outputs": [],
   "source": [
    "#import sys\n",
    "#sys.path.append('./reddit_analysis_code')\n",
    "import numpy as np\n",
    "import pandas as pd\n",
    "from reddit_dataclass import RedditData as reddit\n",
    "import pickle\n",
    "import matplotlib.pyplot as plt\n",
    "import scipy.stats as scpstat\n",
    "import matplotlib.dates as dates\n",
    "import datetime\n",
    "from sklearn import metrics\n",
    "import statsmodels.formula.api as smf\n",
    "import statsmodels.api as sm\n",
    "import sklearn.linear_model as sklin\n",
    "from sklearn.metrics import classification_report, confusion_matrix\n",
    "from patsy import dmatrices"
   ]
  },
  {
   "cell_type": "code",
   "execution_count": 78,
   "metadata": {},
   "outputs": [],
   "source": [
    "infile = \"calval_regression_data_times.p\"\n",
    "outfile = 'compare_sm_sklearn.csv'\n",
    "remove = False\n",
    "train = True"
   ]
  },
  {
   "cell_type": "code",
   "execution_count": 10,
   "metadata": {},
   "outputs": [],
   "source": [
    "regression_thread_data = pickle.load(open(infile, 'rb'))\n",
    "if remove:\n",
    "    regression_thread_data.pop(remove)\n",
    "\n",
    "regression_parameters = {}"
   ]
  },
  {
   "cell_type": "code",
   "execution_count": 11,
   "metadata": {},
   "outputs": [
    {
     "data": {
      "text/plain": [
       "{'books': 'success ~ post_activity_count + comment_activity_count + num_dayofweek',\n",
       " 'conspiracy': 'success ~ comment_activity_count',\n",
       " 'crypto': 'success ~ comment_activity_count',\n",
       " 'politics': 'success ~ comment_activity_count + post_activity_count'}"
      ]
     },
     "execution_count": 11,
     "metadata": {},
     "output_type": "execute_result"
    }
   ],
   "source": [
    "sklearn_models={\n",
    "\n",
    "    'books': {\n",
    "    'y': 'success',\n",
    "    'X_cols': ['post_activity_count', 'comment_activity_count', 'num_dayofweek']\n",
    "    },\n",
    "\n",
    "    'conspiracy': {\n",
    "    'y': 'success',\n",
    "    'X_cols': ['comment_activity_count']\n",
    "    },\n",
    "\n",
    "    'crypto': {\n",
    "    'y': 'success',\n",
    "    'X_cols': ['comment_activity_count']\n",
    "    },\n",
    "\n",
    "    'politics': {\n",
    "    'y': 'success',\n",
    "    'X_cols': ['comment_activity_count', 'post_activity_count']\n",
    "    },\n",
    "}\n",
    "\n",
    "sm_models = {}\n",
    "for key in sklearn_models:\n",
    "    sm_models[key] = f\"{sklearn_models[key]['y']} ~\"\n",
    "    for i, name in enumerate(sklearn_models[key]['X_cols']):\n",
    "        if i != 0:\n",
    "            sm_models[key] += ' +'\n",
    "\n",
    "        sm_models[key] += f' {name}'\n",
    "\n",
    "sm_models"
   ]
  },
  {
   "cell_type": "code",
   "execution_count": 12,
   "metadata": {},
   "outputs": [],
   "source": [
    "models_df = pd.DataFrame.from_dict(sm_models, orient='index', columns=['model'])\n",
    "regression_parameters['models'] = models_df"
   ]
  },
  {
   "cell_type": "code",
   "execution_count": 28,
   "metadata": {},
   "outputs": [
    {
     "name": "stdout",
     "output_type": "stream",
     "text": [
      "Optimization terminated successfully.\n",
      "         Current function value: 0.581954\n",
      "         Iterations 7\n",
      "Optimization terminated successfully.\n",
      "         Current function value: 0.414659\n",
      "         Iterations 7\n",
      "Optimization terminated successfully.\n",
      "         Current function value: 0.642524\n",
      "         Iterations 6\n",
      "Optimization terminated successfully.\n",
      "         Current function value: 0.626123\n",
      "         Iterations 6\n"
     ]
    }
   ],
   "source": [
    "models_data = {}\n",
    "for key in regression_thread_data:\n",
    "    models_data[key] = {}\n",
    "    \n",
    "    calibration_data = regression_thread_data[key]['calibration']\n",
    "    validation_data = regression_thread_data[key]['validation']\n",
    "\n",
    "    models_data[key]['sm'] = {}\n",
    "    smf_logistic_regression = smf.logit(sm_models[key], data=calibration_data).fit()\n",
    "    models_data[key]['sm']['fit_params'] = smf_logistic_regression.params\n",
    "\n",
    "    models_data[key]['sklearn'] = {}\n",
    "    skl_X_cols = sklearn_models[key]['X_cols']\n",
    "    skl_logistic_regression = sklin.LogisticRegression().fit(calibration_data[skl_X_cols], calibration_data.success)\n",
    "    models_data[key]['sklearn']['fit_coefs'] = skl_logistic_regression.coef_\n",
    "    models_data[key]['sklearn']['intercept'] = skl_logistic_regression.intercept_\n",
    "\n",
    "    #models_data[key]['sklearn']['params'] = skl_logistic_regression.get_params()\n",
    "\n",
    "\n",
    "    y_real = calibration_data.success\n",
    "\n",
    "    smf_y_pred = smf_logistic_regression.predict()\n",
    "    smf_auc = metrics.roc_auc_score(y_real, smf_y_pred)\n",
    "    models_data[key]['sm']['calibration_auc'] = smf_auc\n",
    "\n",
    "    models_data[key]['sklearn']['calibration_auc'] = metrics.roc_auc_score(y_real, skl_logistic_regression.predict_proba(calibration_data[skl_X_cols])[:, 1])\n",
    "\n",
    "    y_test_real = validation_data.success\n",
    "    smf_y_test_pred = smf_logistic_regression.predict(\n",
    "        exog = validation_data\n",
    "    )\n",
    "    smf_test_auc = metrics.roc_auc_score(y_test_real, smf_y_test_pred)\n",
    "    models_data[key]['sm']['validation_auc'] = smf_test_auc\n",
    "\n",
    "    models_data[key]['sklearn']['validation_auc'] = metrics.roc_auc_score(\n",
    "        y_test_real, skl_logistic_regression.predict_proba(validation_data[skl_X_cols])[:,1]\n",
    "    )\n",
    "    \n",
    "\n"
   ]
  },
  {
   "cell_type": "code",
   "execution_count": 29,
   "metadata": {},
   "outputs": [
    {
     "data": {
      "text/plain": [
       "{'sm': {'fit_params': Intercept                -0.903772\n",
       "  post_activity_count      -0.051011\n",
       "  comment_activity_count    0.161383\n",
       "  num_dayofweek             0.006958\n",
       "  dtype: float64,\n",
       "  'calibration_auc': 0.7816629596232842,\n",
       "  'validation_auc': 0.7895472582972582},\n",
       " 'sklearn': {'fit_coefs': array([[-0.05100267,  0.16135957,  0.006955  ]]),\n",
       "  'intercept': array([-0.90374562]),\n",
       "  'calibration_auc': 0.7816629596232842,\n",
       "  'validation_auc': 0.7895472582972582}}"
      ]
     },
     "execution_count": 29,
     "metadata": {},
     "output_type": "execute_result"
    }
   ],
   "source": [
    "models_data['books']\n"
   ]
  },
  {
   "cell_type": "code",
   "execution_count": 36,
   "metadata": {},
   "outputs": [
    {
     "data": {
      "text/plain": [
       "Index(['intercept', 'post_activity_count', 'comment_activity_count',\n",
       "       'num_dayofweek'],\n",
       "      dtype='object')"
      ]
     },
     "execution_count": 36,
     "metadata": {},
     "output_type": "execute_result"
    }
   ],
   "source": [
    "models_data['books']['sm']['fit_params'].index.str.lower()"
   ]
  },
  {
   "cell_type": "code",
   "execution_count": 69,
   "metadata": {},
   "outputs": [
    {
     "name": "stdout",
     "output_type": "stream",
     "text": [
      "sm\n",
      "fit_params\n",
      "calibration_auc\n",
      "validation_auc\n",
      "sklearn\n",
      "fit_coefs\n",
      "intercept\n",
      "calibration_auc\n",
      "validation_auc\n",
      "sm\n",
      "fit_params\n",
      "calibration_auc\n",
      "validation_auc\n",
      "sklearn\n",
      "fit_coefs\n",
      "intercept\n",
      "calibration_auc\n",
      "validation_auc\n",
      "sm\n",
      "fit_params\n",
      "calibration_auc\n",
      "validation_auc\n",
      "sklearn\n",
      "fit_coefs\n",
      "intercept\n",
      "calibration_auc\n",
      "validation_auc\n",
      "sm\n",
      "fit_params\n",
      "calibration_auc\n",
      "validation_auc\n",
      "sklearn\n",
      "fit_coefs\n",
      "intercept\n",
      "calibration_auc\n",
      "validation_auc\n"
     ]
    }
   ],
   "source": [
    "regression_results = {}\n",
    "\n",
    "for subr in models_data:\n",
    "    models_params = {}\n",
    "    for key in models_data[subr]:\n",
    "        print(key)\n",
    "        models_params[key] = {}\n",
    "        for param in models_data[subr][key]:\n",
    "            print(param)\n",
    "            if (param == 'fit_params'):\n",
    "                coef_list = list(models_data[subr][key][param].index.str.lower())\n",
    "                for i, coef in enumerate(models_data[subr][key][param]):\n",
    "                    models_params[key][coef_list[i]] = coef\n",
    "            elif (param == 'fit_coefs'):\n",
    "                for i, coef in enumerate(models_data[subr][key][param][0]):\n",
    "                    models_params[key][coef_list[i+1]] = coef\n",
    "            else:\n",
    "                coef = models_data[subr][key][param]\n",
    "                if (isinstance(coef, list)) | (isinstance(coef, np.ndarray)):\n",
    "                    coef = coef[0]\n",
    "                models_params[key][param] = coef\n",
    "    \n",
    "    regression_results[subr] = pd.DataFrame.from_dict(models_params)\n",
    "    regression_results[subr].columns = pd.MultiIndex.from_arrays(\n",
    "        [[subr]*len(regression_results[subr].columns),\n",
    "         regression_results[subr].columns]\n",
    "        )\n",
    "\n",
    "\n"
   ]
  },
  {
   "cell_type": "code",
   "execution_count": 73,
   "metadata": {},
   "outputs": [
    {
     "data": {
      "text/html": [
       "<div>\n",
       "<style scoped>\n",
       "    .dataframe tbody tr th:only-of-type {\n",
       "        vertical-align: middle;\n",
       "    }\n",
       "\n",
       "    .dataframe tbody tr th {\n",
       "        vertical-align: top;\n",
       "    }\n",
       "\n",
       "    .dataframe thead tr th {\n",
       "        text-align: left;\n",
       "    }\n",
       "</style>\n",
       "<table border=\"1\" class=\"dataframe\">\n",
       "  <thead>\n",
       "    <tr>\n",
       "      <th></th>\n",
       "      <th colspan=\"2\" halign=\"left\">books</th>\n",
       "      <th colspan=\"2\" halign=\"left\">crypto</th>\n",
       "    </tr>\n",
       "    <tr>\n",
       "      <th></th>\n",
       "      <th>sm</th>\n",
       "      <th>sklearn</th>\n",
       "      <th>sm</th>\n",
       "      <th>sklearn</th>\n",
       "    </tr>\n",
       "  </thead>\n",
       "  <tbody>\n",
       "    <tr>\n",
       "      <th>intercept</th>\n",
       "      <td>-0.903772</td>\n",
       "      <td>-0.903746</td>\n",
       "      <td>-0.448157</td>\n",
       "      <td>-0.448156</td>\n",
       "    </tr>\n",
       "    <tr>\n",
       "      <th>post_activity_count</th>\n",
       "      <td>-0.051011</td>\n",
       "      <td>-0.051003</td>\n",
       "      <td>NaN</td>\n",
       "      <td>NaN</td>\n",
       "    </tr>\n",
       "    <tr>\n",
       "      <th>comment_activity_count</th>\n",
       "      <td>0.161383</td>\n",
       "      <td>0.161360</td>\n",
       "      <td>0.003305</td>\n",
       "      <td>0.003305</td>\n",
       "    </tr>\n",
       "    <tr>\n",
       "      <th>num_dayofweek</th>\n",
       "      <td>0.006958</td>\n",
       "      <td>0.006955</td>\n",
       "      <td>NaN</td>\n",
       "      <td>NaN</td>\n",
       "    </tr>\n",
       "    <tr>\n",
       "      <th>calibration_auc</th>\n",
       "      <td>0.781663</td>\n",
       "      <td>0.781663</td>\n",
       "      <td>0.818590</td>\n",
       "      <td>0.818590</td>\n",
       "    </tr>\n",
       "    <tr>\n",
       "      <th>validation_auc</th>\n",
       "      <td>0.789547</td>\n",
       "      <td>0.789547</td>\n",
       "      <td>0.831021</td>\n",
       "      <td>0.831021</td>\n",
       "    </tr>\n",
       "  </tbody>\n",
       "</table>\n",
       "</div>"
      ],
      "text/plain": [
       "                           books              crypto          \n",
       "                              sm   sklearn        sm   sklearn\n",
       "intercept              -0.903772 -0.903746 -0.448157 -0.448156\n",
       "post_activity_count    -0.051011 -0.051003       NaN       NaN\n",
       "comment_activity_count  0.161383  0.161360  0.003305  0.003305\n",
       "num_dayofweek           0.006958  0.006955       NaN       NaN\n",
       "calibration_auc         0.781663  0.781663  0.818590  0.818590\n",
       "validation_auc          0.789547  0.789547  0.831021  0.831021"
      ]
     },
     "execution_count": 73,
     "metadata": {},
     "output_type": "execute_result"
    }
   ],
   "source": [
    "pd.concat((regression_results['books'], regression_results['crypto']), axis=1)"
   ]
  },
  {
   "cell_type": "code",
   "execution_count": 76,
   "metadata": {},
   "outputs": [],
   "source": [
    "started = False\n",
    "for key in regression_results:\n",
    "    if not started:\n",
    "        out_df = regression_results[key]\n",
    "        started = True\n",
    "    else:\n",
    "        out_df = pd.concat((out_df, regression_results[key]), axis=1)"
   ]
  },
  {
   "cell_type": "code",
   "execution_count": 77,
   "metadata": {},
   "outputs": [
    {
     "data": {
      "text/html": [
       "<div>\n",
       "<style scoped>\n",
       "    .dataframe tbody tr th:only-of-type {\n",
       "        vertical-align: middle;\n",
       "    }\n",
       "\n",
       "    .dataframe tbody tr th {\n",
       "        vertical-align: top;\n",
       "    }\n",
       "\n",
       "    .dataframe thead tr th {\n",
       "        text-align: left;\n",
       "    }\n",
       "</style>\n",
       "<table border=\"1\" class=\"dataframe\">\n",
       "  <thead>\n",
       "    <tr>\n",
       "      <th></th>\n",
       "      <th colspan=\"2\" halign=\"left\">books</th>\n",
       "      <th colspan=\"2\" halign=\"left\">conspiracy</th>\n",
       "      <th colspan=\"2\" halign=\"left\">crypto</th>\n",
       "      <th colspan=\"2\" halign=\"left\">politics</th>\n",
       "    </tr>\n",
       "    <tr>\n",
       "      <th></th>\n",
       "      <th>sm</th>\n",
       "      <th>sklearn</th>\n",
       "      <th>sm</th>\n",
       "      <th>sklearn</th>\n",
       "      <th>sm</th>\n",
       "      <th>sklearn</th>\n",
       "      <th>sm</th>\n",
       "      <th>sklearn</th>\n",
       "    </tr>\n",
       "  </thead>\n",
       "  <tbody>\n",
       "    <tr>\n",
       "      <th>intercept</th>\n",
       "      <td>-0.903772</td>\n",
       "      <td>-0.903746</td>\n",
       "      <td>1.395165</td>\n",
       "      <td>1.395165</td>\n",
       "      <td>-0.448157</td>\n",
       "      <td>-0.448156</td>\n",
       "      <td>0.241440</td>\n",
       "      <td>0.241440</td>\n",
       "    </tr>\n",
       "    <tr>\n",
       "      <th>post_activity_count</th>\n",
       "      <td>-0.051011</td>\n",
       "      <td>-0.051003</td>\n",
       "      <td>NaN</td>\n",
       "      <td>NaN</td>\n",
       "      <td>NaN</td>\n",
       "      <td>NaN</td>\n",
       "      <td>0.005108</td>\n",
       "      <td>0.005108</td>\n",
       "    </tr>\n",
       "    <tr>\n",
       "      <th>comment_activity_count</th>\n",
       "      <td>0.161383</td>\n",
       "      <td>0.161360</td>\n",
       "      <td>0.007241</td>\n",
       "      <td>0.007241</td>\n",
       "      <td>0.003305</td>\n",
       "      <td>0.003305</td>\n",
       "      <td>0.005228</td>\n",
       "      <td>0.005228</td>\n",
       "    </tr>\n",
       "    <tr>\n",
       "      <th>num_dayofweek</th>\n",
       "      <td>0.006958</td>\n",
       "      <td>0.006955</td>\n",
       "      <td>NaN</td>\n",
       "      <td>NaN</td>\n",
       "      <td>NaN</td>\n",
       "      <td>NaN</td>\n",
       "      <td>NaN</td>\n",
       "      <td>NaN</td>\n",
       "    </tr>\n",
       "    <tr>\n",
       "      <th>calibration_auc</th>\n",
       "      <td>0.781663</td>\n",
       "      <td>0.781663</td>\n",
       "      <td>0.777406</td>\n",
       "      <td>0.777406</td>\n",
       "      <td>0.818590</td>\n",
       "      <td>0.818590</td>\n",
       "      <td>0.714616</td>\n",
       "      <td>0.714616</td>\n",
       "    </tr>\n",
       "    <tr>\n",
       "      <th>validation_auc</th>\n",
       "      <td>0.789547</td>\n",
       "      <td>0.789547</td>\n",
       "      <td>0.806135</td>\n",
       "      <td>0.806135</td>\n",
       "      <td>0.831021</td>\n",
       "      <td>0.831021</td>\n",
       "      <td>0.688734</td>\n",
       "      <td>0.688734</td>\n",
       "    </tr>\n",
       "  </tbody>\n",
       "</table>\n",
       "</div>"
      ],
      "text/plain": [
       "                           books           conspiracy              crypto  \\\n",
       "                              sm   sklearn         sm   sklearn        sm   \n",
       "intercept              -0.903772 -0.903746   1.395165  1.395165 -0.448157   \n",
       "post_activity_count    -0.051011 -0.051003        NaN       NaN       NaN   \n",
       "comment_activity_count  0.161383  0.161360   0.007241  0.007241  0.003305   \n",
       "num_dayofweek           0.006958  0.006955        NaN       NaN       NaN   \n",
       "calibration_auc         0.781663  0.781663   0.777406  0.777406  0.818590   \n",
       "validation_auc          0.789547  0.789547   0.806135  0.806135  0.831021   \n",
       "\n",
       "                                  politics            \n",
       "                         sklearn        sm   sklearn  \n",
       "intercept              -0.448156  0.241440  0.241440  \n",
       "post_activity_count          NaN  0.005108  0.005108  \n",
       "comment_activity_count  0.003305  0.005228  0.005228  \n",
       "num_dayofweek                NaN       NaN       NaN  \n",
       "calibration_auc         0.818590  0.714616  0.714616  \n",
       "validation_auc          0.831021  0.688734  0.688734  "
      ]
     },
     "execution_count": 77,
     "metadata": {},
     "output_type": "execute_result"
    }
   ],
   "source": [
    "out_df"
   ]
  },
  {
   "cell_type": "code",
   "execution_count": 79,
   "metadata": {},
   "outputs": [],
   "source": [
    "out_df.to_csv(outfile)"
   ]
  },
  {
   "cell_type": "code",
   "execution_count": null,
   "metadata": {},
   "outputs": [],
   "source": []
  }
 ],
 "metadata": {
  "kernelspec": {
   "display_name": "redditenv",
   "language": "python",
   "name": "python3"
  },
  "language_info": {
   "codemirror_mode": {
    "name": "ipython",
    "version": 3
   },
   "file_extension": ".py",
   "mimetype": "text/x-python",
   "name": "python",
   "nbconvert_exporter": "python",
   "pygments_lexer": "ipython3",
   "version": "3.10.9"
  },
  "orig_nbformat": 4
 },
 "nbformat": 4,
 "nbformat_minor": 2
}
