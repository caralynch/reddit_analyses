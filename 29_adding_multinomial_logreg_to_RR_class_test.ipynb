{
 "cells": [
  {
   "cell_type": "code",
   "execution_count": 3,
   "metadata": {},
   "outputs": [],
   "source": [
    "# data manipulation imports\n",
    "import numpy as np\n",
    "import pandas as pd\n",
    "\n",
    "# data saving imports\n",
    "import pickle\n",
    "import os\n",
    "\n",
    "# custom imports\n",
    "from regression_class import RedditRegression as rr\n",
    "from regression_class import TimestampClass"
   ]
  },
  {
   "cell_type": "code",
   "execution_count": 4,
   "metadata": {},
   "outputs": [],
   "source": [
    "data = pickle.load(open('test_data_crypto_5_days.p', 'rb'))"
   ]
  },
  {
   "cell_type": "code",
   "execution_count": 5,
   "metadata": {},
   "outputs": [],
   "source": [
    "regression_threads = data['regression_data']\n",
    "all_data = data['all_data']"
   ]
  },
  {
   "cell_type": "code",
   "execution_count": 6,
   "metadata": {},
   "outputs": [],
   "source": [
    "# params\n",
    "X_COLS = [\n",
    "    'sentiment_sign', 'sentiment_magnitude', 'hour', 'num_dayofweek','activity_ratio',\n",
    "    'mean_author_sentiment_sign', 'mean_author_sentiment_magnitude', 'log_author_all_activity_count',\n",
    "    ]\n",
    "y_col = 'success'\n",
    "\n",
    "# regression params dict\n",
    "regression_params = {\n",
    "    'name': 'crypto',\n",
    "    'regression_data': regression_threads,\n",
    "    'thread_data': all_data,\n",
    "    'collection_window': 2,\n",
    "    'model_window': 2,\n",
    "    'validation_window': 1,\n",
    "    'regression_type': 'logistic',\n",
    "    'FSS': True,\n",
    "    'performance_scoring_method': 'roc_auc',\n",
    "    'x_cols': X_COLS,\n",
    "    'y_col': y_col,\n",
    "    'metrics': [\"roc_auc\"],\n",
    "    'activity_threshold': 2,\n",
    "}"
   ]
  },
  {
   "cell_type": "code",
   "execution_count": 7,
   "metadata": {},
   "outputs": [],
   "source": [
    "test_logreg = rr(regression_params)"
   ]
  },
  {
   "cell_type": "code",
   "execution_count": 8,
   "metadata": {},
   "outputs": [
    {
     "name": "stdout",
     "output_type": "stream",
     "text": [
      "Running FSS\n"
     ]
    },
    {
     "name": "stderr",
     "output_type": "stream",
     "text": [
      "c:\\Users\\snuzz\\anaconda3\\envs\\redditenv\\lib\\site-packages\\numpy\\core\\_methods.py:269: RuntimeWarning: Degrees of freedom <= 0 for slice\n",
      "  ret = _var(a, axis=axis, dtype=dtype, out=out, ddof=ddof,\n",
      "c:\\Users\\snuzz\\anaconda3\\envs\\redditenv\\lib\\site-packages\\numpy\\core\\_methods.py:261: RuntimeWarning: invalid value encountered in scalar divide\n",
      "  ret = ret.dtype.type(ret / rcount)\n",
      "c:\\Users\\snuzz\\anaconda3\\envs\\redditenv\\lib\\site-packages\\numpy\\core\\_methods.py:269: RuntimeWarning: Degrees of freedom <= 0 for slice\n",
      "  ret = _var(a, axis=axis, dtype=dtype, out=out, ddof=ddof,\n",
      "c:\\Users\\snuzz\\anaconda3\\envs\\redditenv\\lib\\site-packages\\numpy\\core\\_methods.py:261: RuntimeWarning: invalid value encountered in scalar divide\n",
      "  ret = ret.dtype.type(ret / rcount)\n"
     ]
    },
    {
     "name": "stdout",
     "output_type": "stream",
     "text": [
      "Model 1\n",
      "Optimization terminated successfully.\n",
      "         Current function value: 0.510612\n",
      "         Iterations 5\n",
      "Model 2\n",
      "Optimization terminated successfully.\n",
      "         Current function value: 0.508381\n",
      "         Iterations 5\n",
      "Model 3\n",
      "Optimization terminated successfully.\n",
      "         Current function value: 0.505640\n",
      "         Iterations 5\n",
      "Model 4\n",
      "Optimization terminated successfully.\n",
      "         Current function value: 0.504706\n",
      "         Iterations 6\n",
      "Model 5\n",
      "Optimization terminated successfully.\n",
      "         Current function value: 0.504415\n",
      "         Iterations 6\n",
      "Model 6\n",
      "Optimization terminated successfully.\n",
      "         Current function value: 0.504383\n",
      "         Iterations 6\n",
      "Model 7\n",
      "Optimization terminated successfully.\n",
      "         Current function value: 0.504229\n",
      "         Iterations 6\n",
      "Model 8\n",
      "Optimization terminated successfully.\n",
      "         Current function value: 0.502495\n",
      "         Iterations 6\n"
     ]
    }
   ],
   "source": [
    "test_logreg.main()"
   ]
  },
  {
   "cell_type": "code",
   "execution_count": 9,
   "metadata": {},
   "outputs": [
    {
     "data": {
      "text/html": [
       "<div>\n",
       "<style scoped>\n",
       "    .dataframe tbody tr th:only-of-type {\n",
       "        vertical-align: middle;\n",
       "    }\n",
       "\n",
       "    .dataframe tbody tr th {\n",
       "        vertical-align: top;\n",
       "    }\n",
       "\n",
       "    .dataframe thead th {\n",
       "        text-align: right;\n",
       "    }\n",
       "</style>\n",
       "<table border=\"1\" class=\"dataframe\">\n",
       "  <thead>\n",
       "    <tr style=\"text-align: right;\">\n",
       "      <th></th>\n",
       "      <th>num_features</th>\n",
       "      <th>model</th>\n",
       "      <th>auc</th>\n",
       "      <th>validation_auc</th>\n",
       "    </tr>\n",
       "  </thead>\n",
       "  <tbody>\n",
       "    <tr>\n",
       "      <th>1</th>\n",
       "      <td>1</td>\n",
       "      <td>success ~ hour</td>\n",
       "      <td>0.556135</td>\n",
       "      <td>0.514238</td>\n",
       "    </tr>\n",
       "    <tr>\n",
       "      <th>2</th>\n",
       "      <td>2</td>\n",
       "      <td>success ~ hour + mean_author_sentiment_sign</td>\n",
       "      <td>0.572123</td>\n",
       "      <td>0.528476</td>\n",
       "    </tr>\n",
       "    <tr>\n",
       "      <th>3</th>\n",
       "      <td>3</td>\n",
       "      <td>success ~ hour + num_dayofweek + mean_author_s...</td>\n",
       "      <td>0.592365</td>\n",
       "      <td>0.529238</td>\n",
       "    </tr>\n",
       "    <tr>\n",
       "      <th>4</th>\n",
       "      <td>4</td>\n",
       "      <td>success ~ hour + num_dayofweek + mean_author_s...</td>\n",
       "      <td>0.601657</td>\n",
       "      <td>0.543524</td>\n",
       "    </tr>\n",
       "    <tr>\n",
       "      <th>5</th>\n",
       "      <td>5</td>\n",
       "      <td>success ~ hour + num_dayofweek + mean_author_s...</td>\n",
       "      <td>0.603068</td>\n",
       "      <td>0.580476</td>\n",
       "    </tr>\n",
       "    <tr>\n",
       "      <th>6</th>\n",
       "      <td>6</td>\n",
       "      <td>success ~ sentiment_magnitude + hour + num_day...</td>\n",
       "      <td>0.603202</td>\n",
       "      <td>0.580095</td>\n",
       "    </tr>\n",
       "    <tr>\n",
       "      <th>7</th>\n",
       "      <td>7</td>\n",
       "      <td>success ~ sentiment_sign + sentiment_magnitude...</td>\n",
       "      <td>0.599172</td>\n",
       "      <td>0.580952</td>\n",
       "    </tr>\n",
       "    <tr>\n",
       "      <th>8</th>\n",
       "      <td>8</td>\n",
       "      <td>success ~ sentiment_sign + sentiment_magnitude...</td>\n",
       "      <td>0.591917</td>\n",
       "      <td>0.524476</td>\n",
       "    </tr>\n",
       "  </tbody>\n",
       "</table>\n",
       "</div>"
      ],
      "text/plain": [
       "   num_features                                              model       auc  \\\n",
       "1             1                                     success ~ hour  0.556135   \n",
       "2             2        success ~ hour + mean_author_sentiment_sign  0.572123   \n",
       "3             3  success ~ hour + num_dayofweek + mean_author_s...  0.592365   \n",
       "4             4  success ~ hour + num_dayofweek + mean_author_s...  0.601657   \n",
       "5             5  success ~ hour + num_dayofweek + mean_author_s...  0.603068   \n",
       "6             6  success ~ sentiment_magnitude + hour + num_day...  0.603202   \n",
       "7             7  success ~ sentiment_sign + sentiment_magnitude...  0.599172   \n",
       "8             8  success ~ sentiment_sign + sentiment_magnitude...  0.591917   \n",
       "\n",
       "   validation_auc  \n",
       "1        0.514238  \n",
       "2        0.528476  \n",
       "3        0.529238  \n",
       "4        0.543524  \n",
       "5        0.580476  \n",
       "6        0.580095  \n",
       "7        0.580952  \n",
       "8        0.524476  "
      ]
     },
     "execution_count": 9,
     "metadata": {},
     "output_type": "execute_result"
    }
   ],
   "source": [
    "test_logreg.regression_metrics[\"metrics\"]"
   ]
  },
  {
   "cell_type": "code",
   "execution_count": 13,
   "metadata": {},
   "outputs": [
    {
     "data": {
      "image/png": "[encoded data removed]",
      "text/plain": [
       "<Figure size 700x700 with 1 Axes>"
      ]
     },
     "metadata": {},
     "output_type": "display_data"
    }
   ],
   "source": [
    "test_logreg.plot_metrics_vs_features(['auc', 'validation_auc'], ylabel='AUC', labels = ['model auc', 'validation auc'])"
   ]
  },
  {
   "cell_type": "code",
   "execution_count": 15,
   "metadata": {},
   "outputs": [
    {
     "data": {
      "text/html": [
       "<div>\n",
       "<style scoped>\n",
       "    .dataframe tbody tr th:only-of-type {\n",
       "        vertical-align: middle;\n",
       "    }\n",
       "\n",
       "    .dataframe tbody tr th {\n",
       "        vertical-align: top;\n",
       "    }\n",
       "\n",
       "    .dataframe thead th {\n",
       "        text-align: right;\n",
       "    }\n",
       "</style>\n",
       "<table border=\"1\" class=\"dataframe\">\n",
       "  <thead>\n",
       "    <tr style=\"text-align: right;\">\n",
       "      <th></th>\n",
       "      <th>input</th>\n",
       "    </tr>\n",
       "    <tr>\n",
       "      <th>param</th>\n",
       "      <th></th>\n",
       "    </tr>\n",
       "  </thead>\n",
       "  <tbody>\n",
       "    <tr>\n",
       "      <th>validation_window</th>\n",
       "      <td>1</td>\n",
       "    </tr>\n",
       "    <tr>\n",
       "      <th>name</th>\n",
       "      <td>crypto</td>\n",
       "    </tr>\n",
       "    <tr>\n",
       "      <th>FSS</th>\n",
       "      <td>True</td>\n",
       "    </tr>\n",
       "    <tr>\n",
       "      <th>performance_scoring_method</th>\n",
       "      <td>roc_auc</td>\n",
       "    </tr>\n",
       "    <tr>\n",
       "      <th>x_cols</th>\n",
       "      <td>[sentiment_sign, sentiment_magnitude, hour, nu...</td>\n",
       "    </tr>\n",
       "    <tr>\n",
       "      <th>y_col</th>\n",
       "      <td>success</td>\n",
       "    </tr>\n",
       "    <tr>\n",
       "      <th>metrics</th>\n",
       "      <td>[roc_auc]</td>\n",
       "    </tr>\n",
       "    <tr>\n",
       "      <th>regression_type</th>\n",
       "      <td>logistic</td>\n",
       "    </tr>\n",
       "    <tr>\n",
       "      <th>collection_window</th>\n",
       "      <td>2</td>\n",
       "    </tr>\n",
       "    <tr>\n",
       "      <th>model_window</th>\n",
       "      <td>2</td>\n",
       "    </tr>\n",
       "    <tr>\n",
       "      <th>activity_threshold</th>\n",
       "      <td>2</td>\n",
       "    </tr>\n",
       "  </tbody>\n",
       "</table>\n",
       "</div>"
      ],
      "text/plain": [
       "                                                                        input\n",
       "param                                                                        \n",
       "validation_window                                                           1\n",
       "name                                                                   crypto\n",
       "FSS                                                                      True\n",
       "performance_scoring_method                                            roc_auc\n",
       "x_cols                      [sentiment_sign, sentiment_magnitude, hour, nu...\n",
       "y_col                                                                 success\n",
       "metrics                                                             [roc_auc]\n",
       "regression_type                                                      logistic\n",
       "collection_window                                                           2\n",
       "model_window                                                                2\n",
       "activity_threshold                                                          2"
      ]
     },
     "execution_count": 15,
     "metadata": {},
     "output_type": "execute_result"
    }
   ],
   "source": [
    "test_logreg.params_dict_to_df(test_logreg.regression_params)"
   ]
  },
  {
   "cell_type": "code",
   "execution_count": 16,
   "metadata": {},
   "outputs": [
    {
     "data": {
      "text/plain": [
       "{1:               param    stderr    pvalue\n",
       " Intercept  0.926422  0.288138  0.001304\n",
       " hour       0.032407  0.021473  0.131256,\n",
       " 2:                                param    stderr    pvalue\n",
       " Intercept                   0.884194  0.289916  0.002290\n",
       " hour                        0.031137  0.021502  0.147588\n",
       " mean_author_sentiment_sign  0.176057  0.136408  0.196819,\n",
       " 3:                                param    stderr    pvalue\n",
       " Intercept                   1.100288  0.331452  0.000901\n",
       " hour                        0.029940  0.021620  0.166109\n",
       " num_dayofweek              -0.369637  0.262185  0.158589\n",
       " mean_author_sentiment_sign  0.184301  0.137048  0.178693,\n",
       " 4:                                     param    stderr    pvalue\n",
       " Intercept                        1.221175  0.363138  0.000771\n",
       " hour                             0.030270  0.021618  0.161439\n",
       " num_dayofweek                   -0.385281  0.263245  0.143307\n",
       " mean_author_sentiment_sign       0.201677  0.138632  0.145734\n",
       " mean_author_sentiment_magnitude -1.207604  1.437294  0.400800,\n",
       " 5:                                     param    stderr    pvalue\n",
       " Intercept                        1.045740  0.524197  0.046050\n",
       " hour                             0.030056  0.021625  0.164573\n",
       " num_dayofweek                   -0.382536  0.263461  0.146511\n",
       " mean_author_sentiment_sign       0.179996  0.146271  0.218485\n",
       " mean_author_sentiment_magnitude -0.947631  1.540934  0.538573\n",
       " log_author_all_activity_count    0.056929  0.123384  0.644517,\n",
       " 6:                                     param    stderr    pvalue\n",
       " Intercept                        1.028658  0.535132  0.054574\n",
       " sentiment_magnitude              0.090610  0.589363  0.877813\n",
       " hour                             0.030162  0.021633  0.163233\n",
       " num_dayofweek                   -0.381977  0.263473  0.147121\n",
       " mean_author_sentiment_sign       0.180605  0.146322  0.217091\n",
       " mean_author_sentiment_magnitude -0.948062  1.540498  0.538273\n",
       " log_author_all_activity_count    0.055885  0.123539  0.651008,\n",
       " 7:                                     param    stderr    pvalue\n",
       " Intercept                        1.034253  0.536071  0.053691\n",
       " sentiment_sign                  -0.058289  0.173489  0.736884\n",
       " sentiment_magnitude              0.092807  0.590614  0.875138\n",
       " hour                             0.030556  0.021674  0.158597\n",
       " num_dayofweek                   -0.377284  0.263811  0.152679\n",
       " mean_author_sentiment_sign       0.184433  0.146704  0.208689\n",
       " mean_author_sentiment_magnitude -0.902439  1.546255  0.559470\n",
       " log_author_all_activity_count    0.050927  0.124331  0.682093,\n",
       " 8:                                     param    stderr    pvalue\n",
       " Intercept                        1.092420  0.538584  0.042528\n",
       " sentiment_sign                  -0.039056  0.174606  0.823005\n",
       " sentiment_magnitude              0.128867  0.593398  0.828077\n",
       " hour                             0.029370  0.021702  0.175942\n",
       " num_dayofweek                   -0.383235  0.264480  0.147334\n",
       " activity_ratio                   0.287637  0.254128  0.257695\n",
       " mean_author_sentiment_sign       0.161024  0.149193  0.280454\n",
       " mean_author_sentiment_magnitude -0.937972  1.547697  0.544486\n",
       " log_author_all_activity_count   -0.021366  0.140660  0.879266}"
      ]
     },
     "execution_count": 16,
     "metadata": {},
     "output_type": "execute_result"
    }
   ],
   "source": [
    "test_logreg.regression_metrics['regression_params']"
   ]
  }
 ],
 "metadata": {
  "kernelspec": {
   "display_name": "redditenv",
   "language": "python",
   "name": "python3"
  },
  "language_info": {
   "codemirror_mode": {
    "name": "ipython",
    "version": 3
   },
   "file_extension": ".py",
   "mimetype": "text/x-python",
   "name": "python",
   "nbconvert_exporter": "python",
   "pygments_lexer": "ipython3",
   "version": "3.10.9"
  }
 },
 "nbformat": 4,
 "nbformat_minor": 2
}
