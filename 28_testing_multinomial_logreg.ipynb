{
 "cells": [
  {
   "cell_type": "code",
   "execution_count": 115,
   "metadata": {},
   "outputs": [],
   "source": [
    "# data manipulation imports\n",
    "import pandas as pd\n",
    "import numpy as np\n",
    "\n",
    "# data saving imports\n",
    "import pickle\n",
    "\n",
    "# custom imports\n",
    "from regression_class import RedditRegression as RR\n",
    "from regression_class import TimestampClass\n",
    "\n",
    "# stats imports\n",
    "import statsmodels.formula.api as smf\n",
    "from sklearn import linear_model\n",
    "from sklearn import metrics\n",
    "\n",
    "# plotting imports\n",
    "import matplotlib.pyplot as plt\n",
    "import matplotlib.colors as mcolors"
   ]
  },
  {
   "cell_type": "code",
   "execution_count": 2,
   "metadata": {},
   "outputs": [],
   "source": [
    "data = pickle.load(open('test_data_crypto_5_days.p', 'rb'))"
   ]
  },
  {
   "cell_type": "code",
   "execution_count": 3,
   "metadata": {},
   "outputs": [],
   "source": [
    "regression_threads = data['regression_data']\n",
    "all_data = data['all_data']"
   ]
  },
  {
   "cell_type": "code",
   "execution_count": 4,
   "metadata": {},
   "outputs": [],
   "source": [
    "threads_not_started = regression_threads[regression_threads.thread_size == 1]"
   ]
  },
  {
   "cell_type": "code",
   "execution_count": 5,
   "metadata": {},
   "outputs": [],
   "source": [
    "threads_started = regression_threads[regression_threads.thread_size > 1]"
   ]
  },
  {
   "cell_type": "code",
   "execution_count": 6,
   "metadata": {},
   "outputs": [],
   "source": [
    "quantiles = [0.25, 0.5, 0.75]\n",
    "quant_values = [threads_started.thread_size.min()]\n",
    "for i in quantiles:\n",
    "    quant_values.append(threads_started.thread_size.quantile(q=i))\n",
    "quant_values.append(threads_started.thread_size.max())"
   ]
  },
  {
   "cell_type": "code",
   "execution_count": 7,
   "metadata": {},
   "outputs": [],
   "source": [
    "def get_vals_in_range(series, upper, lower):\n",
    "    return series[(series <= upper) & (series >= lower)]"
   ]
  },
  {
   "cell_type": "code",
   "execution_count": 8,
   "metadata": {},
   "outputs": [
    {
     "name": "stdout",
     "output_type": "stream",
     "text": [
      "0: [2, 7.0] 287\n",
      "1: [8.0, 18.0] 286\n",
      "2: [19.0, 44.0] 295\n",
      "3: [45.0, 3813] 292\n"
     ]
    }
   ],
   "source": [
    "quantiles = []\n",
    "for i in range(len(quant_values)-1):\n",
    "    lower = quant_values[i]\n",
    "    upper = quant_values[i+1]\n",
    "    #if i != 0:\n",
    "        #lower += 1\n",
    "    if i+1 != len(quant_values) - 1:\n",
    "        upper -= 1\n",
    "    num_values = threads_started[(threads_started.thread_size <= upper) & (threads_started.thread_size >= lower)]\n",
    "    print(f\"{i}: [{lower}, {upper}] {len(num_values)}\")\n",
    "    quantiles.append((int(lower), int(upper)))"
   ]
  },
  {
   "cell_type": "code",
   "execution_count": 9,
   "metadata": {},
   "outputs": [],
   "source": [
    "def find_quantile(value, quantile_ranges):\n",
    "    for i in quantile_ranges:\n",
    "        if i[0] <= value <= i[1]:\n",
    "            return i\n",
    "        \n",
    "def find_quantile_index(tuple_value):\n",
    "    return quantiles.index(tuple_value)"
   ]
  },
  {
   "cell_type": "code",
   "execution_count": 10,
   "metadata": {},
   "outputs": [
    {
     "name": "stderr",
     "output_type": "stream",
     "text": [
      "C:\\Users\\snuzz\\AppData\\Local\\Temp\\ipykernel_7896\\1171444368.py:1: SettingWithCopyWarning: \n",
      "A value is trying to be set on a copy of a slice from a DataFrame.\n",
      "Try using .loc[row_indexer,col_indexer] = value instead\n",
      "\n",
      "See the caveats in the documentation: https://pandas.pydata.org/pandas-docs/stable/user_guide/indexing.html#returning-a-view-versus-a-copy\n",
      "  threads_started['thread_size_bin'] = threads_started.thread_size.apply(find_quantile, quantile_ranges = quantiles)\n",
      "C:\\Users\\snuzz\\AppData\\Local\\Temp\\ipykernel_7896\\1171444368.py:2: SettingWithCopyWarning: \n",
      "A value is trying to be set on a copy of a slice from a DataFrame.\n",
      "Try using .loc[row_indexer,col_indexer] = value instead\n",
      "\n",
      "See the caveats in the documentation: https://pandas.pydata.org/pandas-docs/stable/user_guide/indexing.html#returning-a-view-versus-a-copy\n",
      "  threads_started['thread_size_bin_index'] = threads_started.thread_size_bin.apply(find_quantile_index)\n"
     ]
    }
   ],
   "source": [
    "threads_started['thread_size_bin'] = threads_started.thread_size.apply(find_quantile, quantile_ranges = quantiles)\n",
    "threads_started['thread_size_bin_index'] = threads_started.thread_size_bin.apply(find_quantile_index)"
   ]
  },
  {
   "cell_type": "code",
   "execution_count": 11,
   "metadata": {},
   "outputs": [],
   "source": [
    "started_threads_all_data = all_data[all_data.thread_id.isin(threads_started.thread_id)]"
   ]
  },
  {
   "cell_type": "code",
   "execution_count": 12,
   "metadata": {},
   "outputs": [],
   "source": [
    "X_COLS = [\n",
    "    \"sentiment_sign\",\n",
    "    \"sentiment_magnitude\",\n",
    "    \"hour\",\n",
    "    \"num_dayofweek\",\n",
    "    \"activity_ratio\",\n",
    "    \"mean_author_sentiment_sign\",\n",
    "    \"mean_author_sentiment_magnitude\",\n",
    "    \"log_author_all_activity_count\",\n",
    "]\n",
    "y_col = \"thread_size_bin_index\""
   ]
  },
  {
   "cell_type": "code",
   "execution_count": 13,
   "metadata": {},
   "outputs": [],
   "source": [
    "modstrings = {\n",
    "    0: \"thread_size_bin ~ log_author_all_activity_count\",\n",
    "    1: \"thread_size_bin ~ activity_ratio\",\n",
    "    2: \"thread_size_bin ~ mean_author_sentiment_sign\",\n",
    "    3: \"thread_size_bin ~ mean_author_sentiment_magnitude\",\n",
    "    4:\"thread_size_bin ~ num_dayofweek\",\n",
    "    5:\"thread_size_bin ~ sentiment_sign\",\n",
    "    6:\"thread_size_bin ~ sentiment_magnitude\",\n",
    "    7:\"thread_size_bin ~ hour\",\n",
    "}"
   ]
  },
  {
   "cell_type": "code",
   "execution_count": 14,
   "metadata": {},
   "outputs": [],
   "source": [
    "regression_params = {\n",
    "    'name': 'crypto',\n",
    "    'regression_data': threads_started,\n",
    "    'thread_data': started_threads_all_data,\n",
    "    'regression_type': 'mnlogit',\n",
    "    'collection_window': 2,\n",
    "    'model_window': 2,\n",
    "    'validation_window': 1,\n",
    "    'FSS': False,\n",
    "    'models': modstrings,\n",
    "    'performance_scoring_method': 'roc_auc',\n",
    "    'x_cols': X_COLS,\n",
    "    'y_col': y_col,\n",
    "    'metrics': ['roc_auc'],\n",
    "    'activity_threshold': 2,\n",
    "}"
   ]
  },
  {
   "cell_type": "code",
   "execution_count": 15,
   "metadata": {},
   "outputs": [
    {
     "name": "stderr",
     "output_type": "stream",
     "text": [
      "c:\\Users\\snuzz\\Documents\\PhD\\datasets\\reddit_analyses\\reddit_analyses\\regression_class.py:79: SettingWithCopyWarning: \n",
      "A value is trying to be set on a copy of a slice from a DataFrame.\n",
      "Try using .loc[row_indexer,col_indexer] = value instead\n",
      "\n",
      "See the caveats in the documentation: https://pandas.pydata.org/pandas-docs/stable/user_guide/indexing.html#returning-a-view-versus-a-copy\n",
      "  regression_params[\"thread_data\"][\"sentiment_score\"] = regression_params[\n"
     ]
    }
   ],
   "source": [
    "test_mnlogit = RR(regression_params)"
   ]
  },
  {
   "cell_type": "code",
   "execution_count": 16,
   "metadata": {},
   "outputs": [],
   "source": [
    "test_mnlogit.calc_author_thread_counts()\n",
    "test_mnlogit.get_regression_model_data()\n",
    "test_mnlogit.get_regression_model_data(calval=\"val\")"
   ]
  },
  {
   "cell_type": "code",
   "execution_count": 17,
   "metadata": {},
   "outputs": [
    {
     "data": {
      "text/html": [
       "<div>\n",
       "<style scoped>\n",
       "    .dataframe tbody tr th:only-of-type {\n",
       "        vertical-align: middle;\n",
       "    }\n",
       "\n",
       "    .dataframe tbody tr th {\n",
       "        vertical-align: top;\n",
       "    }\n",
       "\n",
       "    .dataframe thead th {\n",
       "        text-align: right;\n",
       "    }\n",
       "</style>\n",
       "<table border=\"1\" class=\"dataframe\">\n",
       "  <thead>\n",
       "    <tr style=\"text-align: right;\">\n",
       "      <th></th>\n",
       "      <th>thread_id</th>\n",
       "      <th>thread_size</th>\n",
       "      <th>authors</th>\n",
       "      <th>timestamp</th>\n",
       "      <th>author</th>\n",
       "      <th>score</th>\n",
       "      <th>subject_sentiment_score</th>\n",
       "      <th>sentiment_sign</th>\n",
       "      <th>sentiment_magnitude</th>\n",
       "      <th>success</th>\n",
       "      <th>thread_size_bin</th>\n",
       "      <th>thread_size_bin_index</th>\n",
       "      <th>activity_ratio</th>\n",
       "      <th>log_author_all_activity_count</th>\n",
       "      <th>mean_author_sentiment_sign</th>\n",
       "      <th>mean_author_sentiment_magnitude</th>\n",
       "      <th>num_dayofweek</th>\n",
       "      <th>hour</th>\n",
       "    </tr>\n",
       "  </thead>\n",
       "  <tbody>\n",
       "    <tr>\n",
       "      <th>0</th>\n",
       "      <td>xu3vcu</td>\n",
       "      <td>2745</td>\n",
       "      <td>519</td>\n",
       "      <td>2022-10-03 00:00:10</td>\n",
       "      <td>8ac426fd80f0ea3761bdcd7f32591b09ce1c1366e59ef15c</td>\n",
       "      <td>1</td>\n",
       "      <td>0.0000</td>\n",
       "      <td>0.0</td>\n",
       "      <td>0.0000</td>\n",
       "      <td>1</td>\n",
       "      <td>(45, 3813)</td>\n",
       "      <td>3</td>\n",
       "      <td>-1.000000</td>\n",
       "      <td>1.098612</td>\n",
       "      <td>0.0</td>\n",
       "      <td>0.000000</td>\n",
       "      <td>0</td>\n",
       "      <td>0</td>\n",
       "    </tr>\n",
       "    <tr>\n",
       "      <th>2</th>\n",
       "      <td>xu5c0j</td>\n",
       "      <td>2</td>\n",
       "      <td>2</td>\n",
       "      <td>2022-10-03 01:09:45</td>\n",
       "      <td>46831fba4c613ab7822de473fe94e34b3ce758b1ac1138a5</td>\n",
       "      <td>1</td>\n",
       "      <td>-0.5574</td>\n",
       "      <td>-1.0</td>\n",
       "      <td>0.5574</td>\n",
       "      <td>1</td>\n",
       "      <td>(2, 7)</td>\n",
       "      <td>0</td>\n",
       "      <td>0.333333</td>\n",
       "      <td>1.945910</td>\n",
       "      <td>-1.0</td>\n",
       "      <td>0.066167</td>\n",
       "      <td>0</td>\n",
       "      <td>1</td>\n",
       "    </tr>\n",
       "    <tr>\n",
       "      <th>3</th>\n",
       "      <td>xu5i3m</td>\n",
       "      <td>346</td>\n",
       "      <td>193</td>\n",
       "      <td>2022-10-03 01:17:32</td>\n",
       "      <td>c542a05eb22ffca30f65e2cf5772dcb0e196f02614fd1193</td>\n",
       "      <td>1</td>\n",
       "      <td>0.5719</td>\n",
       "      <td>1.0</td>\n",
       "      <td>0.5719</td>\n",
       "      <td>1</td>\n",
       "      <td>(45, 3813)</td>\n",
       "      <td>3</td>\n",
       "      <td>1.000000</td>\n",
       "      <td>4.499810</td>\n",
       "      <td>1.0</td>\n",
       "      <td>0.003850</td>\n",
       "      <td>0</td>\n",
       "      <td>1</td>\n",
       "    </tr>\n",
       "    <tr>\n",
       "      <th>4</th>\n",
       "      <td>xu5pwv</td>\n",
       "      <td>134</td>\n",
       "      <td>81</td>\n",
       "      <td>2022-10-03 01:27:51</td>\n",
       "      <td>a1108b7c47e9c7227007ffec746ba5b8506514d18c9e2bbb</td>\n",
       "      <td>1</td>\n",
       "      <td>0.0000</td>\n",
       "      <td>0.0</td>\n",
       "      <td>0.0000</td>\n",
       "      <td>1</td>\n",
       "      <td>(45, 3813)</td>\n",
       "      <td>3</td>\n",
       "      <td>0.555556</td>\n",
       "      <td>2.302585</td>\n",
       "      <td>1.0</td>\n",
       "      <td>0.213872</td>\n",
       "      <td>0</td>\n",
       "      <td>1</td>\n",
       "    </tr>\n",
       "    <tr>\n",
       "      <th>5</th>\n",
       "      <td>xu64qp</td>\n",
       "      <td>3</td>\n",
       "      <td>3</td>\n",
       "      <td>2022-10-03 01:47:45</td>\n",
       "      <td>53b0c05f4ead4193ec3ae4223ccc9e34c48453733769703c</td>\n",
       "      <td>1</td>\n",
       "      <td>0.0000</td>\n",
       "      <td>0.0</td>\n",
       "      <td>0.0000</td>\n",
       "      <td>1</td>\n",
       "      <td>(2, 7)</td>\n",
       "      <td>0</td>\n",
       "      <td>1.000000</td>\n",
       "      <td>4.382027</td>\n",
       "      <td>1.0</td>\n",
       "      <td>0.052669</td>\n",
       "      <td>0</td>\n",
       "      <td>1</td>\n",
       "    </tr>\n",
       "    <tr>\n",
       "      <th>...</th>\n",
       "      <td>...</td>\n",
       "      <td>...</td>\n",
       "      <td>...</td>\n",
       "      <td>...</td>\n",
       "      <td>...</td>\n",
       "      <td>...</td>\n",
       "      <td>...</td>\n",
       "      <td>...</td>\n",
       "      <td>...</td>\n",
       "      <td>...</td>\n",
       "      <td>...</td>\n",
       "      <td>...</td>\n",
       "      <td>...</td>\n",
       "      <td>...</td>\n",
       "      <td>...</td>\n",
       "      <td>...</td>\n",
       "      <td>...</td>\n",
       "      <td>...</td>\n",
       "    </tr>\n",
       "    <tr>\n",
       "      <th>475</th>\n",
       "      <td>xvs0gh</td>\n",
       "      <td>13</td>\n",
       "      <td>13</td>\n",
       "      <td>2022-10-04 21:58:36</td>\n",
       "      <td>e0c497e66ac028c5ac161bb04db35791c7dec3fa0530d66e</td>\n",
       "      <td>1</td>\n",
       "      <td>0.3818</td>\n",
       "      <td>1.0</td>\n",
       "      <td>0.3818</td>\n",
       "      <td>1</td>\n",
       "      <td>(8, 18)</td>\n",
       "      <td>1</td>\n",
       "      <td>0.500000</td>\n",
       "      <td>1.609438</td>\n",
       "      <td>1.0</td>\n",
       "      <td>0.225475</td>\n",
       "      <td>1</td>\n",
       "      <td>21</td>\n",
       "    </tr>\n",
       "    <tr>\n",
       "      <th>477</th>\n",
       "      <td>xvs2cs</td>\n",
       "      <td>16</td>\n",
       "      <td>15</td>\n",
       "      <td>2022-10-04 22:00:33</td>\n",
       "      <td>5e306417ae4e1bf0f1f89a9cefdcb11cf27539d545344e15</td>\n",
       "      <td>1</td>\n",
       "      <td>0.4939</td>\n",
       "      <td>1.0</td>\n",
       "      <td>0.4939</td>\n",
       "      <td>1</td>\n",
       "      <td>(8, 18)</td>\n",
       "      <td>1</td>\n",
       "      <td>0.000000</td>\n",
       "      <td>1.098612</td>\n",
       "      <td>1.0</td>\n",
       "      <td>0.220200</td>\n",
       "      <td>1</td>\n",
       "      <td>22</td>\n",
       "    </tr>\n",
       "    <tr>\n",
       "      <th>479</th>\n",
       "      <td>xvs7fg</td>\n",
       "      <td>11</td>\n",
       "      <td>11</td>\n",
       "      <td>2022-10-04 22:06:21</td>\n",
       "      <td>33a56d77b0eb7cd989ec54a751314bc1f2474b535ca30e38</td>\n",
       "      <td>1</td>\n",
       "      <td>0.1779</td>\n",
       "      <td>1.0</td>\n",
       "      <td>0.1779</td>\n",
       "      <td>1</td>\n",
       "      <td>(8, 18)</td>\n",
       "      <td>1</td>\n",
       "      <td>0.000000</td>\n",
       "      <td>1.609438</td>\n",
       "      <td>1.0</td>\n",
       "      <td>0.110100</td>\n",
       "      <td>1</td>\n",
       "      <td>22</td>\n",
       "    </tr>\n",
       "    <tr>\n",
       "      <th>487</th>\n",
       "      <td>xvts3n</td>\n",
       "      <td>6</td>\n",
       "      <td>6</td>\n",
       "      <td>2022-10-04 23:14:09</td>\n",
       "      <td>8a69e054671a755129658fef3eb595917fc712be55097460</td>\n",
       "      <td>1</td>\n",
       "      <td>0.0000</td>\n",
       "      <td>0.0</td>\n",
       "      <td>0.0000</td>\n",
       "      <td>1</td>\n",
       "      <td>(2, 7)</td>\n",
       "      <td>0</td>\n",
       "      <td>0.700000</td>\n",
       "      <td>3.713572</td>\n",
       "      <td>1.0</td>\n",
       "      <td>0.113473</td>\n",
       "      <td>1</td>\n",
       "      <td>23</td>\n",
       "    </tr>\n",
       "    <tr>\n",
       "      <th>488</th>\n",
       "      <td>xvtt47</td>\n",
       "      <td>107</td>\n",
       "      <td>77</td>\n",
       "      <td>2022-10-04 23:15:23</td>\n",
       "      <td>5b7d73f4c8939a53f96bb22e84cfc4639f82a89bec882dac</td>\n",
       "      <td>1</td>\n",
       "      <td>0.0000</td>\n",
       "      <td>0.0</td>\n",
       "      <td>0.0000</td>\n",
       "      <td>1</td>\n",
       "      <td>(45, 3813)</td>\n",
       "      <td>3</td>\n",
       "      <td>1.000000</td>\n",
       "      <td>4.077537</td>\n",
       "      <td>1.0</td>\n",
       "      <td>0.029239</td>\n",
       "      <td>1</td>\n",
       "      <td>23</td>\n",
       "    </tr>\n",
       "  </tbody>\n",
       "</table>\n",
       "<p>287 rows × 18 columns</p>\n",
       "</div>"
      ],
      "text/plain": [
       "    thread_id  thread_size  authors           timestamp  \\\n",
       "0      xu3vcu         2745      519 2022-10-03 00:00:10   \n",
       "2      xu5c0j            2        2 2022-10-03 01:09:45   \n",
       "3      xu5i3m          346      193 2022-10-03 01:17:32   \n",
       "4      xu5pwv          134       81 2022-10-03 01:27:51   \n",
       "5      xu64qp            3        3 2022-10-03 01:47:45   \n",
       "..        ...          ...      ...                 ...   \n",
       "475    xvs0gh           13       13 2022-10-04 21:58:36   \n",
       "477    xvs2cs           16       15 2022-10-04 22:00:33   \n",
       "479    xvs7fg           11       11 2022-10-04 22:06:21   \n",
       "487    xvts3n            6        6 2022-10-04 23:14:09   \n",
       "488    xvtt47          107       77 2022-10-04 23:15:23   \n",
       "\n",
       "                                               author  score  \\\n",
       "0    8ac426fd80f0ea3761bdcd7f32591b09ce1c1366e59ef15c      1   \n",
       "2    46831fba4c613ab7822de473fe94e34b3ce758b1ac1138a5      1   \n",
       "3    c542a05eb22ffca30f65e2cf5772dcb0e196f02614fd1193      1   \n",
       "4    a1108b7c47e9c7227007ffec746ba5b8506514d18c9e2bbb      1   \n",
       "5    53b0c05f4ead4193ec3ae4223ccc9e34c48453733769703c      1   \n",
       "..                                                ...    ...   \n",
       "475  e0c497e66ac028c5ac161bb04db35791c7dec3fa0530d66e      1   \n",
       "477  5e306417ae4e1bf0f1f89a9cefdcb11cf27539d545344e15      1   \n",
       "479  33a56d77b0eb7cd989ec54a751314bc1f2474b535ca30e38      1   \n",
       "487  8a69e054671a755129658fef3eb595917fc712be55097460      1   \n",
       "488  5b7d73f4c8939a53f96bb22e84cfc4639f82a89bec882dac      1   \n",
       "\n",
       "     subject_sentiment_score  sentiment_sign  sentiment_magnitude  success  \\\n",
       "0                     0.0000             0.0               0.0000        1   \n",
       "2                    -0.5574            -1.0               0.5574        1   \n",
       "3                     0.5719             1.0               0.5719        1   \n",
       "4                     0.0000             0.0               0.0000        1   \n",
       "5                     0.0000             0.0               0.0000        1   \n",
       "..                       ...             ...                  ...      ...   \n",
       "475                   0.3818             1.0               0.3818        1   \n",
       "477                   0.4939             1.0               0.4939        1   \n",
       "479                   0.1779             1.0               0.1779        1   \n",
       "487                   0.0000             0.0               0.0000        1   \n",
       "488                   0.0000             0.0               0.0000        1   \n",
       "\n",
       "    thread_size_bin  thread_size_bin_index  activity_ratio  \\\n",
       "0        (45, 3813)                      3       -1.000000   \n",
       "2            (2, 7)                      0        0.333333   \n",
       "3        (45, 3813)                      3        1.000000   \n",
       "4        (45, 3813)                      3        0.555556   \n",
       "5            (2, 7)                      0        1.000000   \n",
       "..              ...                    ...             ...   \n",
       "475         (8, 18)                      1        0.500000   \n",
       "477         (8, 18)                      1        0.000000   \n",
       "479         (8, 18)                      1        0.000000   \n",
       "487          (2, 7)                      0        0.700000   \n",
       "488      (45, 3813)                      3        1.000000   \n",
       "\n",
       "     log_author_all_activity_count  mean_author_sentiment_sign  \\\n",
       "0                         1.098612                         0.0   \n",
       "2                         1.945910                        -1.0   \n",
       "3                         4.499810                         1.0   \n",
       "4                         2.302585                         1.0   \n",
       "5                         4.382027                         1.0   \n",
       "..                             ...                         ...   \n",
       "475                       1.609438                         1.0   \n",
       "477                       1.098612                         1.0   \n",
       "479                       1.609438                         1.0   \n",
       "487                       3.713572                         1.0   \n",
       "488                       4.077537                         1.0   \n",
       "\n",
       "     mean_author_sentiment_magnitude  num_dayofweek  hour  \n",
       "0                           0.000000              0     0  \n",
       "2                           0.066167              0     1  \n",
       "3                           0.003850              0     1  \n",
       "4                           0.213872              0     1  \n",
       "5                           0.052669              0     1  \n",
       "..                               ...            ...   ...  \n",
       "475                         0.225475              1    21  \n",
       "477                         0.220200              1    22  \n",
       "479                         0.110100              1    22  \n",
       "487                         0.113473              1    23  \n",
       "488                         0.029239              1    23  \n",
       "\n",
       "[287 rows x 18 columns]"
      ]
     },
     "execution_count": 17,
     "metadata": {},
     "output_type": "execute_result"
    }
   ],
   "source": [
    "test_mnlogit.regression_model_data"
   ]
  },
  {
   "cell_type": "code",
   "execution_count": 18,
   "metadata": {},
   "outputs": [],
   "source": [
    "x_data = test_mnlogit.regression_model_data[[\"log_author_all_activity_count\"]]\n",
    "y_data = test_mnlogit.regression_model_data[y_col]"
   ]
  },
  {
   "cell_type": "code",
   "execution_count": 19,
   "metadata": {},
   "outputs": [],
   "source": [
    "skl_mod = linear_model.LogisticRegression(multi_class='multinomial').fit(x_data, y_data)"
   ]
  },
  {
   "cell_type": "code",
   "execution_count": 22,
   "metadata": {},
   "outputs": [
    {
     "name": "stdout",
     "output_type": "stream",
     "text": [
      "Optimization terminated successfully.\n",
      "         Current function value: 1.327737\n",
      "         Iterations 5\n"
     ]
    }
   ],
   "source": [
    "smf_mod = smf.mnlogit(\"thread_size_bin_index ~ log_author_all_activity_count\", data=test_mnlogit.regression_model_data).fit()"
   ]
  },
  {
   "cell_type": "code",
   "execution_count": 65,
   "metadata": {},
   "outputs": [],
   "source": [
    "skl_ovr_mod = linear_model.LogisticRegression(multi_class='ovr').fit(x_data, y_data)"
   ]
  },
  {
   "cell_type": "code",
   "execution_count": 75,
   "metadata": {},
   "outputs": [
    {
     "data": {
      "text/html": [
       "<div>\n",
       "<style scoped>\n",
       "    .dataframe tbody tr th:only-of-type {\n",
       "        vertical-align: middle;\n",
       "    }\n",
       "\n",
       "    .dataframe tbody tr th {\n",
       "        vertical-align: top;\n",
       "    }\n",
       "\n",
       "    .dataframe thead th {\n",
       "        text-align: right;\n",
       "    }\n",
       "</style>\n",
       "<table border=\"1\" class=\"dataframe\">\n",
       "  <thead>\n",
       "    <tr style=\"text-align: right;\">\n",
       "      <th></th>\n",
       "      <th>0</th>\n",
       "      <th>1</th>\n",
       "      <th>2</th>\n",
       "      <th>3</th>\n",
       "    </tr>\n",
       "  </thead>\n",
       "  <tbody>\n",
       "    <tr>\n",
       "      <th>Intercept</th>\n",
       "      <td>-0.259539</td>\n",
       "      <td>0.729626</td>\n",
       "      <td>0.00044</td>\n",
       "      <td>-0.470527</td>\n",
       "    </tr>\n",
       "    <tr>\n",
       "      <th>log_author_all_activity_count</th>\n",
       "      <td>-0.053152</td>\n",
       "      <td>-0.246633</td>\n",
       "      <td>0.13746</td>\n",
       "      <td>0.162325</td>\n",
       "    </tr>\n",
       "  </tbody>\n",
       "</table>\n",
       "</div>"
      ],
      "text/plain": [
       "                                      0         1        2         3\n",
       "Intercept                     -0.259539  0.729626  0.00044 -0.470527\n",
       "log_author_all_activity_count -0.053152 -0.246633  0.13746  0.162325"
      ]
     },
     "execution_count": 75,
     "metadata": {},
     "output_type": "execute_result"
    }
   ],
   "source": [
    "skl_mod_params = pd.concat((pd.DataFrame(data = skl_mod.intercept_, columns=['Intercept']).transpose(), pd.DataFrame(data = skl_mod.coef_.transpose(), index=['log_author_all_activity_count'])))\n",
    "skl_mod_params"
   ]
  },
  {
   "cell_type": "code",
   "execution_count": 76,
   "metadata": {},
   "outputs": [
    {
     "data": {
      "text/html": [
       "<div>\n",
       "<style scoped>\n",
       "    .dataframe tbody tr th:only-of-type {\n",
       "        vertical-align: middle;\n",
       "    }\n",
       "\n",
       "    .dataframe tbody tr th {\n",
       "        vertical-align: top;\n",
       "    }\n",
       "\n",
       "    .dataframe thead th {\n",
       "        text-align: right;\n",
       "    }\n",
       "</style>\n",
       "<table border=\"1\" class=\"dataframe\">\n",
       "  <thead>\n",
       "    <tr style=\"text-align: right;\">\n",
       "      <th></th>\n",
       "      <th>0</th>\n",
       "      <th>1</th>\n",
       "      <th>2</th>\n",
       "      <th>3</th>\n",
       "    </tr>\n",
       "  </thead>\n",
       "  <tbody>\n",
       "    <tr>\n",
       "      <th>Intercept</th>\n",
       "      <td>-1.447812</td>\n",
       "      <td>-0.123462</td>\n",
       "      <td>-1.132169</td>\n",
       "      <td>-1.710612</td>\n",
       "    </tr>\n",
       "    <tr>\n",
       "      <th>log_author_all_activity_count</th>\n",
       "      <td>-0.083637</td>\n",
       "      <td>-0.349758</td>\n",
       "      <td>0.180956</td>\n",
       "      <td>0.185672</td>\n",
       "    </tr>\n",
       "  </tbody>\n",
       "</table>\n",
       "</div>"
      ],
      "text/plain": [
       "                                      0         1         2         3\n",
       "Intercept                     -1.447812 -0.123462 -1.132169 -1.710612\n",
       "log_author_all_activity_count -0.083637 -0.349758  0.180956  0.185672"
      ]
     },
     "execution_count": 76,
     "metadata": {},
     "output_type": "execute_result"
    }
   ],
   "source": [
    "skl_ovr_mod_params = pd.concat((pd.DataFrame(data = skl_ovr_mod.intercept_, columns=['Intercept']).transpose(), pd.DataFrame(data = skl_ovr_mod.coef_.transpose(), index=['log_author_all_activity_count'])))\n",
    "skl_ovr_mod_params"
   ]
  },
  {
   "cell_type": "code",
   "execution_count": 79,
   "metadata": {},
   "outputs": [
    {
     "data": {
      "text/html": [
       "<div>\n",
       "<style scoped>\n",
       "    .dataframe tbody tr th:only-of-type {\n",
       "        vertical-align: middle;\n",
       "    }\n",
       "\n",
       "    .dataframe tbody tr th {\n",
       "        vertical-align: top;\n",
       "    }\n",
       "\n",
       "    .dataframe thead th {\n",
       "        text-align: right;\n",
       "    }\n",
       "</style>\n",
       "<table border=\"1\" class=\"dataframe\">\n",
       "  <thead>\n",
       "    <tr style=\"text-align: right;\">\n",
       "      <th></th>\n",
       "      <th>0</th>\n",
       "      <th>1</th>\n",
       "      <th>2</th>\n",
       "    </tr>\n",
       "  </thead>\n",
       "  <tbody>\n",
       "    <tr>\n",
       "      <th>Intercept</th>\n",
       "      <td>0.993829</td>\n",
       "      <td>0.254644</td>\n",
       "      <td>-0.218690</td>\n",
       "    </tr>\n",
       "    <tr>\n",
       "      <th>log_author_all_activity_count</th>\n",
       "      <td>-0.195414</td>\n",
       "      <td>0.192472</td>\n",
       "      <td>0.218107</td>\n",
       "    </tr>\n",
       "  </tbody>\n",
       "</table>\n",
       "</div>"
      ],
      "text/plain": [
       "                                      0         1         2\n",
       "Intercept                      0.993829  0.254644 -0.218690\n",
       "log_author_all_activity_count -0.195414  0.192472  0.218107"
      ]
     },
     "execution_count": 79,
     "metadata": {},
     "output_type": "execute_result"
    }
   ],
   "source": [
    "smf_mod.params"
   ]
  },
  {
   "cell_type": "code",
   "execution_count": 80,
   "metadata": {},
   "outputs": [
    {
     "data": {
      "text/html": [
       "<table class=\"simpletable\">\n",
       "<caption>MNLogit Regression Results</caption>\n",
       "<tr>\n",
       "  <th>Dep. Variable:</th>   <td>thread_size_bin_index</td> <th>  No. Observations:  </th>  <td>   287</td> \n",
       "</tr>\n",
       "<tr>\n",
       "  <th>Model:</th>                  <td>MNLogit</td>        <th>  Df Residuals:      </th>  <td>   281</td> \n",
       "</tr>\n",
       "<tr>\n",
       "  <th>Method:</th>                   <td>MLE</td>          <th>  Df Model:          </th>  <td>     3</td> \n",
       "</tr>\n",
       "<tr>\n",
       "  <th>Date:</th>              <td>Fri, 02 Feb 2024</td>    <th>  Pseudo R-squ.:     </th>  <td>0.01462</td>\n",
       "</tr>\n",
       "<tr>\n",
       "  <th>Time:</th>                  <td>14:46:13</td>        <th>  Log-Likelihood:    </th> <td> -381.06</td>\n",
       "</tr>\n",
       "<tr>\n",
       "  <th>converged:</th>               <td>True</td>          <th>  LL-Null:           </th> <td> -386.71</td>\n",
       "</tr>\n",
       "<tr>\n",
       "  <th>Covariance Type:</th>       <td>nonrobust</td>       <th>  LLR p-value:       </th>  <td>0.01017</td>\n",
       "</tr>\n",
       "</table>\n",
       "<table class=\"simpletable\">\n",
       "<tr>\n",
       "     <th>thread_size_bin_index=1</th>       <th>coef</th>     <th>std err</th>      <th>z</th>      <th>P>|z|</th>  <th>[0.025</th>    <th>0.975]</th>  \n",
       "</tr>\n",
       "<tr>\n",
       "  <th>Intercept</th>                     <td>    0.9938</td> <td>    0.473</td> <td>    2.101</td> <td> 0.036</td> <td>    0.067</td> <td>    1.921</td>\n",
       "</tr>\n",
       "<tr>\n",
       "  <th>log_author_all_activity_count</th> <td>   -0.1954</td> <td>    0.164</td> <td>   -1.191</td> <td> 0.234</td> <td>   -0.517</td> <td>    0.126</td>\n",
       "</tr>\n",
       "<tr>\n",
       "     <th>thread_size_bin_index=2</th>       <th>coef</th>     <th>std err</th>      <th>z</th>      <th>P>|z|</th>  <th>[0.025</th>    <th>0.975]</th>  \n",
       "</tr>\n",
       "<tr>\n",
       "  <th>Intercept</th>                     <td>    0.2546</td> <td>    0.466</td> <td>    0.547</td> <td> 0.585</td> <td>   -0.658</td> <td>    1.167</td>\n",
       "</tr>\n",
       "<tr>\n",
       "  <th>log_author_all_activity_count</th> <td>    0.1925</td> <td>    0.152</td> <td>    1.266</td> <td> 0.206</td> <td>   -0.106</td> <td>    0.490</td>\n",
       "</tr>\n",
       "<tr>\n",
       "     <th>thread_size_bin_index=3</th>       <th>coef</th>     <th>std err</th>      <th>z</th>      <th>P>|z|</th>  <th>[0.025</th>    <th>0.975]</th>  \n",
       "</tr>\n",
       "<tr>\n",
       "  <th>Intercept</th>                     <td>   -0.2187</td> <td>    0.505</td> <td>   -0.433</td> <td> 0.665</td> <td>   -1.209</td> <td>    0.771</td>\n",
       "</tr>\n",
       "<tr>\n",
       "  <th>log_author_all_activity_count</th> <td>    0.2181</td> <td>    0.163</td> <td>    1.339</td> <td> 0.181</td> <td>   -0.101</td> <td>    0.537</td>\n",
       "</tr>\n",
       "</table>"
      ],
      "text/plain": [
       "<class 'statsmodels.iolib.summary.Summary'>\n",
       "\"\"\"\n",
       "                            MNLogit Regression Results                           \n",
       "=================================================================================\n",
       "Dep. Variable:     thread_size_bin_index   No. Observations:                  287\n",
       "Model:                           MNLogit   Df Residuals:                      281\n",
       "Method:                              MLE   Df Model:                            3\n",
       "Date:                   Fri, 02 Feb 2024   Pseudo R-squ.:                 0.01462\n",
       "Time:                           14:46:13   Log-Likelihood:                -381.06\n",
       "converged:                          True   LL-Null:                       -386.71\n",
       "Covariance Type:               nonrobust   LLR p-value:                   0.01017\n",
       "=================================================================================================\n",
       "      thread_size_bin_index=1       coef    std err          z      P>|z|      [0.025      0.975]\n",
       "-------------------------------------------------------------------------------------------------\n",
       "Intercept                         0.9938      0.473      2.101      0.036       0.067       1.921\n",
       "log_author_all_activity_count    -0.1954      0.164     -1.191      0.234      -0.517       0.126\n",
       "-------------------------------------------------------------------------------------------------\n",
       "      thread_size_bin_index=2       coef    std err          z      P>|z|      [0.025      0.975]\n",
       "-------------------------------------------------------------------------------------------------\n",
       "Intercept                         0.2546      0.466      0.547      0.585      -0.658       1.167\n",
       "log_author_all_activity_count     0.1925      0.152      1.266      0.206      -0.106       0.490\n",
       "-------------------------------------------------------------------------------------------------\n",
       "      thread_size_bin_index=3       coef    std err          z      P>|z|      [0.025      0.975]\n",
       "-------------------------------------------------------------------------------------------------\n",
       "Intercept                        -0.2187      0.505     -0.433      0.665      -1.209       0.771\n",
       "log_author_all_activity_count     0.2181      0.163      1.339      0.181      -0.101       0.537\n",
       "=================================================================================================\n",
       "\"\"\""
      ]
     },
     "execution_count": 80,
     "metadata": {},
     "output_type": "execute_result"
    }
   ],
   "source": [
    "smf_mod.summary()"
   ]
  },
  {
   "cell_type": "code",
   "execution_count": 81,
   "metadata": {},
   "outputs": [
    {
     "data": {
      "text/html": [
       "<table class=\"simpletable\">\n",
       "<tr>\n",
       "        <td>Model:</td>               <td>MNLogit</td>        <td>Pseudo R-squared:</td>   <td>0.015</td> \n",
       "</tr>\n",
       "<tr>\n",
       "  <td>Dependent Variable:</td> <td>thread_size_bin_index</td>       <td>AIC:</td>        <td>774.1213</td>\n",
       "</tr>\n",
       "<tr>\n",
       "         <td>Date:</td>          <td>2024-02-02 14:48</td>          <td>BIC:</td>        <td>796.0782</td>\n",
       "</tr>\n",
       "<tr>\n",
       "   <td>No. Observations:</td>           <td>287</td>           <td>Log-Likelihood:</td>   <td>-381.06</td>\n",
       "</tr>\n",
       "<tr>\n",
       "       <td>Df Model:</td>                <td>3</td>               <td>LL-Null:</td>       <td>-386.71</td>\n",
       "</tr>\n",
       "<tr>\n",
       "     <td>Df Residuals:</td>             <td>281</td>            <td>LLR p-value:</td>    <td>0.010175</td>\n",
       "</tr>\n",
       "<tr>\n",
       "      <td>Converged:</td>             <td>1.0000</td>              <td>Scale:</td>        <td>1.0000</td> \n",
       "</tr>\n",
       "<tr>\n",
       "    <td>No. Iterations:</td>          <td>5.0000</td>                 <td></td>              <td></td>    \n",
       "</tr>\n",
       "</table>\n",
       "<table class=\"simpletable\">\n",
       "<tr>\n",
       "    <th>thread_size_bin_index = 0</th>    <th>Coef.</th>  <th>Std.Err.</th>    <th>t</th>     <th>P>|t|</th> <th>[0.025</th>  <th>0.975]</th>\n",
       "</tr>\n",
       "<tr>\n",
       "            <td>Intercept</td>           <td>0.9938</td>   <td>0.4729</td>  <td>2.1015</td>  <td>0.0356</td> <td>0.0669</td>  <td>1.9207</td>\n",
       "</tr>\n",
       "<tr>\n",
       "  <td>log_author_all_activity_count</td> <td>-0.1954</td>  <td>0.1641</td>  <td>-1.1908</td> <td>0.2337</td> <td>-0.5170</td> <td>0.1262</td>\n",
       "</tr>\n",
       "</table>\n",
       "<table class=\"simpletable\">\n",
       "<tr>\n",
       "    <th>thread_size_bin_index = 1</th>    <th>Coef.</th> <th>Std.Err.</th>    <th>t</th>    <th>P>|t|</th> <th>[0.025</th>  <th>0.975]</th>\n",
       "</tr>\n",
       "<tr>\n",
       "            <td>Intercept</td>           <td>0.2546</td>  <td>0.4657</td>  <td>0.5468</td> <td>0.5845</td> <td>-0.6582</td> <td>1.1675</td>\n",
       "</tr>\n",
       "<tr>\n",
       "  <td>log_author_all_activity_count</td> <td>0.1925</td>  <td>0.1520</td>  <td>1.2660</td> <td>0.2055</td> <td>-0.1055</td> <td>0.4905</td>\n",
       "</tr>\n",
       "</table>\n",
       "<table class=\"simpletable\">\n",
       "<tr>\n",
       "    <th>thread_size_bin_index = 2</th>    <th>Coef.</th>  <th>Std.Err.</th>    <th>t</th>     <th>P>|t|</th> <th>[0.025</th>  <th>0.975]</th>\n",
       "</tr>\n",
       "<tr>\n",
       "            <td>Intercept</td>           <td>-0.2187</td>  <td>0.5051</td>  <td>-0.4330</td> <td>0.6650</td> <td>-1.2086</td> <td>0.7713</td>\n",
       "</tr>\n",
       "<tr>\n",
       "  <td>log_author_all_activity_count</td> <td>0.2181</td>   <td>0.1629</td>  <td>1.3388</td>  <td>0.1806</td> <td>-0.1012</td> <td>0.5374</td>\n",
       "</tr>\n",
       "</table>"
      ],
      "text/plain": [
       "<class 'statsmodels.iolib.summary2.Summary'>\n",
       "\"\"\"\n",
       "                              Results: MNLogit\n",
       "============================================================================\n",
       "Model:                  MNLogit                 Pseudo R-squared:   0.015   \n",
       "Dependent Variable:     thread_size_bin_index   AIC:                774.1213\n",
       "Date:                   2024-02-02 14:48        BIC:                796.0782\n",
       "No. Observations:       287                     Log-Likelihood:     -381.06 \n",
       "Df Model:               3                       LL-Null:            -386.71 \n",
       "Df Residuals:           281                     LLR p-value:        0.010175\n",
       "Converged:              1.0000                  Scale:              1.0000  \n",
       "No. Iterations:         5.0000                                              \n",
       "----------------------------------------------------------------------------\n",
       "  thread_size_bin_index = 0    Coef.  Std.Err.    t    P>|t|   [0.025 0.975]\n",
       "----------------------------------------------------------------------------\n",
       "                    Intercept  0.9938   0.4729  2.1015 0.0356  0.0669 1.9207\n",
       "log_author_all_activity_count -0.1954   0.1641 -1.1908 0.2337 -0.5170 0.1262\n",
       "----------------------------------------------------------------------------\n",
       "   thread_size_bin_index = 1    Coef.  Std.Err.   t    P>|t|   [0.025 0.975]\n",
       "----------------------------------------------------------------------------\n",
       "                    Intercept   0.2546   0.4657 0.5468 0.5845 -0.6582 1.1675\n",
       "log_author_all_activity_count   0.1925   0.1520 1.2660 0.2055 -0.1055 0.4905\n",
       "----------------------------------------------------------------------------\n",
       "  thread_size_bin_index = 2    Coef.  Std.Err.    t    P>|t|   [0.025 0.975]\n",
       "----------------------------------------------------------------------------\n",
       "                    Intercept -0.2187   0.5051 -0.4330 0.6650 -1.2086 0.7713\n",
       "log_author_all_activity_count  0.2181   0.1629  1.3388 0.1806 -0.1012 0.5374\n",
       "============================================================================\n",
       "\n",
       "\"\"\""
      ]
     },
     "execution_count": 81,
     "metadata": {},
     "output_type": "execute_result"
    }
   ],
   "source": [
    "smf_mod.summary2()"
   ]
  },
  {
   "cell_type": "code",
   "execution_count": 67,
   "metadata": {},
   "outputs": [],
   "source": [
    "smf_predicted_success_probabilities = pd.DataFrame(smf_mod.predict())\n",
    "skl_predicted_success_probabilities = pd.DataFrame(skl_mod.predict_proba(x_data))\n",
    "skl_ovr_predicted_success_probabilities = pd.DataFrame(skl_ovr_mod.predict_proba(x_data))"
   ]
  },
  {
   "cell_type": "code",
   "execution_count": 91,
   "metadata": {},
   "outputs": [],
   "source": [
    "smf_v_skl = abs(smf_predicted_success_probabilities - skl_predicted_success_probabilities).max()\n",
    "smf_v_skl_ovr = abs(smf_predicted_success_probabilities - skl_ovr_predicted_success_probabilities).max()\n",
    "skl_v_skl_ovr = abs(skl_predicted_success_probabilities-skl_ovr_predicted_success_probabilities).max()"
   ]
  },
  {
   "cell_type": "code",
   "execution_count": 98,
   "metadata": {},
   "outputs": [
    {
     "data": {
      "text/html": [
       "<div>\n",
       "<style scoped>\n",
       "    .dataframe tbody tr th:only-of-type {\n",
       "        vertical-align: middle;\n",
       "    }\n",
       "\n",
       "    .dataframe tbody tr th {\n",
       "        vertical-align: top;\n",
       "    }\n",
       "\n",
       "    .dataframe thead th {\n",
       "        text-align: right;\n",
       "    }\n",
       "</style>\n",
       "<table border=\"1\" class=\"dataframe\">\n",
       "  <thead>\n",
       "    <tr style=\"text-align: right;\">\n",
       "      <th>class</th>\n",
       "      <th>0</th>\n",
       "      <th>1</th>\n",
       "      <th>2</th>\n",
       "      <th>3</th>\n",
       "    </tr>\n",
       "    <tr>\n",
       "      <th>predicted prob diff</th>\n",
       "      <th></th>\n",
       "      <th></th>\n",
       "      <th></th>\n",
       "      <th></th>\n",
       "    </tr>\n",
       "  </thead>\n",
       "  <tbody>\n",
       "    <tr>\n",
       "      <th>max(|smf-skl|)</th>\n",
       "      <td>0.000432</td>\n",
       "      <td>0.001255</td>\n",
       "      <td>0.000685</td>\n",
       "      <td>0.000964</td>\n",
       "    </tr>\n",
       "    <tr>\n",
       "      <th>max(|smf-skl_ovr|)</th>\n",
       "      <td>0.003298</td>\n",
       "      <td>0.006333</td>\n",
       "      <td>0.002753</td>\n",
       "      <td>0.002357</td>\n",
       "    </tr>\n",
       "    <tr>\n",
       "      <th>max(|skl-skl_ovr|)</th>\n",
       "      <td>0.002866</td>\n",
       "      <td>0.005078</td>\n",
       "      <td>0.002068</td>\n",
       "      <td>0.001649</td>\n",
       "    </tr>\n",
       "  </tbody>\n",
       "</table>\n",
       "</div>"
      ],
      "text/plain": [
       "class                       0         1         2         3\n",
       "predicted prob diff                                        \n",
       "max(|smf-skl|)       0.000432  0.001255  0.000685  0.000964\n",
       "max(|smf-skl_ovr|)   0.003298  0.006333  0.002753  0.002357\n",
       "max(|skl-skl_ovr|)   0.002866  0.005078  0.002068  0.001649"
      ]
     },
     "execution_count": 98,
     "metadata": {},
     "output_type": "execute_result"
    }
   ],
   "source": [
    "max_diff_df = pd.DataFrame(data = [smf_v_skl, smf_v_skl_ovr, skl_v_skl_ovr], index=['max(|smf-skl|)','max(|smf-skl_ovr|)', 'max(|skl-skl_ovr|)'])\n",
    "max_diff_df.columns.name = 'class'\n",
    "max_diff_df.index.name = 'predicted prob diff'\n",
    "max_diff_df"
   ]
  },
  {
   "cell_type": "code",
   "execution_count": 27,
   "metadata": {},
   "outputs": [
    {
     "data": {
      "text/html": [
       "<div>\n",
       "<style scoped>\n",
       "    .dataframe tbody tr th:only-of-type {\n",
       "        vertical-align: middle;\n",
       "    }\n",
       "\n",
       "    .dataframe tbody tr th {\n",
       "        vertical-align: top;\n",
       "    }\n",
       "\n",
       "    .dataframe thead th {\n",
       "        text-align: right;\n",
       "    }\n",
       "</style>\n",
       "<table border=\"1\" class=\"dataframe\">\n",
       "  <thead>\n",
       "    <tr style=\"text-align: right;\">\n",
       "      <th></th>\n",
       "      <th>0</th>\n",
       "      <th>1</th>\n",
       "      <th>2</th>\n",
       "      <th>3</th>\n",
       "    </tr>\n",
       "  </thead>\n",
       "  <tbody>\n",
       "    <tr>\n",
       "      <th>0</th>\n",
       "      <td>0.172577</td>\n",
       "      <td>0.376150</td>\n",
       "      <td>0.275047</td>\n",
       "      <td>0.176226</td>\n",
       "    </tr>\n",
       "    <tr>\n",
       "      <th>1</th>\n",
       "      <td>0.168025</td>\n",
       "      <td>0.310344</td>\n",
       "      <td>0.315226</td>\n",
       "      <td>0.206405</td>\n",
       "    </tr>\n",
       "    <tr>\n",
       "      <th>2</th>\n",
       "      <td>0.136378</td>\n",
       "      <td>0.152922</td>\n",
       "      <td>0.418284</td>\n",
       "      <td>0.292416</td>\n",
       "    </tr>\n",
       "    <tr>\n",
       "      <th>3</th>\n",
       "      <td>0.165021</td>\n",
       "      <td>0.284275</td>\n",
       "      <td>0.331590</td>\n",
       "      <td>0.219114</td>\n",
       "    </tr>\n",
       "    <tr>\n",
       "      <th>4</th>\n",
       "      <td>0.138206</td>\n",
       "      <td>0.158581</td>\n",
       "      <td>0.414391</td>\n",
       "      <td>0.288821</td>\n",
       "    </tr>\n",
       "    <tr>\n",
       "      <th>...</th>\n",
       "      <td>...</td>\n",
       "      <td>...</td>\n",
       "      <td>...</td>\n",
       "      <td>...</td>\n",
       "    </tr>\n",
       "    <tr>\n",
       "      <th>282</th>\n",
       "      <td>0.170287</td>\n",
       "      <td>0.335897</td>\n",
       "      <td>0.299435</td>\n",
       "      <td>0.194381</td>\n",
       "    </tr>\n",
       "    <tr>\n",
       "      <th>283</th>\n",
       "      <td>0.172577</td>\n",
       "      <td>0.376150</td>\n",
       "      <td>0.275047</td>\n",
       "      <td>0.176226</td>\n",
       "    </tr>\n",
       "    <tr>\n",
       "      <th>284</th>\n",
       "      <td>0.170287</td>\n",
       "      <td>0.335897</td>\n",
       "      <td>0.299435</td>\n",
       "      <td>0.194381</td>\n",
       "    </tr>\n",
       "    <tr>\n",
       "      <th>285</th>\n",
       "      <td>0.148144</td>\n",
       "      <td>0.193704</td>\n",
       "      <td>0.390563</td>\n",
       "      <td>0.267589</td>\n",
       "    </tr>\n",
       "    <tr>\n",
       "      <th>286</th>\n",
       "      <td>0.142838</td>\n",
       "      <td>0.173943</td>\n",
       "      <td>0.403899</td>\n",
       "      <td>0.279320</td>\n",
       "    </tr>\n",
       "  </tbody>\n",
       "</table>\n",
       "<p>287 rows × 4 columns</p>\n",
       "</div>"
      ],
      "text/plain": [
       "            0         1         2         3\n",
       "0    0.172577  0.376150  0.275047  0.176226\n",
       "1    0.168025  0.310344  0.315226  0.206405\n",
       "2    0.136378  0.152922  0.418284  0.292416\n",
       "3    0.165021  0.284275  0.331590  0.219114\n",
       "4    0.138206  0.158581  0.414391  0.288821\n",
       "..        ...       ...       ...       ...\n",
       "282  0.170287  0.335897  0.299435  0.194381\n",
       "283  0.172577  0.376150  0.275047  0.176226\n",
       "284  0.170287  0.335897  0.299435  0.194381\n",
       "285  0.148144  0.193704  0.390563  0.267589\n",
       "286  0.142838  0.173943  0.403899  0.279320\n",
       "\n",
       "[287 rows x 4 columns]"
      ]
     },
     "execution_count": 27,
     "metadata": {},
     "output_type": "execute_result"
    }
   ],
   "source": [
    "smf_predicted_success_probabilities"
   ]
  },
  {
   "cell_type": "code",
   "execution_count": 28,
   "metadata": {},
   "outputs": [
    {
     "data": {
      "text/html": [
       "<div>\n",
       "<style scoped>\n",
       "    .dataframe tbody tr th:only-of-type {\n",
       "        vertical-align: middle;\n",
       "    }\n",
       "\n",
       "    .dataframe tbody tr th {\n",
       "        vertical-align: top;\n",
       "    }\n",
       "\n",
       "    .dataframe thead th {\n",
       "        text-align: right;\n",
       "    }\n",
       "</style>\n",
       "<table border=\"1\" class=\"dataframe\">\n",
       "  <thead>\n",
       "    <tr style=\"text-align: right;\">\n",
       "      <th></th>\n",
       "      <th>0</th>\n",
       "      <th>1</th>\n",
       "      <th>2</th>\n",
       "      <th>3</th>\n",
       "    </tr>\n",
       "  </thead>\n",
       "  <tbody>\n",
       "    <tr>\n",
       "      <th>0</th>\n",
       "      <td>0.172439</td>\n",
       "      <td>0.374895</td>\n",
       "      <td>0.275732</td>\n",
       "      <td>0.176935</td>\n",
       "    </tr>\n",
       "    <tr>\n",
       "      <th>1</th>\n",
       "      <td>0.167891</td>\n",
       "      <td>0.309818</td>\n",
       "      <td>0.315516</td>\n",
       "      <td>0.206774</td>\n",
       "    </tr>\n",
       "    <tr>\n",
       "      <th>2</th>\n",
       "      <td>0.136631</td>\n",
       "      <td>0.153826</td>\n",
       "      <td>0.417791</td>\n",
       "      <td>0.291752</td>\n",
       "    </tr>\n",
       "    <tr>\n",
       "      <th>3</th>\n",
       "      <td>0.164914</td>\n",
       "      <td>0.284030</td>\n",
       "      <td>0.331724</td>\n",
       "      <td>0.219333</td>\n",
       "    </tr>\n",
       "    <tr>\n",
       "      <th>4</th>\n",
       "      <td>0.138436</td>\n",
       "      <td>0.159451</td>\n",
       "      <td>0.413914</td>\n",
       "      <td>0.288199</td>\n",
       "    </tr>\n",
       "    <tr>\n",
       "      <th>...</th>\n",
       "      <td>...</td>\n",
       "      <td>...</td>\n",
       "      <td>...</td>\n",
       "      <td>...</td>\n",
       "    </tr>\n",
       "    <tr>\n",
       "      <th>282</th>\n",
       "      <td>0.170141</td>\n",
       "      <td>0.335089</td>\n",
       "      <td>0.299880</td>\n",
       "      <td>0.194890</td>\n",
       "    </tr>\n",
       "    <tr>\n",
       "      <th>283</th>\n",
       "      <td>0.172439</td>\n",
       "      <td>0.374895</td>\n",
       "      <td>0.275732</td>\n",
       "      <td>0.176935</td>\n",
       "    </tr>\n",
       "    <tr>\n",
       "      <th>284</th>\n",
       "      <td>0.170141</td>\n",
       "      <td>0.335089</td>\n",
       "      <td>0.299880</td>\n",
       "      <td>0.194890</td>\n",
       "    </tr>\n",
       "    <tr>\n",
       "      <th>285</th>\n",
       "      <td>0.148245</td>\n",
       "      <td>0.194323</td>\n",
       "      <td>0.390214</td>\n",
       "      <td>0.267218</td>\n",
       "    </tr>\n",
       "    <tr>\n",
       "      <th>286</th>\n",
       "      <td>0.143008</td>\n",
       "      <td>0.174712</td>\n",
       "      <td>0.403471</td>\n",
       "      <td>0.278809</td>\n",
       "    </tr>\n",
       "  </tbody>\n",
       "</table>\n",
       "<p>287 rows × 4 columns</p>\n",
       "</div>"
      ],
      "text/plain": [
       "            0         1         2         3\n",
       "0    0.172439  0.374895  0.275732  0.176935\n",
       "1    0.167891  0.309818  0.315516  0.206774\n",
       "2    0.136631  0.153826  0.417791  0.291752\n",
       "3    0.164914  0.284030  0.331724  0.219333\n",
       "4    0.138436  0.159451  0.413914  0.288199\n",
       "..        ...       ...       ...       ...\n",
       "282  0.170141  0.335089  0.299880  0.194890\n",
       "283  0.172439  0.374895  0.275732  0.176935\n",
       "284  0.170141  0.335089  0.299880  0.194890\n",
       "285  0.148245  0.194323  0.390214  0.267218\n",
       "286  0.143008  0.174712  0.403471  0.278809\n",
       "\n",
       "[287 rows x 4 columns]"
      ]
     },
     "execution_count": 28,
     "metadata": {},
     "output_type": "execute_result"
    }
   ],
   "source": [
    "skl_predicted_success_probabilities"
   ]
  },
  {
   "cell_type": "code",
   "execution_count": 68,
   "metadata": {},
   "outputs": [
    {
     "data": {
      "text/html": [
       "<div>\n",
       "<style scoped>\n",
       "    .dataframe tbody tr th:only-of-type {\n",
       "        vertical-align: middle;\n",
       "    }\n",
       "\n",
       "    .dataframe tbody tr th {\n",
       "        vertical-align: top;\n",
       "    }\n",
       "\n",
       "    .dataframe thead th {\n",
       "        text-align: right;\n",
       "    }\n",
       "</style>\n",
       "<table border=\"1\" class=\"dataframe\">\n",
       "  <thead>\n",
       "    <tr style=\"text-align: right;\">\n",
       "      <th></th>\n",
       "      <th>0</th>\n",
       "      <th>1</th>\n",
       "      <th>2</th>\n",
       "      <th>3</th>\n",
       "    </tr>\n",
       "  </thead>\n",
       "  <tbody>\n",
       "    <tr>\n",
       "      <th>0</th>\n",
       "      <td>0.173800</td>\n",
       "      <td>0.369817</td>\n",
       "      <td>0.277800</td>\n",
       "      <td>0.178583</td>\n",
       "    </tr>\n",
       "    <tr>\n",
       "      <th>1</th>\n",
       "      <td>0.167186</td>\n",
       "      <td>0.310411</td>\n",
       "      <td>0.315585</td>\n",
       "      <td>0.206818</td>\n",
       "    </tr>\n",
       "    <tr>\n",
       "      <th>2</th>\n",
       "      <td>0.137678</td>\n",
       "      <td>0.153417</td>\n",
       "      <td>0.417377</td>\n",
       "      <td>0.291528</td>\n",
       "    </tr>\n",
       "    <tr>\n",
       "      <th>3</th>\n",
       "      <td>0.163889</td>\n",
       "      <td>0.285741</td>\n",
       "      <td>0.331371</td>\n",
       "      <td>0.218999</td>\n",
       "    </tr>\n",
       "    <tr>\n",
       "      <th>4</th>\n",
       "      <td>0.139272</td>\n",
       "      <td>0.159317</td>\n",
       "      <td>0.413489</td>\n",
       "      <td>0.287921</td>\n",
       "    </tr>\n",
       "    <tr>\n",
       "      <th>...</th>\n",
       "      <td>...</td>\n",
       "      <td>...</td>\n",
       "      <td>...</td>\n",
       "      <td>...</td>\n",
       "    </tr>\n",
       "    <tr>\n",
       "      <th>282</th>\n",
       "      <td>0.170014</td>\n",
       "      <td>0.333977</td>\n",
       "      <td>0.300562</td>\n",
       "      <td>0.195448</td>\n",
       "    </tr>\n",
       "    <tr>\n",
       "      <th>283</th>\n",
       "      <td>0.173800</td>\n",
       "      <td>0.369817</td>\n",
       "      <td>0.277800</td>\n",
       "      <td>0.178583</td>\n",
       "    </tr>\n",
       "    <tr>\n",
       "      <th>284</th>\n",
       "      <td>0.170014</td>\n",
       "      <td>0.333977</td>\n",
       "      <td>0.300562</td>\n",
       "      <td>0.195448</td>\n",
       "    </tr>\n",
       "    <tr>\n",
       "      <th>285</th>\n",
       "      <td>0.148020</td>\n",
       "      <td>0.195660</td>\n",
       "      <td>0.389654</td>\n",
       "      <td>0.266667</td>\n",
       "    </tr>\n",
       "    <tr>\n",
       "      <th>286</th>\n",
       "      <td>0.143328</td>\n",
       "      <td>0.175280</td>\n",
       "      <td>0.402997</td>\n",
       "      <td>0.278396</td>\n",
       "    </tr>\n",
       "  </tbody>\n",
       "</table>\n",
       "<p>287 rows × 4 columns</p>\n",
       "</div>"
      ],
      "text/plain": [
       "            0         1         2         3\n",
       "0    0.173800  0.369817  0.277800  0.178583\n",
       "1    0.167186  0.310411  0.315585  0.206818\n",
       "2    0.137678  0.153417  0.417377  0.291528\n",
       "3    0.163889  0.285741  0.331371  0.218999\n",
       "4    0.139272  0.159317  0.413489  0.287921\n",
       "..        ...       ...       ...       ...\n",
       "282  0.170014  0.333977  0.300562  0.195448\n",
       "283  0.173800  0.369817  0.277800  0.178583\n",
       "284  0.170014  0.333977  0.300562  0.195448\n",
       "285  0.148020  0.195660  0.389654  0.266667\n",
       "286  0.143328  0.175280  0.402997  0.278396\n",
       "\n",
       "[287 rows x 4 columns]"
      ]
     },
     "execution_count": 68,
     "metadata": {},
     "output_type": "execute_result"
    }
   ],
   "source": [
    "skl_ovr_predicted_success_probabilities"
   ]
  },
  {
   "cell_type": "markdown",
   "metadata": {},
   "source": [
    "Predicted probabilities are exactly the same!"
   ]
  },
  {
   "cell_type": "code",
   "execution_count": 99,
   "metadata": {},
   "outputs": [],
   "source": [
    "def assign_success_from_quartile(value, quartile_index):\n",
    "    if value == quartile_index:\n",
    "        return 1\n",
    "    else:\n",
    "        return 0"
   ]
  },
  {
   "cell_type": "code",
   "execution_count": 100,
   "metadata": {},
   "outputs": [],
   "source": [
    "def get_success_prediction_for_quartile(df, quartile_index):\n",
    "    return df.loc[:, quartile_index]"
   ]
  },
  {
   "cell_type": "code",
   "execution_count": 116,
   "metadata": {},
   "outputs": [
    {
     "data": {
      "image/png": "[encoded data removed]",
      "text/plain": [
       "<Figure size 640x480 with 1 Axes>"
      ]
     },
     "metadata": {},
     "output_type": "display_data"
    }
   ],
   "source": [
    "fig, ax = plt.subplots(1)\n",
    "plt_colours = list(mcolors.TABLEAU_COLORS.keys())\n",
    "predictions = pd.DataFrame(smf_mod.predict())\n",
    "success_data = []\n",
    "success_prediction = []\n",
    "auc_vals = []\n",
    "for i in range(0,4):\n",
    "    success_data.append(test_mnlogit.regression_model_data.thread_size_bin_index.apply(assign_success_from_quartile, quartile_index=i))\n",
    "    success_prediction.append(get_success_prediction_for_quartile(predictions, i))\n",
    "    auc_vals.append(\n",
    "        metrics.roc_auc_score(success_data[i], success_prediction[i])\n",
    "    )\n",
    "\n",
    "    metrics.RocCurveDisplay.from_predictions(success_data[i], success_prediction[i], ax=ax, label=f'class {i}', color=plt_colours[i])\n",
    "\n",
    "fig.legend()\n",
    "\n",
    "plt.show()"
   ]
  },
  {
   "cell_type": "code",
   "execution_count": 104,
   "metadata": {},
   "outputs": [
    {
     "data": {
      "text/plain": [
       "[0.5251606978879705,\n",
       " 0.6187427986173345,\n",
       " 0.5648887469392101,\n",
       " 0.5611066344345957]"
      ]
     },
     "execution_count": 104,
     "metadata": {},
     "output_type": "execute_result"
    }
   ],
   "source": [
    "auc_vals"
   ]
  },
  {
   "cell_type": "code",
   "execution_count": 91,
   "metadata": {},
   "outputs": [],
   "source": [
    "mean_auc = np.array(auc_vals).mean()"
   ]
  },
  {
   "cell_type": "code",
   "execution_count": 92,
   "metadata": {},
   "outputs": [
    {
     "data": {
      "text/plain": [
       "0.5674747194697777"
      ]
     },
     "execution_count": 92,
     "metadata": {},
     "output_type": "execute_result"
    }
   ],
   "source": [
    "mean_auc"
   ]
  },
  {
   "cell_type": "code",
   "execution_count": 119,
   "metadata": {},
   "outputs": [
    {
     "data": {
      "text/html": [
       "<div>\n",
       "<style scoped>\n",
       "    .dataframe tbody tr th:only-of-type {\n",
       "        vertical-align: middle;\n",
       "    }\n",
       "\n",
       "    .dataframe tbody tr th {\n",
       "        vertical-align: top;\n",
       "    }\n",
       "\n",
       "    .dataframe thead th {\n",
       "        text-align: right;\n",
       "    }\n",
       "</style>\n",
       "<table border=\"1\" class=\"dataframe\">\n",
       "  <thead>\n",
       "    <tr style=\"text-align: right;\">\n",
       "      <th></th>\n",
       "      <th>0</th>\n",
       "      <th>1</th>\n",
       "      <th>2</th>\n",
       "      <th>3</th>\n",
       "    </tr>\n",
       "  </thead>\n",
       "  <tbody>\n",
       "    <tr>\n",
       "      <th>0</th>\n",
       "      <td>0.172577</td>\n",
       "      <td>0.376150</td>\n",
       "      <td>0.275047</td>\n",
       "      <td>0.176226</td>\n",
       "    </tr>\n",
       "    <tr>\n",
       "      <th>1</th>\n",
       "      <td>0.168025</td>\n",
       "      <td>0.310344</td>\n",
       "      <td>0.315226</td>\n",
       "      <td>0.206405</td>\n",
       "    </tr>\n",
       "    <tr>\n",
       "      <th>2</th>\n",
       "      <td>0.136378</td>\n",
       "      <td>0.152922</td>\n",
       "      <td>0.418284</td>\n",
       "      <td>0.292416</td>\n",
       "    </tr>\n",
       "    <tr>\n",
       "      <th>3</th>\n",
       "      <td>0.165021</td>\n",
       "      <td>0.284275</td>\n",
       "      <td>0.331590</td>\n",
       "      <td>0.219114</td>\n",
       "    </tr>\n",
       "    <tr>\n",
       "      <th>4</th>\n",
       "      <td>0.138206</td>\n",
       "      <td>0.158581</td>\n",
       "      <td>0.414391</td>\n",
       "      <td>0.288821</td>\n",
       "    </tr>\n",
       "    <tr>\n",
       "      <th>...</th>\n",
       "      <td>...</td>\n",
       "      <td>...</td>\n",
       "      <td>...</td>\n",
       "      <td>...</td>\n",
       "    </tr>\n",
       "    <tr>\n",
       "      <th>282</th>\n",
       "      <td>0.170287</td>\n",
       "      <td>0.335897</td>\n",
       "      <td>0.299435</td>\n",
       "      <td>0.194381</td>\n",
       "    </tr>\n",
       "    <tr>\n",
       "      <th>283</th>\n",
       "      <td>0.172577</td>\n",
       "      <td>0.376150</td>\n",
       "      <td>0.275047</td>\n",
       "      <td>0.176226</td>\n",
       "    </tr>\n",
       "    <tr>\n",
       "      <th>284</th>\n",
       "      <td>0.170287</td>\n",
       "      <td>0.335897</td>\n",
       "      <td>0.299435</td>\n",
       "      <td>0.194381</td>\n",
       "    </tr>\n",
       "    <tr>\n",
       "      <th>285</th>\n",
       "      <td>0.148144</td>\n",
       "      <td>0.193704</td>\n",
       "      <td>0.390563</td>\n",
       "      <td>0.267589</td>\n",
       "    </tr>\n",
       "    <tr>\n",
       "      <th>286</th>\n",
       "      <td>0.142838</td>\n",
       "      <td>0.173943</td>\n",
       "      <td>0.403899</td>\n",
       "      <td>0.279320</td>\n",
       "    </tr>\n",
       "  </tbody>\n",
       "</table>\n",
       "<p>287 rows × 4 columns</p>\n",
       "</div>"
      ],
      "text/plain": [
       "            0         1         2         3\n",
       "0    0.172577  0.376150  0.275047  0.176226\n",
       "1    0.168025  0.310344  0.315226  0.206405\n",
       "2    0.136378  0.152922  0.418284  0.292416\n",
       "3    0.165021  0.284275  0.331590  0.219114\n",
       "4    0.138206  0.158581  0.414391  0.288821\n",
       "..        ...       ...       ...       ...\n",
       "282  0.170287  0.335897  0.299435  0.194381\n",
       "283  0.172577  0.376150  0.275047  0.176226\n",
       "284  0.170287  0.335897  0.299435  0.194381\n",
       "285  0.148144  0.193704  0.390563  0.267589\n",
       "286  0.142838  0.173943  0.403899  0.279320\n",
       "\n",
       "[287 rows x 4 columns]"
      ]
     },
     "execution_count": 119,
     "metadata": {},
     "output_type": "execute_result"
    }
   ],
   "source": [
    "predictions"
   ]
  },
  {
   "cell_type": "code",
   "execution_count": 124,
   "metadata": {},
   "outputs": [],
   "source": [
    "predicted_classes = predictions.idxmax(axis=1)\n",
    "actual_classes = test_mnlogit.regression_model_data.thread_size_bin_index.reset_index(drop=True)"
   ]
  },
  {
   "cell_type": "code",
   "execution_count": 130,
   "metadata": {},
   "outputs": [
    {
     "data": {
      "text/plain": [
       "False    176\n",
       "True     111\n",
       "dtype: int64"
      ]
     },
     "execution_count": 130,
     "metadata": {},
     "output_type": "execute_result"
    }
   ],
   "source": [
    "predicted_value_counts = (predicted_classes == actual_classes).value_counts()\n",
    "predicted_value_counts"
   ]
  },
  {
   "cell_type": "code",
   "execution_count": 137,
   "metadata": {},
   "outputs": [
    {
     "data": {
      "text/plain": [
       "0.3867595818815331"
      ]
     },
     "execution_count": 137,
     "metadata": {},
     "output_type": "execute_result"
    }
   ],
   "source": [
    "predicted_value_counts.loc[True]/predicted_value_counts.sum()"
   ]
  },
  {
   "cell_type": "code",
   "execution_count": 128,
   "metadata": {},
   "outputs": [
    {
     "data": {
      "text/plain": [
       "array([1, 2], dtype=int64)"
      ]
     },
     "execution_count": 128,
     "metadata": {},
     "output_type": "execute_result"
    }
   ],
   "source": [
    "predicted_classes.unique()"
   ]
  },
  {
   "cell_type": "code",
   "execution_count": 129,
   "metadata": {},
   "outputs": [
    {
     "data": {
      "text/plain": [
       "array([3, 0, 2, 1], dtype=int64)"
      ]
     },
     "execution_count": 129,
     "metadata": {},
     "output_type": "execute_result"
    }
   ],
   "source": [
    "actual_classes.unique()"
   ]
  },
  {
   "cell_type": "code",
   "execution_count": 140,
   "metadata": {},
   "outputs": [],
   "source": [
    "modstring = \"thread_size_bin_index ~ log_author_all_activity_count + activity_ratio + mean_author_sentiment_sign + mean_author_sentiment_magnitude\""
   ]
  },
  {
   "cell_type": "code",
   "execution_count": 141,
   "metadata": {},
   "outputs": [
    {
     "name": "stdout",
     "output_type": "stream",
     "text": [
      "Optimization terminated successfully.\n",
      "         Current function value: 1.302015\n",
      "         Iterations 5\n"
     ]
    }
   ],
   "source": [
    "smf_mod = smf.mnlogit(modstring, data=test_mnlogit.regression_model_data).fit()"
   ]
  },
  {
   "cell_type": "code",
   "execution_count": 142,
   "metadata": {},
   "outputs": [
    {
     "data": {
      "image/png": "[encoded data removed]",
      "text/plain": [
       "<Figure size 640x480 with 1 Axes>"
      ]
     },
     "metadata": {},
     "output_type": "display_data"
    }
   ],
   "source": [
    "fig, ax = plt.subplots(1)\n",
    "plt_colours = list(mcolors.TABLEAU_COLORS.keys())\n",
    "predictions = pd.DataFrame(smf_mod.predict())\n",
    "success_data = []\n",
    "success_prediction = []\n",
    "auc_vals = []\n",
    "for i in range(0,4):\n",
    "    success_data.append(test_mnlogit.regression_model_data.thread_size_bin_index.apply(assign_success_from_quartile, quartile_index=i))\n",
    "    success_prediction.append(get_success_prediction_for_quartile(predictions, i))\n",
    "    auc_vals.append(\n",
    "        metrics.roc_auc_score(success_data[i], success_prediction[i])\n",
    "    )\n",
    "\n",
    "    metrics.RocCurveDisplay.from_predictions(success_data[i], success_prediction[i], ax=ax, label=f'class {i}', color=plt_colours[i])\n",
    "\n",
    "fig.legend()\n",
    "\n",
    "plt.show()"
   ]
  },
  {
   "cell_type": "code",
   "execution_count": 143,
   "metadata": {},
   "outputs": [
    {
     "data": {
      "text/plain": [
       "[0.5702020202020202,\n",
       " 0.6573422097042633,\n",
       " 0.6059831789630575,\n",
       " 0.5827625570776256]"
      ]
     },
     "execution_count": 143,
     "metadata": {},
     "output_type": "execute_result"
    }
   ],
   "source": [
    "auc_vals"
   ]
  },
  {
   "cell_type": "code",
   "execution_count": 144,
   "metadata": {},
   "outputs": [
    {
     "data": {
      "text/plain": [
       "0.4146341463414634"
      ]
     },
     "execution_count": 144,
     "metadata": {},
     "output_type": "execute_result"
    }
   ],
   "source": [
    "predicted_classes = predictions.idxmax(axis=1)\n",
    "actual_classes = test_mnlogit.regression_model_data.thread_size_bin_index.reset_index(drop=True)\n",
    "predicted_value_counts = (predicted_classes == actual_classes).value_counts()\n",
    "predicted_value_counts.loc[True]/predicted_value_counts.sum()"
   ]
  },
  {
   "cell_type": "code",
   "execution_count": 146,
   "metadata": {},
   "outputs": [
    {
     "data": {
      "text/plain": [
       "array([1, 2, 3], dtype=int64)"
      ]
     },
     "execution_count": 146,
     "metadata": {},
     "output_type": "execute_result"
    }
   ],
   "source": [
    "predicted_classes.unique()"
   ]
  },
  {
   "cell_type": "code",
   "execution_count": null,
   "metadata": {},
   "outputs": [],
   "source": []
  }
 ],
 "metadata": {
  "kernelspec": {
   "display_name": "redditenv",
   "language": "python",
   "name": "python3"
  },
  "language_info": {
   "codemirror_mode": {
    "name": "ipython",
    "version": 3
   },
   "file_extension": ".py",
   "mimetype": "text/x-python",
   "name": "python",
   "nbconvert_exporter": "python",
   "pygments_lexer": "ipython3",
   "version": "3.10.9"
  }
 },
 "nbformat": 4,
 "nbformat_minor": 2
}
