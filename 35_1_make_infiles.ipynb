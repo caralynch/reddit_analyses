{
 "cells": [
  {
   "cell_type": "code",
   "execution_count": 1,
   "metadata": {},
   "outputs": [],
   "source": [
    "# custom imports\n",
    "from regression_class import RedditRegression as RR\n",
    "\n",
    "# data saving imports\n",
    "import pickle\n",
    "import os\n",
    "\n",
    "# time tracking\n",
    "from datetime import datetime as dt"
   ]
  },
  {
   "cell_type": "code",
   "execution_count": 2,
   "metadata": {},
   "outputs": [],
   "source": [
    "# TESTING\n",
    "TEST_INFILE = \"test_data_4_days.p\"\n",
    "test_data = pickle.load(open(TEST_INFILE, 'rb'))\n",
    "regression_df = test_data[\"regression_data\"]\n",
    "thread_df = test_data[\"all_data\"]\n",
    "\n",
    "# REGRESSION_INFILE = \"regression_thread_data.p\"\n",
    "# THREAD_INFILE = \"clean_5_thread_data.p\"\n",
    "# regression_df = pickle.load(open(REGRESSION_INFILE, \"rb\"))\n",
    "# thread_df = pickle.load(open(THREAD_INFILE, \"rb\"))\n",
    "\n"
   ]
  },
  {
   "cell_type": "code",
   "execution_count": 3,
   "metadata": {},
   "outputs": [],
   "source": [
    "# subreddits to look at\n",
    "subreddits = [\"books\", \"crypto\", \"conspiracy\", \"politics\"]\n",
    "\n",
    "# regression types to run\n",
    "regression_types = [\"logistic\", \"linear\", \"mnlogit\"]"
   ]
  },
  {
   "cell_type": "code",
   "execution_count": 4,
   "metadata": {},
   "outputs": [],
   "source": [
    "params = RR.create_param_dict(\"books\", \"logistic\", regression_df[\"books\"], thread_df[\"books\"], model_window=2, collection_window=1, validation_window=1)"
   ]
  },
  {
   "cell_type": "code",
   "execution_count": 5,
   "metadata": {},
   "outputs": [
    {
     "name": "stderr",
     "output_type": "stream",
     "text": [
      "regression_class_books_logistic - INFO - Running FSS\n",
      "regression_class_books_logistic - INFO - Model 1\n",
      "regression_class_books_logistic - INFO - Model 2\n",
      "regression_class_books_logistic - INFO - Model 3\n",
      "regression_class_books_logistic - INFO - Model 4\n",
      "regression_class_books_logistic - INFO - Model 5\n",
      "regression_class_books_logistic - INFO - Model 6\n",
      "regression_class_books_logistic - INFO - Model 7\n",
      "regression_class_books_logistic - INFO - Model 8\n"
     ]
    }
   ],
   "source": [
    "rreg = RR(params)\n",
    "rreg.main()"
   ]
  },
  {
   "cell_type": "code",
   "execution_count": 11,
   "metadata": {},
   "outputs": [
    {
     "data": {
      "text/html": [
       "<div>\n",
       "<style scoped>\n",
       "    .dataframe tbody tr th:only-of-type {\n",
       "        vertical-align: middle;\n",
       "    }\n",
       "\n",
       "    .dataframe tbody tr th {\n",
       "        vertical-align: top;\n",
       "    }\n",
       "\n",
       "    .dataframe thead th {\n",
       "        text-align: right;\n",
       "    }\n",
       "</style>\n",
       "<table border=\"1\" class=\"dataframe\">\n",
       "  <thead>\n",
       "    <tr style=\"text-align: right;\">\n",
       "      <th></th>\n",
       "      <th>thread_id</th>\n",
       "      <th>thread_size</th>\n",
       "      <th>authors</th>\n",
       "      <th>timestamp</th>\n",
       "      <th>author</th>\n",
       "      <th>score</th>\n",
       "      <th>subject_sentiment_score</th>\n",
       "      <th>sentiment_sign</th>\n",
       "      <th>sentiment_magnitude</th>\n",
       "      <th>success</th>\n",
       "      <th>author_all_activity_count</th>\n",
       "      <th>activity_ratio</th>\n",
       "      <th>mean_author_sentiment_sign</th>\n",
       "      <th>mean_author_sentiment_magnitude</th>\n",
       "      <th>time_in_secs</th>\n",
       "      <th>num_dayofweek</th>\n",
       "    </tr>\n",
       "  </thead>\n",
       "  <tbody>\n",
       "  </tbody>\n",
       "</table>\n",
       "</div>"
      ],
      "text/plain": [
       "Empty DataFrame\n",
       "Columns: [thread_id, thread_size, authors, timestamp, author, score, subject_sentiment_score, sentiment_sign, sentiment_magnitude, success, author_all_activity_count, activity_ratio, mean_author_sentiment_sign, mean_author_sentiment_magnitude, time_in_secs, num_dayofweek]\n",
       "Index: []"
      ]
     },
     "execution_count": 11,
     "metadata": {},
     "output_type": "execute_result"
    }
   ],
   "source": [
    "rreg.regression_model_data"
   ]
  },
  {
   "cell_type": "code",
   "execution_count": 4,
   "metadata": {},
   "outputs": [
    {
     "name": "stdout",
     "output_type": "stream",
     "text": [
      "Creating parameter dictionaries\n"
     ]
    }
   ],
   "source": [
    "print(\"Creating parameter dictionaries\")\n",
    "# fixed regression params\n",
    "X_COLS = [\n",
    "    \"sentiment_sign\",\n",
    "    \"sentiment_magnitude\",\n",
    "    \"hour\",\n",
    "    \"time_in_secs\",\n",
    "    \"num_dayofweek\",\n",
    "    \"activity_ratio\",\n",
    "    \"mean_author_sentiment_sign\",\n",
    "    \"mean_author_sentiment_magnitude\",\n",
    "    \"author_all_activity_count\",\n",
    "]\n",
    "\n",
    "fixed_regression_params = {\n",
    "    \"collection_window\": 1,\n",
    "    \"model_window\": 2,\n",
    "    \"validation_window\": 1,\n",
    "    \"FSS\": True,\n",
    "    \"x_cols\": X_COLS,\n",
    "    \"scale\": True,\n",
    "}\n",
    "\n",
    "# variable regression params\n",
    "quantiles = [0.25, 0.5, 0.75]\n",
    "thresholds2 = {\n",
    "    \"author_all_activity_count\": 2,\n",
    "    \"thread_size\": 2,\n",
    "}\n",
    "thresholds1 = {\n",
    "    \"author_all_activity_count\": 2,\n",
    "}\n",
    "\n",
    "to_vary = {\n",
    "    \"regression_type\": regression_types,\n",
    "    \"y_col\": [\"success\", \"thread_size\", \"thread_size\"],\n",
    "    \"metrics\": [\n",
    "        [\"auc\"],\n",
    "        [\"r2\"],\n",
    "        [\"mnlogit_accuracy\", \"mnlogit_aucs\", \"mnlogit_mean_auc\"],\n",
    "    ],\n",
    "    \"thresholds\": [thresholds1, thresholds2, thresholds2],\n",
    "    \"quantiles\": [[], [], quantiles],\n",
    "}\n",
    "\n",
    "regression_params = {}\n",
    "for i, regtype in enumerate(regression_types):\n",
    "    regression_params[regtype] = fixed_regression_params.copy()\n",
    "    for key in to_vary:\n",
    "        regression_params[regtype][key] = to_vary[key][i]"
   ]
  },
  {
   "cell_type": "code",
   "execution_count": 7,
   "metadata": {},
   "outputs": [
    {
     "data": {
      "text/plain": [
       "{'collection_window': 1,\n",
       " 'model_window': 2,\n",
       " 'validation_window': 1,\n",
       " 'FSS': True,\n",
       " 'x_cols': ['sentiment_sign',\n",
       "  'sentiment_magnitude',\n",
       "  'hour',\n",
       "  'time_in_secs',\n",
       "  'num_dayofweek',\n",
       "  'activity_ratio',\n",
       "  'mean_author_sentiment_sign',\n",
       "  'mean_author_sentiment_magnitude',\n",
       "  'author_all_activity_count'],\n",
       " 'scale': True,\n",
       " 'regression_type': 'linear',\n",
       " 'y_col': 'thread_size',\n",
       " 'metrics': ['r2'],\n",
       " 'thresholds': {'author_all_activity_count': 2, 'thread_size': 2},\n",
       " 'quantiles': []}"
      ]
     },
     "execution_count": 7,
     "metadata": {},
     "output_type": "execute_result"
    }
   ],
   "source": [
    "regression_params['linear']"
   ]
  },
  {
   "cell_type": "code",
   "execution_count": 8,
   "metadata": {},
   "outputs": [
    {
     "name": "stdout",
     "output_type": "stream",
     "text": [
      "####### books #######\n",
      "####### crypto #######\n",
      "####### conspiracy #######\n",
      "####### politics #######\n"
     ]
    }
   ],
   "source": [
    "# place to store logregs\n",
    "subreddit_regression_params = {}\n",
    "for subreddit in subreddits:\n",
    "    print(f\"####### {subreddit} #######\")\n",
    "    subreddit_regression_params[subreddit] = {}\n",
    "    for regtype in regression_params:\n",
    "        subreddit_regression_params[subreddit][regtype] = regression_params[regtype].copy()\n",
    "        subreddit_regression_params[subreddit][regtype][\"name\"] = subreddit\n",
    "        subreddit_regression_params[subreddit][regtype][\"regression_data\"] = regression_df[subreddit]\n",
    "        subreddit_regression_params[subreddit][regtype][\"thread_data\"] = thread_df[subreddit]"
   ]
  },
  {
   "cell_type": "code",
   "execution_count": 9,
   "metadata": {},
   "outputs": [],
   "source": [
    "OUTDIR = \"regression_test_outputs\"\n",
    "outfile = f\"{OUTDIR}/input_params.p\"\n",
    "pickle.dump(subreddit_regression_params, open(outfile, 'wb'))"
   ]
  },
  {
   "cell_type": "code",
   "execution_count": null,
   "metadata": {},
   "outputs": [],
   "source": []
  }
 ],
 "metadata": {
  "kernelspec": {
   "display_name": "redditenv",
   "language": "python",
   "name": "python3"
  },
  "language_info": {
   "codemirror_mode": {
    "name": "ipython",
    "version": 3
   },
   "file_extension": ".py",
   "mimetype": "text/x-python",
   "name": "python",
   "nbconvert_exporter": "python",
   "pygments_lexer": "ipython3",
   "version": "3.10.9"
  }
 },
 "nbformat": 4,
 "nbformat_minor": 2
}
