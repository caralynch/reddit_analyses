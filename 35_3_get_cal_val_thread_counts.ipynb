{
 "cells": [
  {
   "cell_type": "code",
   "execution_count": 2,
   "metadata": {},
   "outputs": [],
   "source": [
    "import pickle\n",
    "import pandas as pd\n",
    "import numpy as np\n",
    "from regression_class import RedditRegression as RR\n",
    "import logging\n",
    "import os\n",
    "import gc\n",
    "import matplotlib.pyplot as plt\n",
    "import matplotlib.colors as mcolors"
   ]
  },
  {
   "cell_type": "code",
   "execution_count": 14,
   "metadata": {},
   "outputs": [],
   "source": [
    "DATE = \"22_07_2024\"\n",
    "RESULTS_DIR_PREFIX = f\"regression_outputs/{DATE}_\"\n",
    "RESULTS_DIR_SUFFIX = \"/results\"\n",
    "OUT_DIR_SUFFIX = \"/outputs\"\n",
    "RUN_NAMES = [\"c14_m7\"]\n",
    "LOGFILE = f\"{RESULTS_DIR_PREFIX}_31052024\"\n",
    "\n",
    "\n",
    "OUT_DIR_COMBINED = f\"regression_outputs/{DATE}_c14_m7\""
   ]
  },
  {
   "cell_type": "code",
   "execution_count": 6,
   "metadata": {},
   "outputs": [],
   "source": [
    "all_filepaths = []\n",
    "for run_name in RUN_NAMES:\n",
    "    results_dir = RESULTS_DIR_PREFIX + run_name + RESULTS_DIR_SUFFIX\n",
    "\n",
    "    filepaths = [f\"{results_dir}/{x}\" for x in os.listdir(results_dir) if x.endswith('.p')]\n",
    "    all_filepaths += filepaths"
   ]
  },
  {
   "cell_type": "code",
   "execution_count": 7,
   "metadata": {},
   "outputs": [
    {
     "data": {
      "text/plain": [
       "['regression_outputs/22_07_2024_c14_m7/results/conspiracy_mnlogit.p',\n",
       " 'regression_outputs/22_07_2024_c14_m7/results/politics_mnlogit.p',\n",
       " 'regression_outputs/22_07_2024_c14_m7/results/politics_linear.p',\n",
       " 'regression_outputs/22_07_2024_c14_m7/results/crypto_mnlogit.p',\n",
       " 'regression_outputs/22_07_2024_c14_m7/results/crypto_linear.p',\n",
       " 'regression_outputs/22_07_2024_c14_m7/results/conspiracy_linear.p']"
      ]
     },
     "execution_count": 7,
     "metadata": {},
     "output_type": "execute_result"
    }
   ],
   "source": [
    "all_filepaths"
   ]
  },
  {
   "cell_type": "code",
   "execution_count": 8,
   "metadata": {},
   "outputs": [],
   "source": [
    "modelled_thread_counts_dict = {\n",
    "    'subreddit': [],\n",
    "    'model window': [],\n",
    "    'collection window': [],\n",
    "    'thread size threshold': [],\n",
    "    'cal modelled threads': [],\n",
    "    'val modelled threads': [],\n",
    "    'cal author threshold removed threads': [],\n",
    "    'val author threshold removed threads': [],\n",
    "    'cal thread size removed threads': [],\n",
    "    'val thread size removed threads': [],\n",
    "}\n",
    "\n",
    "lookup_dict = {\n",
    "    'cal modelled threads': ('cal', 'modelled_threads'),\n",
    "    'val modelled threads': ('val', 'modelled_threads'),\n",
    "    'cal author threshold removed threads': ('cal', 'author_all_activity_count_removed_threads'),\n",
    "    'val author threshold removed threads': ('val', 'author_all_activity_count_removed_threads'),\n",
    "    'cal thread size removed threads': ('cal', 'thread_size_removed_threads'),\n",
    "    'val thread size removed threads': ('val', 'thread_size_removed_threads'),\n",
    "}\n",
    "\n",
    "\n",
    "\n",
    "    \n"
   ]
  },
  {
   "cell_type": "code",
   "execution_count": 9,
   "metadata": {},
   "outputs": [],
   "source": [
    "for filepath in all_filepaths:\n",
    "    regres = pickle.load(open(filepath, 'rb'))\n",
    "    if regres.regression_params['regression_type'] != 'mnlogit':\n",
    "        modelled_thread_counts_dict['subreddit'].append(regres.regression_params['name'])\n",
    "        modelled_thread_counts_dict['model window'].append(regres.regression_params['model_window'])\n",
    "        modelled_thread_counts_dict['collection window'].append(regres.regression_params['collection_window'])\n",
    "        if 'thread_size' in regres.regression_params['thresholds']:\n",
    "            thread_size_threshold = True\n",
    "            modelled_thread_counts_dict['thread size threshold'].append(regres.regression_params['thresholds']['thread_size'])\n",
    "        else:\n",
    "            thread_size_threshold = False\n",
    "            modelled_thread_counts_dict['thread size threshold'].append(0)\n",
    "        regres.get_num_threads_modelled()\n",
    "        for key in lookup_dict:\n",
    "            i = lookup_dict[key][0]\n",
    "            j = lookup_dict[key][1]\n",
    "            if (j == 'thread_size_removed_threads') & (thread_size_threshold == False):\n",
    "                modelled_thread_counts_dict[key].append(0)\n",
    "            else:\n",
    "                modelled_thread_counts_dict[key].append(regres.num_threads_modelled.loc[i,j])\n",
    "                \n",
    "    \n",
    "    del regres\n",
    "    gc.collect()"
   ]
  },
  {
   "cell_type": "code",
   "execution_count": 10,
   "metadata": {},
   "outputs": [],
   "source": [
    "thread_count_df = pd.DataFrame.from_dict(modelled_thread_counts_dict, orient='index').T"
   ]
  },
  {
   "cell_type": "code",
   "execution_count": 11,
   "metadata": {},
   "outputs": [],
   "source": [
    "to_output = thread_count_df.sort_values(by=['subreddit', 'model window', 'collection window', 'thread size threshold'])"
   ]
  },
  {
   "cell_type": "code",
   "execution_count": 12,
   "metadata": {},
   "outputs": [
    {
     "data": {
      "text/html": [
       "<div>\n",
       "<style scoped>\n",
       "    .dataframe tbody tr th:only-of-type {\n",
       "        vertical-align: middle;\n",
       "    }\n",
       "\n",
       "    .dataframe tbody tr th {\n",
       "        vertical-align: top;\n",
       "    }\n",
       "\n",
       "    .dataframe thead th {\n",
       "        text-align: right;\n",
       "    }\n",
       "</style>\n",
       "<table border=\"1\" class=\"dataframe\">\n",
       "  <thead>\n",
       "    <tr style=\"text-align: right;\">\n",
       "      <th></th>\n",
       "      <th>subreddit</th>\n",
       "      <th>model window</th>\n",
       "      <th>collection window</th>\n",
       "      <th>thread size threshold</th>\n",
       "      <th>cal modelled threads</th>\n",
       "      <th>val modelled threads</th>\n",
       "      <th>cal author threshold removed threads</th>\n",
       "      <th>val author threshold removed threads</th>\n",
       "      <th>cal thread size removed threads</th>\n",
       "      <th>val thread size removed threads</th>\n",
       "    </tr>\n",
       "  </thead>\n",
       "  <tbody>\n",
       "    <tr>\n",
       "      <th>2</th>\n",
       "      <td>conspiracy</td>\n",
       "      <td>7</td>\n",
       "      <td>14</td>\n",
       "      <td>2</td>\n",
       "      <td>1560</td>\n",
       "      <td>1583</td>\n",
       "      <td>857</td>\n",
       "      <td>950</td>\n",
       "      <td>203</td>\n",
       "      <td>150</td>\n",
       "    </tr>\n",
       "    <tr>\n",
       "      <th>1</th>\n",
       "      <td>crypto</td>\n",
       "      <td>7</td>\n",
       "      <td>14</td>\n",
       "      <td>2</td>\n",
       "      <td>1231</td>\n",
       "      <td>1260</td>\n",
       "      <td>1462</td>\n",
       "      <td>1933</td>\n",
       "      <td>574</td>\n",
       "      <td>566</td>\n",
       "    </tr>\n",
       "    <tr>\n",
       "      <th>0</th>\n",
       "      <td>politics</td>\n",
       "      <td>7</td>\n",
       "      <td>14</td>\n",
       "      <td>2</td>\n",
       "      <td>3816</td>\n",
       "      <td>4295</td>\n",
       "      <td>1867</td>\n",
       "      <td>2567</td>\n",
       "      <td>1020</td>\n",
       "      <td>1245</td>\n",
       "    </tr>\n",
       "  </tbody>\n",
       "</table>\n",
       "</div>"
      ],
      "text/plain": [
       "    subreddit model window collection window thread size threshold  \\\n",
       "2  conspiracy            7                14                     2   \n",
       "1      crypto            7                14                     2   \n",
       "0    politics            7                14                     2   \n",
       "\n",
       "  cal modelled threads val modelled threads  \\\n",
       "2                 1560                 1583   \n",
       "1                 1231                 1260   \n",
       "0                 3816                 4295   \n",
       "\n",
       "  cal author threshold removed threads val author threshold removed threads  \\\n",
       "2                                  857                                  950   \n",
       "1                                 1462                                 1933   \n",
       "0                                 1867                                 2567   \n",
       "\n",
       "  cal thread size removed threads val thread size removed threads  \n",
       "2                             203                             150  \n",
       "1                             574                             566  \n",
       "0                            1020                            1245  "
      ]
     },
     "execution_count": 12,
     "metadata": {},
     "output_type": "execute_result"
    }
   ],
   "source": [
    "to_output"
   ]
  },
  {
   "cell_type": "code",
   "execution_count": 15,
   "metadata": {},
   "outputs": [],
   "source": [
    "with pd.ExcelWriter(f'{OUT_DIR_COMBINED}/data_sizes.xlsx') as writer:\n",
    "    to_output.to_excel(writer, index=False)"
   ]
  },
  {
   "cell_type": "code",
   "execution_count": null,
   "metadata": {},
   "outputs": [],
   "source": []
  }
 ],
 "metadata": {
  "kernelspec": {
   "display_name": "redditenv",
   "language": "python",
   "name": "python3"
  },
  "language_info": {
   "codemirror_mode": {
    "name": "ipython",
    "version": 3
   },
   "file_extension": ".py",
   "mimetype": "text/x-python",
   "name": "python",
   "nbconvert_exporter": "python",
   "pygments_lexer": "ipython3",
   "version": "3.10.9"
  }
 },
 "nbformat": 4,
 "nbformat_minor": 2
}
