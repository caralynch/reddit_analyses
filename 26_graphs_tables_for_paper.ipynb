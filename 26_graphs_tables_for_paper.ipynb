{
 "cells": [
  {
   "cell_type": "code",
   "execution_count": 1,
   "metadata": {},
   "outputs": [],
   "source": [
    "# data manipulation imports\n",
    "import numpy as np\n",
    "import pandas as pd\n",
    "\n",
    "# data saving imports\n",
    "import pickle\n",
    "import os\n",
    "\n",
    "# custom imports\n",
    "from regression_class import RedditRegression as RR\n",
    "from regression_class import TimestampClass"
   ]
  },
  {
   "cell_type": "code",
   "execution_count": 2,
   "metadata": {},
   "outputs": [],
   "source": [
    "# the other 26 file (.py) must be run to run all required regressions\n",
    "\n",
    "\n",
    "# infiles\n",
    "regression_infile = \"regression_thread_data.p\"\n",
    "thread_infile = 'clean_5_thread_data.p'\n",
    "\n",
    "# outfiles\n",
    "outdir = 'logistic_regression/logregs_23102023'\n",
    "metrics_outfile = \"regression_metrics\"\n",
    "\n",
    "# script output file\n",
    "script_infile = f\"{outdir}/logregs_pickle.p\""
   ]
  },
  {
   "cell_type": "code",
   "execution_count": null,
   "metadata": {},
   "outputs": [],
   "source": [
    "script_output = pickle.load(open(script_infile, 'rb'))\n",
    "subreddit_logregs = script_output['logregs']\n",
    "regression_params_dict = script_output['regression_params']\n",
    "out_params_dict = script_output[\"out_params\"]\n",
    "outdir_names = script_output[\"subdirs\"]"
   ]
  },
  {
   "cell_type": "code",
   "execution_count": null,
   "metadata": {},
   "outputs": [],
   "source": []
  }
 ],
 "metadata": {
  "kernelspec": {
   "display_name": "redditenv",
   "language": "python",
   "name": "python3"
  },
  "language_info": {
   "codemirror_mode": {
    "name": "ipython",
    "version": 3
   },
   "file_extension": ".py",
   "mimetype": "text/x-python",
   "name": "python",
   "nbconvert_exporter": "python",
   "pygments_lexer": "ipython3",
   "version": "3.10.9"
  }
 },
 "nbformat": 4,
 "nbformat_minor": 2
}
