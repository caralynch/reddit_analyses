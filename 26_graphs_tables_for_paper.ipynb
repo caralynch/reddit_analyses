{
 "cells": [
  {
   "cell_type": "code",
   "execution_count": 7,
   "metadata": {},
   "outputs": [],
   "source": [
    "# standard imports\n",
    "import gc\n",
    "\n",
    "# multiprocessing\n",
    "from multiprocessing import Pool\n",
    "\n",
    "# data manipulation imports\n",
    "import numpy as np\n",
    "import pandas as pd\n",
    "\n",
    "# data saving imports\n",
    "import pickle\n",
    "import os\n",
    "\n",
    "# plotting imports\n",
    "import matplotlib.pyplot as plt\n",
    "import matplotlib.colors as mcolors\n",
    "import matplotlib\n",
    "\n",
    "# custom imports\n",
    "from regression_class import RedditRegression as RR\n",
    "from regression_class import TimestampClass"
   ]
  },
  {
   "cell_type": "code",
   "execution_count": 8,
   "metadata": {},
   "outputs": [],
   "source": [
    "# the other 26 file (.py) must be run to run all required regressions\n",
    "\n",
    "# outfiles\n",
    "metrics_outfile = \"regression_metrics\"\n",
    "\n",
    "# infile parent dir\n",
    "working_dir = 'logistic_regression/logregs_26102023'"
   ]
  },
  {
   "cell_type": "code",
   "execution_count": 10,
   "metadata": {},
   "outputs": [],
   "source": [
    "def get_regression_params_from_pickles(infile_path):\n",
    "    collection_window_size = int(infile_path.split('_')[-1].strip('.p'))\n",
    "    print(f\"\\n  Collection window: {collection_window_size}\")\n",
    "    print(f\"\\n  reading in {infile_path}\")\n",
    "    regression_infile = pickle.load(open(infile_path, 'rb'))\n",
    "    regression\n",
    "    return regression_infile"
   ]
  },
  {
   "cell_type": "code",
   "execution_count": 9,
   "metadata": {},
   "outputs": [
    {
     "name": "stdout",
     "output_type": "stream",
     "text": [
      "\n",
      "\n",
      "Activity threshold: 0\n",
      "\n",
      "  Collection window: 1\n",
      "\n",
      "  reading in logregs_a_0_c_1.p\n",
      "\n",
      "  Collection window: 14\n",
      "\n",
      "  reading in logregs_a_0_c_14.p\n",
      "\n",
      "  Collection window: 3\n",
      "\n",
      "  reading in logregs_a_0_c_3.p\n",
      "\n",
      "  Collection window: 7\n",
      "\n",
      "  reading in logregs_a_0_c_7.p\n",
      "\n",
      "\n",
      "Activity threshold: 1\n",
      "\n",
      "  Collection window: 1\n",
      "\n",
      "  reading in logregs_a_1_c_1.p\n",
      "\n",
      "  Collection window: 14\n",
      "\n",
      "  reading in logregs_a_1_c_14.p\n",
      "\n",
      "  Collection window: 3\n",
      "\n",
      "  reading in logregs_a_1_c_3.p\n",
      "\n",
      "  Collection window: 7\n",
      "\n",
      "  reading in logregs_a_1_c_7.p\n",
      "\n",
      "\n",
      "Activity threshold: 2\n",
      "\n",
      "  Collection window: 1\n",
      "\n",
      "  reading in logregs_a_2_c_1.p\n",
      "\n",
      "  Collection window: 14\n",
      "\n",
      "  reading in logregs_a_2_c_14.p\n",
      "\n",
      "  Collection window: 3\n",
      "\n",
      "  reading in logregs_a_2_c_3.p\n",
      "\n",
      "  Collection window: 7\n",
      "\n",
      "  reading in logregs_a_2_c_7.p\n",
      "\n",
      "\n",
      "Activity threshold: 5\n",
      "\n",
      "  Collection window: 14\n",
      "\n",
      "  reading in logregs_a_5_c_14.p\n",
      "\n",
      "  Collection window: 3\n",
      "\n",
      "  reading in logregs_a_5_c_3.p\n",
      "\n",
      "  Collection window: 7\n",
      "\n",
      "  reading in logregs_a_5_c_7.p\n"
     ]
    }
   ],
   "source": [
    "# get infile dirs\n",
    "infile_dirs = [f\"{working_dir}/{x}\" for x in os.listdir(working_dir) if os.path.isdir(f\"{working_dir}/{x}\")]\n",
    "\n",
    "for infile_dir in infile_dirs:\n",
    "    activity_threshold = int(infile_dir[-1])\n",
    "    print(f\"\\n\\nActivity threshold: {activity_threshold}\")\n",
    "    infiles = [x for x in os.listdir(infile_dir) if (not os.path.isdir(f\"{infile_dir}/{x}\")) & (not x.startswith('lite'))]\n",
    "    for infile in infiles:\n",
    "        collection_window_size = int(infile.split('_')[-1].strip('.p'))\n",
    "        print(f\"\\n  Collection window: {collection_window_size}\")\n",
    "        print(f\"\\n  reading in {infile}\")\n",
    "        regression_infile = pickle.load(open(f\"{infile_dir}/{infile}\", 'rb'))\n",
    "\n",
    "        # delete unneccessary data to save memory and write out \"lite\" infiles\n",
    "        for key in ['regression_data', 'thread_data']:\n",
    "            del regression_infile['regression_params'][key]\n",
    "        \n",
    "        pickle.dump(regression_infile, open(f\"{infile_dir}/lite_{infile}\", 'wb'))\n",
    "        del regression_infile\n",
    "        gc.collect()"
   ]
  },
  {
   "cell_type": "code",
   "execution_count": 11,
   "metadata": {},
   "outputs": [
    {
     "name": "stdout",
     "output_type": "stream",
     "text": [
      "\n",
      "\n",
      "Activity threshold: 0\n"
     ]
    }
   ],
   "source": [
    "# iterate through all the infile directories\n",
    "regressions = {}\n",
    "\n",
    "for infile_dir in infile_dirs:\n",
    "    activity_threshold = int(infile_dir[-1])\n",
    "    print(f\"\\n\\nActivity threshold: {activity_threshold}\")\n",
    "    infiles = [f\"{infile_dir}/{x}\" for x in os.listdir(infile_dir) if (not os.path.isdir(f\"{infile_dir}/{x}\")) & (x.startswith('lite'))]\n",
    "\n",
    "    with Pool() as pool:\n",
    "        regressions[activity_threshold] = pool.map(get_regression_params_from_pickles, infiles)\n",
    "\n",
    "\n"
   ]
  },
  {
   "cell_type": "code",
   "execution_count": null,
   "metadata": {},
   "outputs": [],
   "source": []
  }
 ],
 "metadata": {
  "kernelspec": {
   "display_name": "redditenv",
   "language": "python",
   "name": "python3"
  },
  "language_info": {
   "codemirror_mode": {
    "name": "ipython",
    "version": 3
   },
   "file_extension": ".py",
   "mimetype": "text/x-python",
   "name": "python",
   "nbconvert_exporter": "python",
   "pygments_lexer": "ipython3",
   "version": "3.10.9"
  }
 },
 "nbformat": 4,
 "nbformat_minor": 2
}
