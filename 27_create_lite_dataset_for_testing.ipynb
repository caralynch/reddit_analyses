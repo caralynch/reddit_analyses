{
 "cells": [
  {
   "cell_type": "code",
   "execution_count": 10,
   "metadata": {},
   "outputs": [],
   "source": [
    "# data manipulation imports\n",
    "import pandas as pd\n",
    "\n",
    "# data saving imports\n",
    "import pickle\n",
    "\n",
    "from regression_class import TimestampClass as tc\n"
   ]
  },
  {
   "cell_type": "code",
   "execution_count": 2,
   "metadata": {},
   "outputs": [],
   "source": [
    "REGRESSION_INFILE = \"regression_thread_data.p\"\n",
    "THREAD_INFILE = \"clean_5_thread_data.p\""
   ]
  },
  {
   "cell_type": "code",
   "execution_count": 3,
   "metadata": {},
   "outputs": [],
   "source": [
    "regression_df = pickle.load(open(REGRESSION_INFILE, \"rb\"))\n",
    "thread_df = pickle.load(open(THREAD_INFILE, \"rb\"))"
   ]
  },
  {
   "cell_type": "code",
   "execution_count": 8,
   "metadata": {},
   "outputs": [],
   "source": [
    "crypto_regression_data = regression_df['crypto']\n",
    "crypto_thread_data = thread_df['crypto']"
   ]
  },
  {
   "cell_type": "code",
   "execution_count": 25,
   "metadata": {},
   "outputs": [],
   "source": [
    "threads_in_first_5_days = crypto_regression_data[crypto_regression_data.timestamp < pd.Timestamp(year=2022, month=10, day=6)]\n",
    "all_data_in_first_threads = crypto_thread_data[crypto_thread_data.thread_id.isin(threads_in_first_5_days.thread_id)]"
   ]
  },
  {
   "cell_type": "code",
   "execution_count": 29,
   "metadata": {},
   "outputs": [],
   "source": [
    "info_dict = {\n",
    "    'subreddit': 'crypto',\n",
    "    'thread_start_date_range': '01/10/2022 - 05/10/2022 (5 days)',\n",
    "    'purpose': 'testing',\n",
    "    'regression_data': threads_in_first_5_days,\n",
    "    'all_data': all_data_in_first_threads\n",
    "}"
   ]
  },
  {
   "cell_type": "code",
   "execution_count": 30,
   "metadata": {},
   "outputs": [],
   "source": [
    "pickle.dump(info_dict, open('test_data_crypto_5_days.p', 'wb'))"
   ]
  },
  {
   "cell_type": "code",
   "execution_count": 24,
   "metadata": {},
   "outputs": [],
   "source": [
    "lite_regression_dfs = {}\n",
    "lite_thread_dfs = {}\n",
    "for key in regression_df:\n",
    "    fifth_day = regression_df[key].timestamp.apply(tc.get_date).unique()[4]\n",
    "    lite_regression_dfs[key] = regression_df[key][regression_df[key].timestamp.apply(tc.get_date) < fifth_day]\n",
    "    lite_thread_dfs[key] = thread_df[key][thread_df[key].thread_id.isin(lite_regression_dfs[key].thread_id)]"
   ]
  },
  {
   "cell_type": "code",
   "execution_count": 25,
   "metadata": {},
   "outputs": [],
   "source": [
    "all_subreddits_info_dict = {\n",
    "    'subreddit': 'all',\n",
    "    'thread_start_date_range': '5 days',\n",
    "    'purpose': 'testing',\n",
    "    'regression_data': lite_regression_dfs,\n",
    "    'all_data': lite_thread_dfs\n",
    "}"
   ]
  },
  {
   "cell_type": "code",
   "execution_count": 26,
   "metadata": {},
   "outputs": [],
   "source": [
    "pickle.dump(all_subreddits_info_dict, open('test_data_5_days.p', 'wb'))"
   ]
  },
  {
   "cell_type": "code",
   "execution_count": null,
   "metadata": {},
   "outputs": [],
   "source": []
  }
 ],
 "metadata": {
  "kernelspec": {
   "display_name": "redditenv",
   "language": "python",
   "name": "python3"
  },
  "language_info": {
   "codemirror_mode": {
    "name": "ipython",
    "version": 3
   },
   "file_extension": ".py",
   "mimetype": "text/x-python",
   "name": "python",
   "nbconvert_exporter": "python",
   "pygments_lexer": "ipython3",
   "version": "3.10.9"
  }
 },
 "nbformat": 4,
 "nbformat_minor": 2
}
