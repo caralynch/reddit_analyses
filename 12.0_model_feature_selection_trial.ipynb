{
 "cells": [
  {
   "cell_type": "code",
   "execution_count": 1,
   "metadata": {},
   "outputs": [],
   "source": [
    "import numpy as np\n",
    "import pandas as pd\n",
    "from reddit_dataclass import RedditData as reddit\n",
    "import pickle\n",
    "import matplotlib.pyplot as plt\n",
    "import scipy.stats as scpstat\n",
    "import matplotlib.dates as dates\n",
    "import datetime\n",
    "from sklearn import metrics\n",
    "import statsmodels.formula.api as smf\n",
    "import statsmodels.api as sm\n",
    "from patsy import dmatrices"
   ]
  },
  {
   "cell_type": "code",
   "execution_count": 2,
   "metadata": {},
   "outputs": [],
   "source": [
    "infile = \"calval_regression_data.p\"\n",
    "outfile = 'author_activity_calibrate_validate_regressions.xlsx'\n",
    "remove = 'thedonald'\n",
    "train = True"
   ]
  },
  {
   "cell_type": "code",
   "execution_count": 3,
   "metadata": {},
   "outputs": [],
   "source": [
    "def log_plus_1(x):\n",
    "    return np.log(x+1)\n",
    "\n",
    "def get_skewness(df):\n",
    "    skew_dict = {}\n",
    "    for key in df:\n",
    "        dummy_dict = {}\n",
    "        if train:\n",
    "            for type in df[key]:\n",
    "                dummy_dict[f'{type}_sentiment_magnitude'] = scpstat.skew(df[key][type].sentiment_magnitude)\n",
    "                dummy_dict[f'{type}_log(mag+1)'] = scpstat.skew(df[key][type].log_sentiment_magnitude_plus_one)\n",
    "                dummy_dict[f'{type}_sqrt(mag)'] = scpstat.skew(df[key][type].sqrt_sentiment_magnitude)\n",
    "                dummy_dict[f'{type}_post_activity_count'] = scpstat.skew(df[key][type].post_activity_count)\n",
    "                dummy_dict[f'{type}_log(post_activity)'] = scpstat.skew(df[key][type].log_post_activity_count)\n",
    "                dummy_dict[f'{type}_sqrt(post_activity)'] = scpstat.skew(df[key][type].sqrt_post_activity_count)\n",
    "\n",
    "        else:\n",
    "            dummy_dict['sentiment_magnitude'] = scpstat.skew(df[key].sentiment_magnitude)\n",
    "            dummy_dict['log(mag+1)'] = scpstat.skew(df[key].log_sentiment_magnitude_plus_one)\n",
    "            dummy_dict['sqrt(mag)'] = scpstat.skew(df[key].sqrt_sentiment_magnitude)\n",
    "            dummy_dict['post_activity_count'] = scpstat.skew(df[key].post_activity_count)\n",
    "            dummy_dict['log(post_activity)'] = scpstat.skew(df[key].log_post_activity_count)\n",
    "            dummy_dict['sqrt(post_activity)'] = scpstat.skew(df[key].sqrt_post_activity_count)\n",
    "        skew_dict[key] = pd.DataFrame.from_dict(dummy_dict, orient='index').rename(columns={0: key})\n",
    "\n",
    "    skew_df = pd.DataFrame({'A' : []})\n",
    "\n",
    "    for key in skew_dict:\n",
    "        if skew_df.empty:\n",
    "            skew_df = skew_dict[key]\n",
    "        else:\n",
    "            skew_df = pd.concat((skew_df, skew_dict[key]), axis=1)\n",
    "    \n",
    "    return skew_df\n",
    "\n",
    "def perform_models_regressions(dataset, models):\n",
    "\n",
    "    # perform regressions\n",
    "    regression_parameters_by_model = {}\n",
    "    for i, model in enumerate(models):\n",
    "        regression_parameters_dict = {}\n",
    "        for key in dataset:\n",
    "            logistic_regression = smf.logit(\n",
    "                model,\n",
    "                data=dataset[key]\n",
    "            ).fit()\n",
    "            # fit parameter dictionary\n",
    "            regression_parameters_dict[key] = logistic_regression.params\n",
    "\n",
    "            # calculate AUC\n",
    "            y_predicted = logistic_regression.predict()\n",
    "            y_real = dataset[key].success\n",
    "            auc = metrics.roc_auc_score(y_real,  y_predicted)\n",
    "\n",
    "            regression_parameters_dict[key]['auc'] = auc\n",
    "\n",
    "        regression_parameters_by_model[i] = pd.DataFrame.from_dict(regression_parameters_dict)\n",
    "    \n",
    "    # add model number to multiindex\n",
    "    for model_number in regression_parameters_by_model:\n",
    "        regression_parameters_by_model[model_number].set_index(\n",
    "            [[model_number]*len(regression_parameters_by_model[model_number]),\n",
    "            regression_parameters_by_model[model_number].index],\n",
    "            inplace=True \n",
    "            )\n",
    "        regression_parameters_by_model[model_number].index.set_names(['model', 'parameter'], inplace=True)\n",
    "    \n",
    "    # combine to form one df for all models run\n",
    "    for key in regression_parameters_by_model:\n",
    "        if key == 0:\n",
    "            all_regression_params = regression_parameters_by_model[key]\n",
    "        else:\n",
    "            all_regression_params = pd.concat((all_regression_params, regression_parameters_by_model[key]))\n",
    "        \n",
    "    return all_regression_params\n",
    "\n",
    "def perform_calibration_validation_regressions(dataset, models):\n",
    "\n",
    "    # perform regressions\n",
    "    regression_parameters_by_model = {}\n",
    "    for i, model in enumerate(models):\n",
    "        regression_parameters_dict = {}\n",
    "        for key in dataset:\n",
    "            logistic_regression = smf.logit(\n",
    "                model,\n",
    "                data=dataset[key]['calibration']\n",
    "            ).fit()\n",
    "            # fit parameter dictionary\n",
    "            regression_parameters_dict[key] = logistic_regression.params\n",
    "\n",
    "            # calculate calibration AUC\n",
    "            y_predicted = logistic_regression.predict()\n",
    "            y_real = dataset[key]['calibration'].success\n",
    "            auc = metrics.roc_auc_score(y_real,  y_predicted)\n",
    "\n",
    "            regression_parameters_dict[key]['calibration_auc'] = auc\n",
    "\n",
    "            # calculate validation AUC\n",
    "            y_predicted = logistic_regression.predict(\n",
    "                exog = dataset[key]['validation']\n",
    "            )\n",
    "            y_real = dataset[key]['validation'].success\n",
    "            auc = metrics.roc_auc_score(y_real,  y_predicted)\n",
    "            regression_parameters_dict[key]['validation_auc'] = auc\n",
    "\n",
    "        regression_parameters_by_model[i] = pd.DataFrame.from_dict(regression_parameters_dict)\n",
    "    \n",
    "    # add model number to multiindex\n",
    "    for model_number in regression_parameters_by_model:\n",
    "        regression_parameters_by_model[model_number].set_index(\n",
    "            [[model_number]*len(regression_parameters_by_model[model_number]),\n",
    "            regression_parameters_by_model[model_number].index],\n",
    "            inplace=True \n",
    "            )\n",
    "        regression_parameters_by_model[model_number].index.set_names(['model', 'parameter'], inplace=True)\n",
    "    \n",
    "    # combine to form one df for all models run\n",
    "    for key in regression_parameters_by_model:\n",
    "        if key == 0:\n",
    "            all_regression_params = regression_parameters_by_model[key]\n",
    "        else:\n",
    "            all_regression_params = pd.concat((all_regression_params, regression_parameters_by_model[key]))\n",
    "        \n",
    "    return all_regression_params"
   ]
  },
  {
   "cell_type": "code",
   "execution_count": 4,
   "metadata": {},
   "outputs": [],
   "source": [
    "regression_thread_data = pickle.load(open(infile, 'rb'))\n",
    "if remove:\n",
    "    regression_thread_data.pop(remove)\n",
    "\n",
    "for key in regression_thread_data:\n",
    "    if train:\n",
    "        for type in regression_thread_data[key]:\n",
    "            regression_thread_data[key][type]['log_sentiment_magnitude_plus_one'] = log_plus_1(regression_thread_data[key][type].sentiment_magnitude)\n",
    "            regression_thread_data[key][type]['sqrt_sentiment_magnitude'] = np.sqrt(regression_thread_data[key][type].sentiment_magnitude)\n",
    "            regression_thread_data[key][type]['log_post_activity_count'] = np.log(regression_thread_data[key][type].post_activity_count)\n",
    "            regression_thread_data[key][type]['sqrt_post_activity_count'] = np.sqrt(regression_thread_data[key][type].post_activity_count)\n",
    "    else:\n",
    "        regression_thread_data[key]['log_sentiment_magnitude_plus_one'] = log_plus_1(regression_thread_data[key].sentiment_magnitude)\n",
    "        regression_thread_data[key]['sqrt_sentiment_magnitude'] = np.sqrt(regression_thread_data[key].sentiment_magnitude)\n",
    "        regression_thread_data[key]['log_post_activity_count'] = np.log(regression_thread_data[key].post_activity_count)\n",
    "        regression_thread_data[key]['sqrt_post_activity_count'] = np.sqrt(regression_thread_data[key].post_activity_count)"
   ]
  },
  {
   "cell_type": "code",
   "execution_count": 5,
   "metadata": {},
   "outputs": [
    {
     "data": {
      "text/plain": [
       "Index(['thread_id', 'thread_size', 'authors', 'timestamp', 'author', 'score',\n",
       "       'subject_sentiment_score', 'sentiment_sign', 'sentiment_magnitude',\n",
       "       'success', 'all_activity_count', 'post_activity_count',\n",
       "       'comment_activity_count', 'log_sentiment_magnitude_plus_one',\n",
       "       'sqrt_sentiment_magnitude', 'log_post_activity_count',\n",
       "       'sqrt_post_activity_count'],\n",
       "      dtype='object')"
      ]
     },
     "execution_count": 5,
     "metadata": {},
     "output_type": "execute_result"
    }
   ],
   "source": [
    "regression_thread_data['books']['calibration'].columns"
   ]
  },
  {
   "cell_type": "code",
   "execution_count": 21,
   "metadata": {},
   "outputs": [],
   "source": [
    "\n",
    "X_train = regression_thread_data['crypto']['calibration'][[\n",
    "    'sentiment_sign', 'sentiment_magnitude', 'post_activity_count',\n",
    "    'comment_activity_count'\n",
    "    ]]\n",
    "y_train = regression_thread_data['crypto']['calibration']['success']"
   ]
  },
  {
   "cell_type": "code",
   "execution_count": 8,
   "metadata": {},
   "outputs": [
    {
     "data": {
      "text/html": [
       "<div>\n",
       "<style scoped>\n",
       "    .dataframe tbody tr th:only-of-type {\n",
       "        vertical-align: middle;\n",
       "    }\n",
       "\n",
       "    .dataframe tbody tr th {\n",
       "        vertical-align: top;\n",
       "    }\n",
       "\n",
       "    .dataframe thead th {\n",
       "        text-align: right;\n",
       "    }\n",
       "</style>\n",
       "<table border=\"1\" class=\"dataframe\">\n",
       "  <thead>\n",
       "    <tr style=\"text-align: right;\">\n",
       "      <th></th>\n",
       "      <th>0</th>\n",
       "    </tr>\n",
       "  </thead>\n",
       "  <tbody>\n",
       "    <tr>\n",
       "      <th>0</th>\n",
       "      <td>1</td>\n",
       "    </tr>\n",
       "    <tr>\n",
       "      <th>1</th>\n",
       "      <td>1</td>\n",
       "    </tr>\n",
       "    <tr>\n",
       "      <th>2</th>\n",
       "      <td>1</td>\n",
       "    </tr>\n",
       "    <tr>\n",
       "      <th>3</th>\n",
       "      <td>1</td>\n",
       "    </tr>\n",
       "  </tbody>\n",
       "</table>\n",
       "</div>"
      ],
      "text/plain": [
       "   0\n",
       "0  1\n",
       "1  1\n",
       "2  1\n",
       "3  1"
      ]
     },
     "execution_count": 8,
     "metadata": {},
     "output_type": "execute_result"
    }
   ],
   "source": [
    "# adapted from https://www.datasklr.com/ols-least-squares-regression/variable-selection\n",
    "#RECURSIVE FEATURE ELIMINATION\n",
    "#Feature ranking with recursive feature elimination and cross-validated selection of the best number of features\n",
    "\n",
    "from sklearn.feature_selection import RFE\n",
    "from sklearn.feature_selection import RFECV\n",
    "from sklearn.linear_model import LogisticRegression\n",
    "\n",
    "\n",
    "\n",
    "names=pd.DataFrame(X_train.columns)\n",
    "\n",
    "#use logistic regression as the model\n",
    "log_reg = LogisticRegression()\n",
    "\n",
    "#This is to select 5 variables: can be changed and checked in model for accuracy\n",
    "rfecv_mod = RFECV(log_reg, step=1, cv=5) \n",
    "myvalues=rfecv_mod.fit(X_train,y_train) #to fit\n",
    "myvalues.support_#The mask of selected features.\n",
    "myvalues.ranking_ #The feature ranking, such that ranking_[i] corresponds to the ranking position of the i-th feature. Selected (i.e., estimated best) features are assigned rank 1.\n",
    "\n",
    "rankings=pd.DataFrame(myvalues.ranking_) #Make it into data frame\n",
    "rankings"
   ]
  },
  {
   "cell_type": "code",
   "execution_count": 7,
   "metadata": {},
   "outputs": [
    {
     "name": "stdout",
     "output_type": "stream",
     "text": [
      "                  Feature  Rank\n",
      "0          sentiment_sign     1\n",
      "1     sentiment_magnitude     1\n",
      "2     post_activity_count     1\n",
      "3  comment_activity_count     1\n"
     ]
    },
    {
     "data": {
      "text/plain": [
       "4"
      ]
     },
     "execution_count": 7,
     "metadata": {},
     "output_type": "execute_result"
    }
   ],
   "source": [
    "ranked=pd.concat([names,rankings], axis=1)\n",
    "ranked.columns = [\"Feature\", \"Rank\"]\n",
    "ranked\n",
    "\n",
    "#Select most important (Only 1's)\n",
    "most_important = ranked.loc[ranked['Rank'] ==1] \n",
    "print(most_important)\n",
    "\n",
    "most_important['Rank'].count()"
   ]
  },
  {
   "attachments": {},
   "cell_type": "markdown",
   "metadata": {},
   "source": [
    "Tutorial used:\n",
    "\n",
    "\n",
    "http://rasbt.github.io/mlxtend/user_guide/feature_selection/SequentialFeatureSelector/\n"
   ]
  },
  {
   "cell_type": "code",
   "execution_count": 88,
   "metadata": {},
   "outputs": [
    {
     "name": "stdout",
     "output_type": "stream",
     "text": [
      "Sequential Forward selection\n",
      "k=4 selected features: ('sentiment_sign', 'sentiment_magnitude', 'post_activity_count', 'comment_activity_count')\n"
     ]
    },
    {
     "name": "stderr",
     "output_type": "stream",
     "text": [
      "/home/cara/anaconda3/envs/redditenv/lib/python3.10/site-packages/numpy/core/_methods.py:269: RuntimeWarning: Degrees of freedom <= 0 for slice\n",
      "  ret = _var(a, axis=axis, dtype=dtype, out=out, ddof=ddof,\n",
      "/home/cara/anaconda3/envs/redditenv/lib/python3.10/site-packages/numpy/core/_methods.py:261: RuntimeWarning: invalid value encountered in scalar divide\n",
      "  ret = ret.dtype.type(ret / rcount)\n"
     ]
    },
    {
     "data": {
      "text/html": [
       "<div>\n",
       "<style scoped>\n",
       "    .dataframe tbody tr th:only-of-type {\n",
       "        vertical-align: middle;\n",
       "    }\n",
       "\n",
       "    .dataframe tbody tr th {\n",
       "        vertical-align: top;\n",
       "    }\n",
       "\n",
       "    .dataframe thead th {\n",
       "        text-align: right;\n",
       "    }\n",
       "</style>\n",
       "<table border=\"1\" class=\"dataframe\">\n",
       "  <thead>\n",
       "    <tr style=\"text-align: right;\">\n",
       "      <th></th>\n",
       "      <th>feature_idx</th>\n",
       "      <th>cv_scores</th>\n",
       "      <th>avg_score</th>\n",
       "      <th>feature_names</th>\n",
       "      <th>ci_bound</th>\n",
       "      <th>std_dev</th>\n",
       "      <th>std_err</th>\n",
       "    </tr>\n",
       "  </thead>\n",
       "  <tbody>\n",
       "    <tr>\n",
       "      <th>1</th>\n",
       "      <td>(3,)</td>\n",
       "      <td>[0.8185895728905598]</td>\n",
       "      <td>0.818590</td>\n",
       "      <td>(comment_activity_count,)</td>\n",
       "      <td>NaN</td>\n",
       "      <td>0.0</td>\n",
       "      <td>NaN</td>\n",
       "    </tr>\n",
       "    <tr>\n",
       "      <th>2</th>\n",
       "      <td>(2, 3)</td>\n",
       "      <td>[0.7718789719835302]</td>\n",
       "      <td>0.771879</td>\n",
       "      <td>(post_activity_count, comment_activity_count)</td>\n",
       "      <td>NaN</td>\n",
       "      <td>0.0</td>\n",
       "      <td>NaN</td>\n",
       "    </tr>\n",
       "    <tr>\n",
       "      <th>3</th>\n",
       "      <td>(1, 2, 3)</td>\n",
       "      <td>[0.758764116392171]</td>\n",
       "      <td>0.758764</td>\n",
       "      <td>(sentiment_magnitude, post_activity_count, com...</td>\n",
       "      <td>NaN</td>\n",
       "      <td>0.0</td>\n",
       "      <td>NaN</td>\n",
       "    </tr>\n",
       "    <tr>\n",
       "      <th>4</th>\n",
       "      <td>(0, 1, 2, 3)</td>\n",
       "      <td>[0.7556305197517603]</td>\n",
       "      <td>0.755631</td>\n",
       "      <td>(sentiment_sign, sentiment_magnitude, post_act...</td>\n",
       "      <td>NaN</td>\n",
       "      <td>0.0</td>\n",
       "      <td>NaN</td>\n",
       "    </tr>\n",
       "  </tbody>\n",
       "</table>\n",
       "</div>"
      ],
      "text/plain": [
       "    feature_idx             cv_scores  avg_score  \\\n",
       "1          (3,)  [0.8185895728905598]   0.818590   \n",
       "2        (2, 3)  [0.7718789719835302]   0.771879   \n",
       "3     (1, 2, 3)   [0.758764116392171]   0.758764   \n",
       "4  (0, 1, 2, 3)  [0.7556305197517603]   0.755631   \n",
       "\n",
       "                                       feature_names  ci_bound  std_dev  \\\n",
       "1                          (comment_activity_count,)       NaN      0.0   \n",
       "2      (post_activity_count, comment_activity_count)       NaN      0.0   \n",
       "3  (sentiment_magnitude, post_activity_count, com...       NaN      0.0   \n",
       "4  (sentiment_sign, sentiment_magnitude, post_act...       NaN      0.0   \n",
       "\n",
       "   std_err  \n",
       "1      NaN  \n",
       "2      NaN  \n",
       "3      NaN  \n",
       "4      NaN  "
      ]
     },
     "metadata": {},
     "output_type": "display_data"
    },
    {
     "name": "stdout",
     "output_type": "stream",
     "text": [
      "Floating Forward selection\n",
      "k=4 selected features: ('sentiment_sign', 'sentiment_magnitude', 'post_activity_count', 'comment_activity_count')\n"
     ]
    },
    {
     "name": "stderr",
     "output_type": "stream",
     "text": [
      "/home/cara/anaconda3/envs/redditenv/lib/python3.10/site-packages/numpy/core/_methods.py:269: RuntimeWarning: Degrees of freedom <= 0 for slice\n",
      "  ret = _var(a, axis=axis, dtype=dtype, out=out, ddof=ddof,\n",
      "/home/cara/anaconda3/envs/redditenv/lib/python3.10/site-packages/numpy/core/_methods.py:261: RuntimeWarning: invalid value encountered in scalar divide\n",
      "  ret = ret.dtype.type(ret / rcount)\n"
     ]
    },
    {
     "data": {
      "text/html": [
       "<div>\n",
       "<style scoped>\n",
       "    .dataframe tbody tr th:only-of-type {\n",
       "        vertical-align: middle;\n",
       "    }\n",
       "\n",
       "    .dataframe tbody tr th {\n",
       "        vertical-align: top;\n",
       "    }\n",
       "\n",
       "    .dataframe thead th {\n",
       "        text-align: right;\n",
       "    }\n",
       "</style>\n",
       "<table border=\"1\" class=\"dataframe\">\n",
       "  <thead>\n",
       "    <tr style=\"text-align: right;\">\n",
       "      <th></th>\n",
       "      <th>feature_idx</th>\n",
       "      <th>cv_scores</th>\n",
       "      <th>avg_score</th>\n",
       "      <th>feature_names</th>\n",
       "      <th>ci_bound</th>\n",
       "      <th>std_dev</th>\n",
       "      <th>std_err</th>\n",
       "    </tr>\n",
       "  </thead>\n",
       "  <tbody>\n",
       "    <tr>\n",
       "      <th>1</th>\n",
       "      <td>(3,)</td>\n",
       "      <td>[0.8185895728905598]</td>\n",
       "      <td>0.818590</td>\n",
       "      <td>(comment_activity_count,)</td>\n",
       "      <td>NaN</td>\n",
       "      <td>0.0</td>\n",
       "      <td>NaN</td>\n",
       "    </tr>\n",
       "    <tr>\n",
       "      <th>2</th>\n",
       "      <td>(2, 3)</td>\n",
       "      <td>[0.7718789719835302]</td>\n",
       "      <td>0.771879</td>\n",
       "      <td>(post_activity_count, comment_activity_count)</td>\n",
       "      <td>NaN</td>\n",
       "      <td>0.0</td>\n",
       "      <td>NaN</td>\n",
       "    </tr>\n",
       "    <tr>\n",
       "      <th>3</th>\n",
       "      <td>(1, 2, 3)</td>\n",
       "      <td>[0.758764116392171]</td>\n",
       "      <td>0.758764</td>\n",
       "      <td>(sentiment_magnitude, post_activity_count, com...</td>\n",
       "      <td>NaN</td>\n",
       "      <td>0.0</td>\n",
       "      <td>NaN</td>\n",
       "    </tr>\n",
       "    <tr>\n",
       "      <th>4</th>\n",
       "      <td>(0, 1, 2, 3)</td>\n",
       "      <td>[0.7556305197517603]</td>\n",
       "      <td>0.755631</td>\n",
       "      <td>(sentiment_sign, sentiment_magnitude, post_act...</td>\n",
       "      <td>NaN</td>\n",
       "      <td>0.0</td>\n",
       "      <td>NaN</td>\n",
       "    </tr>\n",
       "  </tbody>\n",
       "</table>\n",
       "</div>"
      ],
      "text/plain": [
       "    feature_idx             cv_scores  avg_score  \\\n",
       "1          (3,)  [0.8185895728905598]   0.818590   \n",
       "2        (2, 3)  [0.7718789719835302]   0.771879   \n",
       "3     (1, 2, 3)   [0.758764116392171]   0.758764   \n",
       "4  (0, 1, 2, 3)  [0.7556305197517603]   0.755631   \n",
       "\n",
       "                                       feature_names  ci_bound  std_dev  \\\n",
       "1                          (comment_activity_count,)       NaN      0.0   \n",
       "2      (post_activity_count, comment_activity_count)       NaN      0.0   \n",
       "3  (sentiment_magnitude, post_activity_count, com...       NaN      0.0   \n",
       "4  (sentiment_sign, sentiment_magnitude, post_act...       NaN      0.0   \n",
       "\n",
       "   std_err  \n",
       "1      NaN  \n",
       "2      NaN  \n",
       "3      NaN  \n",
       "4      NaN  "
      ]
     },
     "metadata": {},
     "output_type": "display_data"
    },
    {
     "name": "stdout",
     "output_type": "stream",
     "text": [
      "\n",
      " Sequential Backward selection\n",
      "k=1 selected features: ('comment_activity_count',)\n"
     ]
    },
    {
     "name": "stderr",
     "output_type": "stream",
     "text": [
      "/home/cara/anaconda3/envs/redditenv/lib/python3.10/site-packages/numpy/core/_methods.py:269: RuntimeWarning: Degrees of freedom <= 0 for slice\n",
      "  ret = _var(a, axis=axis, dtype=dtype, out=out, ddof=ddof,\n",
      "/home/cara/anaconda3/envs/redditenv/lib/python3.10/site-packages/numpy/core/_methods.py:261: RuntimeWarning: invalid value encountered in scalar divide\n",
      "  ret = ret.dtype.type(ret / rcount)\n"
     ]
    },
    {
     "data": {
      "text/html": [
       "<div>\n",
       "<style scoped>\n",
       "    .dataframe tbody tr th:only-of-type {\n",
       "        vertical-align: middle;\n",
       "    }\n",
       "\n",
       "    .dataframe tbody tr th {\n",
       "        vertical-align: top;\n",
       "    }\n",
       "\n",
       "    .dataframe thead th {\n",
       "        text-align: right;\n",
       "    }\n",
       "</style>\n",
       "<table border=\"1\" class=\"dataframe\">\n",
       "  <thead>\n",
       "    <tr style=\"text-align: right;\">\n",
       "      <th></th>\n",
       "      <th>feature_idx</th>\n",
       "      <th>cv_scores</th>\n",
       "      <th>avg_score</th>\n",
       "      <th>feature_names</th>\n",
       "      <th>ci_bound</th>\n",
       "      <th>std_dev</th>\n",
       "      <th>std_err</th>\n",
       "    </tr>\n",
       "  </thead>\n",
       "  <tbody>\n",
       "    <tr>\n",
       "      <th>4</th>\n",
       "      <td>(0, 1, 2, 3)</td>\n",
       "      <td>[0.7556305197517603]</td>\n",
       "      <td>0.755631</td>\n",
       "      <td>(sentiment_sign, sentiment_magnitude, post_act...</td>\n",
       "      <td>NaN</td>\n",
       "      <td>0.0</td>\n",
       "      <td>NaN</td>\n",
       "    </tr>\n",
       "    <tr>\n",
       "      <th>3</th>\n",
       "      <td>(1, 2, 3)</td>\n",
       "      <td>[0.758764116392171]</td>\n",
       "      <td>0.758764</td>\n",
       "      <td>(sentiment_magnitude, post_activity_count, com...</td>\n",
       "      <td>NaN</td>\n",
       "      <td>0.0</td>\n",
       "      <td>NaN</td>\n",
       "    </tr>\n",
       "    <tr>\n",
       "      <th>2</th>\n",
       "      <td>(2, 3)</td>\n",
       "      <td>[0.7718789719835302]</td>\n",
       "      <td>0.771879</td>\n",
       "      <td>(post_activity_count, comment_activity_count)</td>\n",
       "      <td>NaN</td>\n",
       "      <td>0.0</td>\n",
       "      <td>NaN</td>\n",
       "    </tr>\n",
       "    <tr>\n",
       "      <th>1</th>\n",
       "      <td>(3,)</td>\n",
       "      <td>[0.8185895728905598]</td>\n",
       "      <td>0.818590</td>\n",
       "      <td>(comment_activity_count,)</td>\n",
       "      <td>NaN</td>\n",
       "      <td>0.0</td>\n",
       "      <td>NaN</td>\n",
       "    </tr>\n",
       "  </tbody>\n",
       "</table>\n",
       "</div>"
      ],
      "text/plain": [
       "    feature_idx             cv_scores  avg_score  \\\n",
       "4  (0, 1, 2, 3)  [0.7556305197517603]   0.755631   \n",
       "3     (1, 2, 3)   [0.758764116392171]   0.758764   \n",
       "2        (2, 3)  [0.7718789719835302]   0.771879   \n",
       "1          (3,)  [0.8185895728905598]   0.818590   \n",
       "\n",
       "                                       feature_names  ci_bound  std_dev  \\\n",
       "4  (sentiment_sign, sentiment_magnitude, post_act...       NaN      0.0   \n",
       "3  (sentiment_magnitude, post_activity_count, com...       NaN      0.0   \n",
       "2      (post_activity_count, comment_activity_count)       NaN      0.0   \n",
       "1                          (comment_activity_count,)       NaN      0.0   \n",
       "\n",
       "   std_err  \n",
       "4      NaN  \n",
       "3      NaN  \n",
       "2      NaN  \n",
       "1      NaN  "
      ]
     },
     "metadata": {},
     "output_type": "display_data"
    },
    {
     "name": "stdout",
     "output_type": "stream",
     "text": [
      "\n",
      " Floating Backward selection\n",
      "k=1 selected features: ('comment_activity_count',)\n"
     ]
    },
    {
     "name": "stderr",
     "output_type": "stream",
     "text": [
      "/home/cara/anaconda3/envs/redditenv/lib/python3.10/site-packages/numpy/core/_methods.py:269: RuntimeWarning: Degrees of freedom <= 0 for slice\n",
      "  ret = _var(a, axis=axis, dtype=dtype, out=out, ddof=ddof,\n",
      "/home/cara/anaconda3/envs/redditenv/lib/python3.10/site-packages/numpy/core/_methods.py:261: RuntimeWarning: invalid value encountered in scalar divide\n",
      "  ret = ret.dtype.type(ret / rcount)\n"
     ]
    },
    {
     "data": {
      "text/html": [
       "<div>\n",
       "<style scoped>\n",
       "    .dataframe tbody tr th:only-of-type {\n",
       "        vertical-align: middle;\n",
       "    }\n",
       "\n",
       "    .dataframe tbody tr th {\n",
       "        vertical-align: top;\n",
       "    }\n",
       "\n",
       "    .dataframe thead th {\n",
       "        text-align: right;\n",
       "    }\n",
       "</style>\n",
       "<table border=\"1\" class=\"dataframe\">\n",
       "  <thead>\n",
       "    <tr style=\"text-align: right;\">\n",
       "      <th></th>\n",
       "      <th>feature_idx</th>\n",
       "      <th>cv_scores</th>\n",
       "      <th>avg_score</th>\n",
       "      <th>feature_names</th>\n",
       "      <th>ci_bound</th>\n",
       "      <th>std_dev</th>\n",
       "      <th>std_err</th>\n",
       "    </tr>\n",
       "  </thead>\n",
       "  <tbody>\n",
       "    <tr>\n",
       "      <th>4</th>\n",
       "      <td>(0, 1, 2, 3)</td>\n",
       "      <td>[0.7556305197517603]</td>\n",
       "      <td>0.755631</td>\n",
       "      <td>(sentiment_sign, sentiment_magnitude, post_act...</td>\n",
       "      <td>NaN</td>\n",
       "      <td>0.0</td>\n",
       "      <td>NaN</td>\n",
       "    </tr>\n",
       "    <tr>\n",
       "      <th>3</th>\n",
       "      <td>(1, 2, 3)</td>\n",
       "      <td>[0.758764116392171]</td>\n",
       "      <td>0.758764</td>\n",
       "      <td>(sentiment_magnitude, post_activity_count, com...</td>\n",
       "      <td>NaN</td>\n",
       "      <td>0.0</td>\n",
       "      <td>NaN</td>\n",
       "    </tr>\n",
       "    <tr>\n",
       "      <th>2</th>\n",
       "      <td>(2, 3)</td>\n",
       "      <td>[0.7718789719835302]</td>\n",
       "      <td>0.771879</td>\n",
       "      <td>(post_activity_count, comment_activity_count)</td>\n",
       "      <td>NaN</td>\n",
       "      <td>0.0</td>\n",
       "      <td>NaN</td>\n",
       "    </tr>\n",
       "    <tr>\n",
       "      <th>1</th>\n",
       "      <td>(3,)</td>\n",
       "      <td>[0.8185895728905598]</td>\n",
       "      <td>0.818590</td>\n",
       "      <td>(comment_activity_count,)</td>\n",
       "      <td>NaN</td>\n",
       "      <td>0.0</td>\n",
       "      <td>NaN</td>\n",
       "    </tr>\n",
       "  </tbody>\n",
       "</table>\n",
       "</div>"
      ],
      "text/plain": [
       "    feature_idx             cv_scores  avg_score  \\\n",
       "4  (0, 1, 2, 3)  [0.7556305197517603]   0.755631   \n",
       "3     (1, 2, 3)   [0.758764116392171]   0.758764   \n",
       "2        (2, 3)  [0.7718789719835302]   0.771879   \n",
       "1          (3,)  [0.8185895728905598]   0.818590   \n",
       "\n",
       "                                       feature_names  ci_bound  std_dev  \\\n",
       "4  (sentiment_sign, sentiment_magnitude, post_act...       NaN      0.0   \n",
       "3  (sentiment_magnitude, post_activity_count, com...       NaN      0.0   \n",
       "2      (post_activity_count, comment_activity_count)       NaN      0.0   \n",
       "1                          (comment_activity_count,)       NaN      0.0   \n",
       "\n",
       "   std_err  \n",
       "4      NaN  \n",
       "3      NaN  \n",
       "2      NaN  \n",
       "1      NaN  "
      ]
     },
     "metadata": {},
     "output_type": "display_data"
    }
   ],
   "source": [
    "from sklearn import linear_model\n",
    "from sklearn.model_selection import train_test_split\n",
    "from sklearn.metrics import accuracy_score\n",
    "from mlxtend.feature_selection import SequentialFeatureSelector\n",
    "\n",
    "\n",
    "scoring_method = 'roc_auc'\n",
    "# perform stepwise regression\n",
    "# forward selection\n",
    "print('Sequential Forward selection')\n",
    "#for k in range(1,5):\n",
    "k=4\n",
    "sfs = SequentialFeatureSelector(linear_model.LogisticRegression(),\n",
    "                                k_features = k,\n",
    "                                forward=True,\n",
    "                                scoring=scoring_method,\n",
    "                                cv=None,)\n",
    "selected_features = sfs.fit(X_train, y_train)\n",
    "print(f'k={k} selected features: {selected_features.k_feature_names_}')\n",
    "#display(selected_features.subsets_)\n",
    "display(pd.DataFrame.from_dict(selected_features.get_metric_dict(), orient='index'))\n",
    "\n",
    "print('Floating Forward selection')\n",
    "#for k in range(1,5):\n",
    "\n",
    "sfs = SequentialFeatureSelector(linear_model.LogisticRegression(),\n",
    "                                k_features = k,\n",
    "                                forward=True,\n",
    "                                scoring=scoring_method,\n",
    "                                floating=True,\n",
    "                                cv=None,)\n",
    "selected_features = sfs.fit(X_train, y_train)\n",
    "print(f'k={k} selected features: {selected_features.k_feature_names_}')\n",
    "#display(selected_features.subsets_)\n",
    "display(pd.DataFrame.from_dict(selected_features.get_metric_dict(), orient='index'))\n",
    "\n",
    "# backward selection\n",
    "print('\\n Sequential Backward selection')\n",
    "k=1\n",
    "#for k in range(1,5):\n",
    "sfs = SequentialFeatureSelector(linear_model.LogisticRegression(),\n",
    "                                k_features = k,\n",
    "                                forward=False,\n",
    "                                scoring=scoring_method,\n",
    "                                cv=None)\n",
    "selected_features = sfs.fit(X_train, y_train)\n",
    "print(f'k={k} selected features: {selected_features.k_feature_names_}')\n",
    "display(pd.DataFrame.from_dict(selected_features.get_metric_dict(), orient='index'))\n",
    "\n",
    "print('\\n Floating Backward selection')\n",
    "#for k in range(1,5):\n",
    "sfs = SequentialFeatureSelector(linear_model.LogisticRegression(),\n",
    "                                k_features = k,\n",
    "                                forward=False,\n",
    "                                scoring=scoring_method,\n",
    "                                floating=True,\n",
    "                                cv=None)\n",
    "selected_features = sfs.fit(X_train, y_train)\n",
    "print(f'k={k} selected features: {selected_features.k_feature_names_}')\n",
    "display(pd.DataFrame.from_dict(selected_features.get_metric_dict(), orient='index'))"
   ]
  },
  {
   "cell_type": "code",
   "execution_count": 47,
   "metadata": {},
   "outputs": [],
   "source": [
    "from mlxtend.plotting import plot_sequential_feature_selection as plot_sfs"
   ]
  },
  {
   "cell_type": "code",
   "execution_count": 64,
   "metadata": {},
   "outputs": [
    {
     "data": {
      "image/png": "[encoded data removed]",
      "text/plain": [
       "<Figure size 640x480 with 1 Axes>"
      ]
     },
     "metadata": {},
     "output_type": "display_data"
    }
   ],
   "source": [
    "sfs = SequentialFeatureSelector(linear_model.LogisticRegression(),\n",
    "                                k_features = 4,\n",
    "                                forward=True,\n",
    "                                scoring='roc_auc',\n",
    "                                floating=False,\n",
    "                                cv=5)\n",
    "selected_features = sfs.fit(X_train, y_train)\n",
    "fig1 = plot_sfs(selected_features.get_metric_dict(), kind='std_dev')\n",
    "plt.title('Sequential Forward Selection (w. StdDev)')\n",
    "plt.ylabel('Performance - roc auc')\n",
    "plt.show()\n",
    "\n",
    "# https://scikit-learn.org/stable/modules/generated/sklearn.metrics.roc_auc_score.html#sklearn.metrics.roc_auc_score"
   ]
  },
  {
   "cell_type": "code",
   "execution_count": 65,
   "metadata": {},
   "outputs": [
    {
     "data": {
      "image/png": "[encoded data removed]",
      "text/plain": [
       "<Figure size 640x480 with 1 Axes>"
      ]
     },
     "metadata": {},
     "output_type": "display_data"
    }
   ],
   "source": [
    "sfs = SequentialFeatureSelector(linear_model.LogisticRegression(),\n",
    "                                k_features = 4,\n",
    "                                forward=True,\n",
    "                                scoring='accuracy',\n",
    "                                floating=False,\n",
    "                                cv=5)\n",
    "selected_features = sfs.fit(X_train, y_train)\n",
    "fig1 = plot_sfs(selected_features.get_metric_dict(), kind='std_dev')\n",
    "plt.title('Sequential Forward Selection (w. StdDev)')\n",
    "plt.ylabel('Performance - accuracy')\n",
    "plt.show()\n",
    "\n",
    "\n",
    "# https://scikit-learn.org/stable/modules/generated/sklearn.metrics.roc_auc_score.html\n"
   ]
  },
  {
   "cell_type": "code",
   "execution_count": 66,
   "metadata": {},
   "outputs": [
    {
     "data": {
      "image/png": "[encoded data removed]",
      "text/plain": [
       "<Figure size 640x480 with 1 Axes>"
      ]
     },
     "metadata": {},
     "output_type": "display_data"
    }
   ],
   "source": [
    "sfs = SequentialFeatureSelector(linear_model.LogisticRegression(),\n",
    "                                k_features = 4,\n",
    "                                forward=True,\n",
    "                                scoring='f1',\n",
    "                                floating=False,\n",
    "                                cv=5)\n",
    "selected_features = sfs.fit(X_train, y_train)\n",
    "fig1 = plot_sfs(selected_features.get_metric_dict(), kind='std_dev')\n",
    "plt.title('Sequential Forward Selection (w. StdDev)')\n",
    "plt.ylabel('Performance - f1')\n",
    "plt.show()\n",
    "\n",
    "# https://scikit-learn.org/stable/modules/generated/sklearn.metrics.f1_score.html#sklearn.metrics.f1_score"
   ]
  },
  {
   "cell_type": "code",
   "execution_count": 67,
   "metadata": {},
   "outputs": [
    {
     "data": {
      "image/png": "[encoded data removed]",
      "text/plain": [
       "<Figure size 640x480 with 1 Axes>"
      ]
     },
     "metadata": {},
     "output_type": "display_data"
    }
   ],
   "source": [
    "sfs = SequentialFeatureSelector(linear_model.LogisticRegression(),\n",
    "                                k_features = 4,\n",
    "                                forward=True,\n",
    "                                scoring='precision',\n",
    "                                floating=False,\n",
    "                                cv=5)\n",
    "selected_features = sfs.fit(X_train, y_train)\n",
    "fig1 = plot_sfs(selected_features.get_metric_dict(), kind='std_dev')\n",
    "plt.title('Sequential Forward Selection (w. StdDev)')\n",
    "plt.ylabel('Performance - precision')\n",
    "plt.show()\n",
    "\n",
    "# https://scikit-learn.org/stable/modules/generated/sklearn.metrics.precision_score.html#sklearn.metrics.precision_score"
   ]
  },
  {
   "cell_type": "code",
   "execution_count": 68,
   "metadata": {},
   "outputs": [
    {
     "data": {
      "image/png": "[encoded data removed]",
      "text/plain": [
       "<Figure size 640x480 with 1 Axes>"
      ]
     },
     "metadata": {},
     "output_type": "display_data"
    }
   ],
   "source": [
    "sfs = SequentialFeatureSelector(linear_model.LogisticRegression(),\n",
    "                                k_features = 4,\n",
    "                                forward=True,\n",
    "                                scoring='recall',\n",
    "                                floating=False,\n",
    "                                cv=5)\n",
    "selected_features = sfs.fit(X_train, y_train)\n",
    "fig1 = plot_sfs(selected_features.get_metric_dict(), kind='std_dev')\n",
    "plt.title('Sequential Forward Selection (w. StdDev)')\n",
    "plt.ylabel('Performance - recall')\n",
    "plt.show()\n",
    "\n",
    "# https://scikit-learn.org/stable/modules/generated/sklearn.metrics.recall_score.html#sklearn.metrics.recall_score"
   ]
  },
  {
   "cell_type": "code",
   "execution_count": 82,
   "metadata": {},
   "outputs": [],
   "source": [
    "\n",
    "X_train = regression_thread_data['crypto']['calibration'][[\n",
    "    'sentiment_sign', 'sentiment_magnitude', 'post_activity_count',\n",
    "    'comment_activity_count'\n",
    "    ]]\n",
    "X_test = regression_thread_data['crypto']['validation'][[\n",
    "    'sentiment_sign', 'sentiment_magnitude', 'post_activity_count',\n",
    "    'comment_activity_count'\n",
    "    ]]\n",
    "y_train = regression_thread_data['crypto']['calibration']['success']\n",
    "y_test = regression_thread_data['crypto']['validation']['success']"
   ]
  },
  {
   "cell_type": "code",
   "execution_count": 85,
   "metadata": {},
   "outputs": [
    {
     "name": "stdout",
     "output_type": "stream",
     "text": [
      "Selected features: ('comment_activity_count',)\n"
     ]
    }
   ],
   "source": [
    "sfs1  = SequentialFeatureSelector(linear_model.LogisticRegression(),\n",
    "                                  k_features=1,\n",
    "                                  forward=True,\n",
    "                                  floating=False,\n",
    "                                  scoring='roc_auc',\n",
    "                                  cv=5)\n",
    "sfs1 = sfs1.fit(X_train, y_train)\n",
    "print(f'Selected features: {sfs1.k_feature_names_}')"
   ]
  },
  {
   "cell_type": "code",
   "execution_count": 92,
   "metadata": {},
   "outputs": [
    {
     "name": "stdout",
     "output_type": "stream",
     "text": [
      "Test set accuracy: 63.92 %\n",
      "Test set ROC AUC: 0.58\n"
     ]
    }
   ],
   "source": [
    "# Generate the new subsets based on the selected features\n",
    "# Note that the transform call is equivalent to\n",
    "# X_train[:, sfs1.k_feature_idx_]\n",
    "\n",
    "X_train_sfs = sfs1.transform(X_train)\n",
    "X_test_sfs = sfs1.transform(X_test)\n",
    "\n",
    "# Fit the estimator using the new feature subset\n",
    "# and make a prediction on the test data\n",
    "logit = linear_model.LogisticRegression()\n",
    "logit.fit(X_train_sfs, y_train)\n",
    "y_pred = logit.predict(X_test_sfs)\n",
    "\n",
    "# Compute the accuracy of the prediction\n",
    "acc = float((y_test == y_pred).sum()) / y_pred.shape[0]\n",
    "print('Test set accuracy: %.2f %%' % (acc * 100))\n",
    "\n",
    "auc = metrics.roc_auc_score(y_test,  y_pred)\n",
    "print('Test set ROC AUC: %.2f' % (auc))"
   ]
  },
  {
   "cell_type": "code",
   "execution_count": 93,
   "metadata": {},
   "outputs": [
    {
     "name": "stdout",
     "output_type": "stream",
     "text": [
      "Selected features: ('post_activity_count', 'comment_activity_count')\n",
      "Test set accuracy: 65.79 %\n",
      "Test set ROC AUC: 0.60\n"
     ]
    }
   ],
   "source": [
    "sfs2  = SequentialFeatureSelector(linear_model.LogisticRegression(),\n",
    "                                  k_features=2,\n",
    "                                  forward=True,\n",
    "                                  floating=False,\n",
    "                                  scoring='roc_auc',\n",
    "                                  cv=5)\n",
    "sfs2 = sfs2.fit(X_train, y_train)\n",
    "print(f'Selected features: {sfs2.k_feature_names_}')\n",
    "\n",
    "# Generate the new subsets based on the selected features\n",
    "# Note that the transform call is equivalent to\n",
    "# X_train[:, sfs1.k_feature_idx_]\n",
    "\n",
    "X_train_sfs = sfs2.transform(X_train)\n",
    "X_test_sfs = sfs2.transform(X_test)\n",
    "\n",
    "# Fit the estimator using the new feature subset\n",
    "# and make a prediction on the test data\n",
    "logit = linear_model.LogisticRegression()\n",
    "logit.fit(X_train_sfs, y_train)\n",
    "y_pred = logit.predict(X_test_sfs)\n",
    "\n",
    "# Compute the accuracy of the prediction\n",
    "acc = float((y_test == y_pred).sum()) / y_pred.shape[0]\n",
    "print('Test set accuracy: %.2f %%' % (acc * 100))\n",
    "\n",
    "auc = metrics.roc_auc_score(y_test,  y_pred)\n",
    "print('Test set ROC AUC: %.2f' % (auc))"
   ]
  },
  {
   "cell_type": "code",
   "execution_count": 94,
   "metadata": {},
   "outputs": [
    {
     "name": "stdout",
     "output_type": "stream",
     "text": [
      "Selected features: ('sentiment_magnitude', 'post_activity_count', 'comment_activity_count')\n",
      "Test set accuracy: 65.77 %\n",
      "Test set ROC AUC: 0.60\n"
     ]
    }
   ],
   "source": [
    "sfs3  = SequentialFeatureSelector(linear_model.LogisticRegression(),\n",
    "                                  k_features=3,\n",
    "                                  forward=True,\n",
    "                                  floating=False,\n",
    "                                  scoring='roc_auc',\n",
    "                                  cv=5)\n",
    "sfs3 = sfs3.fit(X_train, y_train)\n",
    "print(f'Selected features: {sfs3.k_feature_names_}')\n",
    "\n",
    "# Generate the new subsets based on the selected features\n",
    "# Note that the transform call is equivalent to\n",
    "# X_train[:, sfs1.k_feature_idx_]\n",
    "\n",
    "X_train_sfs = sfs3.transform(X_train)\n",
    "X_test_sfs = sfs3.transform(X_test)\n",
    "\n",
    "# Fit the estimator using the new feature subset\n",
    "# and make a prediction on the test data\n",
    "logit = linear_model.LogisticRegression()\n",
    "logit.fit(X_train_sfs, y_train)\n",
    "y_pred = logit.predict(X_test_sfs)\n",
    "\n",
    "# Compute the accuracy of the prediction\n",
    "acc = float((y_test == y_pred).sum()) / y_pred.shape[0]\n",
    "print('Test set accuracy: %.2f %%' % (acc * 100))\n",
    "\n",
    "auc = metrics.roc_auc_score(y_test,  y_pred)\n",
    "print('Test set ROC AUC: %.2f' % (auc))"
   ]
  },
  {
   "cell_type": "code",
   "execution_count": 95,
   "metadata": {},
   "outputs": [
    {
     "data": {
      "image/png": "[encoded data removed]",
      "text/plain": [
       "<Figure size 640x480 with 1 Axes>"
      ]
     },
     "metadata": {},
     "output_type": "display_data"
    }
   ],
   "source": [
    "\n",
    "\n",
    "sfs = SequentialFeatureSelector(linear_model.LogisticRegression(),\n",
    "                                k_features = (1,4),\n",
    "                                forward=True,\n",
    "                                scoring='roc_auc',\n",
    "                                floating=False,\n",
    "                                cv=5)\n",
    "selected_features = sfs.fit(X_train, y_train)\n",
    "fig1 = plot_sfs(selected_features.get_metric_dict(), kind='std_dev')\n",
    "plt.title('Sequential Forward Selection (w. StdDev)')\n",
    "plt.ylabel('Performance - roc auc')\n",
    "plt.show()"
   ]
  },
  {
   "cell_type": "code",
   "execution_count": 97,
   "metadata": {},
   "outputs": [
    {
     "name": "stdout",
     "output_type": "stream",
     "text": [
      "Sequential Forward selection\n",
      "selected features: ('comment_activity_count',)\n"
     ]
    },
    {
     "name": "stderr",
     "output_type": "stream",
     "text": [
      "/home/cara/anaconda3/envs/redditenv/lib/python3.10/site-packages/numpy/core/_methods.py:269: RuntimeWarning: Degrees of freedom <= 0 for slice\n",
      "  ret = _var(a, axis=axis, dtype=dtype, out=out, ddof=ddof,\n",
      "/home/cara/anaconda3/envs/redditenv/lib/python3.10/site-packages/numpy/core/_methods.py:261: RuntimeWarning: invalid value encountered in scalar divide\n",
      "  ret = ret.dtype.type(ret / rcount)\n"
     ]
    },
    {
     "data": {
      "text/html": [
       "<div>\n",
       "<style scoped>\n",
       "    .dataframe tbody tr th:only-of-type {\n",
       "        vertical-align: middle;\n",
       "    }\n",
       "\n",
       "    .dataframe tbody tr th {\n",
       "        vertical-align: top;\n",
       "    }\n",
       "\n",
       "    .dataframe thead th {\n",
       "        text-align: right;\n",
       "    }\n",
       "</style>\n",
       "<table border=\"1\" class=\"dataframe\">\n",
       "  <thead>\n",
       "    <tr style=\"text-align: right;\">\n",
       "      <th></th>\n",
       "      <th>feature_idx</th>\n",
       "      <th>cv_scores</th>\n",
       "      <th>avg_score</th>\n",
       "      <th>feature_names</th>\n",
       "      <th>ci_bound</th>\n",
       "      <th>std_dev</th>\n",
       "      <th>std_err</th>\n",
       "    </tr>\n",
       "  </thead>\n",
       "  <tbody>\n",
       "    <tr>\n",
       "      <th>1</th>\n",
       "      <td>(3,)</td>\n",
       "      <td>[0.8185895728905598]</td>\n",
       "      <td>0.818590</td>\n",
       "      <td>(comment_activity_count,)</td>\n",
       "      <td>NaN</td>\n",
       "      <td>0.0</td>\n",
       "      <td>NaN</td>\n",
       "    </tr>\n",
       "    <tr>\n",
       "      <th>2</th>\n",
       "      <td>(2, 3)</td>\n",
       "      <td>[0.7718789719835302]</td>\n",
       "      <td>0.771879</td>\n",
       "      <td>(post_activity_count, comment_activity_count)</td>\n",
       "      <td>NaN</td>\n",
       "      <td>0.0</td>\n",
       "      <td>NaN</td>\n",
       "    </tr>\n",
       "    <tr>\n",
       "      <th>3</th>\n",
       "      <td>(1, 2, 3)</td>\n",
       "      <td>[0.758764116392171]</td>\n",
       "      <td>0.758764</td>\n",
       "      <td>(sentiment_magnitude, post_activity_count, com...</td>\n",
       "      <td>NaN</td>\n",
       "      <td>0.0</td>\n",
       "      <td>NaN</td>\n",
       "    </tr>\n",
       "    <tr>\n",
       "      <th>4</th>\n",
       "      <td>(0, 1, 2, 3)</td>\n",
       "      <td>[0.7556305197517603]</td>\n",
       "      <td>0.755631</td>\n",
       "      <td>(sentiment_sign, sentiment_magnitude, post_act...</td>\n",
       "      <td>NaN</td>\n",
       "      <td>0.0</td>\n",
       "      <td>NaN</td>\n",
       "    </tr>\n",
       "  </tbody>\n",
       "</table>\n",
       "</div>"
      ],
      "text/plain": [
       "    feature_idx             cv_scores  avg_score  \\\n",
       "1          (3,)  [0.8185895728905598]   0.818590   \n",
       "2        (2, 3)  [0.7718789719835302]   0.771879   \n",
       "3     (1, 2, 3)   [0.758764116392171]   0.758764   \n",
       "4  (0, 1, 2, 3)  [0.7556305197517603]   0.755631   \n",
       "\n",
       "                                       feature_names  ci_bound  std_dev  \\\n",
       "1                          (comment_activity_count,)       NaN      0.0   \n",
       "2      (post_activity_count, comment_activity_count)       NaN      0.0   \n",
       "3  (sentiment_magnitude, post_activity_count, com...       NaN      0.0   \n",
       "4  (sentiment_sign, sentiment_magnitude, post_act...       NaN      0.0   \n",
       "\n",
       "   std_err  \n",
       "1      NaN  \n",
       "2      NaN  \n",
       "3      NaN  \n",
       "4      NaN  "
      ]
     },
     "metadata": {},
     "output_type": "display_data"
    }
   ],
   "source": [
    "print('Sequential Forward selection')\n",
    "sfs = SequentialFeatureSelector(linear_model.LogisticRegression(),\n",
    "                                k_features = (1,4),\n",
    "                                forward=True,\n",
    "                                scoring=scoring_method,\n",
    "                                cv=None,)\n",
    "selected_features = sfs.fit(X_train, y_train)\n",
    "print(f'selected features: {selected_features.k_feature_names_}')\n",
    "#display(selected_features.subsets_)\n",
    "display(pd.DataFrame.from_dict(selected_features.get_metric_dict(), orient='index'))\n"
   ]
  },
  {
   "cell_type": "code",
   "execution_count": null,
   "metadata": {},
   "outputs": [],
   "source": []
  }
 ],
 "metadata": {
  "kernelspec": {
   "display_name": "redditenv",
   "language": "python",
   "name": "python3"
  },
  "language_info": {
   "codemirror_mode": {
    "name": "ipython",
    "version": 3
   },
   "file_extension": ".py",
   "mimetype": "text/x-python",
   "name": "python",
   "nbconvert_exporter": "python",
   "pygments_lexer": "ipython3",
   "version": "3.10.9"
  },
  "orig_nbformat": 4
 },
 "nbformat": 4,
 "nbformat_minor": 2
}
