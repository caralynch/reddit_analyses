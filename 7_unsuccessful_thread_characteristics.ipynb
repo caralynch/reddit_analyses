{
 "cells": [
  {
   "cell_type": "code",
   "execution_count": 1,
   "metadata": {},
   "outputs": [],
   "source": [
    "import sys\n",
    "sys.path.append('/home/cara/Documents/reddit_analysis_code')\n",
    "import numpy as np\n",
    "import pandas as pd\n",
    "from reddit_dataclass import RedditData as reddit\n",
    "import pickle\n",
    "import matplotlib.pyplot as plt"
   ]
  },
  {
   "cell_type": "code",
   "execution_count": null,
   "metadata": {},
   "outputs": [],
   "source": []
  }
 ],
 "metadata": {
  "kernelspec": {
   "display_name": "base",
   "language": "python",
   "name": "python3"
  },
  "language_info": {
   "codemirror_mode": {
    "name": "ipython",
    "version": 3
   },
   "file_extension": ".py",
   "mimetype": "text/x-python",
   "name": "python",
   "nbconvert_exporter": "python",
   "pygments_lexer": "ipython3",
   "version": "3.9.7"
  },
  "orig_nbformat": 4,
  "vscode": {
   "interpreter": {
    "hash": "99e20522c72949769df9e8e73f2782f722901b2629ed692cd27362128eefc862"
   }
  }
 },
 "nbformat": 4,
 "nbformat_minor": 2
}
