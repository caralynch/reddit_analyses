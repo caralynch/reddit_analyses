{
 "cells": [
  {
   "cell_type": "code",
   "execution_count": 1,
   "metadata": {},
   "outputs": [],
   "source": [
    "# data manipulation imports\n",
    "import pandas as pd\n",
    "import numpy as np\n",
    "\n",
    "# data saving imports\n",
    "import pickle\n",
    "\n",
    "# custom imports\n",
    "from regression_class import RedditRegression as RR\n",
    "from regression_class import TimestampClass\n",
    "from regression_class import QuantileClass as qc\n",
    "\n",
    "# stats imports\n",
    "import statsmodels.formula.api as smf\n",
    "from sklearn import linear_model\n",
    "from sklearn import metrics\n",
    "from mlxtend.feature_selection import SequentialFeatureSelector\n",
    "from sklearn.preprocessing import StandardScaler\n",
    "\n",
    "# plotting imports\n",
    "import matplotlib.pyplot as plt\n",
    "import matplotlib.colors as mcolors"
   ]
  },
  {
   "cell_type": "code",
   "execution_count": 2,
   "metadata": {},
   "outputs": [],
   "source": [
    "data = pickle.load(open('test_data_crypto_5_days.p', 'rb'))\n",
    "regression_threads = data['regression_data']\n",
    "all_data = data['all_data']\n",
    "threads_started = regression_threads[regression_threads.thread_size > 1]\n",
    "started_threads_all_data = all_data[all_data.thread_id.isin(threads_started.thread_id)]"
   ]
  },
  {
   "cell_type": "code",
   "execution_count": 3,
   "metadata": {},
   "outputs": [],
   "source": [
    "X_COLS = [\n",
    "    \"sentiment_sign\",\n",
    "    \"sentiment_magnitude\",\n",
    "    \"hour\",\n",
    "    \"num_dayofweek\",\n",
    "    \"activity_ratio\",\n",
    "    \"mean_author_sentiment_sign\",\n",
    "    \"mean_author_sentiment_magnitude\",\n",
    "    \"log_author_all_activity_count\",\n",
    "]\n",
    "y_col = \"thread_size\"\n",
    "quantiles = [0.25, 0.5, 0.75]\n",
    "\n",
    "regression_params = {\n",
    "    'name': 'crypto',\n",
    "    'regression_data': threads_started,\n",
    "    'thread_data': started_threads_all_data,\n",
    "    'regression_type': 'mnlogit',\n",
    "    'collection_window': 2,\n",
    "    'model_window': 2,\n",
    "    'validation_window': 1,\n",
    "    'FSS': True,\n",
    "    'performance_scoring_method': \"mnlogit\",\n",
    "    'x_cols': X_COLS,\n",
    "    'y_col': y_col,\n",
    "    'metrics': ['mnlogit_accuracy', 'mnlogit_aucs', \"mnlogit_mean_auc\"],\n",
    "    'activity_threshold': 2,\n",
    "    'quantiles': quantiles,\n",
    "}"
   ]
  },
  {
   "cell_type": "code",
   "execution_count": 4,
   "metadata": {},
   "outputs": [],
   "source": [
    "test_mnlogit = RR(regression_params)"
   ]
  },
  {
   "cell_type": "code",
   "execution_count": 5,
   "metadata": {},
   "outputs": [
    {
     "name": "stdout",
     "output_type": "stream",
     "text": [
      "Running FSS\n"
     ]
    },
    {
     "name": "stderr",
     "output_type": "stream",
     "text": [
      "c:\\Users\\snuzz\\anaconda3\\envs\\redditenv\\lib\\site-packages\\numpy\\core\\_methods.py:269: RuntimeWarning: Degrees of freedom <= 0 for slice\n",
      "  ret = _var(a, axis=axis, dtype=dtype, out=out, ddof=ddof,\n",
      "c:\\Users\\snuzz\\anaconda3\\envs\\redditenv\\lib\\site-packages\\numpy\\core\\_methods.py:261: RuntimeWarning: invalid value encountered in scalar divide\n",
      "  ret = ret.dtype.type(ret / rcount)\n",
      "c:\\Users\\snuzz\\anaconda3\\envs\\redditenv\\lib\\site-packages\\numpy\\core\\_methods.py:269: RuntimeWarning: Degrees of freedom <= 0 for slice\n",
      "  ret = _var(a, axis=axis, dtype=dtype, out=out, ddof=ddof,\n",
      "c:\\Users\\snuzz\\anaconda3\\envs\\redditenv\\lib\\site-packages\\numpy\\core\\_methods.py:261: RuntimeWarning: invalid value encountered in scalar divide\n",
      "  ret = ret.dtype.type(ret / rcount)\n"
     ]
    },
    {
     "name": "stdout",
     "output_type": "stream",
     "text": [
      "Model 1\n",
      "Optimization terminated successfully.\n",
      "         Current function value: 1.367844\n",
      "         Iterations 4\n",
      "Model 2\n",
      "Optimization terminated successfully.\n",
      "         Current function value: 1.359493\n",
      "         Iterations 5\n",
      "Model 3\n",
      "Optimization terminated successfully.\n",
      "         Current function value: 1.355116\n",
      "         Iterations 5\n",
      "Model 4\n",
      "Optimization terminated successfully.\n",
      "         Current function value: 1.344040\n",
      "         Iterations 5\n",
      "Model 5\n",
      "Optimization terminated successfully.\n",
      "         Current function value: 1.336794\n",
      "         Iterations 5\n",
      "Model 6\n",
      "Optimization terminated successfully.\n",
      "         Current function value: 1.335738\n",
      "         Iterations 5\n",
      "Model 7\n",
      "Optimization terminated successfully.\n",
      "         Current function value: 1.328613\n",
      "         Iterations 5\n",
      "Model 8\n",
      "Optimization terminated successfully.\n",
      "         Current function value: 1.328160\n",
      "         Iterations 5\n"
     ]
    }
   ],
   "source": [
    "test_mnlogit.main()"
   ]
  },
  {
   "cell_type": "code",
   "execution_count": 6,
   "metadata": {},
   "outputs": [
    {
     "data": {
      "text/plain": [
       "{'quantile_ranges': [(2, 10), (11.0, 22), (23.0, 40), (41.0, 3465)],\n",
       " 'quantile_counts':               count  val_count\n",
       " range                         \n",
       " (2, 10)          62         49\n",
       " (11.0, 22)       80         52\n",
       " (23.0, 40)       71         26\n",
       " (41.0, 3465)     74         46,\n",
       " 'val_quantile_ranges': [(2, 10), (11.0, 22), (23.0, 40), (41.0, 3813)]}"
      ]
     },
     "execution_count": 6,
     "metadata": {},
     "output_type": "execute_result"
    }
   ],
   "source": [
    "test_mnlogit.quantile_data"
   ]
  },
  {
   "cell_type": "code",
   "execution_count": 7,
   "metadata": {},
   "outputs": [
    {
     "data": {
      "text/html": [
       "<div>\n",
       "<style scoped>\n",
       "    .dataframe tbody tr th:only-of-type {\n",
       "        vertical-align: middle;\n",
       "    }\n",
       "\n",
       "    .dataframe tbody tr th {\n",
       "        vertical-align: top;\n",
       "    }\n",
       "\n",
       "    .dataframe thead th {\n",
       "        text-align: right;\n",
       "    }\n",
       "</style>\n",
       "<table border=\"1\" class=\"dataframe\">\n",
       "  <thead>\n",
       "    <tr style=\"text-align: right;\">\n",
       "      <th></th>\n",
       "      <th>feature_idx</th>\n",
       "      <th>cv_scores</th>\n",
       "      <th>avg_score</th>\n",
       "      <th>feature_names</th>\n",
       "      <th>ci_bound</th>\n",
       "      <th>std_dev</th>\n",
       "      <th>std_err</th>\n",
       "    </tr>\n",
       "  </thead>\n",
       "  <tbody>\n",
       "    <tr>\n",
       "      <th>1</th>\n",
       "      <td>(2,)</td>\n",
       "      <td>[0.31010452961672474]</td>\n",
       "      <td>0.310105</td>\n",
       "      <td>(hour,)</td>\n",
       "      <td>NaN</td>\n",
       "      <td>0.0</td>\n",
       "      <td>NaN</td>\n",
       "    </tr>\n",
       "    <tr>\n",
       "      <th>2</th>\n",
       "      <td>(2, 5)</td>\n",
       "      <td>[0.3588850174216028]</td>\n",
       "      <td>0.358885</td>\n",
       "      <td>(hour, mean_author_sentiment_sign)</td>\n",
       "      <td>NaN</td>\n",
       "      <td>0.0</td>\n",
       "      <td>NaN</td>\n",
       "    </tr>\n",
       "    <tr>\n",
       "      <th>3</th>\n",
       "      <td>(0, 2, 5)</td>\n",
       "      <td>[0.3519163763066202]</td>\n",
       "      <td>0.351916</td>\n",
       "      <td>(sentiment_sign, hour, mean_author_sentiment_s...</td>\n",
       "      <td>NaN</td>\n",
       "      <td>0.0</td>\n",
       "      <td>NaN</td>\n",
       "    </tr>\n",
       "    <tr>\n",
       "      <th>4</th>\n",
       "      <td>(0, 2, 4, 5)</td>\n",
       "      <td>[0.3693379790940767]</td>\n",
       "      <td>0.369338</td>\n",
       "      <td>(sentiment_sign, hour, activity_ratio, mean_au...</td>\n",
       "      <td>NaN</td>\n",
       "      <td>0.0</td>\n",
       "      <td>NaN</td>\n",
       "    </tr>\n",
       "    <tr>\n",
       "      <th>5</th>\n",
       "      <td>(0, 1, 2, 4, 5)</td>\n",
       "      <td>[0.37630662020905925]</td>\n",
       "      <td>0.376307</td>\n",
       "      <td>(sentiment_sign, sentiment_magnitude, hour, ac...</td>\n",
       "      <td>NaN</td>\n",
       "      <td>0.0</td>\n",
       "      <td>NaN</td>\n",
       "    </tr>\n",
       "    <tr>\n",
       "      <th>6</th>\n",
       "      <td>(0, 1, 2, 4, 5, 6)</td>\n",
       "      <td>[0.3797909407665505]</td>\n",
       "      <td>0.379791</td>\n",
       "      <td>(sentiment_sign, sentiment_magnitude, hour, ac...</td>\n",
       "      <td>NaN</td>\n",
       "      <td>0.0</td>\n",
       "      <td>NaN</td>\n",
       "    </tr>\n",
       "    <tr>\n",
       "      <th>7</th>\n",
       "      <td>(0, 1, 2, 4, 5, 6, 7)</td>\n",
       "      <td>[0.37282229965156793]</td>\n",
       "      <td>0.372822</td>\n",
       "      <td>(sentiment_sign, sentiment_magnitude, hour, ac...</td>\n",
       "      <td>NaN</td>\n",
       "      <td>0.0</td>\n",
       "      <td>NaN</td>\n",
       "    </tr>\n",
       "    <tr>\n",
       "      <th>8</th>\n",
       "      <td>(0, 1, 2, 3, 4, 5, 6, 7)</td>\n",
       "      <td>[0.3623693379790941]</td>\n",
       "      <td>0.362369</td>\n",
       "      <td>(sentiment_sign, sentiment_magnitude, hour, nu...</td>\n",
       "      <td>NaN</td>\n",
       "      <td>0.0</td>\n",
       "      <td>NaN</td>\n",
       "    </tr>\n",
       "  </tbody>\n",
       "</table>\n",
       "</div>"
      ],
      "text/plain": [
       "                feature_idx              cv_scores  avg_score  \\\n",
       "1                      (2,)  [0.31010452961672474]   0.310105   \n",
       "2                    (2, 5)   [0.3588850174216028]   0.358885   \n",
       "3                 (0, 2, 5)   [0.3519163763066202]   0.351916   \n",
       "4              (0, 2, 4, 5)   [0.3693379790940767]   0.369338   \n",
       "5           (0, 1, 2, 4, 5)  [0.37630662020905925]   0.376307   \n",
       "6        (0, 1, 2, 4, 5, 6)   [0.3797909407665505]   0.379791   \n",
       "7     (0, 1, 2, 4, 5, 6, 7)  [0.37282229965156793]   0.372822   \n",
       "8  (0, 1, 2, 3, 4, 5, 6, 7)   [0.3623693379790941]   0.362369   \n",
       "\n",
       "                                       feature_names  ci_bound  std_dev  \\\n",
       "1                                            (hour,)       NaN      0.0   \n",
       "2                 (hour, mean_author_sentiment_sign)       NaN      0.0   \n",
       "3  (sentiment_sign, hour, mean_author_sentiment_s...       NaN      0.0   \n",
       "4  (sentiment_sign, hour, activity_ratio, mean_au...       NaN      0.0   \n",
       "5  (sentiment_sign, sentiment_magnitude, hour, ac...       NaN      0.0   \n",
       "6  (sentiment_sign, sentiment_magnitude, hour, ac...       NaN      0.0   \n",
       "7  (sentiment_sign, sentiment_magnitude, hour, ac...       NaN      0.0   \n",
       "8  (sentiment_sign, sentiment_magnitude, hour, nu...       NaN      0.0   \n",
       "\n",
       "   std_err  \n",
       "1      NaN  \n",
       "2      NaN  \n",
       "3      NaN  \n",
       "4      NaN  \n",
       "5      NaN  \n",
       "6      NaN  \n",
       "7      NaN  \n",
       "8      NaN  "
      ]
     },
     "execution_count": 7,
     "metadata": {},
     "output_type": "execute_result"
    }
   ],
   "source": [
    "test_mnlogit.FSS_metrics['metric_df']"
   ]
  },
  {
   "cell_type": "code",
   "execution_count": 8,
   "metadata": {},
   "outputs": [],
   "source": [
    "outdir = 'C:/Users/snuzz/Documents/PhD/datasets/reddit_analyses/reddit_analyses/mnlogit/test'\n",
    "outpath = outdir + '/test_output.xlsx'"
   ]
  },
  {
   "cell_type": "code",
   "execution_count": 9,
   "metadata": {},
   "outputs": [],
   "source": [
    "test_mnlogit.output_to_excel(outpath)"
   ]
  },
  {
   "cell_type": "code",
   "execution_count": null,
   "metadata": {},
   "outputs": [],
   "source": []
  }
 ],
 "metadata": {
  "kernelspec": {
   "display_name": "redditenv",
   "language": "python",
   "name": "python3"
  },
  "language_info": {
   "codemirror_mode": {
    "name": "ipython",
    "version": 3
   },
   "file_extension": ".py",
   "mimetype": "text/x-python",
   "name": "python",
   "nbconvert_exporter": "python",
   "pygments_lexer": "ipython3",
   "version": "3.10.9"
  }
 },
 "nbformat": 4,
 "nbformat_minor": 2
}
