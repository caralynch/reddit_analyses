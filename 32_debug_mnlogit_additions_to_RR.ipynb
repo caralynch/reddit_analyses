{
 "cells": [
  {
   "cell_type": "code",
   "execution_count": 2,
   "metadata": {},
   "outputs": [],
   "source": [
    "# data manipulation imports\n",
    "import pandas as pd\n",
    "import numpy as np\n",
    "\n",
    "# data saving imports\n",
    "import pickle\n",
    "\n",
    "# custom imports\n",
    "from regression_class import RedditRegression as RR\n",
    "from regression_class import TimestampClass\n",
    "from regression_class import QuantileClass as qc\n",
    "\n",
    "# stats imports\n",
    "import statsmodels.formula.api as smf\n",
    "from sklearn import linear_model\n",
    "from sklearn import metrics\n",
    "from mlxtend.feature_selection import SequentialFeatureSelector\n",
    "from sklearn.preprocessing import StandardScaler\n",
    "\n",
    "# plotting imports\n",
    "import matplotlib.pyplot as plt\n",
    "import matplotlib.colors as mcolors"
   ]
  },
  {
   "cell_type": "code",
   "execution_count": 3,
   "metadata": {},
   "outputs": [],
   "source": [
    "data = pickle.load(open('test_data_crypto_5_days.p', 'rb'))\n",
    "regression_threads = data['regression_data']\n",
    "all_data = data['all_data']\n",
    "threads_started = regression_threads[regression_threads.thread_size > 1]\n",
    "started_threads_all_data = all_data[all_data.thread_id.isin(threads_started.thread_id)]"
   ]
  },
  {
   "cell_type": "code",
   "execution_count": 4,
   "metadata": {},
   "outputs": [],
   "source": [
    "X_COLS = [\n",
    "    \"sentiment_sign\",\n",
    "    \"sentiment_magnitude\",\n",
    "    \"hour\",\n",
    "    \"num_dayofweek\",\n",
    "    \"activity_ratio\",\n",
    "    \"mean_author_sentiment_sign\",\n",
    "    \"mean_author_sentiment_magnitude\",\n",
    "    \"log_author_all_activity_count\",\n",
    "]\n",
    "y_col = \"thread_size\"\n",
    "quantiles = [0.25, 0.5, 0.75]\n",
    "\n",
    "regression_params = {\n",
    "    'name': 'crypto',\n",
    "    'regression_data': threads_started,\n",
    "    'thread_data': started_threads_all_data,\n",
    "    'regression_type': 'mnlogit',\n",
    "    'collection_window': 2,\n",
    "    'model_window': 2,\n",
    "    'validation_window': 1,\n",
    "    'FSS': True,\n",
    "    'performance_scoring_method': \"mnlogit\",\n",
    "    'x_cols': X_COLS,\n",
    "    'y_col': y_col,\n",
    "    'metrics': ['mnlogit_accuracy', 'mnlogit_aucs', \"mnlogit_mean_auc\"],\n",
    "    'activity_threshold': 2,\n",
    "    'quantiles': quantiles,\n",
    "}"
   ]
  },
  {
   "cell_type": "code",
   "execution_count": 5,
   "metadata": {},
   "outputs": [],
   "source": [
    "test_mnlogit = RR(regression_params)"
   ]
  },
  {
   "cell_type": "code",
   "execution_count": 6,
   "metadata": {},
   "outputs": [
    {
     "ename": "KeyboardInterrupt",
     "evalue": "",
     "output_type": "error",
     "traceback": [
      "\u001b[1;31m---------------------------------------------------------------------------\u001b[0m",
      "\u001b[1;31mKeyboardInterrupt\u001b[0m                         Traceback (most recent call last)",
      "Cell \u001b[1;32mIn[6], line 1\u001b[0m\n\u001b[1;32m----> 1\u001b[0m \u001b[43mtest_mnlogit\u001b[49m\u001b[38;5;241;43m.\u001b[39;49m\u001b[43mmain\u001b[49m\u001b[43m(\u001b[49m\u001b[43m)\u001b[49m\n",
      "File \u001b[1;32mc:\\Users\\snuzz\\Documents\\PhD\\datasets\\reddit_analyses\\reddit_analyses\\regression_class.py:573\u001b[0m, in \u001b[0;36mRedditRegression.main\u001b[1;34m(self)\u001b[0m\n\u001b[0;32m    564\u001b[0m \u001b[38;5;250m\u001b[39m\u001b[38;5;124;03m\"\"\"\u001b[39;00m\n\u001b[0;32m    565\u001b[0m \u001b[38;5;124;03mCalculates author count data from thread data with a rolling collection window.\u001b[39;00m\n\u001b[0;32m    566\u001b[0m \u001b[38;5;124;03m- gets regression model data\u001b[39;00m\n\u001b[1;32m   (...)\u001b[0m\n\u001b[0;32m    570\u001b[0m \u001b[38;5;124;03m    - calculates metrics required (AIC, BIC, AUC)\u001b[39;00m\n\u001b[0;32m    571\u001b[0m \u001b[38;5;124;03m\"\"\"\u001b[39;00m\n\u001b[0;32m    572\u001b[0m \u001b[38;5;66;03m# get thread author data\u001b[39;00m\n\u001b[1;32m--> 573\u001b[0m \u001b[38;5;28;43mself\u001b[39;49m\u001b[38;5;241;43m.\u001b[39;49m\u001b[43mcalc_author_thread_counts\u001b[49m\u001b[43m(\u001b[49m\u001b[43m)\u001b[49m\n\u001b[0;32m    575\u001b[0m \u001b[38;5;66;03m# get model data\u001b[39;00m\n\u001b[0;32m    576\u001b[0m \u001b[38;5;28mself\u001b[39m\u001b[38;5;241m.\u001b[39mget_regression_model_data()\n",
      "File \u001b[1;32mc:\\Users\\snuzz\\Documents\\PhD\\datasets\\reddit_analyses\\reddit_analyses\\regression_class.py:471\u001b[0m, in \u001b[0;36mRedditRegression.calc_author_thread_counts\u001b[1;34m(self)\u001b[0m\n\u001b[0;32m    465\u001b[0m collection_window \u001b[38;5;241m=\u001b[39m \u001b[38;5;28mself\u001b[39m\u001b[38;5;241m.\u001b[39mdate_array[\n\u001b[0;32m    466\u001b[0m     day \u001b[38;5;241m-\u001b[39m \u001b[38;5;28mself\u001b[39m\u001b[38;5;241m.\u001b[39mregression_params[\u001b[38;5;124m\"\u001b[39m\u001b[38;5;124mcollection_window\u001b[39m\u001b[38;5;124m\"\u001b[39m] : day\n\u001b[0;32m    467\u001b[0m ]\n\u001b[0;32m    469\u001b[0m \u001b[38;5;66;03m# find thread data in collection window\u001b[39;00m\n\u001b[0;32m    470\u001b[0m collection_thread_data \u001b[38;5;241m=\u001b[39m \u001b[38;5;28mself\u001b[39m\u001b[38;5;241m.\u001b[39mthread_data[\n\u001b[1;32m--> 471\u001b[0m     \u001b[38;5;28;43mself\u001b[39;49m\u001b[38;5;241;43m.\u001b[39;49m\u001b[43mthread_data\u001b[49m\u001b[38;5;241;43m.\u001b[39;49m\u001b[43mtimestamp\u001b[49m\u001b[38;5;241;43m.\u001b[39;49m\u001b[43mapply\u001b[49m\u001b[43m(\u001b[49m\u001b[43mTimestampClass\u001b[49m\u001b[38;5;241;43m.\u001b[39;49m\u001b[43mget_date\u001b[49m\u001b[43m)\u001b[49m\u001b[38;5;241m.\u001b[39misin(\n\u001b[0;32m    472\u001b[0m         collection_window\n\u001b[0;32m    473\u001b[0m     )\n\u001b[0;32m    474\u001b[0m ]\n\u001b[0;32m    476\u001b[0m \u001b[38;5;66;03m# find thread data on current day\u001b[39;00m\n\u001b[0;32m    477\u001b[0m day_thread_data \u001b[38;5;241m=\u001b[39m \u001b[38;5;28mself\u001b[39m\u001b[38;5;241m.\u001b[39mthread_data[\n\u001b[0;32m    478\u001b[0m     \u001b[38;5;28mself\u001b[39m\u001b[38;5;241m.\u001b[39mthread_data\u001b[38;5;241m.\u001b[39mtimestamp\u001b[38;5;241m.\u001b[39mapply(TimestampClass\u001b[38;5;241m.\u001b[39mget_date)\n\u001b[0;32m    479\u001b[0m     \u001b[38;5;241m==\u001b[39m \u001b[38;5;28mself\u001b[39m\u001b[38;5;241m.\u001b[39mdate_array[day]\n\u001b[0;32m    480\u001b[0m ]\n",
      "File \u001b[1;32mc:\\Users\\snuzz\\anaconda3\\envs\\redditenv\\lib\\site-packages\\pandas\\core\\series.py:4771\u001b[0m, in \u001b[0;36mSeries.apply\u001b[1;34m(self, func, convert_dtype, args, **kwargs)\u001b[0m\n\u001b[0;32m   4661\u001b[0m \u001b[38;5;28;01mdef\u001b[39;00m \u001b[38;5;21mapply\u001b[39m(\n\u001b[0;32m   4662\u001b[0m     \u001b[38;5;28mself\u001b[39m,\n\u001b[0;32m   4663\u001b[0m     func: AggFuncType,\n\u001b[1;32m   (...)\u001b[0m\n\u001b[0;32m   4666\u001b[0m     \u001b[38;5;241m*\u001b[39m\u001b[38;5;241m*\u001b[39mkwargs,\n\u001b[0;32m   4667\u001b[0m ) \u001b[38;5;241m-\u001b[39m\u001b[38;5;241m>\u001b[39m DataFrame \u001b[38;5;241m|\u001b[39m Series:\n\u001b[0;32m   4668\u001b[0m \u001b[38;5;250m    \u001b[39m\u001b[38;5;124;03m\"\"\"\u001b[39;00m\n\u001b[0;32m   4669\u001b[0m \u001b[38;5;124;03m    Invoke function on values of Series.\u001b[39;00m\n\u001b[0;32m   4670\u001b[0m \n\u001b[1;32m   (...)\u001b[0m\n\u001b[0;32m   4769\u001b[0m \u001b[38;5;124;03m    dtype: float64\u001b[39;00m\n\u001b[0;32m   4770\u001b[0m \u001b[38;5;124;03m    \"\"\"\u001b[39;00m\n\u001b[1;32m-> 4771\u001b[0m     \u001b[38;5;28;01mreturn\u001b[39;00m \u001b[43mSeriesApply\u001b[49m\u001b[43m(\u001b[49m\u001b[38;5;28;43mself\u001b[39;49m\u001b[43m,\u001b[49m\u001b[43m \u001b[49m\u001b[43mfunc\u001b[49m\u001b[43m,\u001b[49m\u001b[43m \u001b[49m\u001b[43mconvert_dtype\u001b[49m\u001b[43m,\u001b[49m\u001b[43m \u001b[49m\u001b[43margs\u001b[49m\u001b[43m,\u001b[49m\u001b[43m \u001b[49m\u001b[43mkwargs\u001b[49m\u001b[43m)\u001b[49m\u001b[38;5;241;43m.\u001b[39;49m\u001b[43mapply\u001b[49m\u001b[43m(\u001b[49m\u001b[43m)\u001b[49m\n",
      "File \u001b[1;32mc:\\Users\\snuzz\\anaconda3\\envs\\redditenv\\lib\\site-packages\\pandas\\core\\apply.py:1123\u001b[0m, in \u001b[0;36mSeriesApply.apply\u001b[1;34m(self)\u001b[0m\n\u001b[0;32m   1120\u001b[0m     \u001b[38;5;28;01mreturn\u001b[39;00m \u001b[38;5;28mself\u001b[39m\u001b[38;5;241m.\u001b[39mapply_str()\n\u001b[0;32m   1122\u001b[0m \u001b[38;5;66;03m# self.f is Callable\u001b[39;00m\n\u001b[1;32m-> 1123\u001b[0m \u001b[38;5;28;01mreturn\u001b[39;00m \u001b[38;5;28;43mself\u001b[39;49m\u001b[38;5;241;43m.\u001b[39;49m\u001b[43mapply_standard\u001b[49m\u001b[43m(\u001b[49m\u001b[43m)\u001b[49m\n",
      "File \u001b[1;32mc:\\Users\\snuzz\\anaconda3\\envs\\redditenv\\lib\\site-packages\\pandas\\core\\apply.py:1174\u001b[0m, in \u001b[0;36mSeriesApply.apply_standard\u001b[1;34m(self)\u001b[0m\n\u001b[0;32m   1172\u001b[0m     \u001b[38;5;28;01melse\u001b[39;00m:\n\u001b[0;32m   1173\u001b[0m         values \u001b[38;5;241m=\u001b[39m obj\u001b[38;5;241m.\u001b[39mastype(\u001b[38;5;28mobject\u001b[39m)\u001b[38;5;241m.\u001b[39m_values\n\u001b[1;32m-> 1174\u001b[0m         mapped \u001b[38;5;241m=\u001b[39m \u001b[43mlib\u001b[49m\u001b[38;5;241;43m.\u001b[39;49m\u001b[43mmap_infer\u001b[49m\u001b[43m(\u001b[49m\n\u001b[0;32m   1175\u001b[0m \u001b[43m            \u001b[49m\u001b[43mvalues\u001b[49m\u001b[43m,\u001b[49m\n\u001b[0;32m   1176\u001b[0m \u001b[43m            \u001b[49m\u001b[43mf\u001b[49m\u001b[43m,\u001b[49m\n\u001b[0;32m   1177\u001b[0m \u001b[43m            \u001b[49m\u001b[43mconvert\u001b[49m\u001b[38;5;241;43m=\u001b[39;49m\u001b[38;5;28;43mself\u001b[39;49m\u001b[38;5;241;43m.\u001b[39;49m\u001b[43mconvert_dtype\u001b[49m\u001b[43m,\u001b[49m\n\u001b[0;32m   1178\u001b[0m \u001b[43m        \u001b[49m\u001b[43m)\u001b[49m\n\u001b[0;32m   1180\u001b[0m \u001b[38;5;28;01mif\u001b[39;00m \u001b[38;5;28mlen\u001b[39m(mapped) \u001b[38;5;129;01mand\u001b[39;00m \u001b[38;5;28misinstance\u001b[39m(mapped[\u001b[38;5;241m0\u001b[39m], ABCSeries):\n\u001b[0;32m   1181\u001b[0m     \u001b[38;5;66;03m# GH#43986 Need to do list(mapped) in order to get treated as nested\u001b[39;00m\n\u001b[0;32m   1182\u001b[0m     \u001b[38;5;66;03m#  See also GH#25959 regarding EA support\u001b[39;00m\n\u001b[0;32m   1183\u001b[0m     \u001b[38;5;28;01mreturn\u001b[39;00m obj\u001b[38;5;241m.\u001b[39m_constructor_expanddim(\u001b[38;5;28mlist\u001b[39m(mapped), index\u001b[38;5;241m=\u001b[39mobj\u001b[38;5;241m.\u001b[39mindex)\n",
      "File \u001b[1;32mc:\\Users\\snuzz\\anaconda3\\envs\\redditenv\\lib\\site-packages\\pandas\\_libs\\lib.pyx:2924\u001b[0m, in \u001b[0;36mpandas._libs.lib.map_infer\u001b[1;34m()\u001b[0m\n",
      "File \u001b[1;32mc:\\Users\\snuzz\\Documents\\PhD\\datasets\\reddit_analyses\\reddit_analyses\\regression_class.py:38\u001b[0m, in \u001b[0;36mTimestampClass.get_date\u001b[1;34m(timestamp)\u001b[0m\n\u001b[0;32m     34\u001b[0m \u001b[38;5;28;01mclass\u001b[39;00m \u001b[38;5;21;01mTimestampClass\u001b[39;00m:\n\u001b[0;32m     35\u001b[0m \u001b[38;5;250m    \u001b[39m\u001b[38;5;124;03m\"\"\"Class for various timestamp functions\u001b[39;00m\n\u001b[0;32m     36\u001b[0m \u001b[38;5;124;03m    \"\"\"\u001b[39;00m\n\u001b[1;32m---> 38\u001b[0m     \u001b[38;5;129m@staticmethod\u001b[39m\n\u001b[0;32m     39\u001b[0m     \u001b[38;5;28;01mdef\u001b[39;00m \u001b[38;5;21mget_date\u001b[39m(timestamp):\n\u001b[0;32m     40\u001b[0m \u001b[38;5;250m        \u001b[39m\u001b[38;5;124;03m\"\"\"Get date from timestamp\u001b[39;00m\n\u001b[0;32m     41\u001b[0m \n\u001b[0;32m     42\u001b[0m \u001b[38;5;124;03m        Parameters\u001b[39;00m\n\u001b[1;32m   (...)\u001b[0m\n\u001b[0;32m     48\u001b[0m \u001b[38;5;124;03m        pd.TimeStamp.date\u001b[39;00m\n\u001b[0;32m     49\u001b[0m \u001b[38;5;124;03m        \"\"\"\u001b[39;00m\n\u001b[0;32m     50\u001b[0m         \u001b[38;5;28;01mreturn\u001b[39;00m timestamp\u001b[38;5;241m.\u001b[39mdate()\n",
      "\u001b[1;31mKeyboardInterrupt\u001b[0m: "
     ]
    }
   ],
   "source": [
    "test_mnlogit.main()"
   ]
  },
  {
   "cell_type": "code",
   "execution_count": null,
   "metadata": {},
   "outputs": [
    {
     "data": {
      "text/plain": [
       "{'quantile_ranges': [(2, 10), (11.0, 22), (23.0, 40), (41.0, 3465)],\n",
       " 'quantile_counts':               count  val_count\n",
       " range                         \n",
       " (2, 10)          62         49\n",
       " (11.0, 22)       80         52\n",
       " (23.0, 40)       71         26\n",
       " (41.0, 3465)     74         46,\n",
       " 'val_quantile_ranges': [(2, 10), (11.0, 22), (23.0, 40), (41.0, 3813)]}"
      ]
     },
     "execution_count": 6,
     "metadata": {},
     "output_type": "execute_result"
    }
   ],
   "source": [
    "test_mnlogit.quantile_data"
   ]
  },
  {
   "cell_type": "code",
   "execution_count": null,
   "metadata": {},
   "outputs": [
    {
     "data": {
      "text/html": [
       "<div>\n",
       "<style scoped>\n",
       "    .dataframe tbody tr th:only-of-type {\n",
       "        vertical-align: middle;\n",
       "    }\n",
       "\n",
       "    .dataframe tbody tr th {\n",
       "        vertical-align: top;\n",
       "    }\n",
       "\n",
       "    .dataframe thead th {\n",
       "        text-align: right;\n",
       "    }\n",
       "</style>\n",
       "<table border=\"1\" class=\"dataframe\">\n",
       "  <thead>\n",
       "    <tr style=\"text-align: right;\">\n",
       "      <th></th>\n",
       "      <th>feature_idx</th>\n",
       "      <th>cv_scores</th>\n",
       "      <th>avg_score</th>\n",
       "      <th>feature_names</th>\n",
       "      <th>ci_bound</th>\n",
       "      <th>std_dev</th>\n",
       "      <th>std_err</th>\n",
       "    </tr>\n",
       "  </thead>\n",
       "  <tbody>\n",
       "    <tr>\n",
       "      <th>1</th>\n",
       "      <td>(2,)</td>\n",
       "      <td>[0.31010452961672474]</td>\n",
       "      <td>0.310105</td>\n",
       "      <td>(hour,)</td>\n",
       "      <td>NaN</td>\n",
       "      <td>0.0</td>\n",
       "      <td>NaN</td>\n",
       "    </tr>\n",
       "    <tr>\n",
       "      <th>2</th>\n",
       "      <td>(2, 5)</td>\n",
       "      <td>[0.3588850174216028]</td>\n",
       "      <td>0.358885</td>\n",
       "      <td>(hour, mean_author_sentiment_sign)</td>\n",
       "      <td>NaN</td>\n",
       "      <td>0.0</td>\n",
       "      <td>NaN</td>\n",
       "    </tr>\n",
       "    <tr>\n",
       "      <th>3</th>\n",
       "      <td>(0, 2, 5)</td>\n",
       "      <td>[0.3519163763066202]</td>\n",
       "      <td>0.351916</td>\n",
       "      <td>(sentiment_sign, hour, mean_author_sentiment_s...</td>\n",
       "      <td>NaN</td>\n",
       "      <td>0.0</td>\n",
       "      <td>NaN</td>\n",
       "    </tr>\n",
       "    <tr>\n",
       "      <th>4</th>\n",
       "      <td>(0, 2, 4, 5)</td>\n",
       "      <td>[0.3693379790940767]</td>\n",
       "      <td>0.369338</td>\n",
       "      <td>(sentiment_sign, hour, activity_ratio, mean_au...</td>\n",
       "      <td>NaN</td>\n",
       "      <td>0.0</td>\n",
       "      <td>NaN</td>\n",
       "    </tr>\n",
       "    <tr>\n",
       "      <th>5</th>\n",
       "      <td>(0, 1, 2, 4, 5)</td>\n",
       "      <td>[0.37630662020905925]</td>\n",
       "      <td>0.376307</td>\n",
       "      <td>(sentiment_sign, sentiment_magnitude, hour, ac...</td>\n",
       "      <td>NaN</td>\n",
       "      <td>0.0</td>\n",
       "      <td>NaN</td>\n",
       "    </tr>\n",
       "    <tr>\n",
       "      <th>6</th>\n",
       "      <td>(0, 1, 2, 4, 5, 6)</td>\n",
       "      <td>[0.3797909407665505]</td>\n",
       "      <td>0.379791</td>\n",
       "      <td>(sentiment_sign, sentiment_magnitude, hour, ac...</td>\n",
       "      <td>NaN</td>\n",
       "      <td>0.0</td>\n",
       "      <td>NaN</td>\n",
       "    </tr>\n",
       "    <tr>\n",
       "      <th>7</th>\n",
       "      <td>(0, 1, 2, 4, 5, 6, 7)</td>\n",
       "      <td>[0.37282229965156793]</td>\n",
       "      <td>0.372822</td>\n",
       "      <td>(sentiment_sign, sentiment_magnitude, hour, ac...</td>\n",
       "      <td>NaN</td>\n",
       "      <td>0.0</td>\n",
       "      <td>NaN</td>\n",
       "    </tr>\n",
       "    <tr>\n",
       "      <th>8</th>\n",
       "      <td>(0, 1, 2, 3, 4, 5, 6, 7)</td>\n",
       "      <td>[0.3623693379790941]</td>\n",
       "      <td>0.362369</td>\n",
       "      <td>(sentiment_sign, sentiment_magnitude, hour, nu...</td>\n",
       "      <td>NaN</td>\n",
       "      <td>0.0</td>\n",
       "      <td>NaN</td>\n",
       "    </tr>\n",
       "  </tbody>\n",
       "</table>\n",
       "</div>"
      ],
      "text/plain": [
       "                feature_idx              cv_scores  avg_score  \\\n",
       "1                      (2,)  [0.31010452961672474]   0.310105   \n",
       "2                    (2, 5)   [0.3588850174216028]   0.358885   \n",
       "3                 (0, 2, 5)   [0.3519163763066202]   0.351916   \n",
       "4              (0, 2, 4, 5)   [0.3693379790940767]   0.369338   \n",
       "5           (0, 1, 2, 4, 5)  [0.37630662020905925]   0.376307   \n",
       "6        (0, 1, 2, 4, 5, 6)   [0.3797909407665505]   0.379791   \n",
       "7     (0, 1, 2, 4, 5, 6, 7)  [0.37282229965156793]   0.372822   \n",
       "8  (0, 1, 2, 3, 4, 5, 6, 7)   [0.3623693379790941]   0.362369   \n",
       "\n",
       "                                       feature_names  ci_bound  std_dev  \\\n",
       "1                                            (hour,)       NaN      0.0   \n",
       "2                 (hour, mean_author_sentiment_sign)       NaN      0.0   \n",
       "3  (sentiment_sign, hour, mean_author_sentiment_s...       NaN      0.0   \n",
       "4  (sentiment_sign, hour, activity_ratio, mean_au...       NaN      0.0   \n",
       "5  (sentiment_sign, sentiment_magnitude, hour, ac...       NaN      0.0   \n",
       "6  (sentiment_sign, sentiment_magnitude, hour, ac...       NaN      0.0   \n",
       "7  (sentiment_sign, sentiment_magnitude, hour, ac...       NaN      0.0   \n",
       "8  (sentiment_sign, sentiment_magnitude, hour, nu...       NaN      0.0   \n",
       "\n",
       "   std_err  \n",
       "1      NaN  \n",
       "2      NaN  \n",
       "3      NaN  \n",
       "4      NaN  \n",
       "5      NaN  \n",
       "6      NaN  \n",
       "7      NaN  \n",
       "8      NaN  "
      ]
     },
     "execution_count": 7,
     "metadata": {},
     "output_type": "execute_result"
    }
   ],
   "source": [
    "test_mnlogit.FSS_metrics['metric_df']"
   ]
  },
  {
   "cell_type": "code",
   "execution_count": null,
   "metadata": {},
   "outputs": [],
   "source": [
    "outdir = 'C:/Users/snuzz/Documents/PhD/datasets/reddit_analyses/reddit_analyses/mnlogit/test'\n",
    "outpath = outdir + '/test_output.xlsx'"
   ]
  },
  {
   "cell_type": "code",
   "execution_count": null,
   "metadata": {},
   "outputs": [],
   "source": [
    "test_mnlogit.output_to_excel(outpath)"
   ]
  },
  {
   "cell_type": "code",
   "execution_count": 9,
   "metadata": {},
   "outputs": [
    {
     "ename": "TypeError",
     "evalue": "unsupported operand type(s) for &: 'dict' and 'dict'",
     "output_type": "error",
     "traceback": [
      "\u001b[1;31m---------------------------------------------------------------------------\u001b[0m",
      "\u001b[1;31mTypeError\u001b[0m                                 Traceback (most recent call last)",
      "Cell \u001b[1;32mIn[9], line 1\u001b[0m\n\u001b[1;32m----> 1\u001b[0m \u001b[43mregression_params\u001b[49m\u001b[43m \u001b[49m\u001b[38;5;241;43m&\u001b[39;49m\u001b[43m \u001b[49m\u001b[43m{\u001b[49m\u001b[38;5;124;43m\"\u001b[39;49m\u001b[38;5;124;43ma\u001b[39;49m\u001b[38;5;124;43m\"\u001b[39;49m\u001b[43m:\u001b[49m\u001b[43m \u001b[49m\u001b[38;5;124;43m\"\u001b[39;49m\u001b[38;5;124;43mb\u001b[39;49m\u001b[38;5;124;43m\"\u001b[39;49m\u001b[43m}\u001b[49m\n",
      "\u001b[1;31mTypeError\u001b[0m: unsupported operand type(s) for &: 'dict' and 'dict'"
     ]
    }
   ],
   "source": [
    "regression_params  {\"a\": \"b\"}"
   ]
  },
  {
   "cell_type": "code",
   "execution_count": null,
   "metadata": {},
   "outputs": [],
   "source": []
  }
 ],
 "metadata": {
  "kernelspec": {
   "display_name": "redditenv",
   "language": "python",
   "name": "python3"
  },
  "language_info": {
   "codemirror_mode": {
    "name": "ipython",
    "version": 3
   },
   "file_extension": ".py",
   "mimetype": "text/x-python",
   "name": "python",
   "nbconvert_exporter": "python",
   "pygments_lexer": "ipython3",
   "version": "3.10.9"
  }
 },
 "nbformat": 4,
 "nbformat_minor": 2
}
