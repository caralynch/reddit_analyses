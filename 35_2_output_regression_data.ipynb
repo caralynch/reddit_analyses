{
 "cells": [
  {
   "cell_type": "code",
   "execution_count": 26,
   "metadata": {},
   "outputs": [],
   "source": [
    "import pickle\n",
    "import pandas as pd\n",
    "import numpy as np\n",
    "from regression_class import RedditRegression as RR\n",
    "import logging\n",
    "import os"
   ]
  },
  {
   "cell_type": "code",
   "execution_count": 27,
   "metadata": {},
   "outputs": [],
   "source": [
    "RESULTS_DIR_PREFIX = 'regression_outputs/26_03_2024_'\n",
    "RESULTS_DIR_SUFFIX = '/results'\n",
    "results_dirs = []\n",
    "for middle in ['c7_m7', 'c7_m14', 'c14_m7']:\n",
    "    results_dirs.append(RESULTS_DIR_PREFIX + middle + RESULTS_DIR_SUFFIX)"
   ]
  },
  {
   "cell_type": "code",
   "execution_count": 28,
   "metadata": {},
   "outputs": [],
   "source": [
    "path_list = []\n",
    "for dirname in results_dirs:\n",
    "    filenames = os.listdir(dirname)\n",
    "    path_list += [f'{dirname}/{x}' for x in filenames]\n"
   ]
  },
  {
   "cell_type": "code",
   "execution_count": 34,
   "metadata": {},
   "outputs": [
    {
     "data": {
      "text/plain": [
       "'conspiracy_mnlogit'"
      ]
     },
     "execution_count": 34,
     "metadata": {},
     "output_type": "execute_result"
    }
   ],
   "source": [
    "os.path.basename(path_list[0]).split('.')[0]"
   ]
  },
  {
   "cell_type": "code",
   "execution_count": 6,
   "metadata": {},
   "outputs": [
    {
     "name": "stdout",
     "output_type": "stream",
     "text": [
      "Going through regression_outputs/26_03_2024__14_22_12/results\n",
      "    conspiracy_mnlogit.p\n",
      "    books_mnlogit.p\n",
      "    politics_mnlogit.p\n",
      "    conspiracy_logistic.p\n",
      "    politics_linear.p\n",
      "    books_logistic.p\n",
      "    crypto_logistic.p\n",
      "    books_linear.p\n",
      "    crypto_mnlogit.p\n",
      "    crypto_linear.p\n",
      "    politics_logistic.p\n",
      "    conspiracy_linear.p\n"
     ]
    }
   ],
   "source": [
    "result_pickles = {}\n",
    "dirname = RESULTS_DIR\n",
    "file_list = os.listdir(dirname)\n",
    "print(f'Going through {dirname}')\n",
    "for filename in file_list:\n",
    "    print(f'    {filename}')\n",
    "    key = filename.removesuffix('.p')\n",
    "    try:\n",
    "        result_pickles[key] = pickle.load(open(f'{dirname}/{filename}', 'rb'))\n",
    "    except Exception as e:\n",
    "        print(f'        Error when reading {filename} from {dirname}. Passing.')\n",
    "        pass"
   ]
  },
  {
   "cell_type": "code",
   "execution_count": 7,
   "metadata": {},
   "outputs": [
    {
     "name": "stdout",
     "output_type": "stream",
     "text": [
      "conspiracy_mnlogit\n",
      "conspiracy_mnlogit DONE\n",
      "books_mnlogit\n",
      "books_mnlogit DONE\n",
      "politics_mnlogit\n",
      "politics_mnlogit DONE\n",
      "conspiracy_logistic\n",
      "conspiracy_logistic DONE\n",
      "politics_linear\n",
      "politics_linear DONE\n",
      "books_logistic\n",
      "books_logistic DONE\n",
      "crypto_logistic\n",
      "crypto_logistic DONE\n",
      "books_linear\n",
      "books_linear DONE\n",
      "crypto_mnlogit\n",
      "crypto_mnlogit DONE\n",
      "crypto_linear\n",
      "crypto_linear DONE\n",
      "politics_logistic\n",
      "politics_logistic DONE\n",
      "conspiracy_linear\n",
      "conspiracy_linear DONE\n"
     ]
    }
   ],
   "source": [
    "for key in result_pickles:\n",
    "    print(key)\n",
    "    outpath = f\"{RESULTS_DIR}/{key}.xlsx\"\n",
    "    result_pickles[key].output_to_excel(outpath)\n",
    "    print(f\"{key} DONE\")"
   ]
  },
  {
   "cell_type": "code",
   "execution_count": 10,
   "metadata": {},
   "outputs": [
    {
     "name": "stdout",
     "output_type": "stream",
     "text": [
      "conspiracy_mnlogit\n",
      " start: 2022-10-01  end: 2022-10-30\n",
      " days: 30\n",
      "books_mnlogit\n",
      " start: 2022-10-01  end: 2022-10-30\n",
      " days: 30\n",
      "politics_mnlogit\n",
      " start: 2020-09-30  end: 2020-11-19\n",
      " days: 51\n",
      "conspiracy_logistic\n",
      " start: 2022-10-01  end: 2022-10-30\n",
      " days: 30\n",
      "politics_linear\n",
      " start: 2020-09-30  end: 2020-11-19\n",
      " days: 51\n",
      "books_logistic\n",
      " start: 2022-10-01  end: 2022-10-30\n",
      " days: 30\n",
      "crypto_logistic\n",
      " start: 2022-10-01  end: 2022-10-30\n",
      " days: 30\n",
      "books_linear\n",
      " start: 2022-10-01  end: 2022-10-30\n",
      " days: 30\n",
      "crypto_mnlogit\n",
      " start: 2022-10-01  end: 2022-10-30\n",
      " days: 30\n",
      "crypto_linear\n",
      " start: 2022-10-01  end: 2022-10-30\n",
      " days: 30\n",
      "politics_logistic\n",
      " start: 2020-09-30  end: 2020-11-19\n",
      " days: 51\n",
      "conspiracy_linear\n",
      " start: 2022-10-01  end: 2022-10-30\n",
      " days: 30\n"
     ]
    }
   ],
   "source": [
    "for key in result_pickles:\n",
    "    date_array = result_pickles[key].date_array\n",
    "    print(f\"{key}\\n start: {date_array.loc[0]}  end: {date_array.iloc[-1]}\\n days: {len(date_array)}\")"
   ]
  },
  {
   "cell_type": "code",
   "execution_count": null,
   "metadata": {},
   "outputs": [],
   "source": []
  }
 ],
 "metadata": {
  "kernelspec": {
   "display_name": "redditenv",
   "language": "python",
   "name": "python3"
  },
  "language_info": {
   "codemirror_mode": {
    "name": "ipython",
    "version": 3
   },
   "file_extension": ".py",
   "mimetype": "text/x-python",
   "name": "python",
   "nbconvert_exporter": "python",
   "pygments_lexer": "ipython3",
   "version": "3.10.9"
  }
 },
 "nbformat": 4,
 "nbformat_minor": 2
}
