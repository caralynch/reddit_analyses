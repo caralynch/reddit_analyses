{
 "cells": [
  {
   "cell_type": "code",
   "execution_count": 3,
   "metadata": {},
   "outputs": [],
   "source": [
    "import pickle\n",
    "import pandas as pd\n",
    "import numpy as np\n",
    "from regression_class import RedditRegression as RR\n",
    "import logging\n",
    "import os"
   ]
  },
  {
   "cell_type": "code",
   "execution_count": 4,
   "metadata": {},
   "outputs": [],
   "source": [
    "RESULTS_DIR_PREFIX = 'regression_outputs/22_07_2024_'\n",
    "RESULTS_DIR_SUFFIX = '/results'\n",
    "results_dirs = []\n",
    "for middle in ['c14_m7']:\n",
    "    results_dirs.append(RESULTS_DIR_PREFIX + middle + RESULTS_DIR_SUFFIX)"
   ]
  },
  {
   "cell_type": "code",
   "execution_count": 5,
   "metadata": {},
   "outputs": [],
   "source": [
    "path_list = []\n",
    "for dirname in results_dirs:\n",
    "    filenames = os.listdir(dirname)\n",
    "    path_list += [f'{dirname}/{x}' for x in filenames]\n"
   ]
  },
  {
   "cell_type": "code",
   "execution_count": 6,
   "metadata": {},
   "outputs": [
    {
     "data": {
      "text/plain": [
       "['regression_outputs/22_07_2024_c14_m7/results/conspiracy_mnlogit.p',\n",
       " 'regression_outputs/22_07_2024_c14_m7/results/politics_mnlogit.p',\n",
       " 'regression_outputs/22_07_2024_c14_m7/results/politics_linear.p',\n",
       " 'regression_outputs/22_07_2024_c14_m7/results/crypto_mnlogit.p',\n",
       " 'regression_outputs/22_07_2024_c14_m7/results/crypto_linear.p',\n",
       " 'regression_outputs/22_07_2024_c14_m7/results/conspiracy_linear.p']"
      ]
     },
     "execution_count": 6,
     "metadata": {},
     "output_type": "execute_result"
    }
   ],
   "source": [
    "path_list"
   ]
  },
  {
   "cell_type": "code",
   "execution_count": 9,
   "metadata": {},
   "outputs": [
    {
     "name": "stdout",
     "output_type": "stream",
     "text": [
      "    regression_outputs/22_07_2024_c14_m7/results/conspiracy_mnlogit.p\n",
      "    regression_outputs/22_07_2024_c14_m7/results/politics_mnlogit.p\n",
      "    regression_outputs/22_07_2024_c14_m7/results/politics_linear.p\n",
      "    regression_outputs/22_07_2024_c14_m7/results/crypto_mnlogit.p\n",
      "    regression_outputs/22_07_2024_c14_m7/results/crypto_linear.p\n",
      "    regression_outputs/22_07_2024_c14_m7/results/conspiracy_linear.p\n"
     ]
    }
   ],
   "source": [
    "result_pickles = {}\n",
    "for filename in path_list:\n",
    "    print(f'    {filename}')\n",
    "    key = filename.split('/')[-1].removesuffix('.p')\n",
    "    try:\n",
    "        result_pickles[key] = pickle.load(open(f'{filename}', 'rb'))\n",
    "    except Exception as e:\n",
    "        print(f'        Error when reading {filename} from {dirname}. Passing.')\n",
    "        pass"
   ]
  },
  {
   "cell_type": "code",
   "execution_count": 11,
   "metadata": {},
   "outputs": [
    {
     "name": "stdout",
     "output_type": "stream",
     "text": [
      "conspiracy_mnlogit\n",
      "conspiracy_mnlogit DONE\n",
      "politics_mnlogit\n",
      "politics_mnlogit DONE\n",
      "politics_linear\n",
      "politics_linear DONE\n",
      "crypto_mnlogit\n",
      "crypto_mnlogit DONE\n",
      "crypto_linear\n",
      "crypto_linear DONE\n",
      "conspiracy_linear\n",
      "conspiracy_linear DONE\n"
     ]
    }
   ],
   "source": [
    "RESULTS_DIR = results_dirs[0]\n",
    "for key in result_pickles:\n",
    "    print(key)\n",
    "    outpath = f\"{RESULTS_DIR}/{key}.xlsx\"\n",
    "    result_pickles[key].output_to_excel(outpath)\n",
    "    print(f\"{key} DONE\")"
   ]
  },
  {
   "cell_type": "code",
   "execution_count": 15,
   "metadata": {},
   "outputs": [],
   "source": [
    "dates = {}"
   ]
  },
  {
   "cell_type": "code",
   "execution_count": 16,
   "metadata": {},
   "outputs": [
    {
     "name": "stdout",
     "output_type": "stream",
     "text": [
      "conspiracy_mnlogit\n",
      " start: 2022-10-01  end: 2022-10-28\n",
      " days: 28\n",
      "politics_mnlogit\n",
      " start: 2020-09-30  end: 2020-10-27\n",
      " days: 28\n",
      "politics_linear\n",
      " start: 2020-09-30  end: 2020-10-27\n",
      " days: 28\n",
      "crypto_mnlogit\n",
      " start: 2022-10-01  end: 2022-10-28\n",
      " days: 28\n",
      "crypto_linear\n",
      " start: 2022-10-01  end: 2022-10-28\n",
      " days: 28\n",
      "conspiracy_linear\n",
      " start: 2022-10-01  end: 2022-10-28\n",
      " days: 28\n"
     ]
    }
   ],
   "source": [
    "for key in result_pickles:\n",
    "    date_array = result_pickles[key].date_array\n",
    "    print(f\"{key}\\n start: {date_array.loc[0]}  end: {date_array.iloc[-1]}\\n days: {len(date_array)}\")\n",
    "    dates[key] = {'start': date_array.loc[0], 'end': date_array.iloc[-1], 'days': len(date_array)}"
   ]
  },
  {
   "cell_type": "code",
   "execution_count": 20,
   "metadata": {},
   "outputs": [],
   "source": [
    "dates_df = pd.DataFrame.from_dict(dates, orient='index')"
   ]
  },
  {
   "cell_type": "code",
   "execution_count": 25,
   "metadata": {},
   "outputs": [],
   "source": [
    "dates_df.to_csv(f'{RESULTS_DIR}/dataset_dates.csv', 'w')"
   ]
  },
  {
   "cell_type": "code",
   "execution_count": 26,
   "metadata": {},
   "outputs": [],
   "source": [
    "with pd.ExcelWriter(f'{RESULTS_DIR}/dataset_dates.xlsx', engine=\"xlsxwriter\") as writer:\n",
    "    dates_df.to_excel(writer)"
   ]
  },
  {
   "cell_type": "code",
   "execution_count": null,
   "metadata": {},
   "outputs": [],
   "source": []
  }
 ],
 "metadata": {
  "kernelspec": {
   "display_name": "redditenv",
   "language": "python",
   "name": "python3"
  },
  "language_info": {
   "codemirror_mode": {
    "name": "ipython",
    "version": 3
   },
   "file_extension": ".py",
   "mimetype": "text/x-python",
   "name": "python",
   "nbconvert_exporter": "python",
   "pygments_lexer": "ipython3",
   "version": "3.10.9"
  }
 },
 "nbformat": 4,
 "nbformat_minor": 2
}
