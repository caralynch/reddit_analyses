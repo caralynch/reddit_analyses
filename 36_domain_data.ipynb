{
 "cells": [
  {
   "cell_type": "code",
   "execution_count": 79,
   "metadata": {},
   "outputs": [],
   "source": [
    "# custom imports\n",
    "from regression_class import RedditRegression as RR\n",
    "\n",
    "# data saving imports\n",
    "import pickle\n",
    "import os\n",
    "\n",
    "# time tracking\n",
    "from datetime import datetime as dt\n",
    "\n",
    "import pandas as pd"
   ]
  },
  {
   "cell_type": "code",
   "execution_count": 80,
   "metadata": {},
   "outputs": [],
   "source": [
    "DOMAINS_INFILE = \"../top10milliondomains.csv/top10milliondomains.csv\"\n",
    "domain_rank = pd.read_csv(DOMAINS_INFILE)"
   ]
  },
  {
   "cell_type": "code",
   "execution_count": 81,
   "metadata": {},
   "outputs": [],
   "source": [
    "# PARAMS_DICT_INFILE = f\"{OUTDIR}/input_params.p\"\n",
    "REGRESSION_INFILE = \"regression_thread_data.p\"\n",
    "THREAD_INFILE = \"clean_5_thread_data.p\""
   ]
  },
  {
   "cell_type": "code",
   "execution_count": 82,
   "metadata": {},
   "outputs": [],
   "source": [
    "regdfs = pickle.load(open(REGRESSION_INFILE, 'rb'))\n",
    "threaddfs = pickle.load(open(THREAD_INFILE, 'rb'))"
   ]
  },
  {
   "cell_type": "code",
   "execution_count": 84,
   "metadata": {},
   "outputs": [],
   "source": [
    "domain_rank = domain_rank[['Domain', 'Open Page Rank']].rename(columns = {\n",
    "    'Domain': 'domain',\n",
    "    'Open Page Rank': 'open_page_rank'\n",
    "})\n"
   ]
  },
  {
   "cell_type": "code",
   "execution_count": 85,
   "metadata": {},
   "outputs": [],
   "source": [
    "domain_pagerank_dict = dict(zip(domain_rank.domain,domain_rank.open_page_rank))"
   ]
  },
  {
   "cell_type": "code",
   "execution_count": 86,
   "metadata": {},
   "outputs": [],
   "source": [
    "def change_reddit_domains(domains_col):\n",
    "    to_alter = domains_col[domains_col.str.contains('self.')]\n",
    "    to_alter = to_alter.str.removeprefix('self.') + '.reddit.com'\n",
    "    domains_col[domains_col.str.contains('self.')] = to_alter\n",
    "    return domains_col\n",
    "\n",
    "def get_pagerank_scores(domain_col):\n",
    "    domain_col = change_reddit_domains(domain_col)\n",
    "    new_domain_col = domain_col.map(domain_pagerank_dict, na_action=None).fillna(0)\n",
    "    return new_domain_col\n"
   ]
  },
  {
   "cell_type": "code",
   "execution_count": 87,
   "metadata": {},
   "outputs": [
    {
     "name": "stderr",
     "output_type": "stream",
     "text": [
      "C:\\Users\\snuzz\\AppData\\Local\\Temp\\ipykernel_38356\\2515556108.py:4: SettingWithCopyWarning: \n",
      "A value is trying to be set on a copy of a slice from a DataFrame\n",
      "\n",
      "See the caveats in the documentation: https://pandas.pydata.org/pandas-docs/stable/user_guide/indexing.html#returning-a-view-versus-a-copy\n",
      "  domains_col[domains_col.str.contains('self.')] = to_alter\n",
      "C:\\Users\\snuzz\\AppData\\Local\\Temp\\ipykernel_38356\\2515556108.py:4: SettingWithCopyWarning: \n",
      "A value is trying to be set on a copy of a slice from a DataFrame\n",
      "\n",
      "See the caveats in the documentation: https://pandas.pydata.org/pandas-docs/stable/user_guide/indexing.html#returning-a-view-versus-a-copy\n",
      "  domains_col[domains_col.str.contains('self.')] = to_alter\n",
      "C:\\Users\\snuzz\\AppData\\Local\\Temp\\ipykernel_38356\\950395547.py:4: SettingWithCopyWarning: \n",
      "A value is trying to be set on a copy of a slice from a DataFrame.\n",
      "Try using .loc[row_indexer,col_indexer] = value instead\n",
      "\n",
      "See the caveats in the documentation: https://pandas.pydata.org/pandas-docs/stable/user_guide/indexing.html#returning-a-view-versus-a-copy\n",
      "  posts['domain_pagerank'] = get_pagerank_scores(posts.domain)\n",
      "C:\\Users\\snuzz\\AppData\\Local\\Temp\\ipykernel_38356\\2515556108.py:4: SettingWithCopyWarning: \n",
      "A value is trying to be set on a copy of a slice from a DataFrame\n",
      "\n",
      "See the caveats in the documentation: https://pandas.pydata.org/pandas-docs/stable/user_guide/indexing.html#returning-a-view-versus-a-copy\n",
      "  domains_col[domains_col.str.contains('self.')] = to_alter\n",
      "C:\\Users\\snuzz\\AppData\\Local\\Temp\\ipykernel_38356\\2515556108.py:4: SettingWithCopyWarning: \n",
      "A value is trying to be set on a copy of a slice from a DataFrame\n",
      "\n",
      "See the caveats in the documentation: https://pandas.pydata.org/pandas-docs/stable/user_guide/indexing.html#returning-a-view-versus-a-copy\n",
      "  domains_col[domains_col.str.contains('self.')] = to_alter\n",
      "C:\\Users\\snuzz\\AppData\\Local\\Temp\\ipykernel_38356\\950395547.py:4: SettingWithCopyWarning: \n",
      "A value is trying to be set on a copy of a slice from a DataFrame.\n",
      "Try using .loc[row_indexer,col_indexer] = value instead\n",
      "\n",
      "See the caveats in the documentation: https://pandas.pydata.org/pandas-docs/stable/user_guide/indexing.html#returning-a-view-versus-a-copy\n",
      "  posts['domain_pagerank'] = get_pagerank_scores(posts.domain)\n",
      "C:\\Users\\snuzz\\AppData\\Local\\Temp\\ipykernel_38356\\2515556108.py:4: SettingWithCopyWarning: \n",
      "A value is trying to be set on a copy of a slice from a DataFrame\n",
      "\n",
      "See the caveats in the documentation: https://pandas.pydata.org/pandas-docs/stable/user_guide/indexing.html#returning-a-view-versus-a-copy\n",
      "  domains_col[domains_col.str.contains('self.')] = to_alter\n",
      "C:\\Users\\snuzz\\AppData\\Local\\Temp\\ipykernel_38356\\2515556108.py:4: SettingWithCopyWarning: \n",
      "A value is trying to be set on a copy of a slice from a DataFrame\n",
      "\n",
      "See the caveats in the documentation: https://pandas.pydata.org/pandas-docs/stable/user_guide/indexing.html#returning-a-view-versus-a-copy\n",
      "  domains_col[domains_col.str.contains('self.')] = to_alter\n",
      "C:\\Users\\snuzz\\AppData\\Local\\Temp\\ipykernel_38356\\950395547.py:4: SettingWithCopyWarning: \n",
      "A value is trying to be set on a copy of a slice from a DataFrame.\n",
      "Try using .loc[row_indexer,col_indexer] = value instead\n",
      "\n",
      "See the caveats in the documentation: https://pandas.pydata.org/pandas-docs/stable/user_guide/indexing.html#returning-a-view-versus-a-copy\n",
      "  posts['domain_pagerank'] = get_pagerank_scores(posts.domain)\n",
      "C:\\Users\\snuzz\\AppData\\Local\\Temp\\ipykernel_38356\\2515556108.py:4: SettingWithCopyWarning: \n",
      "A value is trying to be set on a copy of a slice from a DataFrame\n",
      "\n",
      "See the caveats in the documentation: https://pandas.pydata.org/pandas-docs/stable/user_guide/indexing.html#returning-a-view-versus-a-copy\n",
      "  domains_col[domains_col.str.contains('self.')] = to_alter\n",
      "C:\\Users\\snuzz\\AppData\\Local\\Temp\\ipykernel_38356\\2515556108.py:4: SettingWithCopyWarning: \n",
      "A value is trying to be set on a copy of a slice from a DataFrame\n",
      "\n",
      "See the caveats in the documentation: https://pandas.pydata.org/pandas-docs/stable/user_guide/indexing.html#returning-a-view-versus-a-copy\n",
      "  domains_col[domains_col.str.contains('self.')] = to_alter\n",
      "C:\\Users\\snuzz\\AppData\\Local\\Temp\\ipykernel_38356\\950395547.py:4: SettingWithCopyWarning: \n",
      "A value is trying to be set on a copy of a slice from a DataFrame.\n",
      "Try using .loc[row_indexer,col_indexer] = value instead\n",
      "\n",
      "See the caveats in the documentation: https://pandas.pydata.org/pandas-docs/stable/user_guide/indexing.html#returning-a-view-versus-a-copy\n",
      "  posts['domain_pagerank'] = get_pagerank_scores(posts.domain)\n",
      "C:\\Users\\snuzz\\AppData\\Local\\Temp\\ipykernel_38356\\2515556108.py:4: SettingWithCopyWarning: \n",
      "A value is trying to be set on a copy of a slice from a DataFrame\n",
      "\n",
      "See the caveats in the documentation: https://pandas.pydata.org/pandas-docs/stable/user_guide/indexing.html#returning-a-view-versus-a-copy\n",
      "  domains_col[domains_col.str.contains('self.')] = to_alter\n",
      "C:\\Users\\snuzz\\AppData\\Local\\Temp\\ipykernel_38356\\2515556108.py:4: SettingWithCopyWarning: \n",
      "A value is trying to be set on a copy of a slice from a DataFrame\n",
      "\n",
      "See the caveats in the documentation: https://pandas.pydata.org/pandas-docs/stable/user_guide/indexing.html#returning-a-view-versus-a-copy\n",
      "  domains_col[domains_col.str.contains('self.')] = to_alter\n",
      "C:\\Users\\snuzz\\AppData\\Local\\Temp\\ipykernel_38356\\950395547.py:4: SettingWithCopyWarning: \n",
      "A value is trying to be set on a copy of a slice from a DataFrame.\n",
      "Try using .loc[row_indexer,col_indexer] = value instead\n",
      "\n",
      "See the caveats in the documentation: https://pandas.pydata.org/pandas-docs/stable/user_guide/indexing.html#returning-a-view-versus-a-copy\n",
      "  posts['domain_pagerank'] = get_pagerank_scores(posts.domain)\n"
     ]
    }
   ],
   "source": [
    "new_reg_dfs = {}\n",
    "for key in threaddfs:\n",
    "    posts = threaddfs[key][threaddfs[key].thread_id == threaddfs[key].id]\n",
    "    posts['domain_pagerank'] = get_pagerank_scores(posts.domain)\n",
    "    new_reg_dfs[key] = pd.merge(regdfs[key], posts[['thread_id', 'domain', 'domain_pagerank']], how='left', on='thread_id')"
   ]
  },
  {
   "cell_type": "code",
   "execution_count": 89,
   "metadata": {},
   "outputs": [],
   "source": [
    "pickle.dump(new_reg_dfs, open('regression_thread_data_april_2024.p', 'wb'))"
   ]
  },
  {
   "cell_type": "code",
   "execution_count": null,
   "metadata": {},
   "outputs": [],
   "source": []
  }
 ],
 "metadata": {
  "kernelspec": {
   "display_name": "redditenv",
   "language": "python",
   "name": "python3"
  },
  "language_info": {
   "codemirror_mode": {
    "name": "ipython",
    "version": 3
   },
   "file_extension": ".py",
   "mimetype": "text/x-python",
   "name": "python",
   "nbconvert_exporter": "python",
   "pygments_lexer": "ipython3",
   "version": "3.10.9"
  }
 },
 "nbformat": 4,
 "nbformat_minor": 2
}
