{
 "cells": [
  {
   "cell_type": "code",
   "execution_count": 1,
   "metadata": {},
   "outputs": [],
   "source": [
    "# custom imports\n",
    "from regression_class import RedditRegression as RR\n",
    "\n",
    "# data saving imports\n",
    "import pickle\n",
    "import os\n",
    "\n",
    "# time tracking\n",
    "from datetime import datetime as dt\n",
    "\n",
    "import pandas as pd"
   ]
  },
  {
   "cell_type": "code",
   "execution_count": 2,
   "metadata": {},
   "outputs": [],
   "source": [
    "DOMAINS_INFILE = \"../top10milliondomains.csv/top10milliondomains.csv\"\n",
    "domain_rank = pd.read_csv(DOMAINS_INFILE)"
   ]
  },
  {
   "cell_type": "code",
   "execution_count": 2,
   "metadata": {},
   "outputs": [],
   "source": [
    "# PARAMS_DICT_INFILE = f\"{OUTDIR}/input_params.p\"\n",
    "REGRESSION_INFILE = \"regression_thread_data.p\"\n",
    "THREAD_INFILE = \"clean_5_thread_data.p\""
   ]
  },
  {
   "cell_type": "code",
   "execution_count": 3,
   "metadata": {},
   "outputs": [],
   "source": [
    "regdfs = pickle.load(open(REGRESSION_INFILE, 'rb'))\n",
    "threaddfs = pickle.load(open(THREAD_INFILE, 'rb'))"
   ]
  },
  {
   "cell_type": "code",
   "execution_count": 4,
   "metadata": {},
   "outputs": [],
   "source": [
    "domain_rank = domain_rank[['Domain', 'Open Page Rank']].rename(columns = {\n",
    "    'Domain': 'domain',\n",
    "    'Open Page Rank': 'open_page_rank'\n",
    "})\n"
   ]
  },
  {
   "cell_type": "code",
   "execution_count": 7,
   "metadata": {},
   "outputs": [
    {
     "data": {
      "text/plain": [
       "array([10.  ,  9.88,  9.83,  9.65,  9.64,  9.57,  9.24,  9.16,  9.15,\n",
       "        9.14,  9.09,  9.02,  8.99,  8.96,  8.93,  8.9 ,  8.89,  8.85,\n",
       "        8.76,  8.74,  8.71,  8.58,  8.54,  8.48,  8.47,  8.45,  8.41,\n",
       "        8.38,  8.36,  8.35,  8.33,  8.32,  8.29,  8.27,  8.25,  8.23,\n",
       "        8.22,  8.21,  8.2 ,  8.16,  8.15,  8.11,  8.1 ,  8.09,  8.07,\n",
       "        8.05,  8.04,  8.03,  8.  ,  7.98,  7.97,  7.94,  7.93,  7.91,\n",
       "        7.88,  7.87,  7.84,  7.83,  7.82,  7.78,  7.76,  7.75,  7.74,\n",
       "        7.72,  7.71,  7.7 ,  7.69,  7.67,  7.66,  7.65,  7.63,  7.62,\n",
       "        7.6 ,  7.59,  7.57,  7.56,  7.55,  7.52,  7.51,  7.49,  7.48,\n",
       "        7.47,  7.46,  7.44,  7.43,  7.42,  7.41,  7.4 ,  7.39,  7.38,\n",
       "        7.37,  7.36,  7.35,  7.34,  7.33,  7.32,  7.31,  7.3 ,  7.28,\n",
       "        7.27,  7.26,  7.25,  7.24,  7.23,  7.22,  7.21,  7.2 ,  7.18,\n",
       "        7.17,  7.16,  7.15,  7.13,  7.12,  7.11,  7.1 ,  7.09,  7.08,\n",
       "        7.07,  7.06,  7.05,  7.04,  7.03,  7.02,  7.01,  7.  ,  6.99,\n",
       "        6.98,  6.97,  6.96,  6.95,  6.94,  6.93,  6.92,  6.91,  6.9 ,\n",
       "        6.89,  6.88,  6.87,  6.86,  6.85,  6.84,  6.83,  6.82,  6.8 ,\n",
       "        6.79,  6.78,  6.77,  6.76,  6.75,  6.74,  6.73,  6.72,  6.71,\n",
       "        6.7 ,  6.69,  6.68,  6.67,  6.66,  6.65,  6.64,  6.63,  6.62,\n",
       "        6.61,  6.6 ,  6.59,  6.58,  6.57,  6.56,  6.55,  6.54,  6.53,\n",
       "        6.52,  6.51,  6.5 ,  6.49,  6.48,  6.47,  6.46,  6.45,  6.44,\n",
       "        6.43,  6.42,  6.41,  6.4 ,  6.39,  6.38,  6.37,  6.36,  6.35,\n",
       "        6.34,  6.33,  6.32,  6.31,  6.3 ,  6.29,  6.28,  6.27,  6.26,\n",
       "        6.25,  6.24,  6.23,  6.22,  6.21,  6.2 ,  6.19,  6.18,  6.17,\n",
       "        6.16,  6.15,  6.14,  6.13,  6.12,  6.11,  6.1 ,  6.09,  6.08,\n",
       "        6.07,  6.06,  6.05,  6.04,  6.03,  6.02,  6.01,  6.  ,  5.99,\n",
       "        5.98,  5.97,  5.96,  5.95,  5.94,  5.93,  5.92,  5.91,  5.9 ,\n",
       "        5.89,  5.88,  5.87,  5.86,  5.85,  5.84,  5.83,  5.82,  5.81,\n",
       "        5.8 ,  5.79,  5.78,  5.77,  5.76,  5.75,  5.74,  5.73,  5.72,\n",
       "        5.71,  5.7 ,  5.69,  5.68,  5.67,  5.66,  5.65,  5.64,  5.63,\n",
       "        5.62,  5.61,  5.6 ,  5.59,  5.58,  5.57,  5.56,  5.55,  5.54,\n",
       "        5.53,  5.52,  5.51,  5.5 ,  5.49,  5.48,  5.47,  5.46,  5.45,\n",
       "        5.44,  5.43,  5.42,  5.41,  5.4 ,  5.39,  5.38,  5.37,  5.36,\n",
       "        5.35,  5.34,  5.33,  5.32,  5.31,  5.3 ,  5.29,  5.28,  5.27,\n",
       "        5.26,  5.25,  5.24,  5.23,  5.22,  5.21,  5.2 ,  5.19,  5.18,\n",
       "        5.17,  5.16,  5.15,  5.14,  5.13,  5.12,  5.11,  5.1 ,  5.09,\n",
       "        5.08,  5.07,  5.06,  5.05,  5.04,  5.03,  5.02,  5.01,  5.  ,\n",
       "        4.99,  4.98,  4.97,  4.96,  4.95,  4.94,  4.93,  4.92,  4.91,\n",
       "        4.9 ,  4.89,  4.88,  4.87,  4.86,  4.85,  4.84,  4.83,  4.82,\n",
       "        4.81,  4.8 ,  4.79,  4.78,  4.77,  4.76,  4.75,  4.74,  4.73,\n",
       "        4.72,  4.71,  4.7 ,  4.69,  4.68,  4.67,  4.66,  4.65,  4.64,\n",
       "        4.63,  4.62,  4.61,  4.6 ,  4.59,  4.58,  4.57,  4.56,  4.55,\n",
       "        4.54,  4.53,  4.52,  4.51,  4.5 ,  4.49,  4.48,  4.47,  4.46,\n",
       "        4.45,  4.44,  4.43,  4.42,  4.41,  4.4 ,  4.39,  4.38,  4.37,\n",
       "        4.36,  4.35,  4.34,  4.33,  4.32,  4.31,  4.3 ,  4.29,  4.28,\n",
       "        4.27,  4.26,  4.25,  4.24,  4.23,  4.22,  4.21,  4.2 ,  4.19,\n",
       "        4.18,  4.17,  4.16,  4.15,  4.14,  4.13,  4.12,  4.11,  4.1 ,\n",
       "        4.09,  4.08,  4.07,  4.06,  4.05,  4.04,  4.03,  4.02,  4.01,\n",
       "        4.  ,  3.99,  3.98,  3.97,  3.96,  3.95,  3.94,  3.93,  3.92,\n",
       "        3.91,  3.9 ,  3.89,  3.88,  3.87,  3.86,  3.85,  3.84,  3.83,\n",
       "        3.82,  3.81,  3.8 ,  3.79,  3.78,  3.77,  3.76,  3.75,  3.74,\n",
       "        3.73,  3.72,  3.71,  3.7 ,  3.69,  3.68,  3.67,  3.66,  3.65,\n",
       "        3.64,  3.63,  3.62,  3.61,  3.6 ,  3.59,  3.58,  3.57,  3.56,\n",
       "        3.55,  3.54,  3.53,  3.52,  3.51,  3.5 ,  3.49,  3.48,  3.47,\n",
       "        3.46,  3.45,  3.44,  3.43,  3.42,  3.41,  3.4 ,  3.39,  3.38,\n",
       "        3.37,  3.36,  3.35,  3.34,  3.33,  3.32,  3.31,  3.3 ,  3.29,\n",
       "        3.28,  3.27,  3.26,  3.25,  3.24,  3.23,  3.22,  3.21,  3.2 ,\n",
       "        3.19,  3.18,  3.17,  3.16,  3.15,  3.14,  3.13,  3.12,  3.11,\n",
       "        3.1 ,  3.09,  3.08,  3.07,  3.06,  3.05,  3.04,  3.03,  3.02,\n",
       "        3.01,  3.  ,  2.99,  2.98,  2.97,  2.96,  2.95,  2.94,  2.93,\n",
       "        2.92,  2.91,  2.9 ,  2.89,  2.88,  2.87,  2.86,  2.85,  2.84,\n",
       "        2.83,  2.82,  2.81,  2.8 ,  2.79,  2.78,  2.77,  2.76,  2.75,\n",
       "        2.74,  2.73,  2.72,  2.71,  2.7 ,  2.69,  2.68,  2.67,  2.66,\n",
       "        2.65,  2.64,  2.63,  2.62,  2.61,  2.6 ,  2.59,  2.58,  2.57,\n",
       "        2.56,  2.55,  2.54,  2.53,  2.52,  2.51,  2.5 ,  2.49,  2.48,\n",
       "        2.47,  2.46,  2.45,  2.44,  2.43,  2.42,  2.41,  2.4 ,  2.39,\n",
       "        2.38,  2.37,  2.36,  2.35,  2.34,  2.33,  2.32,  2.31,  2.3 ,\n",
       "        2.29,  2.28,  2.27,  2.26,  2.25,  2.24,  2.23,  2.22,  2.21,\n",
       "        2.2 ,  2.19,  2.18,  2.17,  2.16,  2.15,  2.14,  2.13,  2.12,\n",
       "        2.11,  2.1 ,  2.09,  2.08,  2.07,  2.06,  2.05,  2.04,  2.03,\n",
       "        2.02,  2.01,  2.  ,  1.99,  1.98,  1.97,  1.96,  1.95,  1.94,\n",
       "        1.93,  1.92,  1.91,  1.9 ,  1.89,  1.88,  1.87,  1.86,  1.85,\n",
       "        1.84,  1.83,  1.82,  1.81,  1.8 ,  1.79,  1.78,  1.77,  1.76,\n",
       "        1.75,  1.74,  1.73,  1.72])"
      ]
     },
     "execution_count": 7,
     "metadata": {},
     "output_type": "execute_result"
    }
   ],
   "source": [
    "domain_rank.open_page_rank.unique()"
   ]
  },
  {
   "cell_type": "code",
   "execution_count": 85,
   "metadata": {},
   "outputs": [],
   "source": [
    "domain_pagerank_dict = dict(zip(domain_rank.domain,domain_rank.open_page_rank))"
   ]
  },
  {
   "cell_type": "code",
   "execution_count": 19,
   "metadata": {},
   "outputs": [],
   "source": [
    "def change_reddit_domains(domains_col):\n",
    "    to_alter = domains_col[domains_col.str.contains('self.')]\n",
    "    to_alter = to_alter.str.removeprefix('self.') + '.reddit.com'\n",
    "    domains_col[domains_col.str.contains('self.')] = to_alter\n",
    "    return domains_col\n",
    "\n",
    "def get_pagerank_scores(domain_col):\n",
    "    domain_col = change_reddit_domains(domain_col)\n",
    "    new_domain_col = domain_col.map(domain_pagerank_dict, na_action=None).fillna(0)\n",
    "    return new_domain_col\n"
   ]
  },
  {
   "cell_type": "code",
   "execution_count": 40,
   "metadata": {},
   "outputs": [],
   "source": [
    "domains_not_na = threaddfs['books'][threaddfs['books'].domain.notna()]\n",
    "domains_to_replace = domains_not_na[domains_not_na.domain.str.contains('self.')]"
   ]
  },
  {
   "cell_type": "code",
   "execution_count": 34,
   "metadata": {},
   "outputs": [
    {
     "ename": "ValueError",
     "evalue": "Cannot mask with non-boolean array containing NA / NaN values",
     "output_type": "error",
     "traceback": [
      "\u001b[1;31m---------------------------------------------------------------------------\u001b[0m",
      "\u001b[1;31mValueError\u001b[0m                                Traceback (most recent call last)",
      "Cell \u001b[1;32mIn[34], line 1\u001b[0m\n\u001b[1;32m----> 1\u001b[0m \u001b[43mthreaddfs\u001b[49m\u001b[43m[\u001b[49m\u001b[38;5;124;43m'\u001b[39;49m\u001b[38;5;124;43mbooks\u001b[39;49m\u001b[38;5;124;43m'\u001b[39;49m\u001b[43m]\u001b[49m\u001b[43m[\u001b[49m\u001b[43mthreaddfs\u001b[49m\u001b[43m[\u001b[49m\u001b[38;5;124;43m'\u001b[39;49m\u001b[38;5;124;43mbooks\u001b[39;49m\u001b[38;5;124;43m'\u001b[39;49m\u001b[43m]\u001b[49m\u001b[38;5;241;43m.\u001b[39;49m\u001b[43mdomain\u001b[49m\u001b[38;5;241;43m.\u001b[39;49m\u001b[43mstr\u001b[49m\u001b[38;5;241;43m.\u001b[39;49m\u001b[43mcontains\u001b[49m\u001b[43m(\u001b[49m\u001b[38;5;124;43m'\u001b[39;49m\u001b[38;5;124;43mself.\u001b[39;49m\u001b[38;5;124;43m'\u001b[39;49m\u001b[43m)\u001b[49m\u001b[43m]\u001b[49m\n",
      "File \u001b[1;32mc:\\Users\\snuzz\\anaconda3\\envs\\redditenv\\lib\\site-packages\\pandas\\core\\frame.py:3797\u001b[0m, in \u001b[0;36mDataFrame.__getitem__\u001b[1;34m(self, key)\u001b[0m\n\u001b[0;32m   3794\u001b[0m     \u001b[38;5;28;01mreturn\u001b[39;00m \u001b[38;5;28mself\u001b[39m\u001b[38;5;241m.\u001b[39mwhere(key)\n\u001b[0;32m   3796\u001b[0m \u001b[38;5;66;03m# Do we have a (boolean) 1d indexer?\u001b[39;00m\n\u001b[1;32m-> 3797\u001b[0m \u001b[38;5;28;01mif\u001b[39;00m \u001b[43mcom\u001b[49m\u001b[38;5;241;43m.\u001b[39;49m\u001b[43mis_bool_indexer\u001b[49m\u001b[43m(\u001b[49m\u001b[43mkey\u001b[49m\u001b[43m)\u001b[49m:\n\u001b[0;32m   3798\u001b[0m     \u001b[38;5;28;01mreturn\u001b[39;00m \u001b[38;5;28mself\u001b[39m\u001b[38;5;241m.\u001b[39m_getitem_bool_array(key)\n\u001b[0;32m   3800\u001b[0m \u001b[38;5;66;03m# We are left with two options: a single key, and a collection of keys,\u001b[39;00m\n\u001b[0;32m   3801\u001b[0m \u001b[38;5;66;03m# We interpret tuples as collections only for non-MultiIndex\u001b[39;00m\n",
      "File \u001b[1;32mc:\\Users\\snuzz\\anaconda3\\envs\\redditenv\\lib\\site-packages\\pandas\\core\\common.py:135\u001b[0m, in \u001b[0;36mis_bool_indexer\u001b[1;34m(key)\u001b[0m\n\u001b[0;32m    131\u001b[0m     na_msg \u001b[38;5;241m=\u001b[39m \u001b[38;5;124m\"\u001b[39m\u001b[38;5;124mCannot mask with non-boolean array containing NA / NaN values\u001b[39m\u001b[38;5;124m\"\u001b[39m\n\u001b[0;32m    132\u001b[0m     \u001b[38;5;28;01mif\u001b[39;00m lib\u001b[38;5;241m.\u001b[39minfer_dtype(key_array) \u001b[38;5;241m==\u001b[39m \u001b[38;5;124m\"\u001b[39m\u001b[38;5;124mboolean\u001b[39m\u001b[38;5;124m\"\u001b[39m \u001b[38;5;129;01mand\u001b[39;00m isna(key_array)\u001b[38;5;241m.\u001b[39many():\n\u001b[0;32m    133\u001b[0m         \u001b[38;5;66;03m# Don't raise on e.g. [\"A\", \"B\", np.nan], see\u001b[39;00m\n\u001b[0;32m    134\u001b[0m         \u001b[38;5;66;03m#  test_loc_getitem_list_of_labels_categoricalindex_with_na\u001b[39;00m\n\u001b[1;32m--> 135\u001b[0m         \u001b[38;5;28;01mraise\u001b[39;00m \u001b[38;5;167;01mValueError\u001b[39;00m(na_msg)\n\u001b[0;32m    136\u001b[0m     \u001b[38;5;28;01mreturn\u001b[39;00m \u001b[38;5;28;01mFalse\u001b[39;00m\n\u001b[0;32m    137\u001b[0m \u001b[38;5;28;01mreturn\u001b[39;00m \u001b[38;5;28;01mTrue\u001b[39;00m\n",
      "\u001b[1;31mValueError\u001b[0m: Cannot mask with non-boolean array containing NA / NaN values"
     ]
    }
   ],
   "source": [
    "threaddfs['books'][threaddfs['books'].domain.str.contains('self.')]"
   ]
  },
  {
   "cell_type": "code",
   "execution_count": 21,
   "metadata": {},
   "outputs": [
    {
     "ename": "ValueError",
     "evalue": "Cannot mask with non-boolean array containing NA / NaN values",
     "output_type": "error",
     "traceback": [
      "\u001b[1;31m---------------------------------------------------------------------------\u001b[0m",
      "\u001b[1;31mValueError\u001b[0m                                Traceback (most recent call last)",
      "Cell \u001b[1;32mIn[21], line 3\u001b[0m\n\u001b[0;32m      1\u001b[0m new_thread_dfs \u001b[38;5;241m=\u001b[39m {}\n\u001b[0;32m      2\u001b[0m \u001b[38;5;28;01mfor\u001b[39;00m key \u001b[38;5;129;01min\u001b[39;00m threaddfs:\n\u001b[1;32m----> 3\u001b[0m     threaddfs[key][\u001b[38;5;124m'\u001b[39m\u001b[38;5;124mdomain\u001b[39m\u001b[38;5;124m'\u001b[39m] \u001b[38;5;241m=\u001b[39m \u001b[43mchange_reddit_domains\u001b[49m\u001b[43m(\u001b[49m\u001b[43mthreaddfs\u001b[49m\u001b[43m[\u001b[49m\u001b[43mkey\u001b[49m\u001b[43m]\u001b[49m\u001b[38;5;241;43m.\u001b[39;49m\u001b[43mdomain\u001b[49m\u001b[43m)\u001b[49m\n",
      "Cell \u001b[1;32mIn[19], line 2\u001b[0m, in \u001b[0;36mchange_reddit_domains\u001b[1;34m(domains_col)\u001b[0m\n\u001b[0;32m      1\u001b[0m \u001b[38;5;28;01mdef\u001b[39;00m \u001b[38;5;21mchange_reddit_domains\u001b[39m(domains_col):\n\u001b[1;32m----> 2\u001b[0m     to_alter \u001b[38;5;241m=\u001b[39m \u001b[43mdomains_col\u001b[49m\u001b[43m[\u001b[49m\u001b[43mdomains_col\u001b[49m\u001b[38;5;241;43m.\u001b[39;49m\u001b[43mstr\u001b[49m\u001b[38;5;241;43m.\u001b[39;49m\u001b[43mcontains\u001b[49m\u001b[43m(\u001b[49m\u001b[38;5;124;43m'\u001b[39;49m\u001b[38;5;124;43mself.\u001b[39;49m\u001b[38;5;124;43m'\u001b[39;49m\u001b[43m)\u001b[49m\u001b[43m]\u001b[49m\n\u001b[0;32m      3\u001b[0m     to_alter \u001b[38;5;241m=\u001b[39m to_alter\u001b[38;5;241m.\u001b[39mstr\u001b[38;5;241m.\u001b[39mremoveprefix(\u001b[38;5;124m'\u001b[39m\u001b[38;5;124mself.\u001b[39m\u001b[38;5;124m'\u001b[39m) \u001b[38;5;241m+\u001b[39m \u001b[38;5;124m'\u001b[39m\u001b[38;5;124m.reddit.com\u001b[39m\u001b[38;5;124m'\u001b[39m\n\u001b[0;32m      4\u001b[0m     domains_col[domains_col\u001b[38;5;241m.\u001b[39mstr\u001b[38;5;241m.\u001b[39mcontains(\u001b[38;5;124m'\u001b[39m\u001b[38;5;124mself.\u001b[39m\u001b[38;5;124m'\u001b[39m)] \u001b[38;5;241m=\u001b[39m to_alter\n",
      "File \u001b[1;32mc:\\Users\\snuzz\\anaconda3\\envs\\redditenv\\lib\\site-packages\\pandas\\core\\series.py:1002\u001b[0m, in \u001b[0;36mSeries.__getitem__\u001b[1;34m(self, key)\u001b[0m\n\u001b[0;32m    999\u001b[0m \u001b[38;5;28;01mif\u001b[39;00m is_iterator(key):\n\u001b[0;32m   1000\u001b[0m     key \u001b[38;5;241m=\u001b[39m \u001b[38;5;28mlist\u001b[39m(key)\n\u001b[1;32m-> 1002\u001b[0m \u001b[38;5;28;01mif\u001b[39;00m \u001b[43mcom\u001b[49m\u001b[38;5;241;43m.\u001b[39;49m\u001b[43mis_bool_indexer\u001b[49m\u001b[43m(\u001b[49m\u001b[43mkey\u001b[49m\u001b[43m)\u001b[49m:\n\u001b[0;32m   1003\u001b[0m     key \u001b[38;5;241m=\u001b[39m check_bool_indexer(\u001b[38;5;28mself\u001b[39m\u001b[38;5;241m.\u001b[39mindex, key)\n\u001b[0;32m   1004\u001b[0m     key \u001b[38;5;241m=\u001b[39m np\u001b[38;5;241m.\u001b[39masarray(key, dtype\u001b[38;5;241m=\u001b[39m\u001b[38;5;28mbool\u001b[39m)\n",
      "File \u001b[1;32mc:\\Users\\snuzz\\anaconda3\\envs\\redditenv\\lib\\site-packages\\pandas\\core\\common.py:135\u001b[0m, in \u001b[0;36mis_bool_indexer\u001b[1;34m(key)\u001b[0m\n\u001b[0;32m    131\u001b[0m     na_msg \u001b[38;5;241m=\u001b[39m \u001b[38;5;124m\"\u001b[39m\u001b[38;5;124mCannot mask with non-boolean array containing NA / NaN values\u001b[39m\u001b[38;5;124m\"\u001b[39m\n\u001b[0;32m    132\u001b[0m     \u001b[38;5;28;01mif\u001b[39;00m lib\u001b[38;5;241m.\u001b[39minfer_dtype(key_array) \u001b[38;5;241m==\u001b[39m \u001b[38;5;124m\"\u001b[39m\u001b[38;5;124mboolean\u001b[39m\u001b[38;5;124m\"\u001b[39m \u001b[38;5;129;01mand\u001b[39;00m isna(key_array)\u001b[38;5;241m.\u001b[39many():\n\u001b[0;32m    133\u001b[0m         \u001b[38;5;66;03m# Don't raise on e.g. [\"A\", \"B\", np.nan], see\u001b[39;00m\n\u001b[0;32m    134\u001b[0m         \u001b[38;5;66;03m#  test_loc_getitem_list_of_labels_categoricalindex_with_na\u001b[39;00m\n\u001b[1;32m--> 135\u001b[0m         \u001b[38;5;28;01mraise\u001b[39;00m \u001b[38;5;167;01mValueError\u001b[39;00m(na_msg)\n\u001b[0;32m    136\u001b[0m     \u001b[38;5;28;01mreturn\u001b[39;00m \u001b[38;5;28;01mFalse\u001b[39;00m\n\u001b[0;32m    137\u001b[0m \u001b[38;5;28;01mreturn\u001b[39;00m \u001b[38;5;28;01mTrue\u001b[39;00m\n",
      "\u001b[1;31mValueError\u001b[0m: Cannot mask with non-boolean array containing NA / NaN values"
     ]
    }
   ],
   "source": [
    "\n",
    "for key in threaddfs:\n",
    "    threaddfs[key]['domain'] = change_reddit_domains(threaddfs[key].domain)"
   ]
  },
  {
   "cell_type": "code",
   "execution_count": 15,
   "metadata": {},
   "outputs": [
    {
     "name": "stderr",
     "output_type": "stream",
     "text": [
      "C:\\Users\\snuzz\\AppData\\Local\\Temp\\ipykernel_17828\\2515556108.py:4: SettingWithCopyWarning: \n",
      "A value is trying to be set on a copy of a slice from a DataFrame\n",
      "\n",
      "See the caveats in the documentation: https://pandas.pydata.org/pandas-docs/stable/user_guide/indexing.html#returning-a-view-versus-a-copy\n",
      "  domains_col[domains_col.str.contains('self.')] = to_alter\n",
      "C:\\Users\\snuzz\\AppData\\Local\\Temp\\ipykernel_17828\\2515556108.py:4: SettingWithCopyWarning: \n",
      "A value is trying to be set on a copy of a slice from a DataFrame\n",
      "\n",
      "See the caveats in the documentation: https://pandas.pydata.org/pandas-docs/stable/user_guide/indexing.html#returning-a-view-versus-a-copy\n",
      "  domains_col[domains_col.str.contains('self.')] = to_alter\n"
     ]
    },
    {
     "ename": "NameError",
     "evalue": "name 'domain_pagerank_dict' is not defined",
     "output_type": "error",
     "traceback": [
      "\u001b[1;31m---------------------------------------------------------------------------\u001b[0m",
      "\u001b[1;31mNameError\u001b[0m                                 Traceback (most recent call last)",
      "Cell \u001b[1;32mIn[15], line 4\u001b[0m\n\u001b[0;32m      2\u001b[0m \u001b[38;5;28;01mfor\u001b[39;00m key \u001b[38;5;129;01min\u001b[39;00m threaddfs:\n\u001b[0;32m      3\u001b[0m     posts \u001b[38;5;241m=\u001b[39m threaddfs[key][threaddfs[key]\u001b[38;5;241m.\u001b[39mthread_id \u001b[38;5;241m==\u001b[39m threaddfs[key]\u001b[38;5;241m.\u001b[39mid]\n\u001b[1;32m----> 4\u001b[0m     posts[\u001b[38;5;124m'\u001b[39m\u001b[38;5;124mdomain_pagerank\u001b[39m\u001b[38;5;124m'\u001b[39m] \u001b[38;5;241m=\u001b[39m \u001b[43mget_pagerank_scores\u001b[49m\u001b[43m(\u001b[49m\u001b[43mposts\u001b[49m\u001b[38;5;241;43m.\u001b[39;49m\u001b[43mdomain\u001b[49m\u001b[43m)\u001b[49m\n\u001b[0;32m      5\u001b[0m     new_reg_dfs[key] \u001b[38;5;241m=\u001b[39m pd\u001b[38;5;241m.\u001b[39mmerge(regdfs[key], posts[[\u001b[38;5;124m'\u001b[39m\u001b[38;5;124mthread_id\u001b[39m\u001b[38;5;124m'\u001b[39m, \u001b[38;5;124m'\u001b[39m\u001b[38;5;124mdomain\u001b[39m\u001b[38;5;124m'\u001b[39m, \u001b[38;5;124m'\u001b[39m\u001b[38;5;124mdomain_pagerank\u001b[39m\u001b[38;5;124m'\u001b[39m]], how\u001b[38;5;241m=\u001b[39m\u001b[38;5;124m'\u001b[39m\u001b[38;5;124mleft\u001b[39m\u001b[38;5;124m'\u001b[39m, on\u001b[38;5;241m=\u001b[39m\u001b[38;5;124m'\u001b[39m\u001b[38;5;124mthread_id\u001b[39m\u001b[38;5;124m'\u001b[39m)\n",
      "Cell \u001b[1;32mIn[14], line 9\u001b[0m, in \u001b[0;36mget_pagerank_scores\u001b[1;34m(domain_col)\u001b[0m\n\u001b[0;32m      7\u001b[0m \u001b[38;5;28;01mdef\u001b[39;00m \u001b[38;5;21mget_pagerank_scores\u001b[39m(domain_col):\n\u001b[0;32m      8\u001b[0m     domain_col \u001b[38;5;241m=\u001b[39m change_reddit_domains(domain_col)\n\u001b[1;32m----> 9\u001b[0m     new_domain_col \u001b[38;5;241m=\u001b[39m domain_col\u001b[38;5;241m.\u001b[39mmap(\u001b[43mdomain_pagerank_dict\u001b[49m, na_action\u001b[38;5;241m=\u001b[39m\u001b[38;5;28;01mNone\u001b[39;00m)\u001b[38;5;241m.\u001b[39mfillna(\u001b[38;5;241m0\u001b[39m)\n\u001b[0;32m     10\u001b[0m     \u001b[38;5;28;01mreturn\u001b[39;00m new_domain_col\n",
      "\u001b[1;31mNameError\u001b[0m: name 'domain_pagerank_dict' is not defined"
     ]
    }
   ],
   "source": [
    "new_reg_dfs = {}\n",
    "for key in threaddfs:\n",
    "    posts = threaddfs[key][threaddfs[key].thread_id == threaddfs[key].id]\n",
    "    posts['domain_pagerank'] = get_pagerank_scores(posts.domain)\n",
    "    new_reg_dfs[key] = pd.merge(regdfs[key], posts[['thread_id', 'domain', 'domain_pagerank']], how='left', on='thread_id')"
   ]
  },
  {
   "cell_type": "code",
   "execution_count": 89,
   "metadata": {},
   "outputs": [],
   "source": [
    "pickle.dump(new_reg_dfs, open('regression_thread_data_april_2024.p', 'wb'))"
   ]
  },
  {
   "cell_type": "code",
   "execution_count": 104,
   "metadata": {},
   "outputs": [],
   "source": [
    "post_domains = posts[['thread_id', 'domain']].groupby('domain').count().rename(columns={'thread_id': 'domain_count'})"
   ]
  },
  {
   "cell_type": "code",
   "execution_count": 122,
   "metadata": {},
   "outputs": [
    {
     "data": {
      "text/html": [
       "<div>\n",
       "<style scoped>\n",
       "    .dataframe tbody tr th:only-of-type {\n",
       "        vertical-align: middle;\n",
       "    }\n",
       "\n",
       "    .dataframe tbody tr th {\n",
       "        vertical-align: top;\n",
       "    }\n",
       "\n",
       "    .dataframe thead th {\n",
       "        text-align: right;\n",
       "    }\n",
       "</style>\n",
       "<table border=\"1\" class=\"dataframe\">\n",
       "  <thead>\n",
       "    <tr style=\"text-align: right;\">\n",
       "      <th></th>\n",
       "      <th>thread_id</th>\n",
       "      <th>thread_size</th>\n",
       "      <th>authors</th>\n",
       "      <th>timestamp</th>\n",
       "      <th>author</th>\n",
       "      <th>score</th>\n",
       "      <th>subject_sentiment_score</th>\n",
       "      <th>sentiment_sign</th>\n",
       "      <th>sentiment_magnitude</th>\n",
       "      <th>success</th>\n",
       "      <th>domain</th>\n",
       "      <th>domain_pagerank</th>\n",
       "    </tr>\n",
       "  </thead>\n",
       "  <tbody>\n",
       "    <tr>\n",
       "      <th>0</th>\n",
       "      <td>xsgu8l</td>\n",
       "      <td>1</td>\n",
       "      <td>1</td>\n",
       "      <td>2022-10-01 00:11:11</td>\n",
       "      <td>f44d5bd8146ae4baecd32037a8285c4f99690e85fa022ec5</td>\n",
       "      <td>1</td>\n",
       "      <td>-0.5719</td>\n",
       "      <td>-1.0</td>\n",
       "      <td>0.5719</td>\n",
       "      <td>0</td>\n",
       "      <td>deadline.com</td>\n",
       "      <td>5.71</td>\n",
       "    </tr>\n",
       "    <tr>\n",
       "      <th>1</th>\n",
       "      <td>xsh6qv</td>\n",
       "      <td>1</td>\n",
       "      <td>1</td>\n",
       "      <td>2022-10-01 00:27:38</td>\n",
       "      <td>703bd9ed6d2b178437b437b99074449db8137f1d00e6f7be</td>\n",
       "      <td>1</td>\n",
       "      <td>0.0000</td>\n",
       "      <td>0.0</td>\n",
       "      <td>0.0000</td>\n",
       "      <td>0</td>\n",
       "      <td>thebookreviewcrew.com</td>\n",
       "      <td>3.07</td>\n",
       "    </tr>\n",
       "    <tr>\n",
       "      <th>2</th>\n",
       "      <td>xshdvl</td>\n",
       "      <td>1</td>\n",
       "      <td>1</td>\n",
       "      <td>2022-10-01 00:36:53</td>\n",
       "      <td>d9cacaec67989837c343381be2e4d5016c7743d419a34e84</td>\n",
       "      <td>1</td>\n",
       "      <td>0.0000</td>\n",
       "      <td>0.0</td>\n",
       "      <td>0.0000</td>\n",
       "      <td>0</td>\n",
       "      <td>story-arc-blog.com</td>\n",
       "      <td>0.00</td>\n",
       "    </tr>\n",
       "    <tr>\n",
       "      <th>3</th>\n",
       "      <td>xsi14p</td>\n",
       "      <td>1</td>\n",
       "      <td>1</td>\n",
       "      <td>2022-10-01 01:07:47</td>\n",
       "      <td>c466b9998753e56da1c6050ead680f8d2120eb91e2ef0fb9</td>\n",
       "      <td>1</td>\n",
       "      <td>0.0000</td>\n",
       "      <td>0.0</td>\n",
       "      <td>0.0000</td>\n",
       "      <td>0</td>\n",
       "      <td>books.reddit.com</td>\n",
       "      <td>0.00</td>\n",
       "    </tr>\n",
       "    <tr>\n",
       "      <th>4</th>\n",
       "      <td>xsis1h</td>\n",
       "      <td>1</td>\n",
       "      <td>1</td>\n",
       "      <td>2022-10-01 01:44:22</td>\n",
       "      <td>920f0705acd330eaf28719163e0801e1155d19b4a213351a</td>\n",
       "      <td>1</td>\n",
       "      <td>0.6369</td>\n",
       "      <td>1.0</td>\n",
       "      <td>0.6369</td>\n",
       "      <td>0</td>\n",
       "      <td>books.reddit.com</td>\n",
       "      <td>0.00</td>\n",
       "    </tr>\n",
       "    <tr>\n",
       "      <th>...</th>\n",
       "      <td>...</td>\n",
       "      <td>...</td>\n",
       "      <td>...</td>\n",
       "      <td>...</td>\n",
       "      <td>...</td>\n",
       "      <td>...</td>\n",
       "      <td>...</td>\n",
       "      <td>...</td>\n",
       "      <td>...</td>\n",
       "      <td>...</td>\n",
       "      <td>...</td>\n",
       "      <td>...</td>\n",
       "    </tr>\n",
       "    <tr>\n",
       "      <th>4771</th>\n",
       "      <td>yhubu4</td>\n",
       "      <td>1</td>\n",
       "      <td>1</td>\n",
       "      <td>2022-10-30 23:47:20</td>\n",
       "      <td>452ee4f79a00b3bb4551bd3004e2eac706a6ccbf02571b30</td>\n",
       "      <td>1</td>\n",
       "      <td>0.3612</td>\n",
       "      <td>1.0</td>\n",
       "      <td>0.3612</td>\n",
       "      <td>0</td>\n",
       "      <td>books.reddit.com</td>\n",
       "      <td>0.00</td>\n",
       "    </tr>\n",
       "    <tr>\n",
       "      <th>4772</th>\n",
       "      <td>yhufba</td>\n",
       "      <td>1</td>\n",
       "      <td>1</td>\n",
       "      <td>2022-10-30 23:50:57</td>\n",
       "      <td>c87b1b35b64a2745a582aa1561ba7a2109d7bb62058269b3</td>\n",
       "      <td>1</td>\n",
       "      <td>0.0000</td>\n",
       "      <td>0.0</td>\n",
       "      <td>0.0000</td>\n",
       "      <td>0</td>\n",
       "      <td>saturdayeveningpost.com</td>\n",
       "      <td>4.90</td>\n",
       "    </tr>\n",
       "    <tr>\n",
       "      <th>4773</th>\n",
       "      <td>yhukih</td>\n",
       "      <td>1</td>\n",
       "      <td>1</td>\n",
       "      <td>2022-10-30 23:56:14</td>\n",
       "      <td>452ee4f79a00b3bb4551bd3004e2eac706a6ccbf02571b30</td>\n",
       "      <td>1</td>\n",
       "      <td>0.0000</td>\n",
       "      <td>0.0</td>\n",
       "      <td>0.0000</td>\n",
       "      <td>0</td>\n",
       "      <td>books.reddit.com</td>\n",
       "      <td>0.00</td>\n",
       "    </tr>\n",
       "    <tr>\n",
       "      <th>4774</th>\n",
       "      <td>yhumfc</td>\n",
       "      <td>1</td>\n",
       "      <td>1</td>\n",
       "      <td>2022-10-30 23:58:16</td>\n",
       "      <td>85d36ff7b20bc9bbd48ca8c94645d5d491d234585f8f2646</td>\n",
       "      <td>1</td>\n",
       "      <td>0.0000</td>\n",
       "      <td>0.0</td>\n",
       "      <td>0.0000</td>\n",
       "      <td>0</td>\n",
       "      <td>books.reddit.com</td>\n",
       "      <td>0.00</td>\n",
       "    </tr>\n",
       "    <tr>\n",
       "      <th>4775</th>\n",
       "      <td>yhune5</td>\n",
       "      <td>1</td>\n",
       "      <td>1</td>\n",
       "      <td>2022-10-30 23:59:16</td>\n",
       "      <td>cdf58d4e99e633ede9dcf1c79d1093de189c1abaa4ea7866</td>\n",
       "      <td>1</td>\n",
       "      <td>0.3612</td>\n",
       "      <td>1.0</td>\n",
       "      <td>0.3612</td>\n",
       "      <td>0</td>\n",
       "      <td>books.reddit.com</td>\n",
       "      <td>0.00</td>\n",
       "    </tr>\n",
       "  </tbody>\n",
       "</table>\n",
       "<p>4776 rows × 12 columns</p>\n",
       "</div>"
      ],
      "text/plain": [
       "     thread_id  thread_size  authors           timestamp  \\\n",
       "0       xsgu8l            1        1 2022-10-01 00:11:11   \n",
       "1       xsh6qv            1        1 2022-10-01 00:27:38   \n",
       "2       xshdvl            1        1 2022-10-01 00:36:53   \n",
       "3       xsi14p            1        1 2022-10-01 01:07:47   \n",
       "4       xsis1h            1        1 2022-10-01 01:44:22   \n",
       "...        ...          ...      ...                 ...   \n",
       "4771    yhubu4            1        1 2022-10-30 23:47:20   \n",
       "4772    yhufba            1        1 2022-10-30 23:50:57   \n",
       "4773    yhukih            1        1 2022-10-30 23:56:14   \n",
       "4774    yhumfc            1        1 2022-10-30 23:58:16   \n",
       "4775    yhune5            1        1 2022-10-30 23:59:16   \n",
       "\n",
       "                                                author  score  \\\n",
       "0     f44d5bd8146ae4baecd32037a8285c4f99690e85fa022ec5      1   \n",
       "1     703bd9ed6d2b178437b437b99074449db8137f1d00e6f7be      1   \n",
       "2     d9cacaec67989837c343381be2e4d5016c7743d419a34e84      1   \n",
       "3     c466b9998753e56da1c6050ead680f8d2120eb91e2ef0fb9      1   \n",
       "4     920f0705acd330eaf28719163e0801e1155d19b4a213351a      1   \n",
       "...                                                ...    ...   \n",
       "4771  452ee4f79a00b3bb4551bd3004e2eac706a6ccbf02571b30      1   \n",
       "4772  c87b1b35b64a2745a582aa1561ba7a2109d7bb62058269b3      1   \n",
       "4773  452ee4f79a00b3bb4551bd3004e2eac706a6ccbf02571b30      1   \n",
       "4774  85d36ff7b20bc9bbd48ca8c94645d5d491d234585f8f2646      1   \n",
       "4775  cdf58d4e99e633ede9dcf1c79d1093de189c1abaa4ea7866      1   \n",
       "\n",
       "      subject_sentiment_score  sentiment_sign  sentiment_magnitude  success  \\\n",
       "0                     -0.5719            -1.0               0.5719        0   \n",
       "1                      0.0000             0.0               0.0000        0   \n",
       "2                      0.0000             0.0               0.0000        0   \n",
       "3                      0.0000             0.0               0.0000        0   \n",
       "4                      0.6369             1.0               0.6369        0   \n",
       "...                       ...             ...                  ...      ...   \n",
       "4771                   0.3612             1.0               0.3612        0   \n",
       "4772                   0.0000             0.0               0.0000        0   \n",
       "4773                   0.0000             0.0               0.0000        0   \n",
       "4774                   0.0000             0.0               0.0000        0   \n",
       "4775                   0.3612             1.0               0.3612        0   \n",
       "\n",
       "                       domain  domain_pagerank  \n",
       "0                deadline.com             5.71  \n",
       "1       thebookreviewcrew.com             3.07  \n",
       "2          story-arc-blog.com             0.00  \n",
       "3            books.reddit.com             0.00  \n",
       "4            books.reddit.com             0.00  \n",
       "...                       ...              ...  \n",
       "4771         books.reddit.com             0.00  \n",
       "4772  saturdayeveningpost.com             4.90  \n",
       "4773         books.reddit.com             0.00  \n",
       "4774         books.reddit.com             0.00  \n",
       "4775         books.reddit.com             0.00  \n",
       "\n",
       "[4776 rows x 12 columns]"
      ]
     },
     "execution_count": 122,
     "metadata": {},
     "output_type": "execute_result"
    }
   ],
   "source": [
    "new_reg_dfs['books']"
   ]
  },
  {
   "cell_type": "code",
   "execution_count": 105,
   "metadata": {},
   "outputs": [
    {
     "data": {
      "text/html": [
       "<div>\n",
       "<style scoped>\n",
       "    .dataframe tbody tr th:only-of-type {\n",
       "        vertical-align: middle;\n",
       "    }\n",
       "\n",
       "    .dataframe tbody tr th {\n",
       "        vertical-align: top;\n",
       "    }\n",
       "\n",
       "    .dataframe thead th {\n",
       "        text-align: right;\n",
       "    }\n",
       "</style>\n",
       "<table border=\"1\" class=\"dataframe\">\n",
       "  <thead>\n",
       "    <tr style=\"text-align: right;\">\n",
       "      <th></th>\n",
       "      <th>domain_count</th>\n",
       "    </tr>\n",
       "    <tr>\n",
       "      <th>domain</th>\n",
       "      <th></th>\n",
       "    </tr>\n",
       "  </thead>\n",
       "  <tbody>\n",
       "    <tr>\n",
       "      <th>thehill.com</th>\n",
       "      <td>3317</td>\n",
       "    </tr>\n",
       "    <tr>\n",
       "      <th>cnn.com</th>\n",
       "      <td>2785</td>\n",
       "    </tr>\n",
       "    <tr>\n",
       "      <th>nytimes.com</th>\n",
       "      <td>2273</td>\n",
       "    </tr>\n",
       "    <tr>\n",
       "      <th>washingtonpost.com</th>\n",
       "      <td>2224</td>\n",
       "    </tr>\n",
       "    <tr>\n",
       "      <th>youtube.com</th>\n",
       "      <td>2007</td>\n",
       "    </tr>\n",
       "    <tr>\n",
       "      <th>youtu.be</th>\n",
       "      <td>1660</td>\n",
       "    </tr>\n",
       "    <tr>\n",
       "      <th>apnews.com</th>\n",
       "      <td>1620</td>\n",
       "    </tr>\n",
       "    <tr>\n",
       "      <th>reuters.com</th>\n",
       "      <td>1581</td>\n",
       "    </tr>\n",
       "    <tr>\n",
       "      <th>independent.co.uk</th>\n",
       "      <td>1555</td>\n",
       "    </tr>\n",
       "    <tr>\n",
       "      <th>politico.com</th>\n",
       "      <td>1370</td>\n",
       "    </tr>\n",
       "    <tr>\n",
       "      <th>newsweek.com</th>\n",
       "      <td>1318</td>\n",
       "    </tr>\n",
       "    <tr>\n",
       "      <th>theguardian.com</th>\n",
       "      <td>1289</td>\n",
       "    </tr>\n",
       "    <tr>\n",
       "      <th>nbcnews.com</th>\n",
       "      <td>1185</td>\n",
       "    </tr>\n",
       "    <tr>\n",
       "      <th>thedailybeast.com</th>\n",
       "      <td>1085</td>\n",
       "    </tr>\n",
       "    <tr>\n",
       "      <th>businessinsider.com</th>\n",
       "      <td>1075</td>\n",
       "    </tr>\n",
       "    <tr>\n",
       "      <th>twitter.com</th>\n",
       "      <td>1068</td>\n",
       "    </tr>\n",
       "    <tr>\n",
       "      <th>google.com</th>\n",
       "      <td>902</td>\n",
       "    </tr>\n",
       "    <tr>\n",
       "      <th>foxnews.com</th>\n",
       "      <td>813</td>\n",
       "    </tr>\n",
       "    <tr>\n",
       "      <th>cnbc.com</th>\n",
       "      <td>792</td>\n",
       "    </tr>\n",
       "    <tr>\n",
       "      <th>usatoday.com</th>\n",
       "      <td>757</td>\n",
       "    </tr>\n",
       "    <tr>\n",
       "      <th>huffpost.com</th>\n",
       "      <td>743</td>\n",
       "    </tr>\n",
       "    <tr>\n",
       "      <th>npr.org</th>\n",
       "      <td>675</td>\n",
       "    </tr>\n",
       "    <tr>\n",
       "      <th>axios.com</th>\n",
       "      <td>664</td>\n",
       "    </tr>\n",
       "    <tr>\n",
       "      <th>edition.cnn.com</th>\n",
       "      <td>644</td>\n",
       "    </tr>\n",
       "    <tr>\n",
       "      <th>commondreams.org</th>\n",
       "      <td>542</td>\n",
       "    </tr>\n",
       "    <tr>\n",
       "      <th>cbsnews.com</th>\n",
       "      <td>539</td>\n",
       "    </tr>\n",
       "    <tr>\n",
       "      <th>nypost.com</th>\n",
       "      <td>538</td>\n",
       "    </tr>\n",
       "    <tr>\n",
       "      <th>bloomberg.com</th>\n",
       "      <td>510</td>\n",
       "    </tr>\n",
       "    <tr>\n",
       "      <th>abcnews.go.com</th>\n",
       "      <td>474</td>\n",
       "    </tr>\n",
       "    <tr>\n",
       "      <th>salon.com</th>\n",
       "      <td>442</td>\n",
       "    </tr>\n",
       "  </tbody>\n",
       "</table>\n",
       "</div>"
      ],
      "text/plain": [
       "                     domain_count\n",
       "domain                           \n",
       "thehill.com                  3317\n",
       "cnn.com                      2785\n",
       "nytimes.com                  2273\n",
       "washingtonpost.com           2224\n",
       "youtube.com                  2007\n",
       "youtu.be                     1660\n",
       "apnews.com                   1620\n",
       "reuters.com                  1581\n",
       "independent.co.uk            1555\n",
       "politico.com                 1370\n",
       "newsweek.com                 1318\n",
       "theguardian.com              1289\n",
       "nbcnews.com                  1185\n",
       "thedailybeast.com            1085\n",
       "businessinsider.com          1075\n",
       "twitter.com                  1068\n",
       "google.com                    902\n",
       "foxnews.com                   813\n",
       "cnbc.com                      792\n",
       "usatoday.com                  757\n",
       "huffpost.com                  743\n",
       "npr.org                       675\n",
       "axios.com                     664\n",
       "edition.cnn.com               644\n",
       "commondreams.org              542\n",
       "cbsnews.com                   539\n",
       "nypost.com                    538\n",
       "bloomberg.com                 510\n",
       "abcnews.go.com                474\n",
       "salon.com                     442"
      ]
     },
     "execution_count": 105,
     "metadata": {},
     "output_type": "execute_result"
    }
   ],
   "source": [
    "post_domains.sort_values(by='domain_count', ascending=False).head(30)"
   ]
  },
  {
   "cell_type": "code",
   "execution_count": 108,
   "metadata": {},
   "outputs": [
    {
     "data": {
      "text/plain": [
       "65343"
      ]
     },
     "execution_count": 108,
     "metadata": {},
     "output_type": "execute_result"
    }
   ],
   "source": [
    "post_domains.domain_count.sum()"
   ]
  },
  {
   "cell_type": "code",
   "execution_count": 109,
   "metadata": {},
   "outputs": [
    {
     "data": {
      "text/plain": [
       "1.0"
      ]
     },
     "execution_count": 109,
     "metadata": {},
     "output_type": "execute_result"
    }
   ],
   "source": [
    "post_domains.domain_count.median()"
   ]
  },
  {
   "cell_type": "code",
   "execution_count": 110,
   "metadata": {},
   "outputs": [
    {
     "data": {
      "text/plain": [
       "15.964573662350354"
      ]
     },
     "execution_count": 110,
     "metadata": {},
     "output_type": "execute_result"
    }
   ],
   "source": [
    "post_domains.domain_count.mean()"
   ]
  },
  {
   "cell_type": "code",
   "execution_count": 113,
   "metadata": {},
   "outputs": [
    {
     "data": {
      "text/plain": [
       "11.0"
      ]
     },
     "execution_count": 113,
     "metadata": {},
     "output_type": "execute_result"
    }
   ],
   "source": [
    "post_domains.domain_count.quantile(q=0.90)"
   ]
  },
  {
   "cell_type": "code",
   "execution_count": 120,
   "metadata": {},
   "outputs": [
    {
     "data": {
      "text/plain": [
       "domain\n",
       "thehill.com            5.076290\n",
       "cnn.com                4.262124\n",
       "nytimes.com            3.478567\n",
       "washingtonpost.com     3.403578\n",
       "youtube.com            3.071484\n",
       "youtu.be               2.540440\n",
       "apnews.com             2.479225\n",
       "reuters.com            2.419540\n",
       "independent.co.uk      2.379750\n",
       "politico.com           2.096629\n",
       "newsweek.com           2.017048\n",
       "theguardian.com        1.972667\n",
       "nbcnews.com            1.813507\n",
       "thedailybeast.com      1.660469\n",
       "businessinsider.com    1.645165\n",
       "twitter.com            1.634452\n",
       "google.com             1.380408\n",
       "foxnews.com            1.244204\n",
       "cnbc.com               1.212066\n",
       "usatoday.com           1.158502\n",
       "huffpost.com           1.137077\n",
       "npr.org                1.033010\n",
       "axios.com              1.016176\n",
       "edition.cnn.com        0.985568\n",
       "commondreams.org       0.829469\n",
       "cbsnews.com            0.824878\n",
       "nypost.com             0.823348\n",
       "bloomberg.com          0.780497\n",
       "abcnews.go.com         0.725403\n",
       "salon.com              0.676431\n",
       "Name: domain_count, dtype: float64"
      ]
     },
     "execution_count": 120,
     "metadata": {},
     "output_type": "execute_result"
    }
   ],
   "source": [
    "((post_domains.domain_count/post_domains.domain_count.sum())*100).sort_values(ascending=False).head(30)"
   ]
  },
  {
   "cell_type": "code",
   "execution_count": null,
   "metadata": {},
   "outputs": [],
   "source": []
  }
 ],
 "metadata": {
  "kernelspec": {
   "display_name": "redditenv",
   "language": "python",
   "name": "python3"
  },
  "language_info": {
   "codemirror_mode": {
    "name": "ipython",
    "version": 3
   },
   "file_extension": ".py",
   "mimetype": "text/x-python",
   "name": "python",
   "nbconvert_exporter": "python",
   "pygments_lexer": "ipython3",
   "version": "3.10.9"
  }
 },
 "nbformat": 4,
 "nbformat_minor": 2
}
