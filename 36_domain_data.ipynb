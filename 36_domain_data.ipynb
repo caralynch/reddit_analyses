{
 "cells": [
  {
   "cell_type": "code",
   "execution_count": 1,
   "metadata": {},
   "outputs": [],
   "source": [
    "# custom imports\n",
    "from regression_class import RedditRegression as RR\n",
    "\n",
    "# data saving imports\n",
    "import pickle\n",
    "import os\n",
    "\n",
    "# time tracking\n",
    "from datetime import datetime as dt\n",
    "\n",
    "import pandas as pd"
   ]
  },
  {
   "cell_type": "code",
   "execution_count": 80,
   "metadata": {},
   "outputs": [],
   "source": [
    "DOMAINS_INFILE = \"../top10milliondomains.csv/top10milliondomains.csv\"\n",
    "domain_rank = pd.read_csv(DOMAINS_INFILE)"
   ]
  },
  {
   "cell_type": "code",
   "execution_count": 2,
   "metadata": {},
   "outputs": [],
   "source": [
    "# PARAMS_DICT_INFILE = f\"{OUTDIR}/input_params.p\"\n",
    "REGRESSION_INFILE = \"regression_thread_data.p\"\n",
    "THREAD_INFILE = \"clean_5_thread_data.p\""
   ]
  },
  {
   "cell_type": "code",
   "execution_count": 3,
   "metadata": {},
   "outputs": [],
   "source": [
    "regdfs = pickle.load(open(REGRESSION_INFILE, 'rb'))\n",
    "threaddfs = pickle.load(open(THREAD_INFILE, 'rb'))"
   ]
  },
  {
   "cell_type": "code",
   "execution_count": 84,
   "metadata": {},
   "outputs": [],
   "source": [
    "domain_rank = domain_rank[['Domain', 'Open Page Rank']].rename(columns = {\n",
    "    'Domain': 'domain',\n",
    "    'Open Page Rank': 'open_page_rank'\n",
    "})\n"
   ]
  },
  {
   "cell_type": "code",
   "execution_count": 85,
   "metadata": {},
   "outputs": [],
   "source": [
    "domain_pagerank_dict = dict(zip(domain_rank.domain,domain_rank.open_page_rank))"
   ]
  },
  {
   "cell_type": "code",
   "execution_count": 19,
   "metadata": {},
   "outputs": [],
   "source": [
    "def change_reddit_domains(domains_col):\n",
    "    to_alter = domains_col[domains_col.str.contains('self.')]\n",
    "    to_alter = to_alter.str.removeprefix('self.') + '.reddit.com'\n",
    "    domains_col[domains_col.str.contains('self.')] = to_alter\n",
    "    return domains_col\n",
    "\n",
    "def get_pagerank_scores(domain_col):\n",
    "    domain_col = change_reddit_domains(domain_col)\n",
    "    new_domain_col = domain_col.map(domain_pagerank_dict, na_action=None).fillna(0)\n",
    "    return new_domain_col\n"
   ]
  },
  {
   "cell_type": "code",
   "execution_count": 40,
   "metadata": {},
   "outputs": [],
   "source": [
    "domains_not_na = threaddfs['books'][threaddfs['books'].domain.notna()]\n",
    "domains_to_replace = domains_not_na[domains_not_na.domain.str.contains('self.')]"
   ]
  },
  {
   "cell_type": "code",
   "execution_count": 34,
   "metadata": {},
   "outputs": [
    {
     "ename": "ValueError",
     "evalue": "Cannot mask with non-boolean array containing NA / NaN values",
     "output_type": "error",
     "traceback": [
      "\u001b[1;31m---------------------------------------------------------------------------\u001b[0m",
      "\u001b[1;31mValueError\u001b[0m                                Traceback (most recent call last)",
      "Cell \u001b[1;32mIn[34], line 1\u001b[0m\n\u001b[1;32m----> 1\u001b[0m \u001b[43mthreaddfs\u001b[49m\u001b[43m[\u001b[49m\u001b[38;5;124;43m'\u001b[39;49m\u001b[38;5;124;43mbooks\u001b[39;49m\u001b[38;5;124;43m'\u001b[39;49m\u001b[43m]\u001b[49m\u001b[43m[\u001b[49m\u001b[43mthreaddfs\u001b[49m\u001b[43m[\u001b[49m\u001b[38;5;124;43m'\u001b[39;49m\u001b[38;5;124;43mbooks\u001b[39;49m\u001b[38;5;124;43m'\u001b[39;49m\u001b[43m]\u001b[49m\u001b[38;5;241;43m.\u001b[39;49m\u001b[43mdomain\u001b[49m\u001b[38;5;241;43m.\u001b[39;49m\u001b[43mstr\u001b[49m\u001b[38;5;241;43m.\u001b[39;49m\u001b[43mcontains\u001b[49m\u001b[43m(\u001b[49m\u001b[38;5;124;43m'\u001b[39;49m\u001b[38;5;124;43mself.\u001b[39;49m\u001b[38;5;124;43m'\u001b[39;49m\u001b[43m)\u001b[49m\u001b[43m]\u001b[49m\n",
      "File \u001b[1;32mc:\\Users\\snuzz\\anaconda3\\envs\\redditenv\\lib\\site-packages\\pandas\\core\\frame.py:3797\u001b[0m, in \u001b[0;36mDataFrame.__getitem__\u001b[1;34m(self, key)\u001b[0m\n\u001b[0;32m   3794\u001b[0m     \u001b[38;5;28;01mreturn\u001b[39;00m \u001b[38;5;28mself\u001b[39m\u001b[38;5;241m.\u001b[39mwhere(key)\n\u001b[0;32m   3796\u001b[0m \u001b[38;5;66;03m# Do we have a (boolean) 1d indexer?\u001b[39;00m\n\u001b[1;32m-> 3797\u001b[0m \u001b[38;5;28;01mif\u001b[39;00m \u001b[43mcom\u001b[49m\u001b[38;5;241;43m.\u001b[39;49m\u001b[43mis_bool_indexer\u001b[49m\u001b[43m(\u001b[49m\u001b[43mkey\u001b[49m\u001b[43m)\u001b[49m:\n\u001b[0;32m   3798\u001b[0m     \u001b[38;5;28;01mreturn\u001b[39;00m \u001b[38;5;28mself\u001b[39m\u001b[38;5;241m.\u001b[39m_getitem_bool_array(key)\n\u001b[0;32m   3800\u001b[0m \u001b[38;5;66;03m# We are left with two options: a single key, and a collection of keys,\u001b[39;00m\n\u001b[0;32m   3801\u001b[0m \u001b[38;5;66;03m# We interpret tuples as collections only for non-MultiIndex\u001b[39;00m\n",
      "File \u001b[1;32mc:\\Users\\snuzz\\anaconda3\\envs\\redditenv\\lib\\site-packages\\pandas\\core\\common.py:135\u001b[0m, in \u001b[0;36mis_bool_indexer\u001b[1;34m(key)\u001b[0m\n\u001b[0;32m    131\u001b[0m     na_msg \u001b[38;5;241m=\u001b[39m \u001b[38;5;124m\"\u001b[39m\u001b[38;5;124mCannot mask with non-boolean array containing NA / NaN values\u001b[39m\u001b[38;5;124m\"\u001b[39m\n\u001b[0;32m    132\u001b[0m     \u001b[38;5;28;01mif\u001b[39;00m lib\u001b[38;5;241m.\u001b[39minfer_dtype(key_array) \u001b[38;5;241m==\u001b[39m \u001b[38;5;124m\"\u001b[39m\u001b[38;5;124mboolean\u001b[39m\u001b[38;5;124m\"\u001b[39m \u001b[38;5;129;01mand\u001b[39;00m isna(key_array)\u001b[38;5;241m.\u001b[39many():\n\u001b[0;32m    133\u001b[0m         \u001b[38;5;66;03m# Don't raise on e.g. [\"A\", \"B\", np.nan], see\u001b[39;00m\n\u001b[0;32m    134\u001b[0m         \u001b[38;5;66;03m#  test_loc_getitem_list_of_labels_categoricalindex_with_na\u001b[39;00m\n\u001b[1;32m--> 135\u001b[0m         \u001b[38;5;28;01mraise\u001b[39;00m \u001b[38;5;167;01mValueError\u001b[39;00m(na_msg)\n\u001b[0;32m    136\u001b[0m     \u001b[38;5;28;01mreturn\u001b[39;00m \u001b[38;5;28;01mFalse\u001b[39;00m\n\u001b[0;32m    137\u001b[0m \u001b[38;5;28;01mreturn\u001b[39;00m \u001b[38;5;28;01mTrue\u001b[39;00m\n",
      "\u001b[1;31mValueError\u001b[0m: Cannot mask with non-boolean array containing NA / NaN values"
     ]
    }
   ],
   "source": [
    "threaddfs['books'][threaddfs['books'].domain.str.contains('self.')]"
   ]
  },
  {
   "cell_type": "code",
   "execution_count": 21,
   "metadata": {},
   "outputs": [
    {
     "ename": "ValueError",
     "evalue": "Cannot mask with non-boolean array containing NA / NaN values",
     "output_type": "error",
     "traceback": [
      "\u001b[1;31m---------------------------------------------------------------------------\u001b[0m",
      "\u001b[1;31mValueError\u001b[0m                                Traceback (most recent call last)",
      "Cell \u001b[1;32mIn[21], line 3\u001b[0m\n\u001b[0;32m      1\u001b[0m new_thread_dfs \u001b[38;5;241m=\u001b[39m {}\n\u001b[0;32m      2\u001b[0m \u001b[38;5;28;01mfor\u001b[39;00m key \u001b[38;5;129;01min\u001b[39;00m threaddfs:\n\u001b[1;32m----> 3\u001b[0m     threaddfs[key][\u001b[38;5;124m'\u001b[39m\u001b[38;5;124mdomain\u001b[39m\u001b[38;5;124m'\u001b[39m] \u001b[38;5;241m=\u001b[39m \u001b[43mchange_reddit_domains\u001b[49m\u001b[43m(\u001b[49m\u001b[43mthreaddfs\u001b[49m\u001b[43m[\u001b[49m\u001b[43mkey\u001b[49m\u001b[43m]\u001b[49m\u001b[38;5;241;43m.\u001b[39;49m\u001b[43mdomain\u001b[49m\u001b[43m)\u001b[49m\n",
      "Cell \u001b[1;32mIn[19], line 2\u001b[0m, in \u001b[0;36mchange_reddit_domains\u001b[1;34m(domains_col)\u001b[0m\n\u001b[0;32m      1\u001b[0m \u001b[38;5;28;01mdef\u001b[39;00m \u001b[38;5;21mchange_reddit_domains\u001b[39m(domains_col):\n\u001b[1;32m----> 2\u001b[0m     to_alter \u001b[38;5;241m=\u001b[39m \u001b[43mdomains_col\u001b[49m\u001b[43m[\u001b[49m\u001b[43mdomains_col\u001b[49m\u001b[38;5;241;43m.\u001b[39;49m\u001b[43mstr\u001b[49m\u001b[38;5;241;43m.\u001b[39;49m\u001b[43mcontains\u001b[49m\u001b[43m(\u001b[49m\u001b[38;5;124;43m'\u001b[39;49m\u001b[38;5;124;43mself.\u001b[39;49m\u001b[38;5;124;43m'\u001b[39;49m\u001b[43m)\u001b[49m\u001b[43m]\u001b[49m\n\u001b[0;32m      3\u001b[0m     to_alter \u001b[38;5;241m=\u001b[39m to_alter\u001b[38;5;241m.\u001b[39mstr\u001b[38;5;241m.\u001b[39mremoveprefix(\u001b[38;5;124m'\u001b[39m\u001b[38;5;124mself.\u001b[39m\u001b[38;5;124m'\u001b[39m) \u001b[38;5;241m+\u001b[39m \u001b[38;5;124m'\u001b[39m\u001b[38;5;124m.reddit.com\u001b[39m\u001b[38;5;124m'\u001b[39m\n\u001b[0;32m      4\u001b[0m     domains_col[domains_col\u001b[38;5;241m.\u001b[39mstr\u001b[38;5;241m.\u001b[39mcontains(\u001b[38;5;124m'\u001b[39m\u001b[38;5;124mself.\u001b[39m\u001b[38;5;124m'\u001b[39m)] \u001b[38;5;241m=\u001b[39m to_alter\n",
      "File \u001b[1;32mc:\\Users\\snuzz\\anaconda3\\envs\\redditenv\\lib\\site-packages\\pandas\\core\\series.py:1002\u001b[0m, in \u001b[0;36mSeries.__getitem__\u001b[1;34m(self, key)\u001b[0m\n\u001b[0;32m    999\u001b[0m \u001b[38;5;28;01mif\u001b[39;00m is_iterator(key):\n\u001b[0;32m   1000\u001b[0m     key \u001b[38;5;241m=\u001b[39m \u001b[38;5;28mlist\u001b[39m(key)\n\u001b[1;32m-> 1002\u001b[0m \u001b[38;5;28;01mif\u001b[39;00m \u001b[43mcom\u001b[49m\u001b[38;5;241;43m.\u001b[39;49m\u001b[43mis_bool_indexer\u001b[49m\u001b[43m(\u001b[49m\u001b[43mkey\u001b[49m\u001b[43m)\u001b[49m:\n\u001b[0;32m   1003\u001b[0m     key \u001b[38;5;241m=\u001b[39m check_bool_indexer(\u001b[38;5;28mself\u001b[39m\u001b[38;5;241m.\u001b[39mindex, key)\n\u001b[0;32m   1004\u001b[0m     key \u001b[38;5;241m=\u001b[39m np\u001b[38;5;241m.\u001b[39masarray(key, dtype\u001b[38;5;241m=\u001b[39m\u001b[38;5;28mbool\u001b[39m)\n",
      "File \u001b[1;32mc:\\Users\\snuzz\\anaconda3\\envs\\redditenv\\lib\\site-packages\\pandas\\core\\common.py:135\u001b[0m, in \u001b[0;36mis_bool_indexer\u001b[1;34m(key)\u001b[0m\n\u001b[0;32m    131\u001b[0m     na_msg \u001b[38;5;241m=\u001b[39m \u001b[38;5;124m\"\u001b[39m\u001b[38;5;124mCannot mask with non-boolean array containing NA / NaN values\u001b[39m\u001b[38;5;124m\"\u001b[39m\n\u001b[0;32m    132\u001b[0m     \u001b[38;5;28;01mif\u001b[39;00m lib\u001b[38;5;241m.\u001b[39minfer_dtype(key_array) \u001b[38;5;241m==\u001b[39m \u001b[38;5;124m\"\u001b[39m\u001b[38;5;124mboolean\u001b[39m\u001b[38;5;124m\"\u001b[39m \u001b[38;5;129;01mand\u001b[39;00m isna(key_array)\u001b[38;5;241m.\u001b[39many():\n\u001b[0;32m    133\u001b[0m         \u001b[38;5;66;03m# Don't raise on e.g. [\"A\", \"B\", np.nan], see\u001b[39;00m\n\u001b[0;32m    134\u001b[0m         \u001b[38;5;66;03m#  test_loc_getitem_list_of_labels_categoricalindex_with_na\u001b[39;00m\n\u001b[1;32m--> 135\u001b[0m         \u001b[38;5;28;01mraise\u001b[39;00m \u001b[38;5;167;01mValueError\u001b[39;00m(na_msg)\n\u001b[0;32m    136\u001b[0m     \u001b[38;5;28;01mreturn\u001b[39;00m \u001b[38;5;28;01mFalse\u001b[39;00m\n\u001b[0;32m    137\u001b[0m \u001b[38;5;28;01mreturn\u001b[39;00m \u001b[38;5;28;01mTrue\u001b[39;00m\n",
      "\u001b[1;31mValueError\u001b[0m: Cannot mask with non-boolean array containing NA / NaN values"
     ]
    }
   ],
   "source": [
    "\n",
    "for key in threaddfs:\n",
    "    threaddfs[key]['domain'] = change_reddit_domains(threaddfs[key].domain)"
   ]
  },
  {
   "cell_type": "code",
   "execution_count": 15,
   "metadata": {},
   "outputs": [
    {
     "name": "stderr",
     "output_type": "stream",
     "text": [
      "C:\\Users\\snuzz\\AppData\\Local\\Temp\\ipykernel_17828\\2515556108.py:4: SettingWithCopyWarning: \n",
      "A value is trying to be set on a copy of a slice from a DataFrame\n",
      "\n",
      "See the caveats in the documentation: https://pandas.pydata.org/pandas-docs/stable/user_guide/indexing.html#returning-a-view-versus-a-copy\n",
      "  domains_col[domains_col.str.contains('self.')] = to_alter\n",
      "C:\\Users\\snuzz\\AppData\\Local\\Temp\\ipykernel_17828\\2515556108.py:4: SettingWithCopyWarning: \n",
      "A value is trying to be set on a copy of a slice from a DataFrame\n",
      "\n",
      "See the caveats in the documentation: https://pandas.pydata.org/pandas-docs/stable/user_guide/indexing.html#returning-a-view-versus-a-copy\n",
      "  domains_col[domains_col.str.contains('self.')] = to_alter\n"
     ]
    },
    {
     "ename": "NameError",
     "evalue": "name 'domain_pagerank_dict' is not defined",
     "output_type": "error",
     "traceback": [
      "\u001b[1;31m---------------------------------------------------------------------------\u001b[0m",
      "\u001b[1;31mNameError\u001b[0m                                 Traceback (most recent call last)",
      "Cell \u001b[1;32mIn[15], line 4\u001b[0m\n\u001b[0;32m      2\u001b[0m \u001b[38;5;28;01mfor\u001b[39;00m key \u001b[38;5;129;01min\u001b[39;00m threaddfs:\n\u001b[0;32m      3\u001b[0m     posts \u001b[38;5;241m=\u001b[39m threaddfs[key][threaddfs[key]\u001b[38;5;241m.\u001b[39mthread_id \u001b[38;5;241m==\u001b[39m threaddfs[key]\u001b[38;5;241m.\u001b[39mid]\n\u001b[1;32m----> 4\u001b[0m     posts[\u001b[38;5;124m'\u001b[39m\u001b[38;5;124mdomain_pagerank\u001b[39m\u001b[38;5;124m'\u001b[39m] \u001b[38;5;241m=\u001b[39m \u001b[43mget_pagerank_scores\u001b[49m\u001b[43m(\u001b[49m\u001b[43mposts\u001b[49m\u001b[38;5;241;43m.\u001b[39;49m\u001b[43mdomain\u001b[49m\u001b[43m)\u001b[49m\n\u001b[0;32m      5\u001b[0m     new_reg_dfs[key] \u001b[38;5;241m=\u001b[39m pd\u001b[38;5;241m.\u001b[39mmerge(regdfs[key], posts[[\u001b[38;5;124m'\u001b[39m\u001b[38;5;124mthread_id\u001b[39m\u001b[38;5;124m'\u001b[39m, \u001b[38;5;124m'\u001b[39m\u001b[38;5;124mdomain\u001b[39m\u001b[38;5;124m'\u001b[39m, \u001b[38;5;124m'\u001b[39m\u001b[38;5;124mdomain_pagerank\u001b[39m\u001b[38;5;124m'\u001b[39m]], how\u001b[38;5;241m=\u001b[39m\u001b[38;5;124m'\u001b[39m\u001b[38;5;124mleft\u001b[39m\u001b[38;5;124m'\u001b[39m, on\u001b[38;5;241m=\u001b[39m\u001b[38;5;124m'\u001b[39m\u001b[38;5;124mthread_id\u001b[39m\u001b[38;5;124m'\u001b[39m)\n",
      "Cell \u001b[1;32mIn[14], line 9\u001b[0m, in \u001b[0;36mget_pagerank_scores\u001b[1;34m(domain_col)\u001b[0m\n\u001b[0;32m      7\u001b[0m \u001b[38;5;28;01mdef\u001b[39;00m \u001b[38;5;21mget_pagerank_scores\u001b[39m(domain_col):\n\u001b[0;32m      8\u001b[0m     domain_col \u001b[38;5;241m=\u001b[39m change_reddit_domains(domain_col)\n\u001b[1;32m----> 9\u001b[0m     new_domain_col \u001b[38;5;241m=\u001b[39m domain_col\u001b[38;5;241m.\u001b[39mmap(\u001b[43mdomain_pagerank_dict\u001b[49m, na_action\u001b[38;5;241m=\u001b[39m\u001b[38;5;28;01mNone\u001b[39;00m)\u001b[38;5;241m.\u001b[39mfillna(\u001b[38;5;241m0\u001b[39m)\n\u001b[0;32m     10\u001b[0m     \u001b[38;5;28;01mreturn\u001b[39;00m new_domain_col\n",
      "\u001b[1;31mNameError\u001b[0m: name 'domain_pagerank_dict' is not defined"
     ]
    }
   ],
   "source": [
    "new_reg_dfs = {}\n",
    "for key in threaddfs:\n",
    "    posts = threaddfs[key][threaddfs[key].thread_id == threaddfs[key].id]\n",
    "    posts['domain_pagerank'] = get_pagerank_scores(posts.domain)\n",
    "    new_reg_dfs[key] = pd.merge(regdfs[key], posts[['thread_id', 'domain', 'domain_pagerank']], how='left', on='thread_id')"
   ]
  },
  {
   "cell_type": "code",
   "execution_count": 89,
   "metadata": {},
   "outputs": [],
   "source": [
    "pickle.dump(new_reg_dfs, open('regression_thread_data_april_2024.p', 'wb'))"
   ]
  },
  {
   "cell_type": "code",
   "execution_count": 104,
   "metadata": {},
   "outputs": [],
   "source": [
    "post_domains = posts[['thread_id', 'domain']].groupby('domain').count().rename(columns={'thread_id': 'domain_count'})"
   ]
  },
  {
   "cell_type": "code",
   "execution_count": 122,
   "metadata": {},
   "outputs": [
    {
     "data": {
      "text/html": [
       "<div>\n",
       "<style scoped>\n",
       "    .dataframe tbody tr th:only-of-type {\n",
       "        vertical-align: middle;\n",
       "    }\n",
       "\n",
       "    .dataframe tbody tr th {\n",
       "        vertical-align: top;\n",
       "    }\n",
       "\n",
       "    .dataframe thead th {\n",
       "        text-align: right;\n",
       "    }\n",
       "</style>\n",
       "<table border=\"1\" class=\"dataframe\">\n",
       "  <thead>\n",
       "    <tr style=\"text-align: right;\">\n",
       "      <th></th>\n",
       "      <th>thread_id</th>\n",
       "      <th>thread_size</th>\n",
       "      <th>authors</th>\n",
       "      <th>timestamp</th>\n",
       "      <th>author</th>\n",
       "      <th>score</th>\n",
       "      <th>subject_sentiment_score</th>\n",
       "      <th>sentiment_sign</th>\n",
       "      <th>sentiment_magnitude</th>\n",
       "      <th>success</th>\n",
       "      <th>domain</th>\n",
       "      <th>domain_pagerank</th>\n",
       "    </tr>\n",
       "  </thead>\n",
       "  <tbody>\n",
       "    <tr>\n",
       "      <th>0</th>\n",
       "      <td>xsgu8l</td>\n",
       "      <td>1</td>\n",
       "      <td>1</td>\n",
       "      <td>2022-10-01 00:11:11</td>\n",
       "      <td>f44d5bd8146ae4baecd32037a8285c4f99690e85fa022ec5</td>\n",
       "      <td>1</td>\n",
       "      <td>-0.5719</td>\n",
       "      <td>-1.0</td>\n",
       "      <td>0.5719</td>\n",
       "      <td>0</td>\n",
       "      <td>deadline.com</td>\n",
       "      <td>5.71</td>\n",
       "    </tr>\n",
       "    <tr>\n",
       "      <th>1</th>\n",
       "      <td>xsh6qv</td>\n",
       "      <td>1</td>\n",
       "      <td>1</td>\n",
       "      <td>2022-10-01 00:27:38</td>\n",
       "      <td>703bd9ed6d2b178437b437b99074449db8137f1d00e6f7be</td>\n",
       "      <td>1</td>\n",
       "      <td>0.0000</td>\n",
       "      <td>0.0</td>\n",
       "      <td>0.0000</td>\n",
       "      <td>0</td>\n",
       "      <td>thebookreviewcrew.com</td>\n",
       "      <td>3.07</td>\n",
       "    </tr>\n",
       "    <tr>\n",
       "      <th>2</th>\n",
       "      <td>xshdvl</td>\n",
       "      <td>1</td>\n",
       "      <td>1</td>\n",
       "      <td>2022-10-01 00:36:53</td>\n",
       "      <td>d9cacaec67989837c343381be2e4d5016c7743d419a34e84</td>\n",
       "      <td>1</td>\n",
       "      <td>0.0000</td>\n",
       "      <td>0.0</td>\n",
       "      <td>0.0000</td>\n",
       "      <td>0</td>\n",
       "      <td>story-arc-blog.com</td>\n",
       "      <td>0.00</td>\n",
       "    </tr>\n",
       "    <tr>\n",
       "      <th>3</th>\n",
       "      <td>xsi14p</td>\n",
       "      <td>1</td>\n",
       "      <td>1</td>\n",
       "      <td>2022-10-01 01:07:47</td>\n",
       "      <td>c466b9998753e56da1c6050ead680f8d2120eb91e2ef0fb9</td>\n",
       "      <td>1</td>\n",
       "      <td>0.0000</td>\n",
       "      <td>0.0</td>\n",
       "      <td>0.0000</td>\n",
       "      <td>0</td>\n",
       "      <td>books.reddit.com</td>\n",
       "      <td>0.00</td>\n",
       "    </tr>\n",
       "    <tr>\n",
       "      <th>4</th>\n",
       "      <td>xsis1h</td>\n",
       "      <td>1</td>\n",
       "      <td>1</td>\n",
       "      <td>2022-10-01 01:44:22</td>\n",
       "      <td>920f0705acd330eaf28719163e0801e1155d19b4a213351a</td>\n",
       "      <td>1</td>\n",
       "      <td>0.6369</td>\n",
       "      <td>1.0</td>\n",
       "      <td>0.6369</td>\n",
       "      <td>0</td>\n",
       "      <td>books.reddit.com</td>\n",
       "      <td>0.00</td>\n",
       "    </tr>\n",
       "    <tr>\n",
       "      <th>...</th>\n",
       "      <td>...</td>\n",
       "      <td>...</td>\n",
       "      <td>...</td>\n",
       "      <td>...</td>\n",
       "      <td>...</td>\n",
       "      <td>...</td>\n",
       "      <td>...</td>\n",
       "      <td>...</td>\n",
       "      <td>...</td>\n",
       "      <td>...</td>\n",
       "      <td>...</td>\n",
       "      <td>...</td>\n",
       "    </tr>\n",
       "    <tr>\n",
       "      <th>4771</th>\n",
       "      <td>yhubu4</td>\n",
       "      <td>1</td>\n",
       "      <td>1</td>\n",
       "      <td>2022-10-30 23:47:20</td>\n",
       "      <td>452ee4f79a00b3bb4551bd3004e2eac706a6ccbf02571b30</td>\n",
       "      <td>1</td>\n",
       "      <td>0.3612</td>\n",
       "      <td>1.0</td>\n",
       "      <td>0.3612</td>\n",
       "      <td>0</td>\n",
       "      <td>books.reddit.com</td>\n",
       "      <td>0.00</td>\n",
       "    </tr>\n",
       "    <tr>\n",
       "      <th>4772</th>\n",
       "      <td>yhufba</td>\n",
       "      <td>1</td>\n",
       "      <td>1</td>\n",
       "      <td>2022-10-30 23:50:57</td>\n",
       "      <td>c87b1b35b64a2745a582aa1561ba7a2109d7bb62058269b3</td>\n",
       "      <td>1</td>\n",
       "      <td>0.0000</td>\n",
       "      <td>0.0</td>\n",
       "      <td>0.0000</td>\n",
       "      <td>0</td>\n",
       "      <td>saturdayeveningpost.com</td>\n",
       "      <td>4.90</td>\n",
       "    </tr>\n",
       "    <tr>\n",
       "      <th>4773</th>\n",
       "      <td>yhukih</td>\n",
       "      <td>1</td>\n",
       "      <td>1</td>\n",
       "      <td>2022-10-30 23:56:14</td>\n",
       "      <td>452ee4f79a00b3bb4551bd3004e2eac706a6ccbf02571b30</td>\n",
       "      <td>1</td>\n",
       "      <td>0.0000</td>\n",
       "      <td>0.0</td>\n",
       "      <td>0.0000</td>\n",
       "      <td>0</td>\n",
       "      <td>books.reddit.com</td>\n",
       "      <td>0.00</td>\n",
       "    </tr>\n",
       "    <tr>\n",
       "      <th>4774</th>\n",
       "      <td>yhumfc</td>\n",
       "      <td>1</td>\n",
       "      <td>1</td>\n",
       "      <td>2022-10-30 23:58:16</td>\n",
       "      <td>85d36ff7b20bc9bbd48ca8c94645d5d491d234585f8f2646</td>\n",
       "      <td>1</td>\n",
       "      <td>0.0000</td>\n",
       "      <td>0.0</td>\n",
       "      <td>0.0000</td>\n",
       "      <td>0</td>\n",
       "      <td>books.reddit.com</td>\n",
       "      <td>0.00</td>\n",
       "    </tr>\n",
       "    <tr>\n",
       "      <th>4775</th>\n",
       "      <td>yhune5</td>\n",
       "      <td>1</td>\n",
       "      <td>1</td>\n",
       "      <td>2022-10-30 23:59:16</td>\n",
       "      <td>cdf58d4e99e633ede9dcf1c79d1093de189c1abaa4ea7866</td>\n",
       "      <td>1</td>\n",
       "      <td>0.3612</td>\n",
       "      <td>1.0</td>\n",
       "      <td>0.3612</td>\n",
       "      <td>0</td>\n",
       "      <td>books.reddit.com</td>\n",
       "      <td>0.00</td>\n",
       "    </tr>\n",
       "  </tbody>\n",
       "</table>\n",
       "<p>4776 rows × 12 columns</p>\n",
       "</div>"
      ],
      "text/plain": [
       "     thread_id  thread_size  authors           timestamp  \\\n",
       "0       xsgu8l            1        1 2022-10-01 00:11:11   \n",
       "1       xsh6qv            1        1 2022-10-01 00:27:38   \n",
       "2       xshdvl            1        1 2022-10-01 00:36:53   \n",
       "3       xsi14p            1        1 2022-10-01 01:07:47   \n",
       "4       xsis1h            1        1 2022-10-01 01:44:22   \n",
       "...        ...          ...      ...                 ...   \n",
       "4771    yhubu4            1        1 2022-10-30 23:47:20   \n",
       "4772    yhufba            1        1 2022-10-30 23:50:57   \n",
       "4773    yhukih            1        1 2022-10-30 23:56:14   \n",
       "4774    yhumfc            1        1 2022-10-30 23:58:16   \n",
       "4775    yhune5            1        1 2022-10-30 23:59:16   \n",
       "\n",
       "                                                author  score  \\\n",
       "0     f44d5bd8146ae4baecd32037a8285c4f99690e85fa022ec5      1   \n",
       "1     703bd9ed6d2b178437b437b99074449db8137f1d00e6f7be      1   \n",
       "2     d9cacaec67989837c343381be2e4d5016c7743d419a34e84      1   \n",
       "3     c466b9998753e56da1c6050ead680f8d2120eb91e2ef0fb9      1   \n",
       "4     920f0705acd330eaf28719163e0801e1155d19b4a213351a      1   \n",
       "...                                                ...    ...   \n",
       "4771  452ee4f79a00b3bb4551bd3004e2eac706a6ccbf02571b30      1   \n",
       "4772  c87b1b35b64a2745a582aa1561ba7a2109d7bb62058269b3      1   \n",
       "4773  452ee4f79a00b3bb4551bd3004e2eac706a6ccbf02571b30      1   \n",
       "4774  85d36ff7b20bc9bbd48ca8c94645d5d491d234585f8f2646      1   \n",
       "4775  cdf58d4e99e633ede9dcf1c79d1093de189c1abaa4ea7866      1   \n",
       "\n",
       "      subject_sentiment_score  sentiment_sign  sentiment_magnitude  success  \\\n",
       "0                     -0.5719            -1.0               0.5719        0   \n",
       "1                      0.0000             0.0               0.0000        0   \n",
       "2                      0.0000             0.0               0.0000        0   \n",
       "3                      0.0000             0.0               0.0000        0   \n",
       "4                      0.6369             1.0               0.6369        0   \n",
       "...                       ...             ...                  ...      ...   \n",
       "4771                   0.3612             1.0               0.3612        0   \n",
       "4772                   0.0000             0.0               0.0000        0   \n",
       "4773                   0.0000             0.0               0.0000        0   \n",
       "4774                   0.0000             0.0               0.0000        0   \n",
       "4775                   0.3612             1.0               0.3612        0   \n",
       "\n",
       "                       domain  domain_pagerank  \n",
       "0                deadline.com             5.71  \n",
       "1       thebookreviewcrew.com             3.07  \n",
       "2          story-arc-blog.com             0.00  \n",
       "3            books.reddit.com             0.00  \n",
       "4            books.reddit.com             0.00  \n",
       "...                       ...              ...  \n",
       "4771         books.reddit.com             0.00  \n",
       "4772  saturdayeveningpost.com             4.90  \n",
       "4773         books.reddit.com             0.00  \n",
       "4774         books.reddit.com             0.00  \n",
       "4775         books.reddit.com             0.00  \n",
       "\n",
       "[4776 rows x 12 columns]"
      ]
     },
     "execution_count": 122,
     "metadata": {},
     "output_type": "execute_result"
    }
   ],
   "source": [
    "new_reg_dfs['books']"
   ]
  },
  {
   "cell_type": "code",
   "execution_count": 105,
   "metadata": {},
   "outputs": [
    {
     "data": {
      "text/html": [
       "<div>\n",
       "<style scoped>\n",
       "    .dataframe tbody tr th:only-of-type {\n",
       "        vertical-align: middle;\n",
       "    }\n",
       "\n",
       "    .dataframe tbody tr th {\n",
       "        vertical-align: top;\n",
       "    }\n",
       "\n",
       "    .dataframe thead th {\n",
       "        text-align: right;\n",
       "    }\n",
       "</style>\n",
       "<table border=\"1\" class=\"dataframe\">\n",
       "  <thead>\n",
       "    <tr style=\"text-align: right;\">\n",
       "      <th></th>\n",
       "      <th>domain_count</th>\n",
       "    </tr>\n",
       "    <tr>\n",
       "      <th>domain</th>\n",
       "      <th></th>\n",
       "    </tr>\n",
       "  </thead>\n",
       "  <tbody>\n",
       "    <tr>\n",
       "      <th>thehill.com</th>\n",
       "      <td>3317</td>\n",
       "    </tr>\n",
       "    <tr>\n",
       "      <th>cnn.com</th>\n",
       "      <td>2785</td>\n",
       "    </tr>\n",
       "    <tr>\n",
       "      <th>nytimes.com</th>\n",
       "      <td>2273</td>\n",
       "    </tr>\n",
       "    <tr>\n",
       "      <th>washingtonpost.com</th>\n",
       "      <td>2224</td>\n",
       "    </tr>\n",
       "    <tr>\n",
       "      <th>youtube.com</th>\n",
       "      <td>2007</td>\n",
       "    </tr>\n",
       "    <tr>\n",
       "      <th>youtu.be</th>\n",
       "      <td>1660</td>\n",
       "    </tr>\n",
       "    <tr>\n",
       "      <th>apnews.com</th>\n",
       "      <td>1620</td>\n",
       "    </tr>\n",
       "    <tr>\n",
       "      <th>reuters.com</th>\n",
       "      <td>1581</td>\n",
       "    </tr>\n",
       "    <tr>\n",
       "      <th>independent.co.uk</th>\n",
       "      <td>1555</td>\n",
       "    </tr>\n",
       "    <tr>\n",
       "      <th>politico.com</th>\n",
       "      <td>1370</td>\n",
       "    </tr>\n",
       "    <tr>\n",
       "      <th>newsweek.com</th>\n",
       "      <td>1318</td>\n",
       "    </tr>\n",
       "    <tr>\n",
       "      <th>theguardian.com</th>\n",
       "      <td>1289</td>\n",
       "    </tr>\n",
       "    <tr>\n",
       "      <th>nbcnews.com</th>\n",
       "      <td>1185</td>\n",
       "    </tr>\n",
       "    <tr>\n",
       "      <th>thedailybeast.com</th>\n",
       "      <td>1085</td>\n",
       "    </tr>\n",
       "    <tr>\n",
       "      <th>businessinsider.com</th>\n",
       "      <td>1075</td>\n",
       "    </tr>\n",
       "    <tr>\n",
       "      <th>twitter.com</th>\n",
       "      <td>1068</td>\n",
       "    </tr>\n",
       "    <tr>\n",
       "      <th>google.com</th>\n",
       "      <td>902</td>\n",
       "    </tr>\n",
       "    <tr>\n",
       "      <th>foxnews.com</th>\n",
       "      <td>813</td>\n",
       "    </tr>\n",
       "    <tr>\n",
       "      <th>cnbc.com</th>\n",
       "      <td>792</td>\n",
       "    </tr>\n",
       "    <tr>\n",
       "      <th>usatoday.com</th>\n",
       "      <td>757</td>\n",
       "    </tr>\n",
       "    <tr>\n",
       "      <th>huffpost.com</th>\n",
       "      <td>743</td>\n",
       "    </tr>\n",
       "    <tr>\n",
       "      <th>npr.org</th>\n",
       "      <td>675</td>\n",
       "    </tr>\n",
       "    <tr>\n",
       "      <th>axios.com</th>\n",
       "      <td>664</td>\n",
       "    </tr>\n",
       "    <tr>\n",
       "      <th>edition.cnn.com</th>\n",
       "      <td>644</td>\n",
       "    </tr>\n",
       "    <tr>\n",
       "      <th>commondreams.org</th>\n",
       "      <td>542</td>\n",
       "    </tr>\n",
       "    <tr>\n",
       "      <th>cbsnews.com</th>\n",
       "      <td>539</td>\n",
       "    </tr>\n",
       "    <tr>\n",
       "      <th>nypost.com</th>\n",
       "      <td>538</td>\n",
       "    </tr>\n",
       "    <tr>\n",
       "      <th>bloomberg.com</th>\n",
       "      <td>510</td>\n",
       "    </tr>\n",
       "    <tr>\n",
       "      <th>abcnews.go.com</th>\n",
       "      <td>474</td>\n",
       "    </tr>\n",
       "    <tr>\n",
       "      <th>salon.com</th>\n",
       "      <td>442</td>\n",
       "    </tr>\n",
       "  </tbody>\n",
       "</table>\n",
       "</div>"
      ],
      "text/plain": [
       "                     domain_count\n",
       "domain                           \n",
       "thehill.com                  3317\n",
       "cnn.com                      2785\n",
       "nytimes.com                  2273\n",
       "washingtonpost.com           2224\n",
       "youtube.com                  2007\n",
       "youtu.be                     1660\n",
       "apnews.com                   1620\n",
       "reuters.com                  1581\n",
       "independent.co.uk            1555\n",
       "politico.com                 1370\n",
       "newsweek.com                 1318\n",
       "theguardian.com              1289\n",
       "nbcnews.com                  1185\n",
       "thedailybeast.com            1085\n",
       "businessinsider.com          1075\n",
       "twitter.com                  1068\n",
       "google.com                    902\n",
       "foxnews.com                   813\n",
       "cnbc.com                      792\n",
       "usatoday.com                  757\n",
       "huffpost.com                  743\n",
       "npr.org                       675\n",
       "axios.com                     664\n",
       "edition.cnn.com               644\n",
       "commondreams.org              542\n",
       "cbsnews.com                   539\n",
       "nypost.com                    538\n",
       "bloomberg.com                 510\n",
       "abcnews.go.com                474\n",
       "salon.com                     442"
      ]
     },
     "execution_count": 105,
     "metadata": {},
     "output_type": "execute_result"
    }
   ],
   "source": [
    "post_domains.sort_values(by='domain_count', ascending=False).head(30)"
   ]
  },
  {
   "cell_type": "code",
   "execution_count": 108,
   "metadata": {},
   "outputs": [
    {
     "data": {
      "text/plain": [
       "65343"
      ]
     },
     "execution_count": 108,
     "metadata": {},
     "output_type": "execute_result"
    }
   ],
   "source": [
    "post_domains.domain_count.sum()"
   ]
  },
  {
   "cell_type": "code",
   "execution_count": 109,
   "metadata": {},
   "outputs": [
    {
     "data": {
      "text/plain": [
       "1.0"
      ]
     },
     "execution_count": 109,
     "metadata": {},
     "output_type": "execute_result"
    }
   ],
   "source": [
    "post_domains.domain_count.median()"
   ]
  },
  {
   "cell_type": "code",
   "execution_count": 110,
   "metadata": {},
   "outputs": [
    {
     "data": {
      "text/plain": [
       "15.964573662350354"
      ]
     },
     "execution_count": 110,
     "metadata": {},
     "output_type": "execute_result"
    }
   ],
   "source": [
    "post_domains.domain_count.mean()"
   ]
  },
  {
   "cell_type": "code",
   "execution_count": 113,
   "metadata": {},
   "outputs": [
    {
     "data": {
      "text/plain": [
       "11.0"
      ]
     },
     "execution_count": 113,
     "metadata": {},
     "output_type": "execute_result"
    }
   ],
   "source": [
    "post_domains.domain_count.quantile(q=0.90)"
   ]
  },
  {
   "cell_type": "code",
   "execution_count": 120,
   "metadata": {},
   "outputs": [
    {
     "data": {
      "text/plain": [
       "domain\n",
       "thehill.com            5.076290\n",
       "cnn.com                4.262124\n",
       "nytimes.com            3.478567\n",
       "washingtonpost.com     3.403578\n",
       "youtube.com            3.071484\n",
       "youtu.be               2.540440\n",
       "apnews.com             2.479225\n",
       "reuters.com            2.419540\n",
       "independent.co.uk      2.379750\n",
       "politico.com           2.096629\n",
       "newsweek.com           2.017048\n",
       "theguardian.com        1.972667\n",
       "nbcnews.com            1.813507\n",
       "thedailybeast.com      1.660469\n",
       "businessinsider.com    1.645165\n",
       "twitter.com            1.634452\n",
       "google.com             1.380408\n",
       "foxnews.com            1.244204\n",
       "cnbc.com               1.212066\n",
       "usatoday.com           1.158502\n",
       "huffpost.com           1.137077\n",
       "npr.org                1.033010\n",
       "axios.com              1.016176\n",
       "edition.cnn.com        0.985568\n",
       "commondreams.org       0.829469\n",
       "cbsnews.com            0.824878\n",
       "nypost.com             0.823348\n",
       "bloomberg.com          0.780497\n",
       "abcnews.go.com         0.725403\n",
       "salon.com              0.676431\n",
       "Name: domain_count, dtype: float64"
      ]
     },
     "execution_count": 120,
     "metadata": {},
     "output_type": "execute_result"
    }
   ],
   "source": [
    "((post_domains.domain_count/post_domains.domain_count.sum())*100).sort_values(ascending=False).head(30)"
   ]
  },
  {
   "cell_type": "code",
   "execution_count": null,
   "metadata": {},
   "outputs": [],
   "source": []
  }
 ],
 "metadata": {
  "kernelspec": {
   "display_name": "redditenv",
   "language": "python",
   "name": "python3"
  },
  "language_info": {
   "codemirror_mode": {
    "name": "ipython",
    "version": 3
   },
   "file_extension": ".py",
   "mimetype": "text/x-python",
   "name": "python",
   "nbconvert_exporter": "python",
   "pygments_lexer": "ipython3",
   "version": "3.10.9"
  }
 },
 "nbformat": 4,
 "nbformat_minor": 2
}
