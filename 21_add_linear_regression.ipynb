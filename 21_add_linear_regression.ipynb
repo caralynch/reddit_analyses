{
 "cells": [
  {
   "cell_type": "code",
   "execution_count": 1,
   "metadata": {},
   "outputs": [],
   "source": [
    "# data manipulation imports\n",
    "import numpy as np\n",
    "import pandas as pd\n",
    "\n",
    "# data saving imports\n",
    "import pickle\n",
    "import os\n",
    "\n",
    "# custom imports\n",
    "from regression_class import LogisticRegression as logreg\n",
    "from regression_class import TimestampClass"
   ]
  },
  {
   "cell_type": "code",
   "execution_count": 2,
   "metadata": {},
   "outputs": [],
   "source": [
    "# infiles\n",
    "regression_infile = \"regression_thread_data.p\"\n",
    "thread_infile = 'clean_5_thread_data.p'\n",
    "\n",
    "# outfiles\n",
    "outdir = 'linear_regression_test'\n",
    "metrics_outfile = \"regression_metrics\""
   ]
  },
  {
   "cell_type": "code",
   "execution_count": 3,
   "metadata": {},
   "outputs": [],
   "source": [
    "# params\n",
    "X_COLS = [\n",
    "    'sentiment_sign', 'sentiment_magnitude', 'hour', 'num_dayofweek','activity_ratio',\n",
    "    'mean_author_sentiment_sign', 'mean_author_sentiment_magnitude', 'log_author_all_activity_count',\n",
    "    ]\n",
    "\n",
    "# regression params dict\n",
    "regression_params = {\n",
    "    'collection_window': 7,\n",
    "    'validation_window': 7,\n",
    "    'FSS': True,\n",
    "    'performance_scoring_method': 'roc_auc',\n",
    "    'x_cols': X_COLS,\n",
    "    'y_col': 'success',\n",
    "    'metrics': ['roc_auc', 'aic'],\n",
    "    #'activity_threshold': 2,\n",
    "}"
   ]
  },
  {
   "cell_type": "code",
   "execution_count": 4,
   "metadata": {},
   "outputs": [],
   "source": [
    "# make out params df to save to spreadsheet\n",
    "out_params = {}\n",
    "out_params['regression_infile'] = regression_infile\n",
    "out_params['thread_infile'] = thread_infile\n",
    "\n",
    "# make out directory\n",
    "if not os.path.isdir(outdir):\n",
    "    os.mkdir(outdir)\n"
   ]
  },
  {
   "cell_type": "code",
   "execution_count": 5,
   "metadata": {},
   "outputs": [],
   "source": [
    "# read in files\n",
    "regression_df = pickle.load(open(regression_infile, 'rb'))\n",
    "thread_df = pickle.load(open(thread_infile, 'rb'))"
   ]
  },
  {
   "cell_type": "code",
   "execution_count": 6,
   "metadata": {},
   "outputs": [],
   "source": [
    "subreddit = 'crypto'\n",
    "regression_params['name'] = subreddit\n",
    "regression_params['regression_data'] = regression_df[subreddit]\n",
    "regression_params['thread_data'] = thread_df[subreddit]\n",
    "\n",
    "logreg = logreg(regression_params)"
   ]
  },
  {
   "cell_type": "code",
   "execution_count": 7,
   "metadata": {},
   "outputs": [],
   "source": [
    "logreg.calc_author_thread_counts()\n",
    "logreg.period_counter = 1\n",
    "date_index=0\n",
    "logreg.model_data[1] = {}\n",
    "logreg.get_regression_model_data(date_index)"
   ]
  },
  {
   "cell_type": "code",
   "execution_count": 8,
   "metadata": {},
   "outputs": [],
   "source": [
    "y_cols = ['thread_size', 'authors']\n",
    "X_cols = ['sentiment_sign', 'sentiment_magnitude', 'activity_ratio', 'log_author_all_activity_count',\n",
    "       'mean_author_sentiment_sign', 'mean_author_sentiment_magnitude',\n",
    "       'num_dayofweek', 'hour']"
   ]
  },
  {
   "cell_type": "code",
   "execution_count": 9,
   "metadata": {},
   "outputs": [],
   "source": [
    "# https://scikit-learn.org/stable/modules/linear_model.html\n",
    "# https://realpython.com/linear-regression-in-python/"
   ]
  },
  {
   "cell_type": "code",
   "execution_count": 10,
   "metadata": {},
   "outputs": [],
   "source": [
    "regression_data = logreg.regression_model_data"
   ]
  },
  {
   "cell_type": "code",
   "execution_count": 11,
   "metadata": {},
   "outputs": [],
   "source": [
    "# get logs of y cols as pretty sure need continuous dependent var\n",
    "for col in y_cols:\n",
    "    regression_data[f'log_{col}'] = np.log(regression_data[col])"
   ]
  },
  {
   "cell_type": "code",
   "execution_count": 12,
   "metadata": {},
   "outputs": [],
   "source": [
    "y_cols = [f'log_{x}' for x in y_cols]"
   ]
  },
  {
   "cell_type": "code",
   "execution_count": 13,
   "metadata": {},
   "outputs": [],
   "source": [
    "import statsmodels.api as sm"
   ]
  },
  {
   "cell_type": "code",
   "execution_count": 14,
   "metadata": {},
   "outputs": [],
   "source": [
    "#X = regression_data[X_cols]\n",
    "X = regression_data[['log_author_all_activity_count']]"
   ]
  },
  {
   "cell_type": "code",
   "execution_count": 15,
   "metadata": {},
   "outputs": [],
   "source": [
    "\n",
    "y0 = regression_data[y_cols[0]]\n",
    "y1 = regression_data[y_cols[1]]"
   ]
  },
  {
   "cell_type": "code",
   "execution_count": 16,
   "metadata": {},
   "outputs": [],
   "source": [
    "fit0 = sm.OLS(y0, X).fit()"
   ]
  },
  {
   "cell_type": "code",
   "execution_count": 17,
   "metadata": {},
   "outputs": [],
   "source": [
    "fit0_with_cst = sm.OLS(y0, sm.add_constant(X)).fit()"
   ]
  },
  {
   "cell_type": "code",
   "execution_count": 18,
   "metadata": {},
   "outputs": [],
   "source": [
    "from patsy import dmatrices"
   ]
  },
  {
   "cell_type": "code",
   "execution_count": 46,
   "metadata": {},
   "outputs": [],
   "source": [
    "patsy_y, patsy_X = dmatrices(\n",
    "    'log_thread_size ~ log_author_all_activity_count',\n",
    "    data = regression_data,\n",
    "    return_type='dataframe'\n",
    ")"
   ]
  },
  {
   "cell_type": "code",
   "execution_count": 47,
   "metadata": {},
   "outputs": [],
   "source": [
    "patsy_model_with_cst = sm.OLS(patsy_y, patsy_X).fit()\n"
   ]
  },
  {
   "cell_type": "code",
   "execution_count": 48,
   "metadata": {},
   "outputs": [],
   "source": [
    "patsy_y, patsy_X = dmatrices(\n",
    "    'log_thread_size ~ log_author_all_activity_count - 1',\n",
    "    data = regression_data,\n",
    "    return_type='dataframe'\n",
    ")\n",
    "patsy_model_no_cst = sm.OLS(patsy_y, patsy_X).fit()"
   ]
  },
  {
   "cell_type": "code",
   "execution_count": 20,
   "metadata": {},
   "outputs": [],
   "source": [
    "from sklearn.linear_model import LinearRegression"
   ]
  },
  {
   "cell_type": "code",
   "execution_count": 53,
   "metadata": {},
   "outputs": [
    {
     "data": {
      "text/plain": [
       "0       7.809947\n",
       "1       0.000000\n",
       "2       0.000000\n",
       "3       0.000000\n",
       "4       0.693147\n",
       "          ...   \n",
       "7514    0.000000\n",
       "7515    0.000000\n",
       "7516    1.945910\n",
       "7517    0.000000\n",
       "7518    0.000000\n",
       "Name: log_thread_size, Length: 7519, dtype: float64"
      ]
     },
     "execution_count": 53,
     "metadata": {},
     "output_type": "execute_result"
    }
   ],
   "source": [
    "y0"
   ]
  },
  {
   "cell_type": "code",
   "execution_count": 54,
   "metadata": {},
   "outputs": [],
   "source": [
    "sklearn_model_with_intercept = LinearRegression().fit(X, y0)\n",
    "sklearn_model_no_intercept = LinearRegression(fit_intercept=False).fit(X, y0)"
   ]
  },
  {
   "cell_type": "code",
   "execution_count": 21,
   "metadata": {},
   "outputs": [
    {
     "name": "stderr",
     "output_type": "stream",
     "text": [
      "c:\\Users\\snuzz\\anaconda3\\envs\\redditenv\\lib\\site-packages\\numpy\\core\\_methods.py:269: RuntimeWarning: Degrees of freedom <= 0 for slice\n",
      "  ret = _var(a, axis=axis, dtype=dtype, out=out, ddof=ddof,\n",
      "c:\\Users\\snuzz\\anaconda3\\envs\\redditenv\\lib\\site-packages\\numpy\\core\\_methods.py:261: RuntimeWarning: invalid value encountered in scalar divide\n",
      "  ret = ret.dtype.type(ret / rcount)\n",
      "c:\\Users\\snuzz\\anaconda3\\envs\\redditenv\\lib\\site-packages\\numpy\\core\\_methods.py:269: RuntimeWarning: Degrees of freedom <= 0 for slice\n",
      "  ret = _var(a, axis=axis, dtype=dtype, out=out, ddof=ddof,\n",
      "c:\\Users\\snuzz\\anaconda3\\envs\\redditenv\\lib\\site-packages\\numpy\\core\\_methods.py:261: RuntimeWarning: invalid value encountered in scalar divide\n",
      "  ret = ret.dtype.type(ret / rcount)\n"
     ]
    }
   ],
   "source": [
    "X = regression_data[X_cols]\n",
    "FSS_results = logreg.forward_sequential_selection(X, y0, scoring_method='r2', model=LinearRegression())"
   ]
  },
  {
   "cell_type": "code",
   "execution_count": 23,
   "metadata": {},
   "outputs": [
    {
     "data": {
      "text/html": [
       "<div>\n",
       "<style scoped>\n",
       "    .dataframe tbody tr th:only-of-type {\n",
       "        vertical-align: middle;\n",
       "    }\n",
       "\n",
       "    .dataframe tbody tr th {\n",
       "        vertical-align: top;\n",
       "    }\n",
       "\n",
       "    .dataframe thead th {\n",
       "        text-align: right;\n",
       "    }\n",
       "</style>\n",
       "<table border=\"1\" class=\"dataframe\">\n",
       "  <thead>\n",
       "    <tr style=\"text-align: right;\">\n",
       "      <th></th>\n",
       "      <th>feature_idx</th>\n",
       "      <th>cv_scores</th>\n",
       "      <th>avg_score</th>\n",
       "      <th>feature_names</th>\n",
       "      <th>ci_bound</th>\n",
       "      <th>std_dev</th>\n",
       "      <th>std_err</th>\n",
       "    </tr>\n",
       "  </thead>\n",
       "  <tbody>\n",
       "    <tr>\n",
       "      <th>1</th>\n",
       "      <td>(3,)</td>\n",
       "      <td>[0.23232736025623224]</td>\n",
       "      <td>0.232327</td>\n",
       "      <td>(log_author_all_activity_count,)</td>\n",
       "      <td>NaN</td>\n",
       "      <td>0.0</td>\n",
       "      <td>NaN</td>\n",
       "    </tr>\n",
       "    <tr>\n",
       "      <th>2</th>\n",
       "      <td>(2, 3)</td>\n",
       "      <td>[0.238257205277428]</td>\n",
       "      <td>0.238257</td>\n",
       "      <td>(activity_ratio, log_author_all_activity_count)</td>\n",
       "      <td>NaN</td>\n",
       "      <td>0.0</td>\n",
       "      <td>NaN</td>\n",
       "    </tr>\n",
       "    <tr>\n",
       "      <th>3</th>\n",
       "      <td>(1, 2, 3)</td>\n",
       "      <td>[0.2391542461462911]</td>\n",
       "      <td>0.239154</td>\n",
       "      <td>(sentiment_magnitude, activity_ratio, log_auth...</td>\n",
       "      <td>NaN</td>\n",
       "      <td>0.0</td>\n",
       "      <td>NaN</td>\n",
       "    </tr>\n",
       "    <tr>\n",
       "      <th>4</th>\n",
       "      <td>(0, 1, 2, 3)</td>\n",
       "      <td>[0.24003966017462175]</td>\n",
       "      <td>0.240040</td>\n",
       "      <td>(sentiment_sign, sentiment_magnitude, activity...</td>\n",
       "      <td>NaN</td>\n",
       "      <td>0.0</td>\n",
       "      <td>NaN</td>\n",
       "    </tr>\n",
       "    <tr>\n",
       "      <th>5</th>\n",
       "      <td>(0, 1, 2, 3, 5)</td>\n",
       "      <td>[0.24070218595125026]</td>\n",
       "      <td>0.240702</td>\n",
       "      <td>(sentiment_sign, sentiment_magnitude, activity...</td>\n",
       "      <td>NaN</td>\n",
       "      <td>0.0</td>\n",
       "      <td>NaN</td>\n",
       "    </tr>\n",
       "    <tr>\n",
       "      <th>6</th>\n",
       "      <td>(0, 1, 2, 3, 4, 5)</td>\n",
       "      <td>[0.24092014688115115]</td>\n",
       "      <td>0.240920</td>\n",
       "      <td>(sentiment_sign, sentiment_magnitude, activity...</td>\n",
       "      <td>NaN</td>\n",
       "      <td>0.0</td>\n",
       "      <td>NaN</td>\n",
       "    </tr>\n",
       "    <tr>\n",
       "      <th>7</th>\n",
       "      <td>(0, 1, 2, 3, 4, 5, 6)</td>\n",
       "      <td>[0.24103418260071263]</td>\n",
       "      <td>0.241034</td>\n",
       "      <td>(sentiment_sign, sentiment_magnitude, activity...</td>\n",
       "      <td>NaN</td>\n",
       "      <td>0.0</td>\n",
       "      <td>NaN</td>\n",
       "    </tr>\n",
       "    <tr>\n",
       "      <th>8</th>\n",
       "      <td>(0, 1, 2, 3, 4, 5, 6, 7)</td>\n",
       "      <td>[0.24104111258858574]</td>\n",
       "      <td>0.241041</td>\n",
       "      <td>(sentiment_sign, sentiment_magnitude, activity...</td>\n",
       "      <td>NaN</td>\n",
       "      <td>0.0</td>\n",
       "      <td>NaN</td>\n",
       "    </tr>\n",
       "  </tbody>\n",
       "</table>\n",
       "</div>"
      ],
      "text/plain": [
       "                feature_idx              cv_scores  avg_score  \\\n",
       "1                      (3,)  [0.23232736025623224]   0.232327   \n",
       "2                    (2, 3)    [0.238257205277428]   0.238257   \n",
       "3                 (1, 2, 3)   [0.2391542461462911]   0.239154   \n",
       "4              (0, 1, 2, 3)  [0.24003966017462175]   0.240040   \n",
       "5           (0, 1, 2, 3, 5)  [0.24070218595125026]   0.240702   \n",
       "6        (0, 1, 2, 3, 4, 5)  [0.24092014688115115]   0.240920   \n",
       "7     (0, 1, 2, 3, 4, 5, 6)  [0.24103418260071263]   0.241034   \n",
       "8  (0, 1, 2, 3, 4, 5, 6, 7)  [0.24104111258858574]   0.241041   \n",
       "\n",
       "                                       feature_names  ci_bound  std_dev  \\\n",
       "1                   (log_author_all_activity_count,)       NaN      0.0   \n",
       "2    (activity_ratio, log_author_all_activity_count)       NaN      0.0   \n",
       "3  (sentiment_magnitude, activity_ratio, log_auth...       NaN      0.0   \n",
       "4  (sentiment_sign, sentiment_magnitude, activity...       NaN      0.0   \n",
       "5  (sentiment_sign, sentiment_magnitude, activity...       NaN      0.0   \n",
       "6  (sentiment_sign, sentiment_magnitude, activity...       NaN      0.0   \n",
       "7  (sentiment_sign, sentiment_magnitude, activity...       NaN      0.0   \n",
       "8  (sentiment_sign, sentiment_magnitude, activity...       NaN      0.0   \n",
       "\n",
       "   std_err  \n",
       "1      NaN  \n",
       "2      NaN  \n",
       "3      NaN  \n",
       "4      NaN  \n",
       "5      NaN  \n",
       "6      NaN  \n",
       "7      NaN  \n",
       "8      NaN  "
      ]
     },
     "execution_count": 23,
     "metadata": {},
     "output_type": "execute_result"
    }
   ],
   "source": [
    "FSS_results['metric_df']"
   ]
  },
  {
   "cell_type": "code",
   "execution_count": 27,
   "metadata": {},
   "outputs": [],
   "source": [
    "with open(f'{outdir}/test_outfile.txt', 'w') as outfile:\n",
    "    outfile.write(str(fit0.summary()))"
   ]
  },
  {
   "cell_type": "code",
   "execution_count": 63,
   "metadata": {},
   "outputs": [
    {
     "name": "stdout",
     "output_type": "stream",
     "text": [
      "coef: [0.54884739]\n",
      "intercept: 0.0\n",
      "R square: 0.16941983430452046\n",
      "coef: [0.40543411]\n",
      "intercept: 0.5960929965751969\n",
      "R square: 0.23232736025623224\n"
     ]
    }
   ],
   "source": [
    "for sklearn_mod in [sklearn_model_no_intercept, sklearn_model_with_intercept]:\n",
    "    print(f'coef: {sklearn_mod.coef_}')\n",
    "    print(f'intercept: {sklearn_mod.intercept_}')\n",
    "    print(f'R square: {sklearn_mod.score(X, y0)}')"
   ]
  },
  {
   "cell_type": "code",
   "execution_count": 66,
   "metadata": {},
   "outputs": [],
   "source": [
    "import sklearn.metrics as sklm"
   ]
  },
  {
   "cell_type": "code",
   "execution_count": 67,
   "metadata": {},
   "outputs": [],
   "source": [
    "y_predicted = sklearn_model_no_intercept.predict(X)\n",
    "r_2 = sklm.r2_score(y0, y_predicted) "
   ]
  },
  {
   "cell_type": "code",
   "execution_count": 68,
   "metadata": {},
   "outputs": [
    {
     "data": {
      "text/plain": [
       "0.16941983430452046"
      ]
     },
     "execution_count": 68,
     "metadata": {},
     "output_type": "execute_result"
    }
   ],
   "source": [
    "r_2"
   ]
  },
  {
   "cell_type": "code",
   "execution_count": 70,
   "metadata": {},
   "outputs": [
    {
     "data": {
      "text/plain": [
       "0.4879597115850822"
      ]
     },
     "execution_count": 70,
     "metadata": {},
     "output_type": "execute_result"
    }
   ],
   "source": [
    "fit0.rsquared"
   ]
  },
  {
   "cell_type": "code",
   "execution_count": 69,
   "metadata": {},
   "outputs": [
    {
     "name": "stdout",
     "output_type": "stream",
     "text": [
      "sm OLS\n"
     ]
    },
    {
     "data": {
      "text/html": [
       "<table class=\"simpletable\">\n",
       "<caption>OLS Regression Results</caption>\n",
       "<tr>\n",
       "  <th>Dep. Variable:</th>     <td>log_thread_size</td> <th>  R-squared (uncentered):</th>      <td>   0.488</td> \n",
       "</tr>\n",
       "<tr>\n",
       "  <th>Model:</th>                   <td>OLS</td>       <th>  Adj. R-squared (uncentered):</th> <td>   0.488</td> \n",
       "</tr>\n",
       "<tr>\n",
       "  <th>Method:</th>             <td>Least Squares</td>  <th>  F-statistic:       </th>          <td>   7164.</td> \n",
       "</tr>\n",
       "<tr>\n",
       "  <th>Date:</th>             <td>Mon, 26 Jun 2023</td> <th>  Prob (F-statistic):</th>           <td>  0.00</td>  \n",
       "</tr>\n",
       "<tr>\n",
       "  <th>Time:</th>                 <td>18:06:34</td>     <th>  Log-Likelihood:    </th>          <td> -14149.</td> \n",
       "</tr>\n",
       "<tr>\n",
       "  <th>No. Observations:</th>      <td>  7519</td>      <th>  AIC:               </th>          <td>2.830e+04</td>\n",
       "</tr>\n",
       "<tr>\n",
       "  <th>Df Residuals:</th>          <td>  7518</td>      <th>  BIC:               </th>          <td>2.831e+04</td>\n",
       "</tr>\n",
       "<tr>\n",
       "  <th>Df Model:</th>              <td>     1</td>      <th>                     </th>              <td> </td>    \n",
       "</tr>\n",
       "<tr>\n",
       "  <th>Covariance Type:</th>      <td>nonrobust</td>    <th>                     </th>              <td> </td>    \n",
       "</tr>\n",
       "</table>\n",
       "<table class=\"simpletable\">\n",
       "<tr>\n",
       "                <td></td>                   <th>coef</th>     <th>std err</th>      <th>t</th>      <th>P>|t|</th>  <th>[0.025</th>    <th>0.975]</th>  \n",
       "</tr>\n",
       "<tr>\n",
       "  <th>log_author_all_activity_count</th> <td>    0.5488</td> <td>    0.006</td> <td>   84.643</td> <td> 0.000</td> <td>    0.536</td> <td>    0.562</td>\n",
       "</tr>\n",
       "</table>\n",
       "<table class=\"simpletable\">\n",
       "<tr>\n",
       "  <th>Omnibus:</th>       <td>802.455</td> <th>  Durbin-Watson:     </th> <td>   1.912</td> \n",
       "</tr>\n",
       "<tr>\n",
       "  <th>Prob(Omnibus):</th> <td> 0.000</td>  <th>  Jarque-Bera (JB):  </th> <td>1420.279</td> \n",
       "</tr>\n",
       "<tr>\n",
       "  <th>Skew:</th>          <td> 0.730</td>  <th>  Prob(JB):          </th> <td>3.89e-309</td>\n",
       "</tr>\n",
       "<tr>\n",
       "  <th>Kurtosis:</th>      <td> 4.549</td>  <th>  Cond. No.          </th> <td>    1.00</td> \n",
       "</tr>\n",
       "</table><br/><br/>Notes:<br/>[1] R² is computed without centering (uncentered) since the model does not contain a constant.<br/>[2] Standard Errors assume that the covariance matrix of the errors is correctly specified."
      ],
      "text/plain": [
       "<class 'statsmodels.iolib.summary.Summary'>\n",
       "\"\"\"\n",
       "                                 OLS Regression Results                                \n",
       "=======================================================================================\n",
       "Dep. Variable:        log_thread_size   R-squared (uncentered):                   0.488\n",
       "Model:                            OLS   Adj. R-squared (uncentered):              0.488\n",
       "Method:                 Least Squares   F-statistic:                              7164.\n",
       "Date:                Mon, 26 Jun 2023   Prob (F-statistic):                        0.00\n",
       "Time:                        18:06:34   Log-Likelihood:                         -14149.\n",
       "No. Observations:                7519   AIC:                                  2.830e+04\n",
       "Df Residuals:                    7518   BIC:                                  2.831e+04\n",
       "Df Model:                           1                                                  \n",
       "Covariance Type:            nonrobust                                                  \n",
       "=================================================================================================\n",
       "                                    coef    std err          t      P>|t|      [0.025      0.975]\n",
       "-------------------------------------------------------------------------------------------------\n",
       "log_author_all_activity_count     0.5488      0.006     84.643      0.000       0.536       0.562\n",
       "==============================================================================\n",
       "Omnibus:                      802.455   Durbin-Watson:                   1.912\n",
       "Prob(Omnibus):                  0.000   Jarque-Bera (JB):             1420.279\n",
       "Skew:                           0.730   Prob(JB):                    3.89e-309\n",
       "Kurtosis:                       4.549   Cond. No.                         1.00\n",
       "==============================================================================\n",
       "\n",
       "Notes:\n",
       "[1] R² is computed without centering (uncentered) since the model does not contain a constant.\n",
       "[2] Standard Errors assume that the covariance matrix of the errors is correctly specified.\n",
       "\"\"\""
      ]
     },
     "metadata": {},
     "output_type": "display_data"
    },
    {
     "name": "stdout",
     "output_type": "stream",
     "text": [
      "r squared\n",
      "0.16941983430452046\n",
      "patsy OLS no cst\n"
     ]
    },
    {
     "data": {
      "text/html": [
       "<table class=\"simpletable\">\n",
       "<caption>OLS Regression Results</caption>\n",
       "<tr>\n",
       "  <th>Dep. Variable:</th>     <td>log_thread_size</td> <th>  R-squared (uncentered):</th>      <td>   0.488</td> \n",
       "</tr>\n",
       "<tr>\n",
       "  <th>Model:</th>                   <td>OLS</td>       <th>  Adj. R-squared (uncentered):</th> <td>   0.488</td> \n",
       "</tr>\n",
       "<tr>\n",
       "  <th>Method:</th>             <td>Least Squares</td>  <th>  F-statistic:       </th>          <td>   7164.</td> \n",
       "</tr>\n",
       "<tr>\n",
       "  <th>Date:</th>             <td>Mon, 26 Jun 2023</td> <th>  Prob (F-statistic):</th>           <td>  0.00</td>  \n",
       "</tr>\n",
       "<tr>\n",
       "  <th>Time:</th>                 <td>18:06:34</td>     <th>  Log-Likelihood:    </th>          <td> -14149.</td> \n",
       "</tr>\n",
       "<tr>\n",
       "  <th>No. Observations:</th>      <td>  7519</td>      <th>  AIC:               </th>          <td>2.830e+04</td>\n",
       "</tr>\n",
       "<tr>\n",
       "  <th>Df Residuals:</th>          <td>  7518</td>      <th>  BIC:               </th>          <td>2.831e+04</td>\n",
       "</tr>\n",
       "<tr>\n",
       "  <th>Df Model:</th>              <td>     1</td>      <th>                     </th>              <td> </td>    \n",
       "</tr>\n",
       "<tr>\n",
       "  <th>Covariance Type:</th>      <td>nonrobust</td>    <th>                     </th>              <td> </td>    \n",
       "</tr>\n",
       "</table>\n",
       "<table class=\"simpletable\">\n",
       "<tr>\n",
       "                <td></td>                   <th>coef</th>     <th>std err</th>      <th>t</th>      <th>P>|t|</th>  <th>[0.025</th>    <th>0.975]</th>  \n",
       "</tr>\n",
       "<tr>\n",
       "  <th>log_author_all_activity_count</th> <td>    0.5488</td> <td>    0.006</td> <td>   84.643</td> <td> 0.000</td> <td>    0.536</td> <td>    0.562</td>\n",
       "</tr>\n",
       "</table>\n",
       "<table class=\"simpletable\">\n",
       "<tr>\n",
       "  <th>Omnibus:</th>       <td>802.455</td> <th>  Durbin-Watson:     </th> <td>   1.912</td> \n",
       "</tr>\n",
       "<tr>\n",
       "  <th>Prob(Omnibus):</th> <td> 0.000</td>  <th>  Jarque-Bera (JB):  </th> <td>1420.279</td> \n",
       "</tr>\n",
       "<tr>\n",
       "  <th>Skew:</th>          <td> 0.730</td>  <th>  Prob(JB):          </th> <td>3.89e-309</td>\n",
       "</tr>\n",
       "<tr>\n",
       "  <th>Kurtosis:</th>      <td> 4.549</td>  <th>  Cond. No.          </th> <td>    1.00</td> \n",
       "</tr>\n",
       "</table><br/><br/>Notes:<br/>[1] R² is computed without centering (uncentered) since the model does not contain a constant.<br/>[2] Standard Errors assume that the covariance matrix of the errors is correctly specified."
      ],
      "text/plain": [
       "<class 'statsmodels.iolib.summary.Summary'>\n",
       "\"\"\"\n",
       "                                 OLS Regression Results                                \n",
       "=======================================================================================\n",
       "Dep. Variable:        log_thread_size   R-squared (uncentered):                   0.488\n",
       "Model:                            OLS   Adj. R-squared (uncentered):              0.488\n",
       "Method:                 Least Squares   F-statistic:                              7164.\n",
       "Date:                Mon, 26 Jun 2023   Prob (F-statistic):                        0.00\n",
       "Time:                        18:06:34   Log-Likelihood:                         -14149.\n",
       "No. Observations:                7519   AIC:                                  2.830e+04\n",
       "Df Residuals:                    7518   BIC:                                  2.831e+04\n",
       "Df Model:                           1                                                  \n",
       "Covariance Type:            nonrobust                                                  \n",
       "=================================================================================================\n",
       "                                    coef    std err          t      P>|t|      [0.025      0.975]\n",
       "-------------------------------------------------------------------------------------------------\n",
       "log_author_all_activity_count     0.5488      0.006     84.643      0.000       0.536       0.562\n",
       "==============================================================================\n",
       "Omnibus:                      802.455   Durbin-Watson:                   1.912\n",
       "Prob(Omnibus):                  0.000   Jarque-Bera (JB):             1420.279\n",
       "Skew:                           0.730   Prob(JB):                    3.89e-309\n",
       "Kurtosis:                       4.549   Cond. No.                         1.00\n",
       "==============================================================================\n",
       "\n",
       "Notes:\n",
       "[1] R² is computed without centering (uncentered) since the model does not contain a constant.\n",
       "[2] Standard Errors assume that the covariance matrix of the errors is correctly specified.\n",
       "\"\"\""
      ]
     },
     "metadata": {},
     "output_type": "display_data"
    },
    {
     "name": "stdout",
     "output_type": "stream",
     "text": [
      "r squared\n",
      "0.16941983430452046\n",
      "sm OLS with cst\n"
     ]
    },
    {
     "data": {
      "text/html": [
       "<table class=\"simpletable\">\n",
       "<caption>OLS Regression Results</caption>\n",
       "<tr>\n",
       "  <th>Dep. Variable:</th>     <td>log_thread_size</td> <th>  R-squared:         </th> <td>   0.232</td> \n",
       "</tr>\n",
       "<tr>\n",
       "  <th>Model:</th>                   <td>OLS</td>       <th>  Adj. R-squared:    </th> <td>   0.232</td> \n",
       "</tr>\n",
       "<tr>\n",
       "  <th>Method:</th>             <td>Least Squares</td>  <th>  F-statistic:       </th> <td>   2275.</td> \n",
       "</tr>\n",
       "<tr>\n",
       "  <th>Date:</th>             <td>Mon, 26 Jun 2023</td> <th>  Prob (F-statistic):</th>  <td>  0.00</td>  \n",
       "</tr>\n",
       "<tr>\n",
       "  <th>Time:</th>                 <td>18:06:34</td>     <th>  Log-Likelihood:    </th> <td> -13853.</td> \n",
       "</tr>\n",
       "<tr>\n",
       "  <th>No. Observations:</th>      <td>  7519</td>      <th>  AIC:               </th> <td>2.771e+04</td>\n",
       "</tr>\n",
       "<tr>\n",
       "  <th>Df Residuals:</th>          <td>  7517</td>      <th>  BIC:               </th> <td>2.772e+04</td>\n",
       "</tr>\n",
       "<tr>\n",
       "  <th>Df Model:</th>              <td>     1</td>      <th>                     </th>     <td> </td>    \n",
       "</tr>\n",
       "<tr>\n",
       "  <th>Covariance Type:</th>      <td>nonrobust</td>    <th>                     </th>     <td> </td>    \n",
       "</tr>\n",
       "</table>\n",
       "<table class=\"simpletable\">\n",
       "<tr>\n",
       "                <td></td>                   <th>coef</th>     <th>std err</th>      <th>t</th>      <th>P>|t|</th>  <th>[0.025</th>    <th>0.975]</th>  \n",
       "</tr>\n",
       "<tr>\n",
       "  <th>const</th>                         <td>    0.5961</td> <td>    0.024</td> <td>   24.819</td> <td> 0.000</td> <td>    0.549</td> <td>    0.643</td>\n",
       "</tr>\n",
       "<tr>\n",
       "  <th>log_author_all_activity_count</th> <td>    0.4054</td> <td>    0.009</td> <td>   47.696</td> <td> 0.000</td> <td>    0.389</td> <td>    0.422</td>\n",
       "</tr>\n",
       "</table>\n",
       "<table class=\"simpletable\">\n",
       "<tr>\n",
       "  <th>Omnibus:</th>       <td>1022.533</td> <th>  Durbin-Watson:     </th> <td>   1.998</td>\n",
       "</tr>\n",
       "<tr>\n",
       "  <th>Prob(Omnibus):</th>  <td> 0.000</td>  <th>  Jarque-Bera (JB):  </th> <td>1597.378</td>\n",
       "</tr>\n",
       "<tr>\n",
       "  <th>Skew:</th>           <td> 0.958</td>  <th>  Prob(JB):          </th> <td>    0.00</td>\n",
       "</tr>\n",
       "<tr>\n",
       "  <th>Kurtosis:</th>       <td> 4.195</td>  <th>  Cond. No.          </th> <td>    4.09</td>\n",
       "</tr>\n",
       "</table><br/><br/>Notes:<br/>[1] Standard Errors assume that the covariance matrix of the errors is correctly specified."
      ],
      "text/plain": [
       "<class 'statsmodels.iolib.summary.Summary'>\n",
       "\"\"\"\n",
       "                            OLS Regression Results                            \n",
       "==============================================================================\n",
       "Dep. Variable:        log_thread_size   R-squared:                       0.232\n",
       "Model:                            OLS   Adj. R-squared:                  0.232\n",
       "Method:                 Least Squares   F-statistic:                     2275.\n",
       "Date:                Mon, 26 Jun 2023   Prob (F-statistic):               0.00\n",
       "Time:                        18:06:34   Log-Likelihood:                -13853.\n",
       "No. Observations:                7519   AIC:                         2.771e+04\n",
       "Df Residuals:                    7517   BIC:                         2.772e+04\n",
       "Df Model:                           1                                         \n",
       "Covariance Type:            nonrobust                                         \n",
       "=================================================================================================\n",
       "                                    coef    std err          t      P>|t|      [0.025      0.975]\n",
       "-------------------------------------------------------------------------------------------------\n",
       "const                             0.5961      0.024     24.819      0.000       0.549       0.643\n",
       "log_author_all_activity_count     0.4054      0.009     47.696      0.000       0.389       0.422\n",
       "==============================================================================\n",
       "Omnibus:                     1022.533   Durbin-Watson:                   1.998\n",
       "Prob(Omnibus):                  0.000   Jarque-Bera (JB):             1597.378\n",
       "Skew:                           0.958   Prob(JB):                         0.00\n",
       "Kurtosis:                       4.195   Cond. No.                         4.09\n",
       "==============================================================================\n",
       "\n",
       "Notes:\n",
       "[1] Standard Errors assume that the covariance matrix of the errors is correctly specified.\n",
       "\"\"\""
      ]
     },
     "metadata": {},
     "output_type": "display_data"
    },
    {
     "name": "stdout",
     "output_type": "stream",
     "text": [
      "r squared\n",
      "0.23232736025623224\n",
      "sm OLS with patsy matrices with cst\n"
     ]
    },
    {
     "data": {
      "text/html": [
       "<table class=\"simpletable\">\n",
       "<caption>OLS Regression Results</caption>\n",
       "<tr>\n",
       "  <th>Dep. Variable:</th>     <td>log_thread_size</td> <th>  R-squared:         </th> <td>   0.232</td> \n",
       "</tr>\n",
       "<tr>\n",
       "  <th>Model:</th>                   <td>OLS</td>       <th>  Adj. R-squared:    </th> <td>   0.232</td> \n",
       "</tr>\n",
       "<tr>\n",
       "  <th>Method:</th>             <td>Least Squares</td>  <th>  F-statistic:       </th> <td>   2275.</td> \n",
       "</tr>\n",
       "<tr>\n",
       "  <th>Date:</th>             <td>Mon, 26 Jun 2023</td> <th>  Prob (F-statistic):</th>  <td>  0.00</td>  \n",
       "</tr>\n",
       "<tr>\n",
       "  <th>Time:</th>                 <td>18:06:34</td>     <th>  Log-Likelihood:    </th> <td> -13853.</td> \n",
       "</tr>\n",
       "<tr>\n",
       "  <th>No. Observations:</th>      <td>  7519</td>      <th>  AIC:               </th> <td>2.771e+04</td>\n",
       "</tr>\n",
       "<tr>\n",
       "  <th>Df Residuals:</th>          <td>  7517</td>      <th>  BIC:               </th> <td>2.772e+04</td>\n",
       "</tr>\n",
       "<tr>\n",
       "  <th>Df Model:</th>              <td>     1</td>      <th>                     </th>     <td> </td>    \n",
       "</tr>\n",
       "<tr>\n",
       "  <th>Covariance Type:</th>      <td>nonrobust</td>    <th>                     </th>     <td> </td>    \n",
       "</tr>\n",
       "</table>\n",
       "<table class=\"simpletable\">\n",
       "<tr>\n",
       "                <td></td>                   <th>coef</th>     <th>std err</th>      <th>t</th>      <th>P>|t|</th>  <th>[0.025</th>    <th>0.975]</th>  \n",
       "</tr>\n",
       "<tr>\n",
       "  <th>Intercept</th>                     <td>    0.5961</td> <td>    0.024</td> <td>   24.819</td> <td> 0.000</td> <td>    0.549</td> <td>    0.643</td>\n",
       "</tr>\n",
       "<tr>\n",
       "  <th>log_author_all_activity_count</th> <td>    0.4054</td> <td>    0.009</td> <td>   47.696</td> <td> 0.000</td> <td>    0.389</td> <td>    0.422</td>\n",
       "</tr>\n",
       "</table>\n",
       "<table class=\"simpletable\">\n",
       "<tr>\n",
       "  <th>Omnibus:</th>       <td>1022.533</td> <th>  Durbin-Watson:     </th> <td>   1.998</td>\n",
       "</tr>\n",
       "<tr>\n",
       "  <th>Prob(Omnibus):</th>  <td> 0.000</td>  <th>  Jarque-Bera (JB):  </th> <td>1597.378</td>\n",
       "</tr>\n",
       "<tr>\n",
       "  <th>Skew:</th>           <td> 0.958</td>  <th>  Prob(JB):          </th> <td>    0.00</td>\n",
       "</tr>\n",
       "<tr>\n",
       "  <th>Kurtosis:</th>       <td> 4.195</td>  <th>  Cond. No.          </th> <td>    4.09</td>\n",
       "</tr>\n",
       "</table><br/><br/>Notes:<br/>[1] Standard Errors assume that the covariance matrix of the errors is correctly specified."
      ],
      "text/plain": [
       "<class 'statsmodels.iolib.summary.Summary'>\n",
       "\"\"\"\n",
       "                            OLS Regression Results                            \n",
       "==============================================================================\n",
       "Dep. Variable:        log_thread_size   R-squared:                       0.232\n",
       "Model:                            OLS   Adj. R-squared:                  0.232\n",
       "Method:                 Least Squares   F-statistic:                     2275.\n",
       "Date:                Mon, 26 Jun 2023   Prob (F-statistic):               0.00\n",
       "Time:                        18:06:34   Log-Likelihood:                -13853.\n",
       "No. Observations:                7519   AIC:                         2.771e+04\n",
       "Df Residuals:                    7517   BIC:                         2.772e+04\n",
       "Df Model:                           1                                         \n",
       "Covariance Type:            nonrobust                                         \n",
       "=================================================================================================\n",
       "                                    coef    std err          t      P>|t|      [0.025      0.975]\n",
       "-------------------------------------------------------------------------------------------------\n",
       "Intercept                         0.5961      0.024     24.819      0.000       0.549       0.643\n",
       "log_author_all_activity_count     0.4054      0.009     47.696      0.000       0.389       0.422\n",
       "==============================================================================\n",
       "Omnibus:                     1022.533   Durbin-Watson:                   1.998\n",
       "Prob(Omnibus):                  0.000   Jarque-Bera (JB):             1597.378\n",
       "Skew:                           0.958   Prob(JB):                         0.00\n",
       "Kurtosis:                       4.195   Cond. No.                         4.09\n",
       "==============================================================================\n",
       "\n",
       "Notes:\n",
       "[1] Standard Errors assume that the covariance matrix of the errors is correctly specified.\n",
       "\"\"\""
      ]
     },
     "metadata": {},
     "output_type": "display_data"
    },
    {
     "name": "stdout",
     "output_type": "stream",
     "text": [
      "r squared\n",
      "0.23232736025623224\n"
     ]
    }
   ],
   "source": [
    "names = ['sm OLS', 'patsy OLS no cst', 'sm OLS with cst', 'sm OLS with patsy matrices with cst']\n",
    "for i, model in enumerate([fit0, patsy_model_no_cst, fit0_with_cst, patsy_model_with_cst]):\n",
    "    print(names[i])\n",
    "    display(model.summary())\n",
    "    print('r squared')\n",
    "    print(sklm.r2_score(y0, model.predict()))"
   ]
  },
  {
   "cell_type": "code",
   "execution_count": null,
   "metadata": {},
   "outputs": [],
   "source": []
  }
 ],
 "metadata": {
  "kernelspec": {
   "display_name": "redditenv",
   "language": "python",
   "name": "python3"
  },
  "language_info": {
   "codemirror_mode": {
    "name": "ipython",
    "version": 3
   },
   "file_extension": ".py",
   "mimetype": "text/x-python",
   "name": "python",
   "nbconvert_exporter": "python",
   "pygments_lexer": "ipython3",
   "version": "3.10.9"
  },
  "orig_nbformat": 4
 },
 "nbformat": 4,
 "nbformat_minor": 2
}
