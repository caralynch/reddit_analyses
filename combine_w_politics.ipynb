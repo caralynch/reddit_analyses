{
 "cells": [
  {
   "cell_type": "code",
   "execution_count": 2,
   "metadata": {},
   "outputs": [],
   "source": [
    "import sys\n",
    "sys.path.append('/home/cara/Documents/reddit_analysis_code')\n",
    "import pandas as pd\n",
    "from reddit_dataclass import RedditData as reddit\n",
    "import pickle"
   ]
  },
  {
   "cell_type": "code",
   "execution_count": 3,
   "metadata": {},
   "outputs": [],
   "source": [
    "sentiment_datasets = pickle.load(open('sentiment_datasets.p', 'rb'))"
   ]
  },
  {
   "cell_type": "code",
   "execution_count": 4,
   "metadata": {},
   "outputs": [
    {
     "name": "stderr",
     "output_type": "stream",
     "text": [
      "/home/cara/Documents/reddit_analysis_code/reddit_dataclass.py:419: DtypeWarning: Columns (4,6,7,8) have mixed types. Specify dtype option on import or set low_memory=False.\n",
      "  \n"
     ]
    }
   ],
   "source": [
    "politics_filepath = '/home/cara/Documents/r_politics_dataset/threads/r_pol_threads/archive/clean_sentiment_data.csv'\n",
    "politics_data = reddit(politics_filepath, sentiment_cols=['subject_sentiment_score', 'body_sentiment_score'], shorten_parent=True)"
   ]
  },
  {
   "cell_type": "code",
   "execution_count": 5,
   "metadata": {},
   "outputs": [],
   "source": [
    "sentiment_datasets['politics'] = politics_data"
   ]
  },
  {
   "cell_type": "code",
   "execution_count": 5,
   "metadata": {},
   "outputs": [
    {
     "data": {
      "text/plain": [
       "{'books': <reddit_dataclass.RedditData at 0x7f4814124100>,\n",
       " 'conspiracy': <reddit_dataclass.RedditData at 0x7f47d3e65d00>,\n",
       " 'crypto': <reddit_dataclass.RedditData at 0x7f47babe18b0>,\n",
       " 'thedonald': <reddit_dataclass.RedditData at 0x7f47a14456d0>,\n",
       " 'politics': <reddit_dataclass.RedditData at 0x7f47dadaaaf0>}"
      ]
     },
     "execution_count": 5,
     "metadata": {},
     "output_type": "execute_result"
    }
   ],
   "source": [
    "sentiment_datasets"
   ]
  },
  {
   "cell_type": "code",
   "execution_count": 6,
   "metadata": {},
   "outputs": [
    {
     "ename": "",
     "evalue": "",
     "output_type": "error",
     "traceback": [
      "\u001b[1;31mThe Kernel crashed while executing code in the the current cell or a previous cell. Please review the code in the cell(s) to identify a possible cause of the failure. Click <a href='https://aka.ms/vscodeJupyterKernelCrash'>here</a> for more info. View Jupyter <a href='command:jupyter.viewOutput'>log</a> for further details."
     ]
    }
   ],
   "source": [
    "pickle.dump(sentiment_datasets, open('sentiment_5_datasets.p', 'wb'))"
   ]
  },
  {
   "cell_type": "code",
   "execution_count": null,
   "metadata": {},
   "outputs": [],
   "source": []
  }
 ],
 "metadata": {
  "kernelspec": {
   "display_name": "redditenv",
   "language": "python",
   "name": "python3"
  },
  "language_info": {
   "codemirror_mode": {
    "name": "ipython",
    "version": 3
   },
   "file_extension": ".py",
   "mimetype": "text/x-python",
   "name": "python",
   "nbconvert_exporter": "python",
   "pygments_lexer": "ipython3",
   "version": "3.10.9"
  },
  "orig_nbformat": 4,
  "vscode": {
   "interpreter": {
    "hash": "c482d4c0e8cbaeb0f1b549c3b7cbe4711c34d9cf6d26761b0881cc15f09eabb5"
   }
  }
 },
 "nbformat": 4,
 "nbformat_minor": 2
}
