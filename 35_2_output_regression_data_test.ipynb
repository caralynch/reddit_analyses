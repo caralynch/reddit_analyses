{
 "cells": [
  {
   "cell_type": "code",
   "execution_count": 57,
   "metadata": {},
   "outputs": [],
   "source": [
    "import pickle\n",
    "import pandas as pd\n",
    "import numpy as np\n",
    "from regression_class import RedditRegression as RR\n",
    "import logging"
   ]
  },
  {
   "cell_type": "code",
   "execution_count": 58,
   "metadata": {},
   "outputs": [],
   "source": [
    "REGRESSION_INFILE = \"regression_thread_data.p\"\n",
    "THREAD_INFILE = \"clean_5_thread_data.p\"\n",
    "regression_df = pickle.load(open(REGRESSION_INFILE, 'rb'))\n",
    "thread_df = pickle.load(open(THREAD_INFILE, 'rb'))"
   ]
  },
  {
   "cell_type": "code",
   "execution_count": 60,
   "metadata": {},
   "outputs": [],
   "source": [
    "handler = logging.StreamHandler()\n",
    "handler.setLevel(logging.INFO)\n",
    "s_format = logging.Formatter(\"%(name)s - %(levelname)s - %(message)s\")\n",
    "handler.setFormatter(s_format)"
   ]
  },
  {
   "cell_type": "code",
   "execution_count": 62,
   "metadata": {},
   "outputs": [
    {
     "name": "stdout",
     "output_type": "stream",
     "text": [
      "## logistic ##\n",
      "    attempting first pickle\n",
      "    first pickle successful\n",
      "    running main\n"
     ]
    },
    {
     "name": "stderr",
     "output_type": "stream",
     "text": [
      "regression_class_books_logistic - INFO - Running FSS\n",
      "regression_class_books_logistic - INFO - Running FSS\n",
      "regression_class_books_logistic - INFO - Running FSS\n",
      "regression_class_books_logistic - INFO - Running FSS\n",
      "regression_class_books_logistic - INFO - Running FSS\n",
      "py.warnings - WARNING - /home/cara/anaconda3/envs/redditenv/lib/python3.10/site-packages/numpy/core/_methods.py:269: RuntimeWarning: Degrees of freedom <= 0 for slice\n",
      "  ret = _var(a, axis=axis, dtype=dtype, out=out, ddof=ddof,\n",
      "\n",
      "py.warnings - WARNING - /home/cara/anaconda3/envs/redditenv/lib/python3.10/site-packages/numpy/core/_methods.py:261: RuntimeWarning: invalid value encountered in scalar divide\n",
      "  ret = ret.dtype.type(ret / rcount)\n",
      "\n",
      "py.warnings - WARNING - /home/cara/anaconda3/envs/redditenv/lib/python3.10/site-packages/numpy/core/_methods.py:269: RuntimeWarning: Degrees of freedom <= 0 for slice\n",
      "  ret = _var(a, axis=axis, dtype=dtype, out=out, ddof=ddof,\n",
      "\n",
      "py.warnings - WARNING - /home/cara/anaconda3/envs/redditenv/lib/python3.10/site-packages/numpy/core/_methods.py:261: RuntimeWarning: invalid value encountered in scalar divide\n",
      "  ret = ret.dtype.type(ret / rcount)\n",
      "\n",
      "regression_class_books_logistic - INFO - Model 1\n",
      "regression_class_books_logistic - INFO - Model 1\n",
      "regression_class_books_logistic - INFO - Model 1\n",
      "regression_class_books_logistic - INFO - Model 1\n",
      "regression_class_books_logistic - INFO - Model 1\n",
      "regression_class_books_logistic - INFO - Model 2\n",
      "regression_class_books_logistic - INFO - Model 2\n",
      "regression_class_books_logistic - INFO - Model 2\n",
      "regression_class_books_logistic - INFO - Model 2\n",
      "regression_class_books_logistic - INFO - Model 2\n",
      "regression_class_books_logistic - INFO - Model 3\n",
      "regression_class_books_logistic - INFO - Model 3\n",
      "regression_class_books_logistic - INFO - Model 3\n",
      "regression_class_books_logistic - INFO - Model 3\n",
      "regression_class_books_logistic - INFO - Model 3\n",
      "regression_class_books_logistic - INFO - Model 4\n",
      "regression_class_books_logistic - INFO - Model 4\n",
      "regression_class_books_logistic - INFO - Model 4\n",
      "regression_class_books_logistic - INFO - Model 4\n",
      "regression_class_books_logistic - INFO - Model 4\n",
      "regression_class_books_logistic - INFO - Model 5\n",
      "regression_class_books_logistic - INFO - Model 5\n",
      "regression_class_books_logistic - INFO - Model 5\n",
      "regression_class_books_logistic - INFO - Model 5\n",
      "regression_class_books_logistic - INFO - Model 5\n",
      "regression_class_books_logistic - INFO - Model 6\n",
      "regression_class_books_logistic - INFO - Model 6\n",
      "regression_class_books_logistic - INFO - Model 6\n",
      "regression_class_books_logistic - INFO - Model 6\n",
      "regression_class_books_logistic - INFO - Model 6\n",
      "regression_class_books_logistic - INFO - Model 7\n",
      "regression_class_books_logistic - INFO - Model 7\n",
      "regression_class_books_logistic - INFO - Model 7\n",
      "regression_class_books_logistic - INFO - Model 7\n",
      "regression_class_books_logistic - INFO - Model 7\n",
      "regression_class_books_logistic - INFO - Model 8\n",
      "regression_class_books_logistic - INFO - Model 8\n",
      "regression_class_books_logistic - INFO - Model 8\n",
      "regression_class_books_logistic - INFO - Model 8\n",
      "regression_class_books_logistic - INFO - Model 8\n"
     ]
    },
    {
     "name": "stdout",
     "output_type": "stream",
     "text": [
      "    attempting second pickle\n",
      "done\n",
      "## mnlogit ##\n",
      "    attempting first pickle\n"
     ]
    },
    {
     "ename": "TypeError",
     "evalue": "cannot pickle 'staticmethod' object",
     "output_type": "error",
     "traceback": [
      "\u001b[0;31m---------------------------------------------------------------------------\u001b[0m",
      "\u001b[0;31mTypeError\u001b[0m                                 Traceback (most recent call last)",
      "Cell \u001b[0;32mIn[62], line 9\u001b[0m\n\u001b[1;32m      7\u001b[0m regressions[regtype] \u001b[38;5;241m=\u001b[39m RR(param_dicts[regtype], log_handlers\u001b[38;5;241m=\u001b[39mhandler)\n\u001b[1;32m      8\u001b[0m \u001b[38;5;28mprint\u001b[39m(\u001b[38;5;124mf\u001b[39m\u001b[38;5;124m'\u001b[39m\u001b[38;5;124m    attempting first pickle\u001b[39m\u001b[38;5;124m'\u001b[39m)\n\u001b[0;32m----> 9\u001b[0m \u001b[43mregressions\u001b[49m\u001b[43m[\u001b[49m\u001b[43mregtype\u001b[49m\u001b[43m]\u001b[49m\u001b[38;5;241;43m.\u001b[39;49m\u001b[43mpickle_to_file\u001b[49m\u001b[43m(\u001b[49m\n\u001b[1;32m     10\u001b[0m \u001b[43m    \u001b[49m\u001b[38;5;124;43mf\u001b[39;49m\u001b[38;5;124;43m'\u001b[39;49m\u001b[38;5;124;43mregression_test_outputs/books_\u001b[39;49m\u001b[38;5;132;43;01m{\u001b[39;49;00m\u001b[43mregtype\u001b[49m\u001b[38;5;132;43;01m}\u001b[39;49;00m\u001b[38;5;124;43m1.p\u001b[39;49m\u001b[38;5;124;43m'\u001b[39;49m\n\u001b[1;32m     11\u001b[0m \u001b[43m    \u001b[49m\u001b[43m)\u001b[49m\n\u001b[1;32m     12\u001b[0m \u001b[38;5;28mprint\u001b[39m(\u001b[38;5;124mf\u001b[39m\u001b[38;5;124m'\u001b[39m\u001b[38;5;124m    first pickle successful\u001b[39m\u001b[38;5;124m'\u001b[39m)\n\u001b[1;32m     13\u001b[0m \u001b[38;5;28mprint\u001b[39m(\u001b[38;5;124mf\u001b[39m\u001b[38;5;124m'\u001b[39m\u001b[38;5;124m    running main\u001b[39m\u001b[38;5;124m'\u001b[39m)\n",
      "File \u001b[0;32m~/Documents/reddit_analyses/reddit_analyses/regression_class.py:706\u001b[0m, in \u001b[0;36mpickle_to_file\u001b[0;34m(self, filename)\u001b[0m\n\u001b[1;32m    703\u001b[0m \u001b[38;5;28;01mdef\u001b[39;00m \u001b[38;5;21mget_model_metrics_from_smf_mod\u001b[39m(\u001b[38;5;28mself\u001b[39m, smf_mod, conf_int\u001b[38;5;241m=\u001b[39m\u001b[38;5;241m0.05\u001b[39m):\n\u001b[1;32m    704\u001b[0m \u001b[38;5;250m    \u001b[39m\u001b[38;5;124;03m\"\"\"Creates parameter dataframe of model metrics for easy output.\u001b[39;00m\n\u001b[1;32m    705\u001b[0m \n\u001b[0;32m--> 706\u001b[0m \u001b[38;5;124;03m    Parameters\u001b[39;00m\n\u001b[1;32m    707\u001b[0m \u001b[38;5;124;03m    ----------\u001b[39;00m\n\u001b[1;32m    708\u001b[0m \u001b[38;5;124;03m    smf_mod : smf.ModelResults\u001b[39;00m\n\u001b[1;32m    709\u001b[0m \u001b[38;5;124;03m        smf ModelResults instance.\u001b[39;00m\n\u001b[1;32m    710\u001b[0m \u001b[38;5;124;03m    conf_int : float, optional\u001b[39;00m\n\u001b[1;32m    711\u001b[0m \u001b[38;5;124;03m        Confidence interval alpha, by default 0.05\u001b[39;00m\n\u001b[1;32m    712\u001b[0m \n\u001b[1;32m    713\u001b[0m \u001b[38;5;124;03m    Returns\u001b[39;00m\n\u001b[1;32m    714\u001b[0m \u001b[38;5;124;03m    -------\u001b[39;00m\n\u001b[1;32m    715\u001b[0m \u001b[38;5;124;03m    pd.DataFrame\u001b[39;00m\n\u001b[1;32m    716\u001b[0m \u001b[38;5;124;03m        Dataframe with regression parameters, p values and stderr or conf interval.\u001b[39;00m\n\u001b[1;32m    717\u001b[0m \u001b[38;5;124;03m    \"\"\"\u001b[39;00m\n\u001b[1;32m    719\u001b[0m     \u001b[38;5;28;01mif\u001b[39;00m \u001b[38;5;28mself\u001b[39m\u001b[38;5;241m.\u001b[39mregression_params[\u001b[38;5;124m\"\u001b[39m\u001b[38;5;124mregression_type\u001b[39m\u001b[38;5;124m\"\u001b[39m] \u001b[38;5;241m!=\u001b[39m \u001b[38;5;124m\"\u001b[39m\u001b[38;5;124mmnlogit\u001b[39m\u001b[38;5;124m\"\u001b[39m:\n\u001b[1;32m    720\u001b[0m         params_df \u001b[38;5;241m=\u001b[39m pd\u001b[38;5;241m.\u001b[39mDataFrame([smf_mod\u001b[38;5;241m.\u001b[39mparams, smf_mod\u001b[38;5;241m.\u001b[39mpvalues])\u001b[38;5;241m.\u001b[39mT\u001b[38;5;241m.\u001b[39mrename(\n\u001b[1;32m    721\u001b[0m             columns\u001b[38;5;241m=\u001b[39m{\u001b[38;5;241m0\u001b[39m: \u001b[38;5;124m\"\u001b[39m\u001b[38;5;124mparam\u001b[39m\u001b[38;5;124m\"\u001b[39m, \u001b[38;5;241m1\u001b[39m: \u001b[38;5;124m\"\u001b[39m\u001b[38;5;124mpvalue\u001b[39m\u001b[38;5;124m\"\u001b[39m}\n\u001b[1;32m    722\u001b[0m         )\n",
      "\u001b[0;31mTypeError\u001b[0m: cannot pickle 'staticmethod' object"
     ]
    }
   ],
   "source": [
    "param_dicts = {}\n",
    "regressions = {}\n",
    "for regtype in ['logistic', 'mnlogit']:\n",
    "    print(f'## {regtype} ##')\n",
    "    param_dicts[regtype] = RR.create_param_dict(\n",
    "        'books', regtype, regression_df['books'], thread_df['books'])\n",
    "    regressions[regtype] = RR(param_dicts[regtype], log_handlers=handler)\n",
    "    print(f'    attempting first pickle')\n",
    "    regressions[regtype].pickle_to_file(\n",
    "        f'regression_test_outputs/books_{regtype}1.p'\n",
    "        )\n",
    "    print(f'    first pickle successful')\n",
    "    print(f'    running main')\n",
    "    regressions[regtype].main()\n",
    "    print(f'    attempting second pickle')\n",
    "    regressions[regtype].pickle_to_file(\n",
    "        f'regression_test_outputs/books_{regtype}2.p'\n",
    "        )\n",
    "    print(f'done')"
   ]
  },
  {
   "cell_type": "code",
   "execution_count": 44,
   "metadata": {},
   "outputs": [
    {
     "ename": "TypeError",
     "evalue": "cannot pickle 'staticmethod' object",
     "output_type": "error",
     "traceback": [
      "\u001b[0;31m---------------------------------------------------------------------------\u001b[0m",
      "\u001b[0;31mTypeError\u001b[0m                                 Traceback (most recent call last)",
      "Cell \u001b[0;32mIn[44], line 1\u001b[0m\n\u001b[0;32m----> 1\u001b[0m \u001b[43mreg\u001b[49m\u001b[38;5;241;43m.\u001b[39;49m\u001b[43mpickle_to_file\u001b[49m\u001b[43m(\u001b[49m\u001b[38;5;124;43m'\u001b[39;49m\u001b[38;5;124;43mregression_test_outputs/books_mnlogit.p\u001b[39;49m\u001b[38;5;124;43m'\u001b[39;49m\u001b[43m)\u001b[49m\n",
      "File \u001b[0;32m~/Documents/reddit_analyses/reddit_analyses/regression_class.py:706\u001b[0m, in \u001b[0;36mpickle_to_file\u001b[0;34m(self, filename)\u001b[0m\n\u001b[1;32m    703\u001b[0m \u001b[38;5;28;01mdef\u001b[39;00m \u001b[38;5;21mget_model_metrics_from_smf_mod\u001b[39m(\u001b[38;5;28mself\u001b[39m, smf_mod, conf_int\u001b[38;5;241m=\u001b[39m\u001b[38;5;241m0.05\u001b[39m):\n\u001b[1;32m    704\u001b[0m \u001b[38;5;250m    \u001b[39m\u001b[38;5;124;03m\"\"\"Creates parameter dataframe of model metrics for easy output.\u001b[39;00m\n\u001b[1;32m    705\u001b[0m \n\u001b[0;32m--> 706\u001b[0m \u001b[38;5;124;03m    Parameters\u001b[39;00m\n\u001b[1;32m    707\u001b[0m \u001b[38;5;124;03m    ----------\u001b[39;00m\n\u001b[1;32m    708\u001b[0m \u001b[38;5;124;03m    smf_mod : smf.ModelResults\u001b[39;00m\n\u001b[1;32m    709\u001b[0m \u001b[38;5;124;03m        smf ModelResults instance.\u001b[39;00m\n\u001b[1;32m    710\u001b[0m \u001b[38;5;124;03m    conf_int : float, optional\u001b[39;00m\n\u001b[1;32m    711\u001b[0m \u001b[38;5;124;03m        Confidence interval alpha, by default 0.05\u001b[39;00m\n\u001b[1;32m    712\u001b[0m \n\u001b[1;32m    713\u001b[0m \u001b[38;5;124;03m    Returns\u001b[39;00m\n\u001b[1;32m    714\u001b[0m \u001b[38;5;124;03m    -------\u001b[39;00m\n\u001b[1;32m    715\u001b[0m \u001b[38;5;124;03m    pd.DataFrame\u001b[39;00m\n\u001b[1;32m    716\u001b[0m \u001b[38;5;124;03m        Dataframe with regression parameters, p values and stderr or conf interval.\u001b[39;00m\n\u001b[1;32m    717\u001b[0m \u001b[38;5;124;03m    \"\"\"\u001b[39;00m\n\u001b[1;32m    719\u001b[0m     \u001b[38;5;28;01mif\u001b[39;00m \u001b[38;5;28mself\u001b[39m\u001b[38;5;241m.\u001b[39mregression_params[\u001b[38;5;124m\"\u001b[39m\u001b[38;5;124mregression_type\u001b[39m\u001b[38;5;124m\"\u001b[39m] \u001b[38;5;241m!=\u001b[39m \u001b[38;5;124m\"\u001b[39m\u001b[38;5;124mmnlogit\u001b[39m\u001b[38;5;124m\"\u001b[39m:\n\u001b[1;32m    720\u001b[0m         params_df \u001b[38;5;241m=\u001b[39m pd\u001b[38;5;241m.\u001b[39mDataFrame([smf_mod\u001b[38;5;241m.\u001b[39mparams, smf_mod\u001b[38;5;241m.\u001b[39mpvalues])\u001b[38;5;241m.\u001b[39mT\u001b[38;5;241m.\u001b[39mrename(\n\u001b[1;32m    721\u001b[0m             columns\u001b[38;5;241m=\u001b[39m{\u001b[38;5;241m0\u001b[39m: \u001b[38;5;124m\"\u001b[39m\u001b[38;5;124mparam\u001b[39m\u001b[38;5;124m\"\u001b[39m, \u001b[38;5;241m1\u001b[39m: \u001b[38;5;124m\"\u001b[39m\u001b[38;5;124mpvalue\u001b[39m\u001b[38;5;124m\"\u001b[39m}\n\u001b[1;32m    722\u001b[0m         )\n",
      "\u001b[0;31mTypeError\u001b[0m: cannot pickle 'staticmethod' object"
     ]
    }
   ],
   "source": [
    "reg.pickle_to_file('regression_test_outputs/books_mnlogit.p')"
   ]
  },
  {
   "cell_type": "code",
   "execution_count": 47,
   "metadata": {},
   "outputs": [],
   "source": [
    "param_dict = RR.create_param_dict('books', 'logistic',\n",
    "                                  regression_df['books'], thread_df['books'])"
   ]
  },
  {
   "cell_type": "code",
   "execution_count": 48,
   "metadata": {},
   "outputs": [
    {
     "name": "stderr",
     "output_type": "stream",
     "text": [
      "regression_class_books_logistic - INFO - Running FSS\n",
      "regression_class_books_logistic - INFO - Model 1\n",
      "regression_class_books_logistic - INFO - Model 2\n",
      "regression_class_books_logistic - INFO - Model 3\n",
      "regression_class_books_logistic - INFO - Model 4\n",
      "regression_class_books_logistic - INFO - Model 5\n",
      "regression_class_books_logistic - INFO - Model 6\n",
      "regression_class_books_logistic - INFO - Model 7\n",
      "regression_class_books_logistic - INFO - Model 8\n"
     ]
    }
   ],
   "source": [
    "reg1 = RR(param_dict)\n",
    "reg1.main()\n",
    "reg1.pickle_to_file('regression_test_outputs/books_logistic.p')"
   ]
  },
  {
   "cell_type": "code",
   "execution_count": 49,
   "metadata": {},
   "outputs": [
    {
     "data": {
      "text/plain": [
       "regression_class.RedditRegression"
      ]
     },
     "execution_count": 49,
     "metadata": {},
     "output_type": "execute_result"
    }
   ],
   "source": [
    "type(reg1)"
   ]
  },
  {
   "cell_type": "code",
   "execution_count": 51,
   "metadata": {},
   "outputs": [
    {
     "ename": "AttributeError",
     "evalue": "'RedditRegression' object has no attribute '__self__'",
     "output_type": "error",
     "traceback": [
      "\u001b[0;31m---------------------------------------------------------------------------\u001b[0m",
      "\u001b[0;31mAttributeError\u001b[0m                            Traceback (most recent call last)",
      "Cell \u001b[0;32mIn[51], line 1\u001b[0m\n\u001b[0;32m----> 1\u001b[0m \u001b[43mreg1\u001b[49m\u001b[38;5;241;43m.\u001b[39;49m\u001b[38;5;18;43m__self__\u001b[39;49m\n",
      "\u001b[0;31mAttributeError\u001b[0m: 'RedditRegression' object has no attribute '__self__'"
     ]
    }
   ],
   "source": []
  },
  {
   "cell_type": "code",
   "execution_count": 35,
   "metadata": {},
   "outputs": [
    {
     "ename": "EOFError",
     "evalue": "Ran out of input",
     "output_type": "error",
     "traceback": [
      "\u001b[0;31m---------------------------------------------------------------------------\u001b[0m",
      "\u001b[0;31mEOFError\u001b[0m                                  Traceback (most recent call last)",
      "Cell \u001b[0;32mIn[35], line 1\u001b[0m\n\u001b[0;32m----> 1\u001b[0m in_dict \u001b[38;5;241m=\u001b[39m \u001b[43mpickle\u001b[49m\u001b[38;5;241;43m.\u001b[39;49m\u001b[43mload\u001b[49m\u001b[43m(\u001b[49m\u001b[38;5;28;43mopen\u001b[39;49m\u001b[43m(\u001b[49m\u001b[38;5;124;43m'\u001b[39;49m\u001b[38;5;124;43mregression_outputs/14_03_2024__22_47_08/results/books_mnlogit.p\u001b[39;49m\u001b[38;5;124;43m'\u001b[39;49m\u001b[43m,\u001b[49m\u001b[43m \u001b[49m\u001b[38;5;124;43m'\u001b[39;49m\u001b[38;5;124;43mrb\u001b[39;49m\u001b[38;5;124;43m'\u001b[39;49m\u001b[43m)\u001b[49m\u001b[43m)\u001b[49m\n",
      "\u001b[0;31mEOFError\u001b[0m: Ran out of input"
     ]
    }
   ],
   "source": [
    "in_dict = pickle.load(open('regression_outputs/14_03_2024__22_47_08/results/books_mnlogit.p', 'rb'))"
   ]
  },
  {
   "cell_type": "code",
   "execution_count": 33,
   "metadata": {},
   "outputs": [
    {
     "data": {
      "text/html": [
       "<div>\n",
       "<style scoped>\n",
       "    .dataframe tbody tr th:only-of-type {\n",
       "        vertical-align: middle;\n",
       "    }\n",
       "\n",
       "    .dataframe tbody tr th {\n",
       "        vertical-align: top;\n",
       "    }\n",
       "\n",
       "    .dataframe thead th {\n",
       "        text-align: right;\n",
       "    }\n",
       "</style>\n",
       "<table border=\"1\" class=\"dataframe\">\n",
       "  <thead>\n",
       "    <tr style=\"text-align: right;\">\n",
       "      <th></th>\n",
       "      <th>feature_idx</th>\n",
       "      <th>cv_scores</th>\n",
       "      <th>avg_score</th>\n",
       "      <th>feature_names</th>\n",
       "      <th>ci_bound</th>\n",
       "      <th>std_dev</th>\n",
       "      <th>std_err</th>\n",
       "    </tr>\n",
       "  </thead>\n",
       "  <tbody>\n",
       "    <tr>\n",
       "      <th>1</th>\n",
       "      <td>(4,)</td>\n",
       "      <td>[0.7120786516853933]</td>\n",
       "      <td>0.712079</td>\n",
       "      <td>(activity_ratio,)</td>\n",
       "      <td>NaN</td>\n",
       "      <td>0.0</td>\n",
       "      <td>NaN</td>\n",
       "    </tr>\n",
       "    <tr>\n",
       "      <th>2</th>\n",
       "      <td>(4, 5)</td>\n",
       "      <td>[0.7484578100903283]</td>\n",
       "      <td>0.748458</td>\n",
       "      <td>(activity_ratio, mean_author_sentiment_sign)</td>\n",
       "      <td>NaN</td>\n",
       "      <td>0.0</td>\n",
       "      <td>NaN</td>\n",
       "    </tr>\n",
       "    <tr>\n",
       "      <th>3</th>\n",
       "      <td>(4, 5, 6)</td>\n",
       "      <td>[0.7842861863846663]</td>\n",
       "      <td>0.784286</td>\n",
       "      <td>(activity_ratio, mean_author_sentiment_sign, m...</td>\n",
       "      <td>NaN</td>\n",
       "      <td>0.0</td>\n",
       "      <td>NaN</td>\n",
       "    </tr>\n",
       "    <tr>\n",
       "      <th>4</th>\n",
       "      <td>(4, 5, 6, 7)</td>\n",
       "      <td>[0.7863240801938753]</td>\n",
       "      <td>0.786324</td>\n",
       "      <td>(activity_ratio, mean_author_sentiment_sign, m...</td>\n",
       "      <td>NaN</td>\n",
       "      <td>0.0</td>\n",
       "      <td>NaN</td>\n",
       "    </tr>\n",
       "    <tr>\n",
       "      <th>5</th>\n",
       "      <td>(1, 4, 5, 6, 7)</td>\n",
       "      <td>[0.7864893148270544]</td>\n",
       "      <td>0.786489</td>\n",
       "      <td>(sentiment_magnitude, activity_ratio, mean_aut...</td>\n",
       "      <td>NaN</td>\n",
       "      <td>0.0</td>\n",
       "      <td>NaN</td>\n",
       "    </tr>\n",
       "    <tr>\n",
       "      <th>6</th>\n",
       "      <td>(1, 3, 4, 5, 6, 7)</td>\n",
       "      <td>[0.7846441947565543]</td>\n",
       "      <td>0.784644</td>\n",
       "      <td>(sentiment_magnitude, num_dayofweek, activity_...</td>\n",
       "      <td>NaN</td>\n",
       "      <td>0.0</td>\n",
       "      <td>NaN</td>\n",
       "    </tr>\n",
       "    <tr>\n",
       "      <th>7</th>\n",
       "      <td>(0, 1, 3, 4, 5, 6, 7)</td>\n",
       "      <td>[0.7842586472791364]</td>\n",
       "      <td>0.784259</td>\n",
       "      <td>(sentiment_sign, sentiment_magnitude, num_dayo...</td>\n",
       "      <td>NaN</td>\n",
       "      <td>0.0</td>\n",
       "      <td>NaN</td>\n",
       "    </tr>\n",
       "    <tr>\n",
       "      <th>8</th>\n",
       "      <td>(0, 1, 2, 3, 4, 5, 6, 7)</td>\n",
       "      <td>[0.782275831680987]</td>\n",
       "      <td>0.782276</td>\n",
       "      <td>(sentiment_sign, sentiment_magnitude, time_in_...</td>\n",
       "      <td>NaN</td>\n",
       "      <td>0.0</td>\n",
       "      <td>NaN</td>\n",
       "    </tr>\n",
       "  </tbody>\n",
       "</table>\n",
       "</div>"
      ],
      "text/plain": [
       "                feature_idx             cv_scores  avg_score  \\\n",
       "1                      (4,)  [0.7120786516853933]   0.712079   \n",
       "2                    (4, 5)  [0.7484578100903283]   0.748458   \n",
       "3                 (4, 5, 6)  [0.7842861863846663]   0.784286   \n",
       "4              (4, 5, 6, 7)  [0.7863240801938753]   0.786324   \n",
       "5           (1, 4, 5, 6, 7)  [0.7864893148270544]   0.786489   \n",
       "6        (1, 3, 4, 5, 6, 7)  [0.7846441947565543]   0.784644   \n",
       "7     (0, 1, 3, 4, 5, 6, 7)  [0.7842586472791364]   0.784259   \n",
       "8  (0, 1, 2, 3, 4, 5, 6, 7)   [0.782275831680987]   0.782276   \n",
       "\n",
       "                                       feature_names  ci_bound  std_dev  \\\n",
       "1                                  (activity_ratio,)       NaN      0.0   \n",
       "2       (activity_ratio, mean_author_sentiment_sign)       NaN      0.0   \n",
       "3  (activity_ratio, mean_author_sentiment_sign, m...       NaN      0.0   \n",
       "4  (activity_ratio, mean_author_sentiment_sign, m...       NaN      0.0   \n",
       "5  (sentiment_magnitude, activity_ratio, mean_aut...       NaN      0.0   \n",
       "6  (sentiment_magnitude, num_dayofweek, activity_...       NaN      0.0   \n",
       "7  (sentiment_sign, sentiment_magnitude, num_dayo...       NaN      0.0   \n",
       "8  (sentiment_sign, sentiment_magnitude, time_in_...       NaN      0.0   \n",
       "\n",
       "   std_err  \n",
       "1      NaN  \n",
       "2      NaN  \n",
       "3      NaN  \n",
       "4      NaN  \n",
       "5      NaN  \n",
       "6      NaN  \n",
       "7      NaN  \n",
       "8      NaN  "
      ]
     },
     "execution_count": 33,
     "metadata": {},
     "output_type": "execute_result"
    }
   ],
   "source": [
    "in_dict.FSS_metrics['metric_df']"
   ]
  },
  {
   "cell_type": "code",
   "execution_count": 34,
   "metadata": {},
   "outputs": [
    {
     "data": {
      "text/html": [
       "<div>\n",
       "<style scoped>\n",
       "    .dataframe tbody tr th:only-of-type {\n",
       "        vertical-align: middle;\n",
       "    }\n",
       "\n",
       "    .dataframe tbody tr th {\n",
       "        vertical-align: top;\n",
       "    }\n",
       "\n",
       "    .dataframe thead th {\n",
       "        text-align: right;\n",
       "    }\n",
       "</style>\n",
       "<table border=\"1\" class=\"dataframe\">\n",
       "  <thead>\n",
       "    <tr style=\"text-align: right;\">\n",
       "      <th></th>\n",
       "      <th>num_features</th>\n",
       "      <th>model</th>\n",
       "      <th>cal_auc</th>\n",
       "      <th>val_auc</th>\n",
       "      <th>optimizer</th>\n",
       "      <th>iterations</th>\n",
       "      <th>converged</th>\n",
       "    </tr>\n",
       "  </thead>\n",
       "  <tbody>\n",
       "    <tr>\n",
       "      <th>1</th>\n",
       "      <td>1</td>\n",
       "      <td>success ~ activity_ratio</td>\n",
       "      <td>0.712079</td>\n",
       "      <td>0.709895</td>\n",
       "      <td>newton</td>\n",
       "      <td>5</td>\n",
       "      <td>True</td>\n",
       "    </tr>\n",
       "    <tr>\n",
       "      <th>2</th>\n",
       "      <td>2</td>\n",
       "      <td>success ~ activity_ratio + mean_author_sentime...</td>\n",
       "      <td>0.748458</td>\n",
       "      <td>0.716454</td>\n",
       "      <td>newton</td>\n",
       "      <td>5</td>\n",
       "      <td>True</td>\n",
       "    </tr>\n",
       "    <tr>\n",
       "      <th>3</th>\n",
       "      <td>3</td>\n",
       "      <td>success ~ activity_ratio + mean_author_sentime...</td>\n",
       "      <td>0.784396</td>\n",
       "      <td>0.677474</td>\n",
       "      <td>newton</td>\n",
       "      <td>6</td>\n",
       "      <td>True</td>\n",
       "    </tr>\n",
       "    <tr>\n",
       "      <th>4</th>\n",
       "      <td>4</td>\n",
       "      <td>success ~ activity_ratio + mean_author_sentime...</td>\n",
       "      <td>0.786379</td>\n",
       "      <td>0.667916</td>\n",
       "      <td>newton</td>\n",
       "      <td>6</td>\n",
       "      <td>True</td>\n",
       "    </tr>\n",
       "    <tr>\n",
       "      <th>5</th>\n",
       "      <td>5</td>\n",
       "      <td>success ~ sentiment_magnitude + activity_ratio...</td>\n",
       "      <td>0.786875</td>\n",
       "      <td>0.672601</td>\n",
       "      <td>newton</td>\n",
       "      <td>7</td>\n",
       "      <td>True</td>\n",
       "    </tr>\n",
       "    <tr>\n",
       "      <th>6</th>\n",
       "      <td>6</td>\n",
       "      <td>success ~ sentiment_magnitude + num_dayofweek ...</td>\n",
       "      <td>0.783983</td>\n",
       "      <td>0.663793</td>\n",
       "      <td>newton</td>\n",
       "      <td>7</td>\n",
       "      <td>True</td>\n",
       "    </tr>\n",
       "    <tr>\n",
       "      <th>7</th>\n",
       "      <td>7</td>\n",
       "      <td>success ~ sentiment_sign + sentiment_magnitude...</td>\n",
       "      <td>0.784259</td>\n",
       "      <td>0.660420</td>\n",
       "      <td>newton</td>\n",
       "      <td>7</td>\n",
       "      <td>True</td>\n",
       "    </tr>\n",
       "    <tr>\n",
       "      <th>8</th>\n",
       "      <td>8</td>\n",
       "      <td>success ~ sentiment_sign + sentiment_magnitude...</td>\n",
       "      <td>0.782111</td>\n",
       "      <td>0.657796</td>\n",
       "      <td>newton</td>\n",
       "      <td>7</td>\n",
       "      <td>True</td>\n",
       "    </tr>\n",
       "  </tbody>\n",
       "</table>\n",
       "</div>"
      ],
      "text/plain": [
       "   num_features                                              model   cal_auc  \\\n",
       "1             1                           success ~ activity_ratio  0.712079   \n",
       "2             2  success ~ activity_ratio + mean_author_sentime...  0.748458   \n",
       "3             3  success ~ activity_ratio + mean_author_sentime...  0.784396   \n",
       "4             4  success ~ activity_ratio + mean_author_sentime...  0.786379   \n",
       "5             5  success ~ sentiment_magnitude + activity_ratio...  0.786875   \n",
       "6             6  success ~ sentiment_magnitude + num_dayofweek ...  0.783983   \n",
       "7             7  success ~ sentiment_sign + sentiment_magnitude...  0.784259   \n",
       "8             8  success ~ sentiment_sign + sentiment_magnitude...  0.782111   \n",
       "\n",
       "    val_auc optimizer  iterations  converged  \n",
       "1  0.709895    newton           5       True  \n",
       "2  0.716454    newton           5       True  \n",
       "3  0.677474    newton           6       True  \n",
       "4  0.667916    newton           6       True  \n",
       "5  0.672601    newton           7       True  \n",
       "6  0.663793    newton           7       True  \n",
       "7  0.660420    newton           7       True  \n",
       "8  0.657796    newton           7       True  "
      ]
     },
     "execution_count": 34,
     "metadata": {},
     "output_type": "execute_result"
    }
   ],
   "source": [
    "in_dict.regression_metrics['metrics']"
   ]
  },
  {
   "cell_type": "code",
   "execution_count": null,
   "metadata": {},
   "outputs": [],
   "source": []
  }
 ],
 "metadata": {
  "kernelspec": {
   "display_name": "redditenv",
   "language": "python",
   "name": "python3"
  },
  "language_info": {
   "codemirror_mode": {
    "name": "ipython",
    "version": 3
   },
   "file_extension": ".py",
   "mimetype": "text/x-python",
   "name": "python",
   "nbconvert_exporter": "python",
   "pygments_lexer": "ipython3",
   "version": "3.10.9"
  }
 },
 "nbformat": 4,
 "nbformat_minor": 2
}
