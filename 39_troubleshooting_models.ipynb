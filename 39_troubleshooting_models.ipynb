{
 "cells": [
  {
   "cell_type": "code",
   "execution_count": 1,
   "metadata": {},
   "outputs": [],
   "source": [
    "import pickle\n",
    "import pandas as pd\n",
    "import numpy as np\n",
    "from regression_class import RedditRegression as RR\n",
    "import logging\n",
    "import os\n"
   ]
  },
  {
   "cell_type": "code",
   "execution_count": 2,
   "metadata": {},
   "outputs": [],
   "source": [
    "REGRESSION_INFILE= \"regression_thread_data_april_2024.p\"\n",
    "THREAD_INFILE = \"clean_5_thread_data.p\""
   ]
  },
  {
   "cell_type": "code",
   "execution_count": 3,
   "metadata": {},
   "outputs": [],
   "source": [
    "regression_data = pickle.load(open(\"regression_thread_data_april_2024.p\", 'rb'))['crypto']\n",
    "thread_data = pickle.load(open(\"clean_5_thread_data.p\", \"rb\"))['crypto']"
   ]
  },
  {
   "cell_type": "code",
   "execution_count": null,
   "metadata": {},
   "outputs": [],
   "source": [
    "regression_data"
   ]
  },
  {
   "cell_type": "code",
   "execution_count": 12,
   "metadata": {},
   "outputs": [],
   "source": [
    "regression_data['log_score'] = np.log(regression_data.score + 1)"
   ]
  },
  {
   "cell_type": "code",
   "execution_count": 22,
   "metadata": {},
   "outputs": [],
   "source": [
    "param_dict = RR.create_param_dict(\"crypto\", \"linear\", regression_data, thread_data, y_col='log_score', collection_window=10, model_window=5, validation_window=5)"
   ]
  },
  {
   "cell_type": "code",
   "execution_count": 23,
   "metadata": {},
   "outputs": [],
   "source": [
    "regmod = RR(param_dict)"
   ]
  },
  {
   "cell_type": "code",
   "execution_count": 24,
   "metadata": {},
   "outputs": [
    {
     "name": "stderr",
     "output_type": "stream",
     "text": [
      "regression_class_crypto_linear - INFO - Running FSS\n",
      "regression_class_crypto_linear - INFO - Running FSS\n",
      "regression_class_crypto_linear - INFO - Running FSS\n",
      "regression_class_crypto_linear - INFO - FSS finished\n",
      "regression_class_crypto_linear - INFO - FSS finished\n",
      "regression_class_crypto_linear - INFO - FSS finished\n",
      "regression_class_crypto_linear - INFO - Running models\n",
      "regression_class_crypto_linear - INFO - Running models\n",
      "regression_class_crypto_linear - INFO - Running models\n",
      "regression_class_crypto_linear - INFO - Model 1\n",
      "regression_class_crypto_linear - INFO - Model 1\n",
      "regression_class_crypto_linear - INFO - Model 1\n",
      "regression_class_crypto_linear - INFO - Model 2\n",
      "regression_class_crypto_linear - INFO - Model 2\n",
      "regression_class_crypto_linear - INFO - Model 2\n",
      "regression_class_crypto_linear - INFO - Model 3\n",
      "regression_class_crypto_linear - INFO - Model 3\n",
      "regression_class_crypto_linear - INFO - Model 3\n",
      "regression_class_crypto_linear - INFO - Model 4\n",
      "regression_class_crypto_linear - INFO - Model 4\n",
      "regression_class_crypto_linear - INFO - Model 4\n",
      "regression_class_crypto_linear - INFO - Model 5\n",
      "regression_class_crypto_linear - INFO - Model 5\n",
      "regression_class_crypto_linear - INFO - Model 5\n",
      "regression_class_crypto_linear - INFO - Model 6\n",
      "regression_class_crypto_linear - INFO - Model 6\n",
      "regression_class_crypto_linear - INFO - Model 6\n",
      "regression_class_crypto_linear - INFO - Model 7\n",
      "regression_class_crypto_linear - INFO - Model 7\n",
      "regression_class_crypto_linear - INFO - Model 7\n",
      "regression_class_crypto_linear - INFO - Model 8\n",
      "regression_class_crypto_linear - INFO - Model 8\n",
      "regression_class_crypto_linear - INFO - Model 8\n",
      "regression_class_crypto_linear - INFO - Model 9\n",
      "regression_class_crypto_linear - INFO - Model 9\n",
      "regression_class_crypto_linear - INFO - Model 9\n"
     ]
    }
   ],
   "source": [
    "regmod.main()"
   ]
  },
  {
   "cell_type": "code",
   "execution_count": 25,
   "metadata": {},
   "outputs": [
    {
     "data": {
      "text/html": [
       "<div>\n",
       "<style scoped>\n",
       "    .dataframe tbody tr th:only-of-type {\n",
       "        vertical-align: middle;\n",
       "    }\n",
       "\n",
       "    .dataframe tbody tr th {\n",
       "        vertical-align: top;\n",
       "    }\n",
       "\n",
       "    .dataframe thead th {\n",
       "        text-align: right;\n",
       "    }\n",
       "</style>\n",
       "<table border=\"1\" class=\"dataframe\">\n",
       "  <thead>\n",
       "    <tr style=\"text-align: right;\">\n",
       "      <th></th>\n",
       "      <th>num_features</th>\n",
       "      <th>model</th>\n",
       "      <th>cal_r2</th>\n",
       "      <th>val_r2</th>\n",
       "    </tr>\n",
       "  </thead>\n",
       "  <tbody>\n",
       "    <tr>\n",
       "      <th>1</th>\n",
       "      <td>1</td>\n",
       "      <td>log_score ~ author_all_activity_count</td>\n",
       "      <td>0.008218</td>\n",
       "      <td>0.004964</td>\n",
       "    </tr>\n",
       "    <tr>\n",
       "      <th>2</th>\n",
       "      <td>2</td>\n",
       "      <td>log_score ~ time_of_day + author_all_activity_...</td>\n",
       "      <td>0.012631</td>\n",
       "      <td>0.002194</td>\n",
       "    </tr>\n",
       "    <tr>\n",
       "      <th>3</th>\n",
       "      <td>3</td>\n",
       "      <td>log_score ~ sentiment_sign + time_of_day + aut...</td>\n",
       "      <td>0.013794</td>\n",
       "      <td>0.005432</td>\n",
       "    </tr>\n",
       "    <tr>\n",
       "      <th>4</th>\n",
       "      <td>4</td>\n",
       "      <td>log_score ~ sentiment_sign + time_of_day + act...</td>\n",
       "      <td>0.014049</td>\n",
       "      <td>0.004824</td>\n",
       "    </tr>\n",
       "    <tr>\n",
       "      <th>5</th>\n",
       "      <td>5</td>\n",
       "      <td>log_score ~ sentiment_sign + time_of_day + act...</td>\n",
       "      <td>0.014267</td>\n",
       "      <td>0.002404</td>\n",
       "    </tr>\n",
       "    <tr>\n",
       "      <th>6</th>\n",
       "      <td>6</td>\n",
       "      <td>log_score ~ sentiment_sign + time_of_day + act...</td>\n",
       "      <td>0.014424</td>\n",
       "      <td>0.001494</td>\n",
       "    </tr>\n",
       "    <tr>\n",
       "      <th>7</th>\n",
       "      <td>7</td>\n",
       "      <td>log_score ~ sentiment_sign + time_of_day + wee...</td>\n",
       "      <td>0.014462</td>\n",
       "      <td>0.001189</td>\n",
       "    </tr>\n",
       "    <tr>\n",
       "      <th>8</th>\n",
       "      <td>8</td>\n",
       "      <td>log_score ~ sentiment_sign + sentiment_magnitu...</td>\n",
       "      <td>0.014494</td>\n",
       "      <td>0.001725</td>\n",
       "    </tr>\n",
       "    <tr>\n",
       "      <th>9</th>\n",
       "      <td>9</td>\n",
       "      <td>log_score ~ sentiment_sign + sentiment_magnitu...</td>\n",
       "      <td>0.014494</td>\n",
       "      <td>0.001726</td>\n",
       "    </tr>\n",
       "  </tbody>\n",
       "</table>\n",
       "</div>"
      ],
      "text/plain": [
       "   num_features                                              model    cal_r2  \\\n",
       "1             1              log_score ~ author_all_activity_count  0.008218   \n",
       "2             2  log_score ~ time_of_day + author_all_activity_...  0.012631   \n",
       "3             3  log_score ~ sentiment_sign + time_of_day + aut...  0.013794   \n",
       "4             4  log_score ~ sentiment_sign + time_of_day + act...  0.014049   \n",
       "5             5  log_score ~ sentiment_sign + time_of_day + act...  0.014267   \n",
       "6             6  log_score ~ sentiment_sign + time_of_day + act...  0.014424   \n",
       "7             7  log_score ~ sentiment_sign + time_of_day + wee...  0.014462   \n",
       "8             8  log_score ~ sentiment_sign + sentiment_magnitu...  0.014494   \n",
       "9             9  log_score ~ sentiment_sign + sentiment_magnitu...  0.014494   \n",
       "\n",
       "     val_r2  \n",
       "1  0.004964  \n",
       "2  0.002194  \n",
       "3  0.005432  \n",
       "4  0.004824  \n",
       "5  0.002404  \n",
       "6  0.001494  \n",
       "7  0.001189  \n",
       "8  0.001725  \n",
       "9  0.001726  "
      ]
     },
     "execution_count": 25,
     "metadata": {},
     "output_type": "execute_result"
    }
   ],
   "source": [
    "regmod.regression_metrics[\"metrics\"]"
   ]
  },
  {
   "cell_type": "code",
   "execution_count": null,
   "metadata": {},
   "outputs": [],
   "source": []
  }
 ],
 "metadata": {
  "kernelspec": {
   "display_name": "redditenv",
   "language": "python",
   "name": "python3"
  },
  "language_info": {
   "codemirror_mode": {
    "name": "ipython",
    "version": 3
   },
   "file_extension": ".py",
   "mimetype": "text/x-python",
   "name": "python",
   "nbconvert_exporter": "python",
   "pygments_lexer": "ipython3",
   "version": "3.10.9"
  }
 },
 "nbformat": 4,
 "nbformat_minor": 2
}
