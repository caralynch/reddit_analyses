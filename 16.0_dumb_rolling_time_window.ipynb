{
 "cells": [
  {
   "cell_type": "code",
   "execution_count": 1,
   "metadata": {},
   "outputs": [],
   "source": [
    "import numpy as np\n",
    "import pandas as pd\n",
    "from reddit_dataclass import RedditData as reddit\n",
    "import pickle\n",
    "import matplotlib.pyplot as plt\n",
    "import scipy.stats as scpstat\n",
    "import matplotlib.dates as dates\n",
    "import datetime\n",
    "from sklearn import metrics\n",
    "import statsmodels.formula.api as smf\n",
    "import statsmodels.api as sm\n",
    "from patsy import dmatrices\n",
    "from itertools import groupby"
   ]
  },
  {
   "cell_type": "code",
   "execution_count": 2,
   "metadata": {},
   "outputs": [],
   "source": [
    "regression_infile = \"regression_thread_data.p\"\n",
    "thread_infile = 'clean_5_thread_data.p'\n",
    "remove = 'thedonald'\n",
    "regression_outfile = \"weekly_regression_thread_data.p\"\n"
   ]
  },
  {
   "cell_type": "code",
   "execution_count": 3,
   "metadata": {},
   "outputs": [],
   "source": [
    "regression_data = pickle.load(open(regression_infile, 'rb'))\n",
    "thread_data = pickle.load(open(thread_infile, 'rb'))\n",
    "\n",
    "if remove:\n",
    "    regression_data.pop(remove)"
   ]
  },
  {
   "cell_type": "code",
   "execution_count": 130,
   "metadata": {},
   "outputs": [],
   "source": [
    "def divide_into_weeks(df):\n",
    "    df.sort_values('timestamp', inplace=True, ignore_index=True)\n",
    "    df['month'] = df.timestamp.dt.month\n",
    "    df['day'] = df.timestamp.dt.day\n",
    "\n",
    "    daylist = [i[0] for i in groupby(df['day'].values)]\n",
    "    days = {}\n",
    "    weeknum = 0\n",
    "\n",
    "\n",
    "    for i in range(0, len(daylist)-8, 7):\n",
    "        days[weeknum] = daylist[i:i+7]\n",
    "        weeknum += 1\n",
    "\n",
    "\n",
    "    working_df = df.copy()\n",
    "    weeks = {}\n",
    "    for weeknum in days:\n",
    "        start = df[df.day == days[weeknum][0]].index[0]\n",
    "        lastday = days[weeknum][-1]\n",
    "        firstmonth = df[df.day == lastday].month.unique()[0]\n",
    "        end = df[\n",
    "            (df.day == lastday) &\n",
    "            (df.month == firstmonth)\n",
    "        ].index[-1]\n",
    "        weeks[weeknum] = working_df.loc[start:end, :].drop(labels=['month', 'day'], axis=1)\n",
    "        working_df = working_df.loc[end+1:, :]\n",
    "\n",
    "    return weeks\n",
    "\n"
   ]
  },
  {
   "cell_type": "code",
   "execution_count": 131,
   "metadata": {},
   "outputs": [],
   "source": [
    "weekly_regression_data = {}\n",
    "weekly_thread_data = {}\n",
    "\n",
    "for key in regression_data:\n",
    "    weekly_regression_data[key] = divide_into_weeks(regression_data[key])\n",
    "    weekly_thread_data[key] = divide_into_weeks(thread_data[key])"
   ]
  },
  {
   "cell_type": "code",
   "execution_count": 132,
   "metadata": {},
   "outputs": [],
   "source": [
    "\n",
    "\n",
    "for subr in weekly_regression_data:\n",
    "    for week_num in weekly_regression_data[subr]:\n",
    "        all_activity = weekly_thread_data[subr][week_num]\n",
    "        comments = all_activity[all_activity.thread_id != all_activity.id]\n",
    "        posts = all_activity[all_activity.thread_id == all_activity.id]\n",
    "\n",
    "        data_subsets = {\n",
    "            'all_activity': all_activity,\n",
    "            'comments': comments,\n",
    "            'posts': posts\n",
    "        }\n",
    "\n",
    "        started = False\n",
    "\n",
    "        for key in data_subsets:\n",
    "            count = data_subsets[key][['author', 'id']].groupby('author').count().rename(columns={'id': key})\n",
    "            if not started:\n",
    "                activity_count = count\n",
    "                started = True\n",
    "            else:\n",
    "                activity_count = pd.concat((activity_count, count), axis=1).fillna(0).astype(int)\n",
    "        \n",
    "        weekly_regression_data[subr][week_num] = weekly_regression_data[subr][week_num].merge(activity_count.reset_index(), on='author')\n",
    "        weekly_regression_data[subr][week_num]['activity_ratio'] = ((\n",
    "            weekly_regression_data[subr][week_num].comments - weekly_regression_data[subr][week_num].posts)\n",
    "            /weekly_regression_data[subr][week_num].all_activity)\n",
    "\n",
    "\n"
   ]
  },
  {
   "cell_type": "code",
   "execution_count": 135,
   "metadata": {},
   "outputs": [],
   "source": [
    "pickle.dump(weekly_regression_data, open(regression_outfile, 'wb'))"
   ]
  },
  {
   "cell_type": "code",
   "execution_count": null,
   "metadata": {},
   "outputs": [],
   "source": []
  }
 ],
 "metadata": {
  "kernelspec": {
   "display_name": "redditenv",
   "language": "python",
   "name": "python3"
  },
  "language_info": {
   "codemirror_mode": {
    "name": "ipython",
    "version": 3
   },
   "file_extension": ".py",
   "mimetype": "text/x-python",
   "name": "python",
   "nbconvert_exporter": "python",
   "pygments_lexer": "ipython3",
   "version": "3.10.9"
  },
  "orig_nbformat": 4
 },
 "nbformat": 4,
 "nbformat_minor": 2
}
