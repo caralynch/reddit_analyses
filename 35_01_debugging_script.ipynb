{
 "cells": [
  {
   "cell_type": "code",
   "execution_count": 1,
   "metadata": {},
   "outputs": [],
   "source": [
    "# data saving imports\n",
    "import pickle\n",
    "import os\n",
    "\n",
    "# time tracking\n",
    "from datetime import datetime as dt\n",
    "\n",
    "# multiprocessing\n",
    "from multiprocessing import Pool\n",
    "\n",
    "import statsmodels.formula.api as smf\n",
    "import statsmodels.tools.sm_exceptions as smExceptions\n",
    "\n",
    "# custom imports\n",
    "from regression_class import RedditRegression as RR\n",
    "from regression_class import TimestampClass as tc\n",
    "\n",
    "import warnings\n",
    "from numpy.linalg import LinAlgError"
   ]
  },
  {
   "cell_type": "code",
   "execution_count": 2,
   "metadata": {},
   "outputs": [],
   "source": [
    "TEST_INFILE = \"test_data_4_days.p\"\n",
    "test_data = pickle.load(open(TEST_INFILE, 'rb'))\n",
    "regression_df = test_data[\"regression_data\"]\n",
    "thread_df = test_data[\"all_data\"]"
   ]
  },
  {
   "cell_type": "code",
   "execution_count": 3,
   "metadata": {},
   "outputs": [],
   "source": [
    "X_COLS = [\n",
    "    \"sentiment_sign\",\n",
    "    \"sentiment_magnitude\",\n",
    "    \"time_in_secs\",\n",
    "    \"num_dayofweek\",\n",
    "    \"activity_ratio\",\n",
    "    \"mean_author_sentiment_sign\",\n",
    "    \"mean_author_sentiment_magnitude\",\n",
    "    \"log_author_all_activity_count\",\n",
    "]\n",
    "quantiles = [0.25, 0.5, 0.75]\n",
    "thresholds2 = {\n",
    "    \"author_all_activity_count\": 2,\n",
    "    \"thread_size\": 2,\n",
    "}\n",
    "thresholds1 = {\n",
    "    \"author_all_activity_count\": 2,\n",
    "}\n",
    "\n",
    "regression_params = {\n",
    "    'regression_data': regression_df['books'],\n",
    "    'thread_data': thread_df['books'],\n",
    "    'collection_window': 1,\n",
    "    'model_window': 2,\n",
    "    'validation_window': 1,\n",
    "    'FSS': True,\n",
    "    'x_cols': X_COLS,\n",
    "    'scale': True,\n",
    "}"
   ]
  },
  {
   "cell_type": "code",
   "execution_count": 4,
   "metadata": {},
   "outputs": [],
   "source": [
    "regression_types = ['logistic', 'linear', 'mnlogit']\n",
    "to_vary = {\n",
    "    'name': [f'books_{x}' for x in regression_types],\n",
    "    'regression_type': regression_types,\n",
    "    'y_col': ['success', 'thread_size', 'thread_size'],\n",
    "    'metrics': [['auc'], ['r2'], ['mnlogit_accuracy', 'mnlogit_aucs', \"mnlogit_mean_auc\"]],\n",
    "    'thresholds': [thresholds1, thresholds2, thresholds2],\n",
    "    'quantiles': [[], [], quantiles],\n",
    "}\n",
    "\n",
    "regressions = {}\n",
    "for i, regression_type in enumerate(regression_types):\n",
    "    in_params = regression_params.copy()\n",
    "    for key in to_vary:\n",
    "        in_params[key] = to_vary[key][i]\n",
    "    regressions[regression_type] = RR(in_params)"
   ]
  },
  {
   "cell_type": "code",
   "execution_count": 5,
   "metadata": {},
   "outputs": [],
   "source": [
    "testreg = regressions['logistic']"
   ]
  },
  {
   "cell_type": "code",
   "execution_count": 6,
   "metadata": {},
   "outputs": [
    {
     "name": "stderr",
     "output_type": "stream",
     "text": [
      "/home/cara/Documents/reddit_analyses/reddit_analyses/regression_class.py:905: SettingWithCopyWarning: \n",
      "A value is trying to be set on a copy of a slice from a DataFrame\n",
      "\n",
      "See the caveats in the documentation: https://pandas.pydata.org/pandas-docs/stable/user_guide/indexing.html#returning-a-view-versus-a-copy\n",
      "  model_data.drop(labels=to_drop, axis=1, inplace=True)\n",
      "/home/cara/Documents/reddit_analyses/reddit_analyses/regression_class.py:905: SettingWithCopyWarning: \n",
      "A value is trying to be set on a copy of a slice from a DataFrame\n",
      "\n",
      "See the caveats in the documentation: https://pandas.pydata.org/pandas-docs/stable/user_guide/indexing.html#returning-a-view-versus-a-copy\n",
      "  model_data.drop(labels=to_drop, axis=1, inplace=True)\n",
      "/home/cara/anaconda3/envs/redditenv/lib/python3.10/site-packages/numpy/core/_methods.py:269: RuntimeWarning: Degrees of freedom <= 0 for slice\n",
      "  ret = _var(a, axis=axis, dtype=dtype, out=out, ddof=ddof,\n",
      "/home/cara/anaconda3/envs/redditenv/lib/python3.10/site-packages/numpy/core/_methods.py:261: RuntimeWarning: invalid value encountered in scalar divide\n",
      "  ret = ret.dtype.type(ret / rcount)\n",
      "/home/cara/anaconda3/envs/redditenv/lib/python3.10/site-packages/numpy/core/_methods.py:269: RuntimeWarning: Degrees of freedom <= 0 for slice\n",
      "  ret = _var(a, axis=axis, dtype=dtype, out=out, ddof=ddof,\n",
      "/home/cara/anaconda3/envs/redditenv/lib/python3.10/site-packages/numpy/core/_methods.py:261: RuntimeWarning: invalid value encountered in scalar divide\n",
      "  ret = ret.dtype.type(ret / rcount)\n"
     ]
    },
    {
     "name": "stdout",
     "output_type": "stream",
     "text": [
      "Running FSS\n",
      "Model 1\n",
      "Optimization terminated successfully.\n",
      "         Current function value: 0.585670\n",
      "         Iterations 5\n",
      "Optimization terminated successfully.\n",
      "         Current function value: 0.585670\n",
      "         Iterations 5\n",
      "Model 2\n",
      "Warning: Maximum number of iterations has been exceeded.\n",
      "         Current function value: 0.440824\n",
      "         Iterations: 35\n",
      "Optimization terminated successfully.\n",
      "         Current function value: 0.440824\n",
      "         Iterations: 27\n",
      "         Function evaluations: 28\n",
      "         Gradient evaluations: 28\n",
      "Optimization terminated successfully.\n",
      "         Current function value: 0.440824\n",
      "         Iterations: 27\n",
      "         Function evaluations: 28\n",
      "         Gradient evaluations: 28\n",
      "Model 3\n",
      "Warning: Maximum number of iterations has been exceeded.\n",
      "         Current function value: 0.401594\n",
      "         Iterations: 35\n",
      "Optimization terminated successfully.\n",
      "         Current function value: 0.401594\n",
      "         Iterations: 32\n",
      "         Function evaluations: 33\n",
      "         Gradient evaluations: 33\n",
      "Optimization terminated successfully.\n",
      "         Current function value: 0.401594\n",
      "         Iterations: 32\n",
      "         Function evaluations: 33\n",
      "         Gradient evaluations: 33\n",
      "Model 4\n",
      "Warning: Maximum number of iterations has been exceeded.\n",
      "         Current function value: 0.401594\n",
      "         Iterations: 35\n",
      "Optimization terminated successfully.\n",
      "         Current function value: 0.401594\n",
      "         Iterations: 31\n",
      "         Function evaluations: 32\n",
      "         Gradient evaluations: 32\n",
      "Optimization terminated successfully.\n",
      "         Current function value: 0.401594\n",
      "         Iterations: 31\n",
      "         Function evaluations: 32\n",
      "         Gradient evaluations: 32\n",
      "Model 5\n",
      "Warning: Maximum number of iterations has been exceeded.\n",
      "         Current function value: 0.212076\n",
      "         Iterations: 35\n",
      "Warning: Maximum number of iterations has been exceeded.\n",
      "         Current function value: 0.212076\n",
      "         Iterations: 35\n",
      "         Function evaluations: 36\n",
      "         Gradient evaluations: 36\n",
      "Optimization terminated successfully.\n",
      "         Current function value: 0.212076\n",
      "         Iterations: 37\n",
      "         Function evaluations: 38\n",
      "         Gradient evaluations: 38\n",
      "Warning: Maximum number of iterations has been exceeded.\n",
      "         Current function value: 0.212223\n",
      "         Iterations: 100\n",
      "         Function evaluations: 316\n",
      "         Gradient evaluations: 316\n",
      "Warning: Maximum number of iterations has been exceeded.\n",
      "         Current function value: 0.212113\n",
      "         Iterations: 150\n",
      "         Function evaluations: 483\n",
      "         Gradient evaluations: 483\n",
      "Optimization terminated successfully.\n",
      "         Current function value: 0.212076\n",
      "         Iterations: 167\n",
      "         Function evaluations: 533\n",
      "         Gradient evaluations: 533\n",
      "Optimization terminated successfully.\n",
      "         Current function value: 0.212076\n",
      "         Iterations: 167\n",
      "         Function evaluations: 533\n",
      "         Gradient evaluations: 533\n",
      "Model 6\n",
      "Warning: Maximum number of iterations has been exceeded.\n",
      "         Current function value: 0.212076\n",
      "         Iterations: 35\n",
      "Warning: Maximum number of iterations has been exceeded.\n",
      "         Current function value: 0.212076\n",
      "         Iterations: 35\n",
      "         Function evaluations: 36\n",
      "         Gradient evaluations: 36\n",
      "Warning: Maximum number of iterations has been exceeded.\n",
      "         Current function value: 0.212997\n",
      "         Iterations: 35\n",
      "         Function evaluations: 101\n",
      "         Gradient evaluations: 101\n",
      "Optimization terminated successfully.\n",
      "         Current function value: 0.212082\n",
      "         Iterations: 89\n",
      "         Function evaluations: 270\n",
      "         Gradient evaluations: 270\n",
      "Optimization terminated successfully.\n",
      "         Current function value: 0.212082\n",
      "         Iterations: 89\n",
      "         Function evaluations: 270\n",
      "         Gradient evaluations: 270\n",
      "Model 7\n",
      "Warning: Maximum number of iterations has been exceeded.\n",
      "         Current function value: inf\n",
      "         Iterations: 35\n",
      "Optimization terminated successfully.\n",
      "         Current function value: 0.212081\n",
      "         Iterations: 28\n",
      "         Function evaluations: 29\n",
      "         Gradient evaluations: 29\n",
      "Warning: Maximum number of iterations has been exceeded.\n",
      "         Current function value: 0.212816\n",
      "         Iterations: 35\n",
      "         Function evaluations: 97\n",
      "         Gradient evaluations: 97\n",
      "Warning: Maximum number of iterations has been exceeded.\n",
      "         Current function value: 0.212135\n",
      "         Iterations: 100\n",
      "         Function evaluations: 296\n",
      "         Gradient evaluations: 296\n",
      "Optimization terminated successfully.\n",
      "         Current function value: 0.212096\n",
      "         Iterations: 134\n",
      "         Function evaluations: 397\n",
      "         Gradient evaluations: 397\n",
      "Optimization terminated successfully.\n",
      "         Current function value: 0.212096\n",
      "         Iterations: 134\n",
      "         Function evaluations: 397\n",
      "         Gradient evaluations: 397\n",
      "Model 8\n",
      "Warning: Maximum number of iterations has been exceeded.\n",
      "         Current function value: inf\n",
      "         Iterations: 35\n",
      "Optimization terminated successfully.\n",
      "         Current function value: 0.212076\n",
      "         Iterations: 32\n",
      "         Function evaluations: 33\n",
      "         Gradient evaluations: 33\n",
      "Warning: Maximum number of iterations has been exceeded.\n",
      "         Current function value: 0.212093\n",
      "         Iterations: 35\n",
      "         Function evaluations: 98\n",
      "         Gradient evaluations: 98\n",
      "Optimization terminated successfully.\n",
      "         Current function value: 0.212078\n",
      "         Iterations: 49\n",
      "         Function evaluations: 136\n",
      "         Gradient evaluations: 136\n",
      "Optimization terminated successfully.\n",
      "         Current function value: 0.212078\n",
      "         Iterations: 49\n",
      "         Function evaluations: 136\n",
      "         Gradient evaluations: 136\n"
     ]
    }
   ],
   "source": [
    "testreg.main()"
   ]
  },
  {
   "cell_type": "code",
   "execution_count": 7,
   "metadata": {},
   "outputs": [
    {
     "name": "stderr",
     "output_type": "stream",
     "text": [
      "/home/cara/Documents/reddit_analyses/reddit_analyses/regression_class.py:905: SettingWithCopyWarning: \n",
      "A value is trying to be set on a copy of a slice from a DataFrame\n",
      "\n",
      "See the caveats in the documentation: https://pandas.pydata.org/pandas-docs/stable/user_guide/indexing.html#returning-a-view-versus-a-copy\n",
      "  model_data.drop(labels=to_drop, axis=1, inplace=True)\n",
      "/home/cara/Documents/reddit_analyses/reddit_analyses/regression_class.py:905: SettingWithCopyWarning: \n",
      "A value is trying to be set on a copy of a slice from a DataFrame\n",
      "\n",
      "See the caveats in the documentation: https://pandas.pydata.org/pandas-docs/stable/user_guide/indexing.html#returning-a-view-versus-a-copy\n",
      "  model_data.drop(labels=to_drop, axis=1, inplace=True)\n",
      "/home/cara/anaconda3/envs/redditenv/lib/python3.10/site-packages/numpy/core/_methods.py:269: RuntimeWarning: Degrees of freedom <= 0 for slice\n",
      "  ret = _var(a, axis=axis, dtype=dtype, out=out, ddof=ddof,\n",
      "/home/cara/anaconda3/envs/redditenv/lib/python3.10/site-packages/numpy/core/_methods.py:261: RuntimeWarning: invalid value encountered in scalar divide\n",
      "  ret = ret.dtype.type(ret / rcount)\n",
      "/home/cara/anaconda3/envs/redditenv/lib/python3.10/site-packages/numpy/core/_methods.py:269: RuntimeWarning: Degrees of freedom <= 0 for slice\n",
      "  ret = _var(a, axis=axis, dtype=dtype, out=out, ddof=ddof,\n",
      "/home/cara/anaconda3/envs/redditenv/lib/python3.10/site-packages/numpy/core/_methods.py:261: RuntimeWarning: invalid value encountered in scalar divide\n",
      "  ret = ret.dtype.type(ret / rcount)\n"
     ]
    }
   ],
   "source": [
    "testreg.get_cal_val_data()\n",
    "testreg.sm_modstrings = testreg.run_FSS()"
   ]
  },
  {
   "cell_type": "code",
   "execution_count": 8,
   "metadata": {},
   "outputs": [],
   "source": [
    "model_results = {}\n",
    "param_dict = {}\n",
    "testreg.smf_models = {}"
   ]
  },
  {
   "cell_type": "code",
   "execution_count": 9,
   "metadata": {},
   "outputs": [],
   "source": [
    "smf_model = (\n",
    "            getattr(smf, testreg.SMF_FUNCTIONS[testreg.regression_params[\"regression_type\"]])(\n",
    "                testreg.sm_modstrings[8], data=testreg.__model_data__[\"cal\"]\n",
    "            )\n",
    "        )"
   ]
  },
  {
   "cell_type": "code",
   "execution_count": 9,
   "metadata": {},
   "outputs": [
    {
     "name": "stdout",
     "output_type": "stream",
     "text": [
      "Warning: Maximum number of iterations has been exceeded.\n",
      "         Current function value: 0.212076\n",
      "         Iterations: 35\n",
      "Warning: Maximum number of iterations has been exceeded.\n",
      "         Current function value: 0.212076\n",
      "         Iterations: 35\n",
      "         Function evaluations: 36\n",
      "         Gradient evaluations: 36\n",
      "Optimization terminated successfully.\n",
      "         Current function value: 0.212076\n",
      "         Iterations: 37\n",
      "         Function evaluations: 38\n",
      "         Gradient evaluations: 38\n",
      "Warning: Maximum number of iterations has been exceeded.\n",
      "         Current function value: 0.212223\n",
      "         Iterations: 100\n",
      "         Function evaluations: 316\n",
      "         Gradient evaluations: 316\n",
      "Warning: Maximum number of iterations has been exceeded.\n",
      "         Current function value: 0.212113\n",
      "         Iterations: 150\n",
      "         Function evaluations: 483\n",
      "         Gradient evaluations: 483\n",
      "Optimization terminated successfully.\n",
      "         Current function value: 0.212076\n",
      "         Iterations: 167\n",
      "         Function evaluations: 533\n",
      "         Gradient evaluations: 533\n",
      "Optimization terminated successfully.\n",
      "         Current function value: 0.212076\n",
      "         Iterations: 167\n",
      "         Function evaluations: 533\n",
      "         Gradient evaluations: 533\n"
     ]
    }
   ],
   "source": [
    "smf_model = testreg.run_regression(5)"
   ]
  },
  {
   "cell_type": "code",
   "execution_count": 10,
   "metadata": {},
   "outputs": [
    {
     "data": {
      "text/html": [
       "<div>\n",
       "<style scoped>\n",
       "    .dataframe tbody tr th:only-of-type {\n",
       "        vertical-align: middle;\n",
       "    }\n",
       "\n",
       "    .dataframe tbody tr th {\n",
       "        vertical-align: top;\n",
       "    }\n",
       "\n",
       "    .dataframe thead th {\n",
       "        text-align: right;\n",
       "    }\n",
       "</style>\n",
       "<table border=\"1\" class=\"dataframe\">\n",
       "  <thead>\n",
       "    <tr style=\"text-align: right;\">\n",
       "      <th></th>\n",
       "      <th>Intercept</th>\n",
       "      <th>sentiment_sign</th>\n",
       "      <th>sentiment_magnitude</th>\n",
       "      <th>time_in_secs</th>\n",
       "      <th>num_dayofweek</th>\n",
       "      <th>mean_author_sentiment_magnitude</th>\n",
       "    </tr>\n",
       "  </thead>\n",
       "  <tbody>\n",
       "    <tr>\n",
       "      <th>Intercept</th>\n",
       "      <td>1.688048e+15</td>\n",
       "      <td>-9.089406e+14</td>\n",
       "      <td>4.136735e+15</td>\n",
       "      <td>1.364283</td>\n",
       "      <td>5.024110e+07</td>\n",
       "      <td>5.155681e+07</td>\n",
       "    </tr>\n",
       "    <tr>\n",
       "      <th>sentiment_sign</th>\n",
       "      <td>-9.089406e+14</td>\n",
       "      <td>4.894252e+14</td>\n",
       "      <td>-2.227453e+15</td>\n",
       "      <td>0.738022</td>\n",
       "      <td>3.329976e+07</td>\n",
       "      <td>3.424405e+07</td>\n",
       "    </tr>\n",
       "    <tr>\n",
       "      <th>sentiment_magnitude</th>\n",
       "      <td>4.136735e+15</td>\n",
       "      <td>-2.227453e+15</td>\n",
       "      <td>1.013750e+16</td>\n",
       "      <td>3.923707</td>\n",
       "      <td>1.434095e+08</td>\n",
       "      <td>1.470369e+08</td>\n",
       "    </tr>\n",
       "    <tr>\n",
       "      <th>time_in_secs</th>\n",
       "      <td>1.364283e+00</td>\n",
       "      <td>7.380225e-01</td>\n",
       "      <td>3.923707e+00</td>\n",
       "      <td>0.781838</td>\n",
       "      <td>3.035245e+00</td>\n",
       "      <td>2.537926e+00</td>\n",
       "    </tr>\n",
       "    <tr>\n",
       "      <th>num_dayofweek</th>\n",
       "      <td>5.024110e+07</td>\n",
       "      <td>3.329976e+07</td>\n",
       "      <td>1.434095e+08</td>\n",
       "      <td>3.035245</td>\n",
       "      <td>9.534548e+07</td>\n",
       "      <td>9.793685e+07</td>\n",
       "    </tr>\n",
       "    <tr>\n",
       "      <th>mean_author_sentiment_magnitude</th>\n",
       "      <td>5.155681e+07</td>\n",
       "      <td>3.424405e+07</td>\n",
       "      <td>1.470369e+08</td>\n",
       "      <td>2.537926</td>\n",
       "      <td>9.793685e+07</td>\n",
       "      <td>1.006756e+08</td>\n",
       "    </tr>\n",
       "  </tbody>\n",
       "</table>\n",
       "</div>"
      ],
      "text/plain": [
       "                                    Intercept  sentiment_sign  \\\n",
       "Intercept                        1.688048e+15   -9.089406e+14   \n",
       "sentiment_sign                  -9.089406e+14    4.894252e+14   \n",
       "sentiment_magnitude              4.136735e+15   -2.227453e+15   \n",
       "time_in_secs                     1.364283e+00    7.380225e-01   \n",
       "num_dayofweek                    5.024110e+07    3.329976e+07   \n",
       "mean_author_sentiment_magnitude  5.155681e+07    3.424405e+07   \n",
       "\n",
       "                                 sentiment_magnitude  time_in_secs  \\\n",
       "Intercept                               4.136735e+15      1.364283   \n",
       "sentiment_sign                         -2.227453e+15      0.738022   \n",
       "sentiment_magnitude                     1.013750e+16      3.923707   \n",
       "time_in_secs                            3.923707e+00      0.781838   \n",
       "num_dayofweek                           1.434095e+08      3.035245   \n",
       "mean_author_sentiment_magnitude         1.470369e+08      2.537926   \n",
       "\n",
       "                                 num_dayofweek  \\\n",
       "Intercept                         5.024110e+07   \n",
       "sentiment_sign                    3.329976e+07   \n",
       "sentiment_magnitude               1.434095e+08   \n",
       "time_in_secs                      3.035245e+00   \n",
       "num_dayofweek                     9.534548e+07   \n",
       "mean_author_sentiment_magnitude   9.793685e+07   \n",
       "\n",
       "                                 mean_author_sentiment_magnitude  \n",
       "Intercept                                           5.155681e+07  \n",
       "sentiment_sign                                      3.424405e+07  \n",
       "sentiment_magnitude                                 1.470369e+08  \n",
       "time_in_secs                                        2.537926e+00  \n",
       "num_dayofweek                                       9.793685e+07  \n",
       "mean_author_sentiment_magnitude                     1.006756e+08  "
      ]
     },
     "execution_count": 10,
     "metadata": {},
     "output_type": "execute_result"
    }
   ],
   "source": [
    "smf_model.cov_params()"
   ]
  },
  {
   "cell_type": "code",
   "execution_count": 11,
   "metadata": {},
   "outputs": [
    {
     "data": {
      "text/html": [
       "<div>\n",
       "<style scoped>\n",
       "    .dataframe tbody tr th:only-of-type {\n",
       "        vertical-align: middle;\n",
       "    }\n",
       "\n",
       "    .dataframe tbody tr th {\n",
       "        vertical-align: top;\n",
       "    }\n",
       "\n",
       "    .dataframe thead th {\n",
       "        text-align: right;\n",
       "    }\n",
       "</style>\n",
       "<table border=\"1\" class=\"dataframe\">\n",
       "  <thead>\n",
       "    <tr style=\"text-align: right;\">\n",
       "      <th></th>\n",
       "      <th>param</th>\n",
       "      <th>stderr</th>\n",
       "      <th>pvalue</th>\n",
       "    </tr>\n",
       "  </thead>\n",
       "  <tbody>\n",
       "    <tr>\n",
       "      <th>Intercept</th>\n",
       "      <td>-6.166670</td>\n",
       "      <td>4.108586e+07</td>\n",
       "      <td>1.000000</td>\n",
       "    </tr>\n",
       "    <tr>\n",
       "      <th>sentiment_sign</th>\n",
       "      <td>58.070446</td>\n",
       "      <td>2.212296e+07</td>\n",
       "      <td>0.999998</td>\n",
       "    </tr>\n",
       "    <tr>\n",
       "      <th>sentiment_magnitude</th>\n",
       "      <td>14.111301</td>\n",
       "      <td>1.006851e+08</td>\n",
       "      <td>1.000000</td>\n",
       "    </tr>\n",
       "    <tr>\n",
       "      <th>time_in_secs</th>\n",
       "      <td>-0.036586</td>\n",
       "      <td>8.842163e-01</td>\n",
       "      <td>0.966995</td>\n",
       "    </tr>\n",
       "    <tr>\n",
       "      <th>num_dayofweek</th>\n",
       "      <td>77.337833</td>\n",
       "      <td>9.764501e+03</td>\n",
       "      <td>0.993681</td>\n",
       "    </tr>\n",
       "    <tr>\n",
       "      <th>mean_author_sentiment_magnitude</th>\n",
       "      <td>73.723462</td>\n",
       "      <td>1.003373e+04</td>\n",
       "      <td>0.994138</td>\n",
       "    </tr>\n",
       "  </tbody>\n",
       "</table>\n",
       "</div>"
      ],
      "text/plain": [
       "                                     param        stderr    pvalue\n",
       "Intercept                        -6.166670  4.108586e+07  1.000000\n",
       "sentiment_sign                   58.070446  2.212296e+07  0.999998\n",
       "sentiment_magnitude              14.111301  1.006851e+08  1.000000\n",
       "time_in_secs                     -0.036586  8.842163e-01  0.966995\n",
       "num_dayofweek                    77.337833  9.764501e+03  0.993681\n",
       "mean_author_sentiment_magnitude  73.723462  1.003373e+04  0.994138"
      ]
     },
     "execution_count": 11,
     "metadata": {},
     "output_type": "execute_result"
    }
   ],
   "source": [
    "testreg.get_model_metrics_from_smf_mod(smf_model)"
   ]
  },
  {
   "cell_type": "code",
   "execution_count": 10,
   "metadata": {},
   "outputs": [
    {
     "name": "stdout",
     "output_type": "stream",
     "text": [
      "Warning: Maximum number of iterations has been exceeded.\n",
      "         Current function value: inf\n",
      "         Iterations: 35\n",
      "Optimization terminated successfully.\n",
      "         Current function value: 0.212076\n",
      "         Iterations: 32\n",
      "         Function evaluations: 33\n",
      "         Gradient evaluations: 33\n",
      "Warning: Maximum number of iterations has been exceeded.\n",
      "         Current function value: 0.212093\n",
      "         Iterations: 35\n",
      "         Function evaluations: 98\n",
      "         Gradient evaluations: 98\n",
      "Warning: Maximum number of iterations has been exceeded.\n",
      "         Current function value: 0.212093\n",
      "         Iterations: 35\n",
      "         Function evaluations: 98\n",
      "         Gradient evaluations: 98\n",
      "Warning: Maximum number of iterations has been exceeded.\n",
      "         Current function value: 0.212093\n",
      "         Iterations: 35\n",
      "         Function evaluations: 98\n",
      "         Gradient evaluations: 98\n",
      "Warning: Maximum number of iterations has been exceeded.\n",
      "         Current function value: 0.212093\n",
      "         Iterations: 35\n",
      "         Function evaluations: 98\n",
      "         Gradient evaluations: 98\n",
      "Warning: Maximum number of iterations has been exceeded.\n",
      "         Current function value: 0.212093\n",
      "         Iterations: 35\n",
      "         Function evaluations: 98\n",
      "         Gradient evaluations: 98\n",
      "Warning: Maximum number of iterations has been exceeded.\n",
      "         Current function value: 0.212093\n",
      "         Iterations: 35\n",
      "         Function evaluations: 98\n",
      "         Gradient evaluations: 98\n",
      "Warning: Maximum number of iterations has been exceeded.\n",
      "         Current function value: 0.212093\n",
      "         Iterations: 35\n",
      "         Function evaluations: 98\n",
      "         Gradient evaluations: 98\n",
      "Warning: Maximum number of iterations has been exceeded.\n",
      "         Current function value: 0.212093\n",
      "         Iterations: 35\n",
      "         Function evaluations: 98\n",
      "         Gradient evaluations: 98\n",
      "Warning: Maximum number of iterations has been exceeded.\n",
      "         Current function value: 0.212093\n",
      "         Iterations: 35\n",
      "         Function evaluations: 98\n",
      "         Gradient evaluations: 98\n"
     ]
    },
    {
     "name": "stderr",
     "output_type": "stream",
     "text": [
      "/home/cara/anaconda3/envs/redditenv/lib/python3.10/site-packages/statsmodels/base/model.py:592: HessianInversionWarning: Inverting hessian failed, no bse or cov_params available\n",
      "  warnings.warn('Inverting hessian failed, no bse or cov_params '\n",
      "/home/cara/anaconda3/envs/redditenv/lib/python3.10/site-packages/statsmodels/base/model.py:604: ConvergenceWarning: Maximum Likelihood optimization failed to converge. Check mle_retvals\n",
      "  warnings.warn(\"Maximum Likelihood optimization failed to \"\n"
     ]
    }
   ],
   "source": [
    "smf_model = testreg.fit_smf_model(smf_model)"
   ]
  },
  {
   "cell_type": "code",
   "execution_count": 11,
   "metadata": {},
   "outputs": [],
   "source": [
    "model_results = {}\n",
    "model_results[\"model\"] = testreg.sm_modstrings[5]\n"
   ]
  },
  {
   "cell_type": "code",
   "execution_count": null,
   "metadata": {},
   "outputs": [],
   "source": []
  },
  {
   "cell_type": "code",
   "execution_count": 16,
   "metadata": {},
   "outputs": [
    {
     "name": "stdout",
     "output_type": "stream",
     "text": [
      "Warning: Maximum number of iterations has been exceeded.\n",
      "         Current function value: 0.212076\n",
      "         Iterations: 35\n",
      "True {'method': 'bfgs'}\n",
      "Warning: Maximum number of iterations has been exceeded.\n",
      "         Current function value: 0.212076\n",
      "         Iterations: 35\n",
      "         Function evaluations: 36\n",
      "         Gradient evaluations: 36\n",
      "True {'method': 'bfgs', 'maxiter': 100}\n",
      "Optimization terminated successfully.\n",
      "         Current function value: 0.212076\n",
      "         Iterations: 37\n",
      "         Function evaluations: 38\n",
      "         Gradient evaluations: 38\n"
     ]
    },
    {
     "ename": "TypeError",
     "evalue": "cannot unpack non-iterable NoneType object",
     "output_type": "error",
     "traceback": [
      "\u001b[0;31m---------------------------------------------------------------------------\u001b[0m",
      "\u001b[0;31mTypeError\u001b[0m                                 Traceback (most recent call last)",
      "\u001b[1;32m/home/cara/Documents/reddit_analyses/reddit_analyses/35_01_debugging_script.ipynb Cell 10\u001b[0m line \u001b[0;36m7\n\u001b[1;32m      <a href='vscode-notebook-cell:/home/cara/Documents/reddit_analyses/reddit_analyses/35_01_debugging_script.ipynb#X63sZmlsZQ%3D%3D?line=3'>4</a>\u001b[0m kwargs_dict \u001b[39m=\u001b[39m {}\n\u001b[1;32m      <a href='vscode-notebook-cell:/home/cara/Documents/reddit_analyses/reddit_analyses/35_01_debugging_script.ipynb#X63sZmlsZQ%3D%3D?line=5'>6</a>\u001b[0m \u001b[39mwhile\u001b[39;00m run_again\u001b[39m==\u001b[39m\u001b[39mTrue\u001b[39;00m \u001b[39mand\u001b[39;00m run_counter\u001b[39m<\u001b[39mmax_runs:\n\u001b[0;32m----> <a href='vscode-notebook-cell:/home/cara/Documents/reddit_analyses/reddit_analyses/35_01_debugging_script.ipynb#X63sZmlsZQ%3D%3D?line=6'>7</a>\u001b[0m     run_again, kwargs_dict \u001b[39m=\u001b[39m testreg\u001b[39m.\u001b[39mmanage_convergence_warnings(smf_model\u001b[39m.\u001b[39mfit, \u001b[39m*\u001b[39m\u001b[39m*\u001b[39mkwargs_dict)\n\u001b[1;32m      <a href='vscode-notebook-cell:/home/cara/Documents/reddit_analyses/reddit_analyses/35_01_debugging_script.ipynb#X63sZmlsZQ%3D%3D?line=7'>8</a>\u001b[0m     \u001b[39mprint\u001b[39m(run_again, kwargs_dict)\n\u001b[1;32m      <a href='vscode-notebook-cell:/home/cara/Documents/reddit_analyses/reddit_analyses/35_01_debugging_script.ipynb#X63sZmlsZQ%3D%3D?line=8'>9</a>\u001b[0m     run_counter \u001b[39m+\u001b[39m\u001b[39m=\u001b[39m \u001b[39m1\u001b[39m\n",
      "\u001b[0;31mTypeError\u001b[0m: cannot unpack non-iterable NoneType object"
     ]
    }
   ],
   "source": [
    "run_again = True\n",
    "run_counter = 0\n",
    "max_runs = 10\n",
    "kwargs_dict = {}\n",
    "\n",
    "while run_again==True and run_counter<max_runs:\n",
    "    run_again, kwargs_dict = testreg.manage_convergence_warnings(smf_model.fit, **kwargs_dict)\n",
    "    print(run_again, kwargs_dict)\n",
    "    run_counter += 1"
   ]
  },
  {
   "cell_type": "code",
   "execution_count": 11,
   "metadata": {},
   "outputs": [],
   "source": [
    "smf_model = smf.logit(testreg.sm_modstrings[8], data = testreg.__model_data__['cal'])"
   ]
  },
  {
   "cell_type": "code",
   "execution_count": 24,
   "metadata": {},
   "outputs": [
    {
     "name": "stdout",
     "output_type": "stream",
     "text": [
      "Warning: Maximum number of iterations has been exceeded.\n",
      "         Current function value: 0.212093\n",
      "         Iterations: 35\n",
      "         Function evaluations: 98\n",
      "         Gradient evaluations: 98\n"
     ]
    },
    {
     "data": {
      "text/plain": [
       "(True, {'method': 'cg'})"
      ]
     },
     "execution_count": 24,
     "metadata": {},
     "output_type": "execute_result"
    }
   ],
   "source": [
    "testreg.manage_convergence_warnings(smf_model.fit, method='cg')"
   ]
  },
  {
   "cell_type": "code",
   "execution_count": 26,
   "metadata": {},
   "outputs": [
    {
     "name": "stdout",
     "output_type": "stream",
     "text": [
      "Optimization terminated successfully.\n",
      "         Current function value: 0.212076\n",
      "         Iterations: 32\n",
      "         Function evaluations: 33\n",
      "         Gradient evaluations: 33\n"
     ]
    },
    {
     "name": "stderr",
     "output_type": "stream",
     "text": [
      "/home/cara/anaconda3/envs/redditenv/lib/python3.10/site-packages/statsmodels/base/model.py:592: HessianInversionWarning: Inverting hessian failed, no bse or cov_params available\n",
      "  warnings.warn('Inverting hessian failed, no bse or cov_params '\n"
     ]
    },
    {
     "data": {
      "text/plain": [
       "<statsmodels.discrete.discrete_model.BinaryResultsWrapper at 0x7f968af18df0>"
      ]
     },
     "execution_count": 26,
     "metadata": {},
     "output_type": "execute_result"
    }
   ],
   "source": [
    "smf_model.fit(method='bfgs', maxiter=100)"
   ]
  },
  {
   "cell_type": "code",
   "execution_count": 21,
   "metadata": {},
   "outputs": [
    {
     "name": "stdout",
     "output_type": "stream",
     "text": [
      "Optimization terminated successfully    (Exit mode 0)\n",
      "            Current function value: 0.2120758210671058\n",
      "            Iterations: 48\n",
      "            Function evaluations: 49\n",
      "            Gradient evaluations: 48\n"
     ]
    }
   ],
   "source": [
    "reg_params = smf_model.fit_regularized().params"
   ]
  },
  {
   "cell_type": "code",
   "execution_count": null,
   "metadata": {},
   "outputs": [],
   "source": [
    " start_params=reg_params"
   ]
  },
  {
   "cell_type": "code",
   "execution_count": 107,
   "metadata": {},
   "outputs": [
    {
     "name": "stdout",
     "output_type": "stream",
     "text": [
      "Warning: Maximum number of iterations has been exceeded.\n",
      "         Current function value: 0.212076\n",
      "         Iterations: 55\n"
     ]
    }
   ],
   "source": [
    "with warnings.catch_warnings(record=True) as w:\n",
    "    smf_model.fit(maxiter=55)"
   ]
  },
  {
   "cell_type": "code",
   "execution_count": 160,
   "metadata": {},
   "outputs": [
    {
     "name": "stdout",
     "output_type": "stream",
     "text": [
      "Warning: Maximum number of iterations has been exceeded.\n",
      "         Current function value: 0.212076\n",
      "         Iterations: 55\n"
     ]
    },
    {
     "name": "stderr",
     "output_type": "stream",
     "text": [
      "/home/cara/anaconda3/envs/redditenv/lib/python3.10/site-packages/statsmodels/discrete/discrete_model.py:1819: RuntimeWarning: overflow encountered in exp\n",
      "  return 1/(1+np.exp(-X))\n",
      "/home/cara/anaconda3/envs/redditenv/lib/python3.10/site-packages/statsmodels/base/model.py:604: ConvergenceWarning: Maximum Likelihood optimization failed to converge. Check mle_retvals\n",
      "  warnings.warn(\"Maximum Likelihood optimization failed to \"\n"
     ]
    },
    {
     "data": {
      "text/plain": [
       "<statsmodels.discrete.discrete_model.BinaryResultsWrapper at 0x7f0a3d7f7940>"
      ]
     },
     "execution_count": 160,
     "metadata": {},
     "output_type": "execute_result"
    }
   ],
   "source": [
    "smf_model.fit(maxiter=55)"
   ]
  },
  {
   "cell_type": "code",
   "execution_count": 117,
   "metadata": {},
   "outputs": [],
   "source": [
    "maxiter = 35"
   ]
  },
  {
   "cell_type": "code",
   "execution_count": 157,
   "metadata": {},
   "outputs": [],
   "source": [
    "def model_to_run(fit_function, **kwargs):\n",
    "    run_again=False\n",
    "    with warnings.catch_warnings(record=True) as w:\n",
    "        try:\n",
    "            fit_function(**kwargs)\n",
    "        except LinAlgError:\n",
    "            kwargs['method'] = 'bfgs'\n",
    "            run_again=True\n",
    "            return run_again, kwargs\n",
    "    if len(w)>0:\n",
    "        for w_i in w:\n",
    "            if w_i.category == RuntimeWarning:\n",
    "                kwargs['method'] = 'bfgs'\n",
    "                return run_again, kwargs\n",
    "            elif w_i.category == smExceptions.ConvergenceWarning:\n",
    "                if 'maxiter' in kwargs:\n",
    "                    kwargs['maxiter']*=2\n",
    "                else:\n",
    "                    kwargs['maxiter'] = 100\n",
    "                return run_again, kwargs\n",
    "\n",
    "    \n",
    "    "
   ]
  },
  {
   "cell_type": "code",
   "execution_count": 158,
   "metadata": {},
   "outputs": [
    {
     "name": "stdout",
     "output_type": "stream",
     "text": [
      "Warning: Maximum number of iterations has been exceeded.\n",
      "         Current function value: 0.212076\n",
      "         Iterations: 35\n",
      "Warning: Maximum number of iterations has been exceeded.\n",
      "         Current function value: 0.212076\n",
      "         Iterations: 35\n",
      "         Function evaluations: 36\n",
      "         Gradient evaluations: 36\n",
      "Optimization terminated successfully.\n",
      "         Current function value: 0.212076\n",
      "         Iterations: 37\n",
      "         Function evaluations: 38\n",
      "         Gradient evaluations: 38\n"
     ]
    },
    {
     "name": "stderr",
     "output_type": "stream",
     "text": [
      "/home/cara/anaconda3/envs/redditenv/lib/python3.10/site-packages/statsmodels/base/model.py:592: HessianInversionWarning: Inverting hessian failed, no bse or cov_params available\n",
      "  warnings.warn('Inverting hessian failed, no bse or cov_params '\n"
     ]
    },
    {
     "data": {
      "text/plain": [
       "<statsmodels.discrete.discrete_model.BinaryResultsWrapper at 0x7f0a3e497ee0>"
      ]
     },
     "execution_count": 158,
     "metadata": {},
     "output_type": "execute_result"
    }
   ],
   "source": [
    "run_again = True\n",
    "kwargs_dict = {}\n",
    "while run_again:\n",
    "    run_again, kwargs_dict = model_to_run(smf_model.fit, **kwargs_dict)\n",
    "\n",
    "smf_model.fit(**kwargs_dict)"
   ]
  },
  {
   "cell_type": "code",
   "execution_count": 155,
   "metadata": {},
   "outputs": [
    {
     "name": "stdout",
     "output_type": "stream",
     "text": [
      "Optimization terminated successfully.\n",
      "         Current function value: 0.212076\n",
      "         Iterations: 37\n",
      "         Function evaluations: 38\n",
      "         Gradient evaluations: 38\n"
     ]
    },
    {
     "name": "stderr",
     "output_type": "stream",
     "text": [
      "/home/cara/anaconda3/envs/redditenv/lib/python3.10/site-packages/statsmodels/base/model.py:592: HessianInversionWarning: Inverting hessian failed, no bse or cov_params available\n",
      "  warnings.warn('Inverting hessian failed, no bse or cov_params '\n"
     ]
    },
    {
     "data": {
      "text/plain": [
       "<statsmodels.discrete.discrete_model.BinaryResultsWrapper at 0x7f0a3d7f7c70>"
      ]
     },
     "execution_count": 155,
     "metadata": {},
     "output_type": "execute_result"
    }
   ],
   "source": [
    "smf_model.fit(maxiter=100, method='bfgs')"
   ]
  },
  {
   "cell_type": "code",
   "execution_count": 154,
   "metadata": {},
   "outputs": [
    {
     "data": {
      "text/plain": [
       "{'maxiter': 100, 'method': 'bfgs'}"
      ]
     },
     "execution_count": 154,
     "metadata": {},
     "output_type": "execute_result"
    }
   ],
   "source": [
    "kwargs_dict"
   ]
  },
  {
   "cell_type": "code",
   "execution_count": 133,
   "metadata": {},
   "outputs": [
    {
     "name": "stdout",
     "output_type": "stream",
     "text": [
      "Optimization terminated successfully.\n",
      "         Current function value: 0.212076\n",
      "         Iterations: 37\n",
      "         Function evaluations: 38\n",
      "         Gradient evaluations: 38\n"
     ]
    }
   ],
   "source": [
    "model_to_run(smf_model.fit, maxiter=60, method='bfgs')"
   ]
  },
  {
   "cell_type": "code",
   "execution_count": 113,
   "metadata": {},
   "outputs": [
    {
     "name": "stdout",
     "output_type": "stream",
     "text": [
      "<class 'RuntimeWarning'>\n",
      "True\n",
      "False\n",
      "<class 'statsmodels.tools.sm_exceptions.ConvergenceWarning'>\n",
      "False\n",
      "True\n"
     ]
    }
   ],
   "source": [
    "for w_i in w:\n",
    "    print(w_i.category)\n",
    "    print(w_i.category == RuntimeWarning)\n",
    "    print(w_i.category == smExceptions.ConvergenceWarning)"
   ]
  },
  {
   "cell_type": "code",
   "execution_count": 98,
   "metadata": {},
   "outputs": [
    {
     "name": "stdout",
     "output_type": "stream",
     "text": [
      "Warning: Maximum number of iterations has been exceeded.\n",
      "         Current function value: 0.212076\n",
      "         Iterations: 35\n",
      "Warning: Maximum number of iterations has been exceeded.\n",
      "         Current function value: 0.212076\n",
      "         Iterations: 55\n"
     ]
    },
    {
     "name": "stderr",
     "output_type": "stream",
     "text": [
      "/home/cara/anaconda3/envs/redditenv/lib/python3.10/site-packages/statsmodels/discrete/discrete_model.py:1819: RuntimeWarning: overflow encountered in exp\n",
      "  return 1/(1+np.exp(-X))\n",
      "/home/cara/anaconda3/envs/redditenv/lib/python3.10/site-packages/statsmodels/base/model.py:604: ConvergenceWarning: Maximum Likelihood optimization failed to converge. Check mle_retvals\n",
      "  warnings.warn(\"Maximum Likelihood optimization failed to \"\n"
     ]
    }
   ],
   "source": [
    "\n",
    "try:\n",
    "    modfit = smf_model.fit()\n",
    "except LinAlgError:\n",
    "    modfit = smf_model.fit(maxiter=55)\n",
    "except RuntimeWarning:\n",
    "    modfit = smf_model"
   ]
  },
  {
   "cell_type": "code",
   "execution_count": 101,
   "metadata": {},
   "outputs": [
    {
     "name": "stdout",
     "output_type": "stream",
     "text": [
      "Optimization terminated successfully.\n",
      "         Current function value: 0.212076\n",
      "         Iterations: 37\n",
      "         Function evaluations: 38\n",
      "         Gradient evaluations: 38\n"
     ]
    },
    {
     "name": "stderr",
     "output_type": "stream",
     "text": [
      "/home/cara/anaconda3/envs/redditenv/lib/python3.10/site-packages/statsmodels/base/model.py:592: HessianInversionWarning: Inverting hessian failed, no bse or cov_params available\n",
      "  warnings.warn('Inverting hessian failed, no bse or cov_params '\n"
     ]
    },
    {
     "data": {
      "text/plain": [
       "<statsmodels.discrete.discrete_model.BinaryResultsWrapper at 0x7f0a3d7f43a0>"
      ]
     },
     "execution_count": 101,
     "metadata": {},
     "output_type": "execute_result"
    }
   ],
   "source": [
    "smf_model.fit(method='bfgs', maxiter=55)"
   ]
  },
  {
   "cell_type": "code",
   "execution_count": 71,
   "metadata": {},
   "outputs": [
    {
     "name": "stdout",
     "output_type": "stream",
     "text": [
      "Warning: Maximum number of iterations has been exceeded.\n",
      "         Current function value: 0.212076\n",
      "         Iterations: 35\n"
     ]
    },
    {
     "name": "stderr",
     "output_type": "stream",
     "text": [
      "/home/cara/anaconda3/envs/redditenv/lib/python3.10/site-packages/statsmodels/discrete/discrete_model.py:1819: RuntimeWarning: overflow encountered in exp\n",
      "  return 1/(1+np.exp(-X))\n"
     ]
    },
    {
     "ename": "LinAlgError",
     "evalue": "Singular matrix",
     "output_type": "error",
     "traceback": [
      "\u001b[0;31m---------------------------------------------------------------------------\u001b[0m",
      "\u001b[0;31mLinAlgError\u001b[0m                               Traceback (most recent call last)",
      "\u001b[1;32m/home/cara/Documents/reddit_analyses/reddit_analyses/35_01_debugging_script.ipynb Cell 13\u001b[0m line \u001b[0;36m2\n\u001b[1;32m      <a href='vscode-notebook-cell:/home/cara/Documents/reddit_analyses/reddit_analyses/35_01_debugging_script.ipynb#X31sZmlsZQ%3D%3D?line=0'>1</a>\u001b[0m mod_key \u001b[39m=\u001b[39m \u001b[39m5\u001b[39m\n\u001b[0;32m----> <a href='vscode-notebook-cell:/home/cara/Documents/reddit_analyses/reddit_analyses/35_01_debugging_script.ipynb#X31sZmlsZQ%3D%3D?line=1'>2</a>\u001b[0m testreg\u001b[39m.\u001b[39msmf_models[mod_key], model_results[mod_key] \u001b[39m=\u001b[39m testreg\u001b[39m.\u001b[39;49mrun_regression(\n\u001b[1;32m      <a href='vscode-notebook-cell:/home/cara/Documents/reddit_analyses/reddit_analyses/35_01_debugging_script.ipynb#X31sZmlsZQ%3D%3D?line=2'>3</a>\u001b[0m                 mod_key\n\u001b[1;32m      <a href='vscode-notebook-cell:/home/cara/Documents/reddit_analyses/reddit_analyses/35_01_debugging_script.ipynb#X31sZmlsZQ%3D%3D?line=3'>4</a>\u001b[0m             )\n",
      "File \u001b[0;32m~/Documents/reddit_analyses/reddit_analyses/regression_class.py:954\u001b[0m, in \u001b[0;36mRedditRegression.run_regression\u001b[0;34m(self, mod_key)\u001b[0m\n\u001b[1;32m    934\u001b[0m \u001b[39mdef\u001b[39;00m \u001b[39mrun_regression\u001b[39m(\u001b[39mself\u001b[39m, mod_key):\n\u001b[1;32m    935\u001b[0m \u001b[39m    \u001b[39m\u001b[39m\"\"\"Runs logistic regression for given model and updates model result and\u001b[39;00m\n\u001b[1;32m    936\u001b[0m \u001b[39m    parameters dicts with metrics and regression parameters for given model.\u001b[39;00m\n\u001b[1;32m    937\u001b[0m \n\u001b[0;32m   (...)\u001b[0m\n\u001b[1;32m    948\u001b[0m \u001b[39m        \u001b[39;00m\n\u001b[1;32m    949\u001b[0m \u001b[39m    \"\"\"\u001b[39;00m\n\u001b[1;32m    950\u001b[0m     smf_model \u001b[39m=\u001b[39m (\n\u001b[1;32m    951\u001b[0m         \u001b[39mgetattr\u001b[39;49m(smf, \u001b[39mself\u001b[39;49m\u001b[39m.\u001b[39;49mSMF_FUNCTIONS[\u001b[39mself\u001b[39;49m\u001b[39m.\u001b[39;49mregression_params[\u001b[39m\"\u001b[39;49m\u001b[39mregression_type\u001b[39;49m\u001b[39m\"\u001b[39;49m]])(\n\u001b[1;32m    952\u001b[0m             \u001b[39mself\u001b[39;49m\u001b[39m.\u001b[39;49msm_modstrings[mod_key], data\u001b[39m=\u001b[39;49m\u001b[39mself\u001b[39;49m\u001b[39m.\u001b[39;49m__model_data__[\u001b[39m\"\u001b[39;49m\u001b[39mcal\u001b[39;49m\u001b[39m\"\u001b[39;49m]\n\u001b[1;32m    953\u001b[0m         )\n\u001b[0;32m--> 954\u001b[0m     )\u001b[39m.\u001b[39;49mfit()\n\u001b[1;32m    956\u001b[0m     model_results \u001b[39m=\u001b[39m {}\n\u001b[1;32m    957\u001b[0m     \u001b[39mif\u001b[39;00m \u001b[39m\"\u001b[39m\u001b[39mFSS\u001b[39m\u001b[39m\"\u001b[39m \u001b[39min\u001b[39;00m \u001b[39mself\u001b[39m\u001b[39m.\u001b[39mregression_params:\n",
      "File \u001b[0;32m~/anaconda3/envs/redditenv/lib/python3.10/site-packages/statsmodels/discrete/discrete_model.py:1983\u001b[0m, in \u001b[0;36mLogit.fit\u001b[0;34m(self, start_params, method, maxiter, full_output, disp, callback, **kwargs)\u001b[0m\n\u001b[1;32m   1980\u001b[0m \u001b[39m@Appender\u001b[39m(DiscreteModel\u001b[39m.\u001b[39mfit\u001b[39m.\u001b[39m\u001b[39m__doc__\u001b[39m)\n\u001b[1;32m   1981\u001b[0m \u001b[39mdef\u001b[39;00m \u001b[39mfit\u001b[39m(\u001b[39mself\u001b[39m, start_params\u001b[39m=\u001b[39m\u001b[39mNone\u001b[39;00m, method\u001b[39m=\u001b[39m\u001b[39m'\u001b[39m\u001b[39mnewton\u001b[39m\u001b[39m'\u001b[39m, maxiter\u001b[39m=\u001b[39m\u001b[39m35\u001b[39m,\n\u001b[1;32m   1982\u001b[0m         full_output\u001b[39m=\u001b[39m\u001b[39m1\u001b[39m, disp\u001b[39m=\u001b[39m\u001b[39m1\u001b[39m, callback\u001b[39m=\u001b[39m\u001b[39mNone\u001b[39;00m, \u001b[39m*\u001b[39m\u001b[39m*\u001b[39mkwargs):\n\u001b[0;32m-> 1983\u001b[0m     bnryfit \u001b[39m=\u001b[39m \u001b[39msuper\u001b[39;49m()\u001b[39m.\u001b[39;49mfit(start_params\u001b[39m=\u001b[39;49mstart_params,\n\u001b[1;32m   1984\u001b[0m                           method\u001b[39m=\u001b[39;49mmethod,\n\u001b[1;32m   1985\u001b[0m                           maxiter\u001b[39m=\u001b[39;49mmaxiter,\n\u001b[1;32m   1986\u001b[0m                           full_output\u001b[39m=\u001b[39;49mfull_output,\n\u001b[1;32m   1987\u001b[0m                           disp\u001b[39m=\u001b[39;49mdisp,\n\u001b[1;32m   1988\u001b[0m                           callback\u001b[39m=\u001b[39;49mcallback,\n\u001b[1;32m   1989\u001b[0m                           \u001b[39m*\u001b[39;49m\u001b[39m*\u001b[39;49mkwargs)\n\u001b[1;32m   1991\u001b[0m     discretefit \u001b[39m=\u001b[39m LogitResults(\u001b[39mself\u001b[39m, bnryfit)\n\u001b[1;32m   1992\u001b[0m     \u001b[39mreturn\u001b[39;00m BinaryResultsWrapper(discretefit)\n",
      "File \u001b[0;32m~/anaconda3/envs/redditenv/lib/python3.10/site-packages/statsmodels/discrete/discrete_model.py:230\u001b[0m, in \u001b[0;36mDiscreteModel.fit\u001b[0;34m(self, start_params, method, maxiter, full_output, disp, callback, **kwargs)\u001b[0m\n\u001b[1;32m    227\u001b[0m \u001b[39melse\u001b[39;00m:\n\u001b[1;32m    228\u001b[0m     \u001b[39mpass\u001b[39;00m  \u001b[39m# TODO: make a function factory to have multiple call-backs\u001b[39;00m\n\u001b[0;32m--> 230\u001b[0m mlefit \u001b[39m=\u001b[39m \u001b[39msuper\u001b[39;49m()\u001b[39m.\u001b[39;49mfit(start_params\u001b[39m=\u001b[39;49mstart_params,\n\u001b[1;32m    231\u001b[0m                      method\u001b[39m=\u001b[39;49mmethod,\n\u001b[1;32m    232\u001b[0m                      maxiter\u001b[39m=\u001b[39;49mmaxiter,\n\u001b[1;32m    233\u001b[0m                      full_output\u001b[39m=\u001b[39;49mfull_output,\n\u001b[1;32m    234\u001b[0m                      disp\u001b[39m=\u001b[39;49mdisp,\n\u001b[1;32m    235\u001b[0m                      callback\u001b[39m=\u001b[39;49mcallback,\n\u001b[1;32m    236\u001b[0m                      \u001b[39m*\u001b[39;49m\u001b[39m*\u001b[39;49mkwargs)\n\u001b[1;32m    238\u001b[0m \u001b[39mreturn\u001b[39;00m mlefit\n",
      "File \u001b[0;32m~/anaconda3/envs/redditenv/lib/python3.10/site-packages/statsmodels/base/model.py:579\u001b[0m, in \u001b[0;36mLikelihoodModel.fit\u001b[0;34m(self, start_params, method, maxiter, full_output, disp, fargs, callback, retall, skip_hessian, **kwargs)\u001b[0m\n\u001b[1;32m    577\u001b[0m     Hinv \u001b[39m=\u001b[39m cov_params_func(\u001b[39mself\u001b[39m, xopt, retvals)\n\u001b[1;32m    578\u001b[0m \u001b[39melif\u001b[39;00m method \u001b[39m==\u001b[39m \u001b[39m'\u001b[39m\u001b[39mnewton\u001b[39m\u001b[39m'\u001b[39m \u001b[39mand\u001b[39;00m full_output:\n\u001b[0;32m--> 579\u001b[0m     Hinv \u001b[39m=\u001b[39m np\u001b[39m.\u001b[39;49mlinalg\u001b[39m.\u001b[39;49minv(\u001b[39m-\u001b[39;49mretvals[\u001b[39m'\u001b[39;49m\u001b[39mHessian\u001b[39;49m\u001b[39m'\u001b[39;49m]) \u001b[39m/\u001b[39m nobs\n\u001b[1;32m    580\u001b[0m \u001b[39melif\u001b[39;00m \u001b[39mnot\u001b[39;00m skip_hessian:\n\u001b[1;32m    581\u001b[0m     H \u001b[39m=\u001b[39m \u001b[39m-\u001b[39m\u001b[39m1\u001b[39m \u001b[39m*\u001b[39m \u001b[39mself\u001b[39m\u001b[39m.\u001b[39mhessian(xopt)\n",
      "File \u001b[0;32m<__array_function__ internals>:200\u001b[0m, in \u001b[0;36minv\u001b[0;34m(*args, **kwargs)\u001b[0m\n",
      "File \u001b[0;32m~/anaconda3/envs/redditenv/lib/python3.10/site-packages/numpy/linalg/linalg.py:538\u001b[0m, in \u001b[0;36minv\u001b[0;34m(a)\u001b[0m\n\u001b[1;32m    536\u001b[0m signature \u001b[39m=\u001b[39m \u001b[39m'\u001b[39m\u001b[39mD->D\u001b[39m\u001b[39m'\u001b[39m \u001b[39mif\u001b[39;00m isComplexType(t) \u001b[39melse\u001b[39;00m \u001b[39m'\u001b[39m\u001b[39md->d\u001b[39m\u001b[39m'\u001b[39m\n\u001b[1;32m    537\u001b[0m extobj \u001b[39m=\u001b[39m get_linalg_error_extobj(_raise_linalgerror_singular)\n\u001b[0;32m--> 538\u001b[0m ainv \u001b[39m=\u001b[39m _umath_linalg\u001b[39m.\u001b[39;49minv(a, signature\u001b[39m=\u001b[39;49msignature, extobj\u001b[39m=\u001b[39;49mextobj)\n\u001b[1;32m    539\u001b[0m \u001b[39mreturn\u001b[39;00m wrap(ainv\u001b[39m.\u001b[39mastype(result_t, copy\u001b[39m=\u001b[39m\u001b[39mFalse\u001b[39;00m))\n",
      "File \u001b[0;32m~/anaconda3/envs/redditenv/lib/python3.10/site-packages/numpy/linalg/linalg.py:89\u001b[0m, in \u001b[0;36m_raise_linalgerror_singular\u001b[0;34m(err, flag)\u001b[0m\n\u001b[1;32m     88\u001b[0m \u001b[39mdef\u001b[39;00m \u001b[39m_raise_linalgerror_singular\u001b[39m(err, flag):\n\u001b[0;32m---> 89\u001b[0m     \u001b[39mraise\u001b[39;00m LinAlgError(\u001b[39m\"\u001b[39m\u001b[39mSingular matrix\u001b[39m\u001b[39m\"\u001b[39m)\n",
      "\u001b[0;31mLinAlgError\u001b[0m: Singular matrix"
     ]
    }
   ],
   "source": [
    "mod_key = 5\n",
    "testreg.smf_models[mod_key], model_results[mod_key] = testreg.run_regression(\n",
    "                mod_key\n",
    "            )"
   ]
  },
  {
   "cell_type": "markdown",
   "metadata": {},
   "source": []
  },
  {
   "cell_type": "code",
   "execution_count": 20,
   "metadata": {},
   "outputs": [
    {
     "name": "stdout",
     "output_type": "stream",
     "text": [
      "Model 1\n",
      "Optimization terminated successfully.\n",
      "         Current function value: 0.585670\n",
      "         Iterations 5\n",
      "Model 2\n",
      "Warning: Maximum number of iterations has been exceeded.\n",
      "         Current function value: 0.440824\n",
      "         Iterations: 35\n",
      "Model 3\n",
      "Warning: Maximum number of iterations has been exceeded.\n",
      "         Current function value: 0.407509\n",
      "         Iterations: 35\n",
      "Model 4\n",
      "Warning: Maximum number of iterations has been exceeded.\n",
      "         Current function value: 0.407507\n",
      "         Iterations: 35\n",
      "Model 5\n",
      "Warning: Maximum number of iterations has been exceeded.\n",
      "         Current function value: inf\n",
      "         Iterations: 35\n"
     ]
    },
    {
     "name": "stderr",
     "output_type": "stream",
     "text": [
      "/home/cara/anaconda3/envs/redditenv/lib/python3.10/site-packages/statsmodels/base/model.py:604: ConvergenceWarning: Maximum Likelihood optimization failed to converge. Check mle_retvals\n",
      "  warnings.warn(\"Maximum Likelihood optimization failed to \"\n",
      "/home/cara/anaconda3/envs/redditenv/lib/python3.10/site-packages/statsmodels/base/model.py:604: ConvergenceWarning: Maximum Likelihood optimization failed to converge. Check mle_retvals\n",
      "  warnings.warn(\"Maximum Likelihood optimization failed to \"\n",
      "/home/cara/anaconda3/envs/redditenv/lib/python3.10/site-packages/statsmodels/base/model.py:604: ConvergenceWarning: Maximum Likelihood optimization failed to converge. Check mle_retvals\n",
      "  warnings.warn(\"Maximum Likelihood optimization failed to \"\n",
      "/home/cara/anaconda3/envs/redditenv/lib/python3.10/site-packages/statsmodels/discrete/discrete_model.py:1819: RuntimeWarning: overflow encountered in exp\n",
      "  return 1/(1+np.exp(-X))\n",
      "/home/cara/anaconda3/envs/redditenv/lib/python3.10/site-packages/statsmodels/discrete/discrete_model.py:1872: RuntimeWarning: divide by zero encountered in log\n",
      "  return np.sum(np.log(self.cdf(q*np.dot(X,params))))\n"
     ]
    },
    {
     "ename": "LinAlgError",
     "evalue": "Singular matrix",
     "output_type": "error",
     "traceback": [
      "\u001b[0;31m---------------------------------------------------------------------------\u001b[0m",
      "\u001b[0;31mLinAlgError\u001b[0m                               Traceback (most recent call last)",
      "\u001b[1;32m/home/cara/Documents/reddit_analyses/reddit_analyses/35_01_debugging_script.ipynb Cell 9\u001b[0m line \u001b[0;36m1\n\u001b[0;32m----> <a href='vscode-notebook-cell:/home/cara/Documents/reddit_analyses/reddit_analyses/35_01_debugging_script.ipynb#X26sZmlsZQ%3D%3D?line=0'>1</a>\u001b[0m testreg\u001b[39m.\u001b[39;49mrun_models()\n",
      "File \u001b[0;32m~/Documents/reddit_analyses/reddit_analyses/regression_class.py:619\u001b[0m, in \u001b[0;36mRedditRegression.run_models\u001b[0;34m(self)\u001b[0m\n\u001b[1;32m    617\u001b[0m \u001b[39mfor\u001b[39;00m mod_key \u001b[39min\u001b[39;00m \u001b[39mself\u001b[39m\u001b[39m.\u001b[39msm_modstrings:\n\u001b[1;32m    618\u001b[0m     \u001b[39mprint\u001b[39m(\u001b[39mf\u001b[39m\u001b[39m\"\u001b[39m\u001b[39mModel \u001b[39m\u001b[39m{\u001b[39;00mmod_key\u001b[39m}\u001b[39;00m\u001b[39m\"\u001b[39m)\n\u001b[0;32m--> 619\u001b[0m     \u001b[39mself\u001b[39m\u001b[39m.\u001b[39msmf_models[mod_key], model_results[mod_key] \u001b[39m=\u001b[39m \u001b[39mself\u001b[39;49m\u001b[39m.\u001b[39;49mrun_regression(\n\u001b[1;32m    620\u001b[0m         mod_key\n\u001b[1;32m    621\u001b[0m     )\n\u001b[1;32m    622\u001b[0m     param_dict[mod_key] \u001b[39m=\u001b[39m \u001b[39mself\u001b[39m\u001b[39m.\u001b[39mget_model_metrics_from_smf_mod(\n\u001b[1;32m    623\u001b[0m         \u001b[39mself\u001b[39m\u001b[39m.\u001b[39msmf_models[mod_key]\n\u001b[1;32m    624\u001b[0m     )\n\u001b[1;32m    626\u001b[0m \u001b[39m# convert model metrics dict to df\u001b[39;00m\n",
      "File \u001b[0;32m~/Documents/reddit_analyses/reddit_analyses/regression_class.py:954\u001b[0m, in \u001b[0;36mRedditRegression.run_regression\u001b[0;34m(self, mod_key)\u001b[0m\n\u001b[1;32m    934\u001b[0m \u001b[39mdef\u001b[39;00m \u001b[39mrun_regression\u001b[39m(\u001b[39mself\u001b[39m, mod_key):\n\u001b[1;32m    935\u001b[0m \u001b[39m    \u001b[39m\u001b[39m\"\"\"Runs logistic regression for given model and updates model result and\u001b[39;00m\n\u001b[1;32m    936\u001b[0m \u001b[39m    parameters dicts with metrics and regression parameters for given model.\u001b[39;00m\n\u001b[1;32m    937\u001b[0m \n\u001b[0;32m   (...)\u001b[0m\n\u001b[1;32m    948\u001b[0m \u001b[39m        \u001b[39;00m\n\u001b[1;32m    949\u001b[0m \u001b[39m    \"\"\"\u001b[39;00m\n\u001b[1;32m    950\u001b[0m     smf_model \u001b[39m=\u001b[39m (\n\u001b[1;32m    951\u001b[0m         \u001b[39mgetattr\u001b[39;49m(smf, \u001b[39mself\u001b[39;49m\u001b[39m.\u001b[39;49mSMF_FUNCTIONS[\u001b[39mself\u001b[39;49m\u001b[39m.\u001b[39;49mregression_params[\u001b[39m\"\u001b[39;49m\u001b[39mregression_type\u001b[39;49m\u001b[39m\"\u001b[39;49m]])(\n\u001b[1;32m    952\u001b[0m             \u001b[39mself\u001b[39;49m\u001b[39m.\u001b[39;49msm_modstrings[mod_key], data\u001b[39m=\u001b[39;49m\u001b[39mself\u001b[39;49m\u001b[39m.\u001b[39;49m__model_data__[\u001b[39m\"\u001b[39;49m\u001b[39mcal\u001b[39;49m\u001b[39m\"\u001b[39;49m]\n\u001b[1;32m    953\u001b[0m         )\n\u001b[0;32m--> 954\u001b[0m     )\u001b[39m.\u001b[39;49mfit()\n\u001b[1;32m    956\u001b[0m     model_results \u001b[39m=\u001b[39m {}\n\u001b[1;32m    957\u001b[0m     \u001b[39mif\u001b[39;00m \u001b[39m\"\u001b[39m\u001b[39mFSS\u001b[39m\u001b[39m\"\u001b[39m \u001b[39min\u001b[39;00m \u001b[39mself\u001b[39m\u001b[39m.\u001b[39mregression_params:\n",
      "File \u001b[0;32m~/anaconda3/envs/redditenv/lib/python3.10/site-packages/statsmodels/discrete/discrete_model.py:1983\u001b[0m, in \u001b[0;36mLogit.fit\u001b[0;34m(self, start_params, method, maxiter, full_output, disp, callback, **kwargs)\u001b[0m\n\u001b[1;32m   1980\u001b[0m \u001b[39m@Appender\u001b[39m(DiscreteModel\u001b[39m.\u001b[39mfit\u001b[39m.\u001b[39m\u001b[39m__doc__\u001b[39m)\n\u001b[1;32m   1981\u001b[0m \u001b[39mdef\u001b[39;00m \u001b[39mfit\u001b[39m(\u001b[39mself\u001b[39m, start_params\u001b[39m=\u001b[39m\u001b[39mNone\u001b[39;00m, method\u001b[39m=\u001b[39m\u001b[39m'\u001b[39m\u001b[39mnewton\u001b[39m\u001b[39m'\u001b[39m, maxiter\u001b[39m=\u001b[39m\u001b[39m35\u001b[39m,\n\u001b[1;32m   1982\u001b[0m         full_output\u001b[39m=\u001b[39m\u001b[39m1\u001b[39m, disp\u001b[39m=\u001b[39m\u001b[39m1\u001b[39m, callback\u001b[39m=\u001b[39m\u001b[39mNone\u001b[39;00m, \u001b[39m*\u001b[39m\u001b[39m*\u001b[39mkwargs):\n\u001b[0;32m-> 1983\u001b[0m     bnryfit \u001b[39m=\u001b[39m \u001b[39msuper\u001b[39;49m()\u001b[39m.\u001b[39;49mfit(start_params\u001b[39m=\u001b[39;49mstart_params,\n\u001b[1;32m   1984\u001b[0m                           method\u001b[39m=\u001b[39;49mmethod,\n\u001b[1;32m   1985\u001b[0m                           maxiter\u001b[39m=\u001b[39;49mmaxiter,\n\u001b[1;32m   1986\u001b[0m                           full_output\u001b[39m=\u001b[39;49mfull_output,\n\u001b[1;32m   1987\u001b[0m                           disp\u001b[39m=\u001b[39;49mdisp,\n\u001b[1;32m   1988\u001b[0m                           callback\u001b[39m=\u001b[39;49mcallback,\n\u001b[1;32m   1989\u001b[0m                           \u001b[39m*\u001b[39;49m\u001b[39m*\u001b[39;49mkwargs)\n\u001b[1;32m   1991\u001b[0m     discretefit \u001b[39m=\u001b[39m LogitResults(\u001b[39mself\u001b[39m, bnryfit)\n\u001b[1;32m   1992\u001b[0m     \u001b[39mreturn\u001b[39;00m BinaryResultsWrapper(discretefit)\n",
      "File \u001b[0;32m~/anaconda3/envs/redditenv/lib/python3.10/site-packages/statsmodels/discrete/discrete_model.py:230\u001b[0m, in \u001b[0;36mDiscreteModel.fit\u001b[0;34m(self, start_params, method, maxiter, full_output, disp, callback, **kwargs)\u001b[0m\n\u001b[1;32m    227\u001b[0m \u001b[39melse\u001b[39;00m:\n\u001b[1;32m    228\u001b[0m     \u001b[39mpass\u001b[39;00m  \u001b[39m# TODO: make a function factory to have multiple call-backs\u001b[39;00m\n\u001b[0;32m--> 230\u001b[0m mlefit \u001b[39m=\u001b[39m \u001b[39msuper\u001b[39;49m()\u001b[39m.\u001b[39;49mfit(start_params\u001b[39m=\u001b[39;49mstart_params,\n\u001b[1;32m    231\u001b[0m                      method\u001b[39m=\u001b[39;49mmethod,\n\u001b[1;32m    232\u001b[0m                      maxiter\u001b[39m=\u001b[39;49mmaxiter,\n\u001b[1;32m    233\u001b[0m                      full_output\u001b[39m=\u001b[39;49mfull_output,\n\u001b[1;32m    234\u001b[0m                      disp\u001b[39m=\u001b[39;49mdisp,\n\u001b[1;32m    235\u001b[0m                      callback\u001b[39m=\u001b[39;49mcallback,\n\u001b[1;32m    236\u001b[0m                      \u001b[39m*\u001b[39;49m\u001b[39m*\u001b[39;49mkwargs)\n\u001b[1;32m    238\u001b[0m \u001b[39mreturn\u001b[39;00m mlefit\n",
      "File \u001b[0;32m~/anaconda3/envs/redditenv/lib/python3.10/site-packages/statsmodels/base/model.py:579\u001b[0m, in \u001b[0;36mLikelihoodModel.fit\u001b[0;34m(self, start_params, method, maxiter, full_output, disp, fargs, callback, retall, skip_hessian, **kwargs)\u001b[0m\n\u001b[1;32m    577\u001b[0m     Hinv \u001b[39m=\u001b[39m cov_params_func(\u001b[39mself\u001b[39m, xopt, retvals)\n\u001b[1;32m    578\u001b[0m \u001b[39melif\u001b[39;00m method \u001b[39m==\u001b[39m \u001b[39m'\u001b[39m\u001b[39mnewton\u001b[39m\u001b[39m'\u001b[39m \u001b[39mand\u001b[39;00m full_output:\n\u001b[0;32m--> 579\u001b[0m     Hinv \u001b[39m=\u001b[39m np\u001b[39m.\u001b[39;49mlinalg\u001b[39m.\u001b[39;49minv(\u001b[39m-\u001b[39;49mretvals[\u001b[39m'\u001b[39;49m\u001b[39mHessian\u001b[39;49m\u001b[39m'\u001b[39;49m]) \u001b[39m/\u001b[39m nobs\n\u001b[1;32m    580\u001b[0m \u001b[39melif\u001b[39;00m \u001b[39mnot\u001b[39;00m skip_hessian:\n\u001b[1;32m    581\u001b[0m     H \u001b[39m=\u001b[39m \u001b[39m-\u001b[39m\u001b[39m1\u001b[39m \u001b[39m*\u001b[39m \u001b[39mself\u001b[39m\u001b[39m.\u001b[39mhessian(xopt)\n",
      "File \u001b[0;32m<__array_function__ internals>:200\u001b[0m, in \u001b[0;36minv\u001b[0;34m(*args, **kwargs)\u001b[0m\n",
      "File \u001b[0;32m~/anaconda3/envs/redditenv/lib/python3.10/site-packages/numpy/linalg/linalg.py:538\u001b[0m, in \u001b[0;36minv\u001b[0;34m(a)\u001b[0m\n\u001b[1;32m    536\u001b[0m signature \u001b[39m=\u001b[39m \u001b[39m'\u001b[39m\u001b[39mD->D\u001b[39m\u001b[39m'\u001b[39m \u001b[39mif\u001b[39;00m isComplexType(t) \u001b[39melse\u001b[39;00m \u001b[39m'\u001b[39m\u001b[39md->d\u001b[39m\u001b[39m'\u001b[39m\n\u001b[1;32m    537\u001b[0m extobj \u001b[39m=\u001b[39m get_linalg_error_extobj(_raise_linalgerror_singular)\n\u001b[0;32m--> 538\u001b[0m ainv \u001b[39m=\u001b[39m _umath_linalg\u001b[39m.\u001b[39;49minv(a, signature\u001b[39m=\u001b[39;49msignature, extobj\u001b[39m=\u001b[39;49mextobj)\n\u001b[1;32m    539\u001b[0m \u001b[39mreturn\u001b[39;00m wrap(ainv\u001b[39m.\u001b[39mastype(result_t, copy\u001b[39m=\u001b[39m\u001b[39mFalse\u001b[39;00m))\n",
      "File \u001b[0;32m~/anaconda3/envs/redditenv/lib/python3.10/site-packages/numpy/linalg/linalg.py:89\u001b[0m, in \u001b[0;36m_raise_linalgerror_singular\u001b[0;34m(err, flag)\u001b[0m\n\u001b[1;32m     88\u001b[0m \u001b[39mdef\u001b[39;00m \u001b[39m_raise_linalgerror_singular\u001b[39m(err, flag):\n\u001b[0;32m---> 89\u001b[0m     \u001b[39mraise\u001b[39;00m LinAlgError(\u001b[39m\"\u001b[39m\u001b[39mSingular matrix\u001b[39m\u001b[39m\"\u001b[39m)\n",
      "\u001b[0;31mLinAlgError\u001b[0m: Singular matrix"
     ]
    }
   ],
   "source": [
    "testreg.run_models()"
   ]
  },
  {
   "cell_type": "code",
   "execution_count": 37,
   "metadata": {},
   "outputs": [],
   "source": [
    "testreg.calc_author_thread_counts()\n",
    "testreg.get_regression_model_data()\n",
    "testreg.get_regression_model_data(calval='val')"
   ]
  },
  {
   "cell_type": "code",
   "execution_count": 39,
   "metadata": {},
   "outputs": [],
   "source": [
    "testreg.perform_scaling()"
   ]
  },
  {
   "cell_type": "code",
   "execution_count": 23,
   "metadata": {},
   "outputs": [
    {
     "name": "stdout",
     "output_type": "stream",
     "text": [
      "Running logistic\n"
     ]
    },
    {
     "ename": "TypeError",
     "evalue": "The DType <class 'numpy.dtype[datetime64]'> could not be promoted by <class 'numpy.dtype[float64]'>. This means that no common DType exists for the given inputs. For example they cannot be stored in a single array unless the dtype is `object`. The full list of DTypes is: (<class 'numpy.dtype[float64]'>, <class 'numpy.dtype[float64]'>, <class 'numpy.dtype[datetime64]'>, <class 'numpy.dtype[datetime64]'>, <class 'numpy.dtype[datetime64]'>, <class 'numpy.dtype[int64]'>, <class 'numpy.dtype[float64]'>, <class 'numpy.dtype[float64]'>, <class 'numpy.dtype[int64]'>)",
     "output_type": "error",
     "traceback": [
      "\u001b[0;31m---------------------------------------------------------------------------\u001b[0m",
      "\u001b[0;31mTypeError\u001b[0m                                 Traceback (most recent call last)",
      "\u001b[1;32m/home/cara/Documents/reddit_analyses/reddit_analyses/35_01_debugging_script.ipynb Cell 5\u001b[0m line \u001b[0;36m4\n\u001b[1;32m      <a href='vscode-notebook-cell:/home/cara/Documents/reddit_analyses/reddit_analyses/35_01_debugging_script.ipynb#X15sZmlsZQ%3D%3D?line=1'>2</a>\u001b[0m \u001b[39mfor\u001b[39;00m key \u001b[39min\u001b[39;00m regressions:\n\u001b[1;32m      <a href='vscode-notebook-cell:/home/cara/Documents/reddit_analyses/reddit_analyses/35_01_debugging_script.ipynb#X15sZmlsZQ%3D%3D?line=2'>3</a>\u001b[0m     \u001b[39mprint\u001b[39m(\u001b[39mf\u001b[39m\u001b[39m\"\u001b[39m\u001b[39mRunning \u001b[39m\u001b[39m{\u001b[39;00mkey\u001b[39m}\u001b[39;00m\u001b[39m\"\u001b[39m)\n\u001b[0;32m----> <a href='vscode-notebook-cell:/home/cara/Documents/reddit_analyses/reddit_analyses/35_01_debugging_script.ipynb#X15sZmlsZQ%3D%3D?line=3'>4</a>\u001b[0m     regressions[key]\u001b[39m.\u001b[39;49mmain()\n",
      "File \u001b[0;32m~/Documents/reddit_analyses/reddit_analyses/regression_class.py:586\u001b[0m, in \u001b[0;36mRedditRegression.main\u001b[0;34m(self)\u001b[0m\n\u001b[1;32m    584\u001b[0m \u001b[39m# if scaling, perform now\u001b[39;00m\n\u001b[1;32m    585\u001b[0m \u001b[39mif\u001b[39;00m \u001b[39mself\u001b[39m\u001b[39m.\u001b[39mregression_params[\u001b[39m\"\u001b[39m\u001b[39mscale\u001b[39m\u001b[39m\"\u001b[39m]:\n\u001b[0;32m--> 586\u001b[0m     \u001b[39mself\u001b[39;49m\u001b[39m.\u001b[39;49mperform_scaling()\n\u001b[1;32m    587\u001b[0m \u001b[39melse\u001b[39;00m:\n\u001b[1;32m    588\u001b[0m     \u001b[39mself\u001b[39m\u001b[39m.\u001b[39m__model_data__ \u001b[39m=\u001b[39m \u001b[39mself\u001b[39m\u001b[39m.\u001b[39mmodel_data\n",
      "File \u001b[0;32m~/Documents/reddit_analyses/reddit_analyses/regression_class.py:680\u001b[0m, in \u001b[0;36mRedditRegression.perform_scaling\u001b[0;34m(self)\u001b[0m\n\u001b[1;32m    678\u001b[0m \u001b[39mfor\u001b[39;00m calval \u001b[39min\u001b[39;00m \u001b[39mself\u001b[39m\u001b[39m.\u001b[39mmodel_data:\n\u001b[1;32m    679\u001b[0m     x_data \u001b[39m=\u001b[39m \u001b[39mself\u001b[39m\u001b[39m.\u001b[39mmodel_data[calval][\u001b[39mself\u001b[39m\u001b[39m.\u001b[39mregression_params[\u001b[39m\"\u001b[39m\u001b[39mx_cols\u001b[39m\u001b[39m\"\u001b[39m]]\n\u001b[0;32m--> 680\u001b[0m     scaled_x_data, \u001b[39mself\u001b[39m\u001b[39m.\u001b[39mscale_metrics_dict[calval] \u001b[39m=\u001b[39m \u001b[39mself\u001b[39;49m\u001b[39m.\u001b[39;49mscale_data(x_data)\n\u001b[1;32m    681\u001b[0m     y_data \u001b[39m=\u001b[39m \u001b[39mself\u001b[39m\u001b[39m.\u001b[39mmodel_data[calval][[\u001b[39mself\u001b[39m\u001b[39m.\u001b[39mregression_params[\u001b[39m\"\u001b[39m\u001b[39my_col\u001b[39m\u001b[39m\"\u001b[39m]]]\n\u001b[1;32m    682\u001b[0m     \u001b[39mself\u001b[39m\u001b[39m.\u001b[39mscaled_data[calval] \u001b[39m=\u001b[39m pd\u001b[39m.\u001b[39mconcat((y_data, scaled_x_data), axis\u001b[39m=\u001b[39m\u001b[39m1\u001b[39m)\n",
      "File \u001b[0;32m~/Documents/reddit_analyses/reddit_analyses/regression_class.py:687\u001b[0m, in \u001b[0;36mRedditRegression.scale_data\u001b[0;34m(x_data)\u001b[0m\n\u001b[1;32m    685\u001b[0m \u001b[39m@staticmethod\u001b[39m\n\u001b[1;32m    686\u001b[0m \u001b[39mdef\u001b[39;00m \u001b[39mscale_data\u001b[39m(x_data):\n\u001b[0;32m--> 687\u001b[0m     scaler \u001b[39m=\u001b[39m preprocessing\u001b[39m.\u001b[39;49mStandardScaler()\u001b[39m.\u001b[39;49mfit(x_data)\n\u001b[1;32m    688\u001b[0m     scaler_info \u001b[39m=\u001b[39m {\u001b[39m\"\u001b[39m\u001b[39mmean\u001b[39m\u001b[39m\"\u001b[39m: scaler\u001b[39m.\u001b[39mmean_, \u001b[39m\"\u001b[39m\u001b[39mscale\u001b[39m\u001b[39m\"\u001b[39m: scaler\u001b[39m.\u001b[39mscale_}\n\u001b[1;32m    689\u001b[0m     x_scaled \u001b[39m=\u001b[39m pd\u001b[39m.\u001b[39mDataFrame(\n\u001b[1;32m    690\u001b[0m         scaler\u001b[39m.\u001b[39mtransform(x_data), columns\u001b[39m=\u001b[39mx_data\u001b[39m.\u001b[39mcolumns, index\u001b[39m=\u001b[39mx_data\u001b[39m.\u001b[39mindex\n\u001b[1;32m    691\u001b[0m     )\n",
      "File \u001b[0;32m~/anaconda3/envs/redditenv/lib/python3.10/site-packages/sklearn/preprocessing/_data.py:824\u001b[0m, in \u001b[0;36mStandardScaler.fit\u001b[0;34m(self, X, y, sample_weight)\u001b[0m\n\u001b[1;32m    822\u001b[0m \u001b[39m# Reset internal state before fitting\u001b[39;00m\n\u001b[1;32m    823\u001b[0m \u001b[39mself\u001b[39m\u001b[39m.\u001b[39m_reset()\n\u001b[0;32m--> 824\u001b[0m \u001b[39mreturn\u001b[39;00m \u001b[39mself\u001b[39;49m\u001b[39m.\u001b[39;49mpartial_fit(X, y, sample_weight)\n",
      "File \u001b[0;32m~/anaconda3/envs/redditenv/lib/python3.10/site-packages/sklearn/preprocessing/_data.py:861\u001b[0m, in \u001b[0;36mStandardScaler.partial_fit\u001b[0;34m(self, X, y, sample_weight)\u001b[0m\n\u001b[1;32m    858\u001b[0m \u001b[39mself\u001b[39m\u001b[39m.\u001b[39m_validate_params()\n\u001b[1;32m    860\u001b[0m first_call \u001b[39m=\u001b[39m \u001b[39mnot\u001b[39;00m \u001b[39mhasattr\u001b[39m(\u001b[39mself\u001b[39m, \u001b[39m\"\u001b[39m\u001b[39mn_samples_seen_\u001b[39m\u001b[39m\"\u001b[39m)\n\u001b[0;32m--> 861\u001b[0m X \u001b[39m=\u001b[39m \u001b[39mself\u001b[39;49m\u001b[39m.\u001b[39;49m_validate_data(\n\u001b[1;32m    862\u001b[0m     X,\n\u001b[1;32m    863\u001b[0m     accept_sparse\u001b[39m=\u001b[39;49m(\u001b[39m\"\u001b[39;49m\u001b[39mcsr\u001b[39;49m\u001b[39m\"\u001b[39;49m, \u001b[39m\"\u001b[39;49m\u001b[39mcsc\u001b[39;49m\u001b[39m\"\u001b[39;49m),\n\u001b[1;32m    864\u001b[0m     dtype\u001b[39m=\u001b[39;49mFLOAT_DTYPES,\n\u001b[1;32m    865\u001b[0m     force_all_finite\u001b[39m=\u001b[39;49m\u001b[39m\"\u001b[39;49m\u001b[39mallow-nan\u001b[39;49m\u001b[39m\"\u001b[39;49m,\n\u001b[1;32m    866\u001b[0m     reset\u001b[39m=\u001b[39;49mfirst_call,\n\u001b[1;32m    867\u001b[0m )\n\u001b[1;32m    868\u001b[0m n_features \u001b[39m=\u001b[39m X\u001b[39m.\u001b[39mshape[\u001b[39m1\u001b[39m]\n\u001b[1;32m    870\u001b[0m \u001b[39mif\u001b[39;00m sample_weight \u001b[39mis\u001b[39;00m \u001b[39mnot\u001b[39;00m \u001b[39mNone\u001b[39;00m:\n",
      "File \u001b[0;32m~/anaconda3/envs/redditenv/lib/python3.10/site-packages/sklearn/base.py:546\u001b[0m, in \u001b[0;36mBaseEstimator._validate_data\u001b[0;34m(self, X, y, reset, validate_separately, **check_params)\u001b[0m\n\u001b[1;32m    544\u001b[0m     \u001b[39mraise\u001b[39;00m \u001b[39mValueError\u001b[39;00m(\u001b[39m\"\u001b[39m\u001b[39mValidation should be done on X, y or both.\u001b[39m\u001b[39m\"\u001b[39m)\n\u001b[1;32m    545\u001b[0m \u001b[39melif\u001b[39;00m \u001b[39mnot\u001b[39;00m no_val_X \u001b[39mand\u001b[39;00m no_val_y:\n\u001b[0;32m--> 546\u001b[0m     X \u001b[39m=\u001b[39m check_array(X, input_name\u001b[39m=\u001b[39;49m\u001b[39m\"\u001b[39;49m\u001b[39mX\u001b[39;49m\u001b[39m\"\u001b[39;49m, \u001b[39m*\u001b[39;49m\u001b[39m*\u001b[39;49mcheck_params)\n\u001b[1;32m    547\u001b[0m     out \u001b[39m=\u001b[39m X\n\u001b[1;32m    548\u001b[0m \u001b[39melif\u001b[39;00m no_val_X \u001b[39mand\u001b[39;00m \u001b[39mnot\u001b[39;00m no_val_y:\n",
      "File \u001b[0;32m~/anaconda3/envs/redditenv/lib/python3.10/site-packages/sklearn/utils/validation.py:778\u001b[0m, in \u001b[0;36mcheck_array\u001b[0;34m(array, accept_sparse, accept_large_sparse, dtype, order, copy, force_all_finite, ensure_2d, allow_nd, ensure_min_samples, ensure_min_features, estimator, input_name)\u001b[0m\n\u001b[1;32m    774\u001b[0m     pandas_requires_conversion \u001b[39m=\u001b[39m \u001b[39many\u001b[39m(\n\u001b[1;32m    775\u001b[0m         _pandas_dtype_needs_early_conversion(i) \u001b[39mfor\u001b[39;00m i \u001b[39min\u001b[39;00m dtypes_orig\n\u001b[1;32m    776\u001b[0m     )\n\u001b[1;32m    777\u001b[0m     \u001b[39mif\u001b[39;00m \u001b[39mall\u001b[39m(\u001b[39misinstance\u001b[39m(dtype_iter, np\u001b[39m.\u001b[39mdtype) \u001b[39mfor\u001b[39;00m dtype_iter \u001b[39min\u001b[39;00m dtypes_orig):\n\u001b[0;32m--> 778\u001b[0m         dtype_orig \u001b[39m=\u001b[39m np\u001b[39m.\u001b[39;49mresult_type(\u001b[39m*\u001b[39;49mdtypes_orig)\n\u001b[1;32m    780\u001b[0m \u001b[39melif\u001b[39;00m \u001b[39mhasattr\u001b[39m(array, \u001b[39m\"\u001b[39m\u001b[39miloc\u001b[39m\u001b[39m\"\u001b[39m) \u001b[39mand\u001b[39;00m \u001b[39mhasattr\u001b[39m(array, \u001b[39m\"\u001b[39m\u001b[39mdtype\u001b[39m\u001b[39m\"\u001b[39m):\n\u001b[1;32m    781\u001b[0m     \u001b[39m# array is a pandas series\u001b[39;00m\n\u001b[1;32m    782\u001b[0m     pandas_requires_conversion \u001b[39m=\u001b[39m _pandas_dtype_needs_early_conversion(array\u001b[39m.\u001b[39mdtype)\n",
      "File \u001b[0;32m<__array_function__ internals>:200\u001b[0m, in \u001b[0;36mresult_type\u001b[0;34m(*args, **kwargs)\u001b[0m\n",
      "\u001b[0;31mTypeError\u001b[0m: The DType <class 'numpy.dtype[datetime64]'> could not be promoted by <class 'numpy.dtype[float64]'>. This means that no common DType exists for the given inputs. For example they cannot be stored in a single array unless the dtype is `object`. The full list of DTypes is: (<class 'numpy.dtype[float64]'>, <class 'numpy.dtype[float64]'>, <class 'numpy.dtype[datetime64]'>, <class 'numpy.dtype[datetime64]'>, <class 'numpy.dtype[datetime64]'>, <class 'numpy.dtype[int64]'>, <class 'numpy.dtype[float64]'>, <class 'numpy.dtype[float64]'>, <class 'numpy.dtype[int64]'>)"
     ]
    }
   ],
   "source": [
    "# start running\n",
    "for key in regressions:\n",
    "    print(f\"Running {key}\")\n",
    "    regressions[key].main()"
   ]
  },
  {
   "cell_type": "code",
   "execution_count": 25,
   "metadata": {},
   "outputs": [
    {
     "data": {
      "text/plain": [
       "<regression_class.RedditRegression at 0x7f9e1e8b4520>"
      ]
     },
     "execution_count": 25,
     "metadata": {},
     "output_type": "execute_result"
    }
   ],
   "source": [
    "regressions['logistic']"
   ]
  },
  {
   "cell_type": "code",
   "execution_count": 3,
   "metadata": {},
   "outputs": [],
   "source": [
    "# outfiles\n",
    "OUTDIR = \"regression_test_outputs\"\n",
    "METRICS_OUTFILE = \"regression_metrics\"\n",
    "\n",
    "# subreddits to look at\n",
    "subreddits = [\"books\", \"crypto\", \"conspiracy\", \"politics\"]\n",
    "\n",
    "# regression types to run\n",
    "regression_types = [\"logistic\", \"linear\", \"mnlogit\"]\n",
    "\n",
    "# get outdir names for all regression types\n",
    "out_subdirs = {}\n",
    "for regtype in regression_types:\n",
    "    out_subdirs[regtype] = f\"{OUTDIR}/{regtype}\"\n",
    "\n",
    "# make out params dict to save spreadsheets\n",
    "out_params_dict = {}"
   ]
  },
  {
   "cell_type": "code",
   "execution_count": 8,
   "metadata": {},
   "outputs": [],
   "source": [
    "def run_regression_type(regression_type):\n",
    "    print(dt.now())\n",
    "    print(f\"\\n    ## Regression type: {regression_type}##\")\n",
    "    input_params = regression_params[regression_type].copy()\n",
    "\n",
    "    # place to store logregs\n",
    "    subreddit_logregs = {}\n",
    "    try:\n",
    "        for subreddit in subreddits:\n",
    "            print(f\"#{subreddit}#\")\n",
    "            input_params[\"name\"] = subreddit\n",
    "            input_params[\"regression_data\"] = regression_df[subreddit]\n",
    "            input_params[\"thread_data\"] = thread_df[subreddit]\n",
    "\n",
    "            subreddit_logregs[subreddit] = RR(regression_params=input_params)\n",
    "\n",
    "            subreddit_logregs[subreddit].main()\n",
    "    except TypeError:\n",
    "        return subreddit_logregs\n",
    "\n",
    "    # dump pickle results\n",
    "    outstring = f\"{out_subdirs[regression_type]}/{METRICS_OUTFILE}.p\"\n",
    "    print(f\"\\n\\n\\n   DUMPING RESULTS TO \\n{outstring}\\n\\n\\n\")\n",
    "    pickle.dump(\n",
    "        subreddit_logregs, open(outstring, \"wb\",),\n",
    "    )"
   ]
  },
  {
   "cell_type": "code",
   "execution_count": 5,
   "metadata": {},
   "outputs": [
    {
     "name": "stdout",
     "output_type": "stream",
     "text": [
      "Creating parameter dictionaries\n"
     ]
    }
   ],
   "source": [
    "# make out directories\n",
    "for outdirname in ([OUTDIR] + list(out_subdirs.values())):\n",
    "    if not os.path.isdir(outdirname):\n",
    "        os.mkdir(outdirname)\n",
    "\n",
    "# read in files\n",
    "#print(dt.now())\n",
    "#print(\"reading in input files\")\n",
    "# TESTING\n",
    "#regression_df = pickle.load(open(REGRESSION_INFILE, \"rb\"))\n",
    "#thread_df = pickle.load(open(THREAD_INFILE, \"rb\"))\n",
    "\n",
    "print(\"Creating parameter dictionaries\")\n",
    "# fixed regression params\n",
    "X_COLS = [\n",
    "    \"sentiment_sign\",\n",
    "    \"sentiment_magnitude\",\n",
    "    \"hour\",\n",
    "    \"time_in_secs\",\n",
    "    \"num_dayofweek\",\n",
    "    \"activity_ratio\",\n",
    "    \"mean_author_sentiment_sign\",\n",
    "    \"mean_author_sentiment_magnitude\",\n",
    "    \"author_all_activity_count\",\n",
    "]\n",
    "\n",
    "fixed_regression_params = {\n",
    "    \"collection_window\": 7,\n",
    "    \"model_window\": 14,\n",
    "    \"validation_window\": 7,\n",
    "    \"FSS\": True,\n",
    "    \"x_cols\": X_COLS,\n",
    "    \"scale\": True,\n",
    "}\n",
    "\n",
    "# variable regression params\n",
    "quantiles = [0.25, 0.5, 0.75]\n",
    "thresholds2 = {\n",
    "    \"author_all_activity_count\": 2,\n",
    "    \"thread_size\": 2,\n",
    "}\n",
    "thresholds1 = {\n",
    "    \"author_all_activity_count\": 2,\n",
    "}\n",
    "\n",
    "to_vary = {\n",
    "    \"regression_type\": regression_types,\n",
    "    \"y_col\": [\"success\", \"thread_size\", \"thread_size\"],\n",
    "    \"metrics\": [\n",
    "        [\"auc\"],\n",
    "        [\"r2\"],\n",
    "        [\"mnlogit_accuracy\", \"mnlogit_aucs\", \"mnlogit_mean_auc\"],\n",
    "    ],\n",
    "    \"thresholds\": [thresholds1, thresholds2, thresholds2],\n",
    "    \"quantiles\": [[], [], quantiles],\n",
    "}\n",
    "\n",
    "regression_params = {}\n",
    "for i, regtype in enumerate(regression_types):\n",
    "    regression_params[regtype] = fixed_regression_params.copy()\n",
    "    for key in to_vary:\n",
    "        regression_params[regtype][key] = to_vary[key][i]"
   ]
  },
  {
   "cell_type": "code",
   "execution_count": 13,
   "metadata": {},
   "outputs": [
    {
     "name": "stdout",
     "output_type": "stream",
     "text": [
      "2024-03-11 14:00:19.658496\n",
      "\n",
      "    ## Regression type: logistic##\n",
      "#books#\n",
      "2024-03-11 14:00:20.910123\n",
      "\n",
      "    ## Regression type: linear##\n",
      "#books#\n",
      "2024-03-11 14:00:22.071844\n",
      "\n",
      "    ## Regression type: mnlogit##\n",
      "#books#\n"
     ]
    }
   ],
   "source": [
    "subreddit_logregs = {}\n",
    "for key in regression_types:\n",
    "    subreddit_logregs[key] = run_regression_type(key)"
   ]
  },
  {
   "cell_type": "code",
   "execution_count": 18,
   "metadata": {},
   "outputs": [],
   "source": [
    "model_data = subreddit_logregs['logistic']['books'].model_data"
   ]
  },
  {
   "cell_type": "code",
   "execution_count": 20,
   "metadata": {},
   "outputs": [
    {
     "data": {
      "text/plain": [
       "{'cal': Empty DataFrame\n",
       " Columns: [thread_id, thread_size, authors, timestamp, author, score, subject_sentiment_score, sentiment_sign, sentiment_magnitude, success, author_all_activity_count, activity_ratio, mean_author_sentiment_sign, mean_author_sentiment_magnitude, time_in_secs, num_dayofweek, hour]\n",
       " Index: [],\n",
       " 'val': Empty DataFrame\n",
       " Columns: [thread_id, thread_size, authors, timestamp, author, score, subject_sentiment_score, sentiment_sign, sentiment_magnitude, success, author_all_activity_count, activity_ratio, mean_author_sentiment_sign, mean_author_sentiment_magnitude, time_in_secs, num_dayofweek, hour]\n",
       " Index: []}"
      ]
     },
     "execution_count": 20,
     "metadata": {},
     "output_type": "execute_result"
    }
   ],
   "source": [
    "model_data"
   ]
  },
  {
   "cell_type": "code",
   "execution_count": null,
   "metadata": {},
   "outputs": [],
   "source": [
    "x_data = self.model_data[calval][self.regression_params[\"x_cols\"]]"
   ]
  }
 ],
 "metadata": {
  "kernelspec": {
   "display_name": "redditenv",
   "language": "python",
   "name": "python3"
  },
  "language_info": {
   "codemirror_mode": {
    "name": "ipython",
    "version": 3
   },
   "file_extension": ".py",
   "mimetype": "text/x-python",
   "name": "python",
   "nbconvert_exporter": "python",
   "pygments_lexer": "ipython3",
   "version": "3.10.9"
  }
 },
 "nbformat": 4,
 "nbformat_minor": 2
}
