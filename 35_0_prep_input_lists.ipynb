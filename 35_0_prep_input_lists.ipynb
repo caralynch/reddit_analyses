{
 "cells": [
  {
   "cell_type": "code",
   "execution_count": 1,
   "metadata": {},
   "outputs": [],
   "source": [
    "import pickle"
   ]
  },
  {
   "cell_type": "code",
   "execution_count": 2,
   "metadata": {},
   "outputs": [],
   "source": [
    "to_run = [\n",
    "    {\n",
    "        'subreddits': [\"books\", \"crypto\", \"conspiracy\"],\n",
    "        'collection_window': 7,\n",
    "        'model_window': 7,\n",
    "    },\n",
    "    {\n",
    "        'subreddits': [\"books\", \"crypto\", \"conspiracy\"],\n",
    "        'collection_window': 14,\n",
    "        'model_window': 7,\n",
    "    },\n",
    "    {\n",
    "        'subreddits': [\"books\", \"crypto\", \"conspiracy\"],\n",
    "        'collection_window': 7,\n",
    "        'model_window': 14,\n",
    "    },\n",
    "    {\n",
    "        'subreddits': [\"politics\"],\n",
    "        'collection_window': 7,\n",
    "        'model_window': 7,\n",
    "    },\n",
    "    {\n",
    "        'subreddits': [\"politics\"],\n",
    "        'collection_window': 7,\n",
    "        'model_window': 14,\n",
    "    },\n",
    "    {\n",
    "        'subreddits': [\"politics\"],\n",
    "        'collection_window': 14,\n",
    "        'model_window': 7,\n",
    "    }\n",
    "]"
   ]
  },
  {
   "cell_type": "code",
   "execution_count": 3,
   "metadata": {},
   "outputs": [],
   "source": [
    "a = {'lab': 1, 'ne': 2}\n",
    "b = {'lab': 2, 'k': 3}\n"
   ]
  },
  {
   "cell_type": "code",
   "execution_count": 4,
   "metadata": {},
   "outputs": [
    {
     "data": {
      "text/plain": [
       "{'lab': 2, 'ne': 2, 'k': 3}"
      ]
     },
     "execution_count": 4,
     "metadata": {},
     "output_type": "execute_result"
    }
   ],
   "source": [
    "a | b"
   ]
  },
  {
   "cell_type": "code",
   "execution_count": 5,
   "metadata": {},
   "outputs": [
    {
     "data": {
      "text/plain": [
       "{'lab': 1, 'k': 3, 'ne': 2}"
      ]
     },
     "execution_count": 5,
     "metadata": {},
     "output_type": "execute_result"
    }
   ],
   "source": [
    "b | a"
   ]
  },
  {
   "cell_type": "code",
   "execution_count": null,
   "metadata": {},
   "outputs": [],
   "source": []
  }
 ],
 "metadata": {
  "kernelspec": {
   "display_name": "redditenv",
   "language": "python",
   "name": "python3"
  },
  "language_info": {
   "codemirror_mode": {
    "name": "ipython",
    "version": 3
   },
   "file_extension": ".py",
   "mimetype": "text/x-python",
   "name": "python",
   "nbconvert_exporter": "python",
   "pygments_lexer": "ipython3",
   "version": "3.10.9"
  }
 },
 "nbformat": 4,
 "nbformat_minor": 2
}
